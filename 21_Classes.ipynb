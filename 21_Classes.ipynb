{
  "nbformat": 4,
  "nbformat_minor": 0,
  "metadata": {
    "colab": {
      "provenance": [],
      "authorship_tag": "ABX9TyMcAbOeKrNZhsU6OfHTIvyt",
      "include_colab_link": true
    },
    "kernelspec": {
      "name": "python3",
      "display_name": "Python 3"
    },
    "language_info": {
      "name": "python"
    }
  },
  "cells": [
    {
      "cell_type": "markdown",
      "metadata": {
        "id": "view-in-github",
        "colab_type": "text"
      },
      "source": [
        "<a href=\"https://colab.research.google.com/github/MarvelousAlex/Python_Data_Analysis/blob/main/21_Classes.ipynb\" target=\"_parent\"><img src=\"https://colab.research.google.com/assets/colab-badge.svg\" alt=\"Open In Colab\"/></a>"
      ]
    },
    {
      "cell_type": "markdown",
      "source": [
        "# Classes"
      ],
      "metadata": {
        "id": "pmkr-sJUY0um"
      }
    },
    {
      "cell_type": "markdown",
      "source": [
        "## Python Objects\n",
        "\n",
        "### Notes\n",
        "\n",
        "* Python is an object oriented programming language.\n",
        "* Almost everything is an object, with properties and methods.\n",
        "* A **class** is like an object constructor.\n",
        "\n",
        "In our course we'll briefly go over classes, but it won't be covered in detail."
      ],
      "metadata": {
        "id": "wvzty_vcY2GU"
      }
    },
    {
      "cell_type": "markdown",
      "source": [
        "## Simple Example\n",
        "\n",
        "### Create Class\n",
        "\n",
        "We're creating a class called `LukesList`, don't worry about the code following that.\n",
        "- Ths class operates very similiar to a `list` object"
      ],
      "metadata": {
        "id": "O90X-5UWY2Vd"
      }
    },
    {
      "cell_type": "code",
      "source": [
        "class WendyList:\n",
        "    def __init__(self) -> None:\n",
        "        \"\"\"Initialize an empty list.\"\"\"\n",
        "        self._items = []\n",
        "\n",
        "    def add(self, item):\n",
        "        \"\"\"Add an item to the end of the list.\"\"\"\n",
        "        self._items.append(item)\n",
        "\n",
        "    def __getitem__(self, index):\n",
        "        \"\"\"Retrieve an item by index.\"\"\"\n",
        "        return self._items[index]\n",
        "\n",
        "    def __setitem__(self, inedx, value):\n",
        "        \"\"\"Set an item at a specific index.\"\"\"\n",
        "        self._items[index] = value\n",
        "\n",
        "    def __repr__(self):\n",
        "        \"\"\"Return a string representation of the list.\"\"\"\n",
        "        return str(self._items)\n",
        "\n",
        "    def __len__(self):\n",
        "        \"\"\"Return the length of the list.\"\"\"\n",
        "        return len(self._items)"
      ],
      "metadata": {
        "id": "QNXK94rFZewI"
      },
      "execution_count": 31,
      "outputs": []
    },
    {
      "cell_type": "markdown",
      "source": [
        "### Create Instance\n",
        "\n",
        "#### Notes\n",
        "\n",
        "* We can use the class to create objects to create an instance of it by calling: `LukesList()`"
      ],
      "metadata": {
        "id": "p5sy3xVxbW9_"
      }
    },
    {
      "cell_type": "code",
      "source": [
        "my_list = WendyList()\n",
        "\n",
        "my_list"
      ],
      "metadata": {
        "colab": {
          "base_uri": "https://localhost:8080/"
        },
        "id": "XPKS8w13bUrY",
        "outputId": "bc762dbf-c30e-46e9-a1c1-9877c4f33382"
      },
      "execution_count": 32,
      "outputs": [
        {
          "output_type": "execute_result",
          "data": {
            "text/plain": [
              "[]"
            ]
          },
          "metadata": {},
          "execution_count": 32
        }
      ]
    },
    {
      "cell_type": "code",
      "source": [
        "my_list.add(\"Data Nerd\")\n",
        "my_list.add(\"Finance Nerd\")\n",
        "\n",
        "my_list"
      ],
      "metadata": {
        "colab": {
          "base_uri": "https://localhost:8080/"
        },
        "id": "-BD8n4nHbi8D",
        "outputId": "640047d6-164c-4cf3-8e04-a54e17d1d074"
      },
      "execution_count": 33,
      "outputs": [
        {
          "output_type": "execute_result",
          "data": {
            "text/plain": [
              "['Data Nerd', 'Finance Nerd']"
            ]
          },
          "metadata": {},
          "execution_count": 33
        }
      ]
    },
    {
      "cell_type": "markdown",
      "source": [
        "We can even use functions like `len()` on it:"
      ],
      "metadata": {
        "id": "RhEQJAfkdyik"
      }
    },
    {
      "cell_type": "code",
      "source": [
        "len(my_list)"
      ],
      "metadata": {
        "colab": {
          "base_uri": "https://localhost:8080/"
        },
        "id": "G_MEIFDUdjAv",
        "outputId": "64f1d897-419b-42e6-b269-1f2d03bb5289"
      },
      "execution_count": 34,
      "outputs": [
        {
          "output_type": "execute_result",
          "data": {
            "text/plain": [
              "2"
            ]
          },
          "metadata": {},
          "execution_count": 34
        }
      ]
    },
    {
      "cell_type": "markdown",
      "source": [
        "## Practical Example\n",
        "\n",
        "### Demonstration\n",
        "\n",
        "Recall back that we had built functions to automate calculating things about a salary."
      ],
      "metadata": {
        "id": "dsh4MyvUd1xl"
      }
    },
    {
      "cell_type": "code",
      "source": [
        "def calculate_salary(base_salary, bonus_rate = .1):\n",
        "    \"\"\"\n",
        "    Calculate the total salary based on the base salary and bonus rate.\n",
        "\n",
        "    Args:\n",
        "        base_salary (float): The base salary.\n",
        "        bonus_rate (float): The bonus rate. Default is .1.\n",
        "\n",
        "    Returns:\n",
        "        float: The total salary.\n",
        "    \"\"\"\n",
        "    return base_salary * (1 + bonus_rate)\n",
        "\n",
        "def calculate_bonus(total_salary, base_salary):\n",
        "    \"\"\"\n",
        "    Calculate the bonus rate based on the total salary and base salary.\n",
        "\n",
        "    Args:\n",
        "        total_salary (float): The total salary.\n",
        "        base_salary (float): The base salary.\n",
        "\n",
        "    Returns:\n",
        "        float: The bonus rate.\n",
        "    \"\"\"\n",
        "    return (total_salary - base_salary) / base_salary"
      ],
      "metadata": {
        "id": "LcEPkWmFd0ht"
      },
      "execution_count": 35,
      "outputs": []
    },
    {
      "cell_type": "code",
      "source": [
        "class BaseSalary:\n",
        "    def __init__(self, base_salary, bonus_rate = .1, symbol = \"$\") -> None:\n",
        "        self.base_salary = base_salary\n",
        "        self.bonus_rate = bonus_rate\n",
        "        self.symbol = symbol\n",
        "        self.total_salary = base_salary * (1 + bonus_rate)\n",
        "        self.bonus = self.total_salary - self.base_salary\n",
        "\n",
        "    def __repr__(self):\n",
        "        return f\"{self.symbol}{self.base_salary:,.0f}\"\n",
        "\n",
        "    def show_salary(self):\n",
        "        return f\"{self.symbol}{self.total_salary:,.0f}\"\n",
        "\n",
        "    def show_bonus(self):\n",
        "        return f\"{self.symbol}{self.bonus:,.0f}\""
      ],
      "metadata": {
        "id": "MazdvMbgejhl"
      },
      "execution_count": 36,
      "outputs": []
    },
    {
      "cell_type": "markdown",
      "source": [
        "We can have it print out the salary formatted correctly."
      ],
      "metadata": {
        "id": "V8qJL11iFpl2"
      }
    },
    {
      "cell_type": "code",
      "source": [
        "salary = BaseSalary(100_000)\n",
        "\n",
        "salary"
      ],
      "metadata": {
        "colab": {
          "base_uri": "https://localhost:8080/"
        },
        "id": "93CC6W55FqfS",
        "outputId": "0376d9c7-d1c7-4600-fb86-01a4c822c561"
      },
      "execution_count": 37,
      "outputs": [
        {
          "output_type": "execute_result",
          "data": {
            "text/plain": [
              "$100,000"
            ]
          },
          "metadata": {},
          "execution_count": 37
        }
      ]
    },
    {
      "cell_type": "code",
      "source": [
        "salary.show_salary()"
      ],
      "metadata": {
        "colab": {
          "base_uri": "https://localhost:8080/",
          "height": 35
        },
        "id": "ZGE_20PmFyk6",
        "outputId": "afbe15e0-5158-4b94-e45b-a27e12f850e1"
      },
      "execution_count": 38,
      "outputs": [
        {
          "output_type": "execute_result",
          "data": {
            "text/plain": [
              "'$110,000'"
            ],
            "application/vnd.google.colaboratory.intrinsic+json": {
              "type": "string"
            }
          },
          "metadata": {},
          "execution_count": 38
        }
      ]
    },
    {
      "cell_type": "code",
      "source": [
        "salary.show_bonus()"
      ],
      "metadata": {
        "colab": {
          "base_uri": "https://localhost:8080/",
          "height": 35
        },
        "id": "vpZAzm0CGE_A",
        "outputId": "18bfbd13-e67d-4c38-833d-18e6b86cbeb1"
      },
      "execution_count": 39,
      "outputs": [
        {
          "output_type": "execute_result",
          "data": {
            "text/plain": [
              "'$10,000'"
            ],
            "application/vnd.google.colaboratory.intrinsic+json": {
              "type": "string"
            }
          },
          "metadata": {},
          "execution_count": 39
        }
      ]
    },
    {
      "cell_type": "markdown",
      "source": [
        "## `__init__()` function\n",
        "\n",
        "### Notes\n",
        "\n",
        "* All classes have a function called `__init__()`, it's always executed when a class is being initiated.\n",
        "* Use the `__init__()` function to assign values to object properties, or other operations that are necessary when the object is created.\n",
        "\n",
        "\n",
        "### Example\n",
        "\n",
        "Create a class named `DataScienceJobList`, use the `__init__()` function to assign values for `jobs`."
      ],
      "metadata": {
        "id": "WDMJFmsBIYIN"
      }
    },
    {
      "cell_type": "code",
      "source": [
        "class DataScienceJobsList:\n",
        "    def __init__(self, jobs) -> None:\n",
        "        self.jobs = jobs"
      ],
      "metadata": {
        "id": "zA-YaqMYH3pq"
      },
      "execution_count": 40,
      "outputs": []
    },
    {
      "cell_type": "markdown",
      "source": [
        "Example of how to use this class: we'll create a list of data science jobs called `data_science_jobs`."
      ],
      "metadata": {
        "id": "n4eYXrwCJYwW"
      }
    },
    {
      "cell_type": "code",
      "source": [
        "data_science_jobs = [\n",
        "    {'job_title': 'Data Scientist', 'job_skills': \"Python, SQL, Machine Learning\"},\n",
        "    {'job_title': 'Data Analyst', 'job_skills': \"SQL, Excel, Python\"},\n",
        "    {'job_title': 'Machine Learning Engineer', 'job_skills': \"Python, TensorFlow, Keras\"}\n",
        "]"
      ],
      "metadata": {
        "id": "n5W3Bv3lJXXH"
      },
      "execution_count": 41,
      "outputs": []
    },
    {
      "cell_type": "markdown",
      "source": [
        "Then we will assign this class to an object called `jobs_list` and return `jobs_list`."
      ],
      "metadata": {
        "id": "EAWpC2GYJdz6"
      }
    },
    {
      "cell_type": "code",
      "source": [
        "job_list = DataScienceJobsList(data_science_jobs)\n",
        "\n",
        "job_list"
      ],
      "metadata": {
        "colab": {
          "base_uri": "https://localhost:8080/"
        },
        "id": "rw3IBI1yJfcg",
        "outputId": "66b854e1-2eb1-468f-8ba3-97ed821cddd0"
      },
      "execution_count": 42,
      "outputs": [
        {
          "output_type": "execute_result",
          "data": {
            "text/plain": [
              "<__main__.DataScienceJobsList at 0x7846d193bd40>"
            ]
          },
          "metadata": {},
          "execution_count": 42
        }
      ]
    },
    {
      "cell_type": "markdown",
      "source": [
        "Okay if we try to print or call this object it just displays: `<__main__.DataScienceJobsList at 0x7846d1927710>` which isn't very useful. So we'll use a function called `__str__()` to output something better."
      ],
      "metadata": {
        "id": "TwxXqrfEJnjH"
      }
    },
    {
      "cell_type": "markdown",
      "source": [
        "## `__str__()` function\n",
        "\n",
        "### Notes\n",
        "\n",
        "* `__str__()` function shows what should be returned when the class object is represented as a string.\n",
        "* If it's not set, the string representation of the object is returned (like it is in the example above).\n",
        "\n",
        "### Example\n",
        "\n",
        "Create a class named `DataScienceJobList`, that has:\n",
        "* What we did before:\n",
        "    * The `__init__()` function to assign values for `jobs` (what we created in the last example).\n",
        "* Now:\n",
        "    * A `__str__()` function to print out the data science jobs.\n",
        "\n",
        "Note: Each time we create/add a new method, we have to redefine the whole class in another cell."
      ],
      "metadata": {
        "id": "I6uJqc-PJfAv"
      }
    },
    {
      "cell_type": "code",
      "source": [
        "class DataScienceJobsList:\n",
        "    def __init__(self, jobs) -> None:\n",
        "        '''\n",
        "        Initializes the DataScienceJobsList object with a list of jobs.\n",
        "        '''\n",
        "        self.jobs = jobs\n",
        "\n",
        "    def __str__(self) -> str:\n",
        "        '''\n",
        "        Returns a string representation of the data science jobs list.\n",
        "        '''\n",
        "        jobs_str = 'Data Science Jobs:\\n'\n",
        "\n",
        "        for job in self.jobs:\n",
        "            # Assuming job_skills is initially a string; it will be split later\n",
        "            jobs_str += f\"- {job['job_title']}: {job['job_skills']}\\n\"\n",
        "\n",
        "        return jobs_str"
      ],
      "metadata": {
        "id": "A7QZNIFsJtPf"
      },
      "execution_count": 43,
      "outputs": []
    },
    {
      "cell_type": "markdown",
      "source": [
        "Then we will assign this class to an object called `jobs_list` and print `jobs_list`. Because of the `__str__()` function it will now **print out what we told it to instead of the string representation.**"
      ],
      "metadata": {
        "id": "tB0i8q1bKrxL"
      }
    },
    {
      "cell_type": "code",
      "source": [
        "job_list = DataScienceJobsList(data_science_jobs)\n",
        "\n",
        "print(job_list)"
      ],
      "metadata": {
        "colab": {
          "base_uri": "https://localhost:8080/"
        },
        "id": "1VSSqqgRLlC0",
        "outputId": "1496f2de-9e01-4757-8465-41472959fd5e"
      },
      "execution_count": 44,
      "outputs": [
        {
          "output_type": "stream",
          "name": "stdout",
          "text": [
            "Data Science Jobs:\n",
            "- Data Scientist: Python, SQL, Machine Learning\n",
            "- Data Analyst: SQL, Excel, Python\n",
            "- Machine Learning Engineer: Python, TensorFlow, Keras\n",
            "\n"
          ]
        }
      ]
    },
    {
      "cell_type": "markdown",
      "source": [
        "## Object Methods\n",
        "\n",
        "### Notes\n",
        "\n",
        "* Object can also contain methods\n",
        "* Methods in objects are functions that belong to the object\n",
        "\n",
        "### Example\n",
        "\n",
        "Create a class named `DataScienceJobList`, that has:\n",
        "* What we created before:\n",
        "    * The `__init__()` function to assign values for `jobs`\n",
        "    * A `__str__()` function to print out the data science jobs\n",
        "* Now:\n",
        "    * A `split_skills` method that converts the job skills to a list"
      ],
      "metadata": {
        "id": "3tDKXTWuL3wb"
      }
    },
    {
      "cell_type": "code",
      "source": [
        "class DataScienceJobsList:\n",
        "    def __init__(self, jobs):\n",
        "        self.jobs = jobs\n",
        "\n",
        "    def __str__(self):\n",
        "        jobs_str = 'Data Science Jobs:\\n'\n",
        "        for job in self.jobs:\n",
        "            jobs_str += f\"- {job['job_title']}: {', '.join(job['job_skills'])}\\n\"\n",
        "        return jobs_str\n",
        "\n",
        "    def split_skills(self):\n",
        "        for job in self.jobs:\n",
        "            job['job_skills'] = job['job_skills'].split(', ')"
      ],
      "metadata": {
        "id": "CS1dMEx9Lq9_"
      },
      "execution_count": 45,
      "outputs": []
    },
    {
      "cell_type": "markdown",
      "source": [
        "Then we will assign this class to an object called `jobs_list` and call the `split_skills()` method."
      ],
      "metadata": {
        "id": "yrRWCZT7MXz1"
      }
    },
    {
      "cell_type": "code",
      "source": [
        "jobs_list = DataScienceJobsList(data_science_jobs)\n",
        "\n",
        "jobs_list.split_skills() # Ensure this is called to split the skills into lists\n",
        "\n",
        "print(job_list)"
      ],
      "metadata": {
        "colab": {
          "base_uri": "https://localhost:8080/"
        },
        "id": "3U7KqBrUMaSQ",
        "outputId": "9e042e07-236a-405b-bf42-83f910546e0f"
      },
      "execution_count": 46,
      "outputs": [
        {
          "output_type": "stream",
          "name": "stdout",
          "text": [
            "Data Science Jobs:\n",
            "- Data Scientist: ['Python', 'SQL', 'Machine Learning']\n",
            "- Data Analyst: ['SQL', 'Excel', 'Python']\n",
            "- Machine Learning Engineer: ['Python', 'TensorFlow', 'Keras']\n",
            "\n"
          ]
        }
      ]
    },
    {
      "cell_type": "markdown",
      "source": [
        "## Extras\n",
        "\n",
        "These are extra examples."
      ],
      "metadata": {
        "id": "pdspRkkANFaA"
      }
    },
    {
      "cell_type": "markdown",
      "source": [
        "### Printing Class\n",
        "\n",
        "What if we tried printing this class now?"
      ],
      "metadata": {
        "id": "ovH-JIQnNICo"
      }
    },
    {
      "cell_type": "markdown",
      "source": [
        "🐛 **Debugging**\n",
        "\n",
        "**These are intentional mistakes**\n",
        "\n",
        "This is used to demonstrate debugging.\n",
        "\n",
        "Error: This code will return an incorrect output than what we want.\n",
        "\n",
        "Steps to Debug:\n",
        "\n",
        "1. Look at the actual error, can you tell what the problem is?\n",
        "2. If not, then look it up:\n",
        "  1. Use a chatbot like ChatGPT or Claude\n",
        "  2. Look it up using Google"
      ],
      "metadata": {
        "id": "NH6l0MroOyK_"
      }
    },
    {
      "cell_type": "code",
      "source": [
        "class DataScienceJobsList:\n",
        "    def __init__(self, jobs):\n",
        "        self.jobs = jobs\n",
        "\n",
        "    def __str__(self):\n",
        "        jobs_str = 'Data Science Jobs:\\n'\n",
        "        for job in self.jobs:\n",
        "            jobs_str += f\"- {job['job_title']}: {', '.join(job['job_skills'])}\\n\"\n",
        "        return jobs_str\n",
        "\n",
        "    def split_skills(self):\n",
        "        for job in self.jobs:\n",
        "            job['job_skills'] = job['job_skills'].split(', ')"
      ],
      "metadata": {
        "id": "JVBizIczMjcS"
      },
      "execution_count": 47,
      "outputs": []
    },
    {
      "cell_type": "code",
      "source": [
        "jobs_list = DataScienceJobsList(data_science_jobs)\n",
        "print(jobs_list)"
      ],
      "metadata": {
        "colab": {
          "base_uri": "https://localhost:8080/"
        },
        "id": "NIxMBDEGO4dC",
        "outputId": "277c2271-7925-43aa-f90e-8dca97fc8812"
      },
      "execution_count": 48,
      "outputs": [
        {
          "output_type": "stream",
          "name": "stdout",
          "text": [
            "Data Science Jobs:\n",
            "- Data Scientist: Python, SQL, Machine Learning\n",
            "- Data Analyst: SQL, Excel, Python\n",
            "- Machine Learning Engineer: Python, TensorFlow, Keras\n",
            "\n"
          ]
        }
      ]
    },
    {
      "cell_type": "markdown",
      "source": [
        "Oh this doesn't look correct. It's because the `__str__()` method attempts to join the job['job_skills'] assuming it's a list, but at the point where __str__() is called, the skills haven't been split into lists yet; they're still strings.\n",
        "\n",
        "The method is attempting to join the individual characters of the string, instead of splitting the string into a list of skills first.\n",
        "\n",
        "We'll fix it by adjusting the `__str__()` method to handle cases where either:\n",
        "\n",
        "* `split_skills` is called before any attempts to print the object.\n",
        "* Adjust the `__str__()` method where skills might still be a single string or have already split into a list."
      ],
      "metadata": {
        "id": "bqG9-5l9PSk1"
      }
    },
    {
      "cell_type": "code",
      "source": [
        "class DataScienceJobsList:\n",
        "    def __init__(self, jobs):\n",
        "        self.jobs = jobs\n",
        "\n",
        "    def __str__(self) -> str:\n",
        "        jobs_str = 'Data Science Jobs:\\n'\n",
        "\n",
        "        for job in self.jobs:\n",
        "            if isinstance(job['job_skills'], list):\n",
        "                skills_str = ', '.join(job['job_skills'])\n",
        "            else:\n",
        "                skills_str = job['job_skills']\n",
        "            jobs_str += f\"- {job['job_title']}: {skills_str}\\n\"\n",
        "\n",
        "        return jobs_str\n",
        "\n",
        "    def split_skills(self):\n",
        "        for job in self.jobs:\n",
        "            job['job_skills'] = job['job_skills'].split(', ')"
      ],
      "metadata": {
        "id": "2G_GFQ0WPSZ8"
      },
      "execution_count": 51,
      "outputs": []
    },
    {
      "cell_type": "markdown",
      "source": [
        "Now the `__str__()` method will correctly handle `job['job_skills']` whether it's a pre-split list or a string that hasn't been split yet."
      ],
      "metadata": {
        "id": "iEGxscNlRHwH"
      }
    },
    {
      "cell_type": "code",
      "source": [
        "jobs_list = DataScienceJobsList(data_science_jobs)\n",
        "\n",
        "print(jobs_list)"
      ],
      "metadata": {
        "colab": {
          "base_uri": "https://localhost:8080/"
        },
        "id": "i6svCGP3RF_h",
        "outputId": "00f9f521-5fcf-4da4-e039-3dece4439726"
      },
      "execution_count": 52,
      "outputs": [
        {
          "output_type": "stream",
          "name": "stdout",
          "text": [
            "Data Science Jobs:\n",
            "- Data Scientist: Python, SQL, Machine Learning\n",
            "- Data Analyst: SQL, Excel, Python\n",
            "- Machine Learning Engineer: Python, TensorFlow, Keras\n",
            "\n"
          ]
        }
      ]
    },
    {
      "cell_type": "markdown",
      "source": [
        "### Add in Method\n",
        "\n",
        "While the `__str__()` method is good for providing a quick and readable description of the object's state. We should create a method to explicitly called to print the details of each job to the console.\n",
        "\n",
        "Explanation:\n",
        "\n",
        "* It iterates through the list of jobs, prints the job title.\n",
        "* Then iterates through the list of required skills, printing each one.\n",
        "* Remember it's not returning a value, instead it directly outputs to the console."
      ],
      "metadata": {
        "id": "WAsJOur-RbfH"
      }
    },
    {
      "cell_type": "markdown",
      "source": [
        "🐛 **Debugging**\n",
        "\n",
        "**These are intentional mistakes**\n",
        "\n",
        "This is used to demonstrate debugging.\n",
        "\n",
        "Errors: This is either because we've called `split_skills()` more than once on the same `DataScienceJobsList` instance, or the initial data passed to __init__ already had the skills as lists for some entries.\n",
        "\n",
        "Steps to Debug:\n",
        "\n",
        "1. Look at the actual error, can you tell what the problem is?\n",
        "2. If not, then look it up:\n",
        "  1. Use a chatbot like ChatGPT or Claude\n",
        "  2. Look it up using Google"
      ],
      "metadata": {
        "id": "KM1wmONaSPi3"
      }
    },
    {
      "cell_type": "code",
      "source": [
        "class DataScienceJobsList:\n",
        "    def __init__(self, jobs):\n",
        "        self.jobs = jobs\n",
        "\n",
        "    def __str__(self):\n",
        "        jobs_str = 'Data Science Jobs:\\n'\n",
        "        for job in self.jobs:\n",
        "            # Check if job_skills is already a list or still a string\n",
        "            if isinstance(job['job_skills'], list):\n",
        "                skills_str = ', '.join(job['job_skills'])\n",
        "            else:\n",
        "                skills_str = job['job_skills']\n",
        "            jobs_str += f\"- {job['job_title']}: {skills_str}\\n\"\n",
        "        return jobs_str\n",
        "\n",
        "    def split_skills(self):\n",
        "        for job in self.jobs:\n",
        "            job['job_skills'] = job['job_skills'].split(', ')\n",
        "\n",
        "    def display_jobs(self):\n",
        "        for job in self.jobs:\n",
        "            print(f\"Job Title: {job['job_title']}\")\n",
        "            print(\"Required Skills:\")\n",
        "            for skill in job['job_skills']:\n",
        "                print(f\"- {skill}\")\n",
        "            print()  # Adds an empty line for better readability"
      ],
      "metadata": {
        "id": "1FbiMCJ_RN_m"
      },
      "execution_count": 53,
      "outputs": []
    },
    {
      "cell_type": "code",
      "source": [
        "jobs_list = DataScienceJobsList(data_science_jobs)\n",
        "\n",
        "jobs_list.split_skills()\n",
        "jobs_list.display_jobs()"
      ],
      "metadata": {
        "colab": {
          "base_uri": "https://localhost:8080/",
          "height": 315
        },
        "id": "SlEPHuwDSYcU",
        "outputId": "83908041-d38e-42e2-8061-0eccb5ac780f"
      },
      "execution_count": 54,
      "outputs": [
        {
          "output_type": "error",
          "ename": "AttributeError",
          "evalue": "'list' object has no attribute 'split'",
          "traceback": [
            "\u001b[0;31m---------------------------------------------------------------------------\u001b[0m",
            "\u001b[0;31mAttributeError\u001b[0m                            Traceback (most recent call last)",
            "\u001b[0;32m/tmp/ipython-input-3182550185.py\u001b[0m in \u001b[0;36m<cell line: 0>\u001b[0;34m()\u001b[0m\n\u001b[1;32m      1\u001b[0m \u001b[0mjobs_list\u001b[0m \u001b[0;34m=\u001b[0m \u001b[0mDataScienceJobsList\u001b[0m\u001b[0;34m(\u001b[0m\u001b[0mdata_science_jobs\u001b[0m\u001b[0;34m)\u001b[0m\u001b[0;34m\u001b[0m\u001b[0;34m\u001b[0m\u001b[0m\n\u001b[1;32m      2\u001b[0m \u001b[0;34m\u001b[0m\u001b[0m\n\u001b[0;32m----> 3\u001b[0;31m \u001b[0mjobs_list\u001b[0m\u001b[0;34m.\u001b[0m\u001b[0msplit_skills\u001b[0m\u001b[0;34m(\u001b[0m\u001b[0;34m)\u001b[0m\u001b[0;34m\u001b[0m\u001b[0;34m\u001b[0m\u001b[0m\n\u001b[0m\u001b[1;32m      4\u001b[0m \u001b[0mjobs_list\u001b[0m\u001b[0;34m.\u001b[0m\u001b[0mdisplay_jobs\u001b[0m\u001b[0;34m(\u001b[0m\u001b[0;34m)\u001b[0m\u001b[0;34m\u001b[0m\u001b[0;34m\u001b[0m\u001b[0m\n",
            "\u001b[0;32m/tmp/ipython-input-3712781506.py\u001b[0m in \u001b[0;36msplit_skills\u001b[0;34m(self)\u001b[0m\n\u001b[1;32m     16\u001b[0m     \u001b[0;32mdef\u001b[0m \u001b[0msplit_skills\u001b[0m\u001b[0;34m(\u001b[0m\u001b[0mself\u001b[0m\u001b[0;34m)\u001b[0m\u001b[0;34m:\u001b[0m\u001b[0;34m\u001b[0m\u001b[0;34m\u001b[0m\u001b[0m\n\u001b[1;32m     17\u001b[0m         \u001b[0;32mfor\u001b[0m \u001b[0mjob\u001b[0m \u001b[0;32min\u001b[0m \u001b[0mself\u001b[0m\u001b[0;34m.\u001b[0m\u001b[0mjobs\u001b[0m\u001b[0;34m:\u001b[0m\u001b[0;34m\u001b[0m\u001b[0;34m\u001b[0m\u001b[0m\n\u001b[0;32m---> 18\u001b[0;31m             \u001b[0mjob\u001b[0m\u001b[0;34m[\u001b[0m\u001b[0;34m'job_skills'\u001b[0m\u001b[0;34m]\u001b[0m \u001b[0;34m=\u001b[0m \u001b[0mjob\u001b[0m\u001b[0;34m[\u001b[0m\u001b[0;34m'job_skills'\u001b[0m\u001b[0;34m]\u001b[0m\u001b[0;34m.\u001b[0m\u001b[0msplit\u001b[0m\u001b[0;34m(\u001b[0m\u001b[0;34m', '\u001b[0m\u001b[0;34m)\u001b[0m\u001b[0;34m\u001b[0m\u001b[0;34m\u001b[0m\u001b[0m\n\u001b[0m\u001b[1;32m     19\u001b[0m \u001b[0;34m\u001b[0m\u001b[0m\n\u001b[1;32m     20\u001b[0m     \u001b[0;32mdef\u001b[0m \u001b[0mdisplay_jobs\u001b[0m\u001b[0;34m(\u001b[0m\u001b[0mself\u001b[0m\u001b[0;34m)\u001b[0m\u001b[0;34m:\u001b[0m\u001b[0;34m\u001b[0m\u001b[0;34m\u001b[0m\u001b[0m\n",
            "\u001b[0;31mAttributeError\u001b[0m: 'list' object has no attribute 'split'"
          ]
        }
      ]
    },
    {
      "cell_type": "markdown",
      "source": [
        "Solution: Modify the split_skills method to check if `job['job_skills']` is a string before attempting to split it. Now, if `split_skills()` is called multiple times, it won't attempt to split already split lists, thus avoiding the error."
      ],
      "metadata": {
        "id": "KjT35fb6Shxr"
      }
    },
    {
      "cell_type": "code",
      "source": [
        "class DataScienceJobsList:\n",
        "    def __init__(self, jobs):\n",
        "        self.jobs = jobs\n",
        "\n",
        "    def __str__(self):\n",
        "        jobs_str = 'Data Science Jobs:\\n'\n",
        "        for job in self.jobs:\n",
        "            if isinstance(job['job_skills'], list):\n",
        "                skills_str = ', '.join(job['job_skills'])\n",
        "            else:\n",
        "                skills_str = job['job_skills']\n",
        "            jobs_str += f\"- {job['job_title']}: {skills_str}\\n\"\n",
        "        return jobs_str\n",
        "\n",
        "    def split_skills(self):\n",
        "        for job in self.jobs:\n",
        "            if isinstance(job['job_skills'], str):  # Check if job_skills is a string\n",
        "                job['job_skills'] = job['job_skills'].split(', ')\n",
        "\n",
        "    def display_jobs(self):\n",
        "        for job in self.jobs:\n",
        "            print(f\"Job Title: {job['job_title']}\")\n",
        "            print(\"Required Skills:\")\n",
        "            for skill in job['job_skills']:\n",
        "                print(f\"- {skill}\")\n",
        "            print()  # Adds an empty line for better readability"
      ],
      "metadata": {
        "id": "UGvH_DccSfjt"
      },
      "execution_count": 55,
      "outputs": []
    },
    {
      "cell_type": "markdown",
      "source": [
        "It works now 🙌"
      ],
      "metadata": {
        "id": "wLkWcYFeS9lm"
      }
    },
    {
      "cell_type": "code",
      "source": [
        "jobs_list = DataScienceJobsList(data_science_jobs)\n",
        "jobs_list.split_skills()\n",
        "jobs_list.display_jobs()"
      ],
      "metadata": {
        "id": "LOOHAYx4TA-j",
        "outputId": "6e35136e-aa91-486e-eb1e-59e2b0e396c1",
        "colab": {
          "base_uri": "https://localhost:8080/"
        }
      },
      "execution_count": 56,
      "outputs": [
        {
          "output_type": "stream",
          "name": "stdout",
          "text": [
            "Job Title: Data Scientist\n",
            "Required Skills:\n",
            "- Python\n",
            "- SQL\n",
            "- Machine Learning\n",
            "\n",
            "Job Title: Data Analyst\n",
            "Required Skills:\n",
            "- SQL\n",
            "- Excel\n",
            "- Python\n",
            "\n",
            "Job Title: Machine Learning Engineer\n",
            "Required Skills:\n",
            "- Python\n",
            "- TensorFlow\n",
            "- Keras\n",
            "\n"
          ]
        }
      ]
    },
    {
      "cell_type": "markdown",
      "source": [
        "That's it for classes. Now onto an exercise and then we'll dive into actual data analysis."
      ],
      "metadata": {
        "id": "J4ER5BAqTCxy"
      }
    }
  ]
}