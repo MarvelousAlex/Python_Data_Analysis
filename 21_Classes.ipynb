{
  "nbformat": 4,
  "nbformat_minor": 0,
  "metadata": {
    "colab": {
      "provenance": [],
      "authorship_tag": "ABX9TyMJQajAovASMdk2IHSaprHV",
      "include_colab_link": true
    },
    "kernelspec": {
      "name": "python3",
      "display_name": "Python 3"
    },
    "language_info": {
      "name": "python"
    }
  },
  "cells": [
    {
      "cell_type": "markdown",
      "metadata": {
        "id": "view-in-github",
        "colab_type": "text"
      },
      "source": [
        "<a href=\"https://colab.research.google.com/github/MarvelousAlex/Python_Data_Analysis/blob/main/21_Classes.ipynb\" target=\"_parent\"><img src=\"https://colab.research.google.com/assets/colab-badge.svg\" alt=\"Open In Colab\"/></a>"
      ]
    },
    {
      "cell_type": "markdown",
      "source": [
        "# Classes"
      ],
      "metadata": {
        "id": "pmkr-sJUY0um"
      }
    },
    {
      "cell_type": "markdown",
      "source": [
        "## Python Objects\n",
        "\n",
        "### Notes\n",
        "\n",
        "* Python is an object oriented programming language.\n",
        "* Almost everything is an object, with properties and methods.\n",
        "* A **class** is like an object constructor.\n",
        "\n",
        "In our course we'll briefly go over classes, but it won't be covered in detail."
      ],
      "metadata": {
        "id": "wvzty_vcY2GU"
      }
    },
    {
      "cell_type": "markdown",
      "source": [
        "## Simple Example\n",
        "\n",
        "### Create Class\n",
        "\n",
        "We're creating a class called `LukesList`, don't worry about the code following that.\n",
        "- Ths class operates very similiar to a `list` object"
      ],
      "metadata": {
        "id": "O90X-5UWY2Vd"
      }
    },
    {
      "cell_type": "code",
      "source": [
        "class WendyList:\n",
        "    def __init__(self) -> None:\n",
        "        \"\"\"Initialize an empty list.\"\"\"\n",
        "        self._items = []\n",
        "\n",
        "    def add(self, item):\n",
        "        \"\"\"Add an item to the end of the list.\"\"\"\n",
        "        self._items.append(item)\n",
        "\n",
        "    def __getitem__(self, index):\n",
        "        \"\"\"Retrieve an item by index.\"\"\"\n",
        "        return self._items[index]\n",
        "\n",
        "    def __setitem__(self, inedx, value):\n",
        "        \"\"\"Set an item at a specific index.\"\"\"\n",
        "        self._items[index] = value\n",
        "\n",
        "    def __repr__(self):\n",
        "        \"\"\"Return a string representation of the list.\"\"\"\n",
        "        return str(self._items)\n",
        "\n",
        "    def __len__(self):\n",
        "        \"\"\"Return the length of the list.\"\"\"\n",
        "        return len(self._items)"
      ],
      "metadata": {
        "id": "QNXK94rFZewI"
      },
      "execution_count": 8,
      "outputs": []
    },
    {
      "cell_type": "markdown",
      "source": [
        "### Create Instance\n",
        "\n",
        "#### Notes\n",
        "\n",
        "* We can use the class to create objects to create an instance of it by calling: `LukesList()`"
      ],
      "metadata": {
        "id": "p5sy3xVxbW9_"
      }
    },
    {
      "cell_type": "code",
      "source": [
        "my_list = WendyList()\n",
        "\n",
        "my_list"
      ],
      "metadata": {
        "colab": {
          "base_uri": "https://localhost:8080/"
        },
        "id": "XPKS8w13bUrY",
        "outputId": "0bf6f42e-3a1d-4718-d126-4b980e6c099e"
      },
      "execution_count": 9,
      "outputs": [
        {
          "output_type": "execute_result",
          "data": {
            "text/plain": [
              "[]"
            ]
          },
          "metadata": {},
          "execution_count": 9
        }
      ]
    },
    {
      "cell_type": "code",
      "source": [
        "my_list.add(\"Data Nerd\")\n",
        "my_list.add(\"Finance Nerd\")\n",
        "\n",
        "my_list"
      ],
      "metadata": {
        "colab": {
          "base_uri": "https://localhost:8080/"
        },
        "id": "-BD8n4nHbi8D",
        "outputId": "5fb871a1-2ec2-4bf0-aeb6-889e0df25474"
      },
      "execution_count": 10,
      "outputs": [
        {
          "output_type": "execute_result",
          "data": {
            "text/plain": [
              "['Data Nerd', 'Finance Nerd']"
            ]
          },
          "metadata": {},
          "execution_count": 10
        }
      ]
    },
    {
      "cell_type": "markdown",
      "source": [
        "We can even use functions like `len()` on it:"
      ],
      "metadata": {
        "id": "RhEQJAfkdyik"
      }
    },
    {
      "cell_type": "code",
      "source": [
        "len(my_list)"
      ],
      "metadata": {
        "colab": {
          "base_uri": "https://localhost:8080/"
        },
        "id": "G_MEIFDUdjAv",
        "outputId": "49dbdbfe-eefc-4a64-d586-74c1dcb20e34"
      },
      "execution_count": 11,
      "outputs": [
        {
          "output_type": "execute_result",
          "data": {
            "text/plain": [
              "2"
            ]
          },
          "metadata": {},
          "execution_count": 11
        }
      ]
    },
    {
      "cell_type": "markdown",
      "source": [
        "## Practical Example\n",
        "\n",
        "### Demonstration\n",
        "\n",
        "Recall back that we had built functions to automate calculating things about a salary."
      ],
      "metadata": {
        "id": "dsh4MyvUd1xl"
      }
    },
    {
      "cell_type": "code",
      "source": [
        "def calculate_salary(base_salary, bonus_rate = .1):\n",
        "    \"\"\"\n",
        "    Calculate the total salary based on the base salary and bonus rate.\n",
        "\n",
        "    Args:\n",
        "        base_salary (float): The base salary.\n",
        "        bonus_rate (float): The bonus rate. Default is .1.\n",
        "\n",
        "    Returns:\n",
        "        float: The total salary.\n",
        "    \"\"\"\n",
        "    return base_salary * (1 + bonus_rate)\n",
        "\n",
        "def calculate_bonus(total_salary, base_salary):\n",
        "    \"\"\"\n",
        "    Calculate the bonus rate based on the total salary and base salary.\n",
        "\n",
        "    Args:\n",
        "        total_salary (float): The total salary.\n",
        "        base_salary (float): The base salary.\n",
        "\n",
        "    Returns:\n",
        "        float: The bonus rate.\n",
        "    \"\"\"\n",
        "    return (total_salary - base_salary) / base_salary"
      ],
      "metadata": {
        "id": "LcEPkWmFd0ht"
      },
      "execution_count": null,
      "outputs": []
    },
    {
      "cell_type": "code",
      "source": [
        "class BaseSalary:\n",
        "    def __init__(self, base_salary, bonus_rate = .1, symbol = \"$\") -> None:\n",
        "        self.base_salary = base_salary\n",
        "        self.bonus_rate = bonus_rate\n",
        "        self.symbol = symbol\n",
        "        self.total_salary = base_salary * (1 + bonus_rate)\n",
        "        self.bonus = self.total_salary - self.base_salary"
      ],
      "metadata": {
        "id": "MazdvMbgejhl"
      },
      "execution_count": null,
      "outputs": []
    }
  ]
}