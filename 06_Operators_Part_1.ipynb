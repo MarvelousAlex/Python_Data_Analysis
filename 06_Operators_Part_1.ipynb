{
  "nbformat": 4,
  "nbformat_minor": 0,
  "metadata": {
    "colab": {
      "provenance": [],
      "authorship_tag": "ABX9TyMOI5tza+qyqvswlDIJzQ6+",
      "include_colab_link": true
    },
    "kernelspec": {
      "name": "python3",
      "display_name": "Python 3"
    },
    "language_info": {
      "name": "python"
    }
  },
  "cells": [
    {
      "cell_type": "markdown",
      "metadata": {
        "id": "view-in-github",
        "colab_type": "text"
      },
      "source": [
        "<a href=\"https://colab.research.google.com/github/MarvelousAlex/Python_Data_Analysis/blob/main/06_Operators_Part_1.ipynb\" target=\"_parent\"><img src=\"https://colab.research.google.com/assets/colab-badge.svg\" alt=\"Open In Colab\"/></a>"
      ]
    },
    {
      "cell_type": "markdown",
      "source": [
        "# Operators Part 1"
      ],
      "metadata": {
        "id": "dDTbAwzWtfog"
      }
    },
    {
      "cell_type": "markdown",
      "source": [
        "## Notes\n",
        "\n",
        "* **Operators** are used to perform operations on variables and values.\n",
        "* In this notebook we'll go over the following operator groups:\n",
        "  * Arithmetic operators\n",
        "  * Assignment operators\n",
        "  * Comparison operators\n",
        "* There are more operators but we'll go over that in a bit.\n",
        "\n",
        "## Importance\n",
        "\n",
        "Arithmetic operators are essential for calculations, assignment operators for updating data, and comparison operators for filtering, all crucial for data analysis in libraries like Pandas and Matplotlib."
      ],
      "metadata": {
        "id": "cQ5PMFK1tvxN"
      }
    },
    {
      "cell_type": "markdown",
      "source": [
        "## Types of Operators"
      ],
      "metadata": {
        "id": "2YAs3Eo8t0T1"
      }
    },
    {
      "cell_type": "markdown",
      "source": [
        "### Arithmetic Operators\n",
        "\n",
        "Arithmetic operators are used with objects (mainly numeric ones) to perform math operations:\n",
        "\n",
        "| Operator | Name           | Example |\n",
        "|----------|----------------|---------|\n",
        "| +        | Addition       | x + y   |\n",
        "| -        | Subtraction    | x - y   |\n",
        "| *        | Multiplication | x * y   |\n",
        "| /        | Division       | x / y   |\n",
        "| %        | Modulus        | x % y   |\n",
        "| **       | Exponentiation | x ** y  |\n",
        "| //       | Floor division | x // y  |"
      ],
      "metadata": {
        "id": "LmUegN5nt1xs"
      }
    },
    {
      "cell_type": "markdown",
      "source": [
        "#### Some operations can be performed on non-numeric values"
      ],
      "metadata": {
        "id": "v4MKGQ-7uW2a"
      }
    },
    {
      "cell_type": "code",
      "execution_count": 1,
      "metadata": {
        "colab": {
          "base_uri": "https://localhost:8080/",
          "height": 52
        },
        "id": "q-oPqII_tcTJ",
        "outputId": "0391ce18-c1d8-4c7d-ca38-7641a2b281eb"
      },
      "outputs": [
        {
          "output_type": "execute_result",
          "data": {
            "text/plain": [
              "\"What's UP??What's UP??What's UP??What's UP??What's UP??What's UP??What's UP??What's UP??What's UP??What's UP??\""
            ],
            "application/vnd.google.colaboratory.intrinsic+json": {
              "type": "string"
            }
          },
          "metadata": {},
          "execution_count": 1
        }
      ],
      "source": [
        "\"What's UP??\" * 10"
      ]
    },
    {
      "cell_type": "code",
      "source": [
        "\"What's up\" - \"up\"  # we don't have this"
      ],
      "metadata": {
        "colab": {
          "base_uri": "https://localhost:8080/",
          "height": 141
        },
        "id": "GhuLVZ3KudWY",
        "outputId": "7b309b00-aae1-4443-c97b-e367c9dd1179"
      },
      "execution_count": 2,
      "outputs": [
        {
          "output_type": "error",
          "ename": "TypeError",
          "evalue": "unsupported operand type(s) for -: 'str' and 'str'",
          "traceback": [
            "\u001b[0;31m---------------------------------------------------------------------------\u001b[0m",
            "\u001b[0;31mTypeError\u001b[0m                                 Traceback (most recent call last)",
            "\u001b[0;32m/tmp/ipython-input-440432248.py\u001b[0m in \u001b[0;36m<cell line: 0>\u001b[0;34m()\u001b[0m\n\u001b[0;32m----> 1\u001b[0;31m \u001b[0;34m\"What's up\"\u001b[0m \u001b[0;34m-\u001b[0m \u001b[0;34m\"up\"\u001b[0m  \u001b[0;31m# we don't have this\u001b[0m\u001b[0;34m\u001b[0m\u001b[0;34m\u001b[0m\u001b[0m\n\u001b[0m",
            "\u001b[0;31mTypeError\u001b[0m: unsupported operand type(s) for -: 'str' and 'str'"
          ]
        }
      ]
    },
    {
      "cell_type": "code",
      "source": [
        "\"What's \".__add__(\"up\")"
      ],
      "metadata": {
        "colab": {
          "base_uri": "https://localhost:8080/",
          "height": 35
        },
        "id": "0ylAgfnrvXdl",
        "outputId": "2eace3b4-7f4f-49bf-99d8-9506a53fe09f"
      },
      "execution_count": 6,
      "outputs": [
        {
          "output_type": "execute_result",
          "data": {
            "text/plain": [
              "\"What's up\""
            ],
            "application/vnd.google.colaboratory.intrinsic+json": {
              "type": "string"
            }
          },
          "metadata": {},
          "execution_count": 6
        }
      ]
    },
    {
      "cell_type": "markdown",
      "source": [
        "#### Numbers: But let's actually talk about the stuff you came here for"
      ],
      "metadata": {
        "id": "xNe4nTrovnk3"
      }
    },
    {
      "cell_type": "code",
      "source": [
        "2**6"
      ],
      "metadata": {
        "colab": {
          "base_uri": "https://localhost:8080/"
        },
        "id": "-LS0GqXdvZgD",
        "outputId": "7bbff8c3-9157-4c6a-81a7-80331a8d43a9"
      },
      "execution_count": 11,
      "outputs": [
        {
          "output_type": "execute_result",
          "data": {
            "text/plain": [
              "64"
            ]
          },
          "metadata": {},
          "execution_count": 11
        }
      ]
    },
    {
      "cell_type": "markdown",
      "source": [
        "#### Floor Division"
      ],
      "metadata": {
        "id": "xwJMzCnrwllw"
      }
    },
    {
      "cell_type": "code",
      "source": [
        "5 // 2"
      ],
      "metadata": {
        "colab": {
          "base_uri": "https://localhost:8080/"
        },
        "id": "usAi2juDwNaS",
        "outputId": "6e94f38d-b8e4-4152-d85a-fe58a0a8e1ef"
      },
      "execution_count": 12,
      "outputs": [
        {
          "output_type": "execute_result",
          "data": {
            "text/plain": [
              "2"
            ]
          },
          "metadata": {},
          "execution_count": 12
        }
      ]
    },
    {
      "cell_type": "code",
      "source": [
        "5 % 2"
      ],
      "metadata": {
        "colab": {
          "base_uri": "https://localhost:8080/"
        },
        "id": "i31gaqo9wuiH",
        "outputId": "d0917dae-e3bf-4f93-dd61-31daf4d58d20"
      },
      "execution_count": 13,
      "outputs": [
        {
          "output_type": "execute_result",
          "data": {
            "text/plain": [
              "1"
            ]
          },
          "metadata": {},
          "execution_count": 13
        }
      ]
    },
    {
      "cell_type": "code",
      "source": [
        "print(\"5 divided by 2 is\", 5 // 2, \"with a remainder of\", 5 % 2)"
      ],
      "metadata": {
        "colab": {
          "base_uri": "https://localhost:8080/"
        },
        "id": "Nr8h1jiqwwyb",
        "outputId": "3e354b04-a414-4a3a-8957-708f24c08242"
      },
      "execution_count": 14,
      "outputs": [
        {
          "output_type": "stream",
          "name": "stdout",
          "text": [
            "5 divided by 2 is 2 with a remainder of 1\n"
          ]
        }
      ]
    },
    {
      "cell_type": "markdown",
      "source": [
        "#### Order of Operations\n",
        "\n",
        "1. **Parentheses**: Anything in parentheses is executed first\n",
        "2. **Exponents**: Operations involving exponents (including roots, indicated as fractional exponents)  \n",
        "3. **Multiplication and Division**: Processed from left to right\n",
        "4. **Addition and Subtraction**: Also processed from left to right"
      ],
      "metadata": {
        "id": "5lpuvmjiw3kl"
      }
    },
    {
      "cell_type": "code",
      "source": [
        "min_salary = 20_000\n",
        "max_salary = 80_000\n",
        "\n",
        "average_salary = (min_salary + max_salary) / 2\n",
        "\n",
        "f'{average_salary: .2f}'"
      ],
      "metadata": {
        "colab": {
          "base_uri": "https://localhost:8080/",
          "height": 35
        },
        "id": "crwxBv_gw0My",
        "outputId": "3fd7be1c-4ed4-49e5-fea3-83ee983c9378"
      },
      "execution_count": 20,
      "outputs": [
        {
          "output_type": "execute_result",
          "data": {
            "text/plain": [
              "' 50000.00'"
            ],
            "application/vnd.google.colaboratory.intrinsic+json": {
              "type": "string"
            }
          },
          "metadata": {},
          "execution_count": 20
        }
      ]
    },
    {
      "cell_type": "markdown",
      "source": [
        "### Assignment Operators\n",
        "\n",
        "Assignment operators are used to assign values to variables.\n",
        "\n",
        "| Operator | Name                | Example |\n",
        "|----------|---------------------|---------|\n",
        "| =        | Assign              | x = y   |\n",
        "| +=       | Add and assign      | x += y  |\n",
        "| -=       | Subtract and assign | x -= y  |\n",
        "| *=       | Multiply and assign | x *= y  |\n",
        "| /=       | Divide and assign   | x /= y  |\n",
        "| %=       | Modulus and assign  | x %= y  |\n",
        "| **=      | Exponent and assign | x **= y |\n",
        "| //=      | Floor divide and assign | x //= y  |"
      ],
      "metadata": {
        "id": "oeDP8hSFykWD"
      }
    },
    {
      "cell_type": "code",
      "source": [
        "x = 1\n",
        "y = 2\n",
        "\n",
        "x, y = y, x # swap values\n",
        "\n",
        "print(\"x is now: \", x)\n",
        "print(\"y is now: \", y)"
      ],
      "metadata": {
        "colab": {
          "base_uri": "https://localhost:8080/"
        },
        "id": "NFUdqMkYxwT2",
        "outputId": "6f45f82e-d973-4548-c92e-7c6b5724cf36"
      },
      "execution_count": 21,
      "outputs": [
        {
          "output_type": "stream",
          "name": "stdout",
          "text": [
            "x is now:  2\n",
            "y is now:  1\n"
          ]
        }
      ]
    },
    {
      "cell_type": "markdown",
      "source": [
        "#### Add and Assign"
      ],
      "metadata": {
        "id": "M_5IWm6Fy0bH"
      }
    },
    {
      "cell_type": "code",
      "source": [
        "x = 1\n",
        "x += 2\n",
        "\n",
        "x"
      ],
      "metadata": {
        "colab": {
          "base_uri": "https://localhost:8080/"
        },
        "id": "bWrM6Zggyz9L",
        "outputId": "8d1161f2-2eaa-4c74-e209-54c0a1f11576"
      },
      "execution_count": 24,
      "outputs": [
        {
          "output_type": "execute_result",
          "data": {
            "text/plain": [
              "3"
            ]
          },
          "metadata": {},
          "execution_count": 24
        }
      ]
    },
    {
      "cell_type": "markdown",
      "source": [
        "### Comparison Operators\n",
        "\n",
        "Comparison operators compare two values and determine the relation between them.\n",
        "\n",
        "| Operator | Name                  | Example |\n",
        "|----------|-----------------------|---------|\n",
        "| ==       | Equal to              | x == y  |\n",
        "| !=       | Not equal to          | x != y  |\n",
        "| >        | Greater than          | x > y   |\n",
        "| <        | Less than             | x < y   |\n",
        "| >=       | Greater than or equal | x >= y  |\n",
        "| <=       | Less than or equal    | x <= y  |"
      ],
      "metadata": {
        "id": "7PsrYrNhy87H"
      }
    },
    {
      "cell_type": "code",
      "source": [
        "1 == 1"
      ],
      "metadata": {
        "colab": {
          "base_uri": "https://localhost:8080/"
        },
        "id": "K8XukKQyypwb",
        "outputId": "a43d5692-8814-4cb3-bc4c-ec88f561f327"
      },
      "execution_count": 25,
      "outputs": [
        {
          "output_type": "execute_result",
          "data": {
            "text/plain": [
              "True"
            ]
          },
          "metadata": {},
          "execution_count": 25
        }
      ]
    },
    {
      "cell_type": "code",
      "source": [
        "salary_kelly = 50_000\n",
        "salary_luke = 50_000\n",
        "\n",
        "# Are Luke and Kelly's salaries the same?\n",
        "salary_checker = (salary_kelly == salary_luke) # parantheses are optional\n",
        "\n",
        "salary_checker"
      ],
      "metadata": {
        "colab": {
          "base_uri": "https://localhost:8080/"
        },
        "id": "ewgIwJYIzA6e",
        "outputId": "7e04a6ed-0214-4dcb-e50d-e7e9b0530904"
      },
      "execution_count": 26,
      "outputs": [
        {
          "output_type": "execute_result",
          "data": {
            "text/plain": [
              "True"
            ]
          },
          "metadata": {},
          "execution_count": 26
        }
      ]
    },
    {
      "cell_type": "code",
      "source": [
        "type(salary_checker)"
      ],
      "metadata": {
        "colab": {
          "base_uri": "https://localhost:8080/"
        },
        "id": "RXrEqL6FzDww",
        "outputId": "ab0c1170-a951-42c4-df97-c02ded4d5f6e"
      },
      "execution_count": 27,
      "outputs": [
        {
          "output_type": "execute_result",
          "data": {
            "text/plain": [
              "bool"
            ]
          },
          "metadata": {},
          "execution_count": 27
        }
      ]
    }
  ]
}