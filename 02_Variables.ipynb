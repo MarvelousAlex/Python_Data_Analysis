{
  "nbformat": 4,
  "nbformat_minor": 0,
  "metadata": {
    "colab": {
      "provenance": [],
      "authorship_tag": "ABX9TyOy7SjpOzY9hL10p/Grlixc",
      "include_colab_link": true
    },
    "kernelspec": {
      "name": "python3",
      "display_name": "Python 3"
    },
    "language_info": {
      "name": "python"
    }
  },
  "cells": [
    {
      "cell_type": "markdown",
      "metadata": {
        "id": "view-in-github",
        "colab_type": "text"
      },
      "source": [
        "<a href=\"https://colab.research.google.com/github/MarvelousAlex/Python_Data_Analysis/blob/main/02_Variables.ipynb\" target=\"_parent\"><img src=\"https://colab.research.google.com/assets/colab-badge.svg\" alt=\"Open In Colab\"/></a>"
      ]
    },
    {
      "cell_type": "markdown",
      "source": [
        "# Variables"
      ],
      "metadata": {
        "id": "Z4ix73IppueP"
      }
    },
    {
      "cell_type": "markdown",
      "source": [
        "## Create a Variable\n",
        "\n",
        "### Notes\n",
        "\n",
        "* A variable is created the moment you assign a value to it\n",
        "* Variables don't need to be declared with any *type*\n",
        "* Variables can change types even after they've been set\n",
        "\n",
        "\n",
        "The variable name goes on the left side of the assignment operator (`=`), and the value or expression you want to assign to that variable goes on the right side. It will be like this:\n",
        "\n",
        "```python\n",
        "variable_name = value\n",
        "```\n",
        "\n",
        "### Examples"
      ],
      "metadata": {
        "id": "sGd2ijotpxT_"
      }
    },
    {
      "cell_type": "code",
      "execution_count": 1,
      "metadata": {
        "id": "O-lH4OrhpqVU"
      },
      "outputs": [],
      "source": [
        "base_salary = 10000"
      ]
    },
    {
      "cell_type": "markdown",
      "source": [
        "With operations"
      ],
      "metadata": {
        "id": "uUAyuiqXqSKM"
      }
    },
    {
      "cell_type": "code",
      "source": [
        "bonus_rate = .1\n",
        "\n",
        "total_salary = base_salary * (1+bonus_rate)"
      ],
      "metadata": {
        "id": "HwYCApE3qPsS"
      },
      "execution_count": 2,
      "outputs": []
    },
    {
      "cell_type": "markdown",
      "source": [
        "But how the heck do we see what the total salary is? We can either print the variable using the `print()` function or call it."
      ],
      "metadata": {
        "id": "DiHR0fFLqf_o"
      }
    },
    {
      "cell_type": "code",
      "source": [
        "total_salary"
      ],
      "metadata": {
        "colab": {
          "base_uri": "https://localhost:8080/"
        },
        "id": "HU4SLBgNqdl0",
        "outputId": "12e46b19-be0e-4298-c137-11299f1fdb9b"
      },
      "execution_count": 3,
      "outputs": [
        {
          "output_type": "execute_result",
          "data": {
            "text/plain": [
              "11000.0"
            ]
          },
          "metadata": {},
          "execution_count": 3
        }
      ]
    },
    {
      "cell_type": "markdown",
      "source": [
        "## Variables aren't only numbers\n",
        "\n",
        "### Notes\n",
        "\n",
        "* We can store all different kinds of data in variables\n",
        "* **Note:** We'll cover more on types in a bit\n",
        "\n",
        "### Example\n",
        "* Create variables to store the following information about a job posting:\n",
        "  * Job ID (integer)\n",
        "  * Company Name (string)\n",
        "  * Salary Rate (string, but consider how you might store this as a numerical type for calculations)\n",
        "  * Job Work From Home (boolean)"
      ],
      "metadata": {
        "id": "P2x6oR9Yqmit"
      }
    },
    {
      "cell_type": "code",
      "source": [
        "job_id = 101\n",
        "company_name = 'Dataxxx Inc.'\n",
        "job_title = 'Data Analyst'\n",
        "job_salary = 10250\n",
        "remote_job = True"
      ],
      "metadata": {
        "id": "8zUc8Y-pqhrZ"
      },
      "execution_count": 7,
      "outputs": []
    },
    {
      "cell_type": "code",
      "source": [
        "print(\"Job ID:    \", job_id)\n",
        "print(\"Company Name:\", company_name)\n",
        "print(\"Job Title:   \", job_title)\n",
        "print(\"Job Salary:  \", job_salary)\n",
        "print(\"Remote Job:  \", remote_job)"
      ],
      "metadata": {
        "colab": {
          "base_uri": "https://localhost:8080/"
        },
        "id": "pQlQ0g1FrAaL",
        "outputId": "c057499d-6960-4d0e-cbd3-587a8d49b087"
      },
      "execution_count": 9,
      "outputs": [
        {
          "output_type": "stream",
          "name": "stdout",
          "text": [
            "Job ID:     101\n",
            "Company Name: Dataxxx Inc.\n",
            "Job Title:    Data Analyst\n",
            "Job Salary:   10250\n",
            "Remote Job:   True\n"
          ]
        }
      ]
    },
    {
      "cell_type": "markdown",
      "source": [
        "## Objects in Python\n",
        "\n",
        "Something to understand: everything stored in Python is considered an **object**. This includes all the data types we've talked about and will talk about.\n",
        "\n",
        "Objects are a foundational concept in Python, and we'll explore more about what they do in the upcoming sections."
      ],
      "metadata": {
        "id": "qNkPLV0ir3Bt"
      }
    }
  ]
}