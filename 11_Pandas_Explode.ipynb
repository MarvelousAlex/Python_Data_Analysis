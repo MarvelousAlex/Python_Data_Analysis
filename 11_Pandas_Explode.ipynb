{
 "cells": [
  {
   "cell_type": "markdown",
   "id": "9876fd99",
   "metadata": {},
   "source": [
    "Panas Explore\n"
   ]
  },
  {
   "cell_type": "markdown",
   "id": "f5965bb8",
   "metadata": {},
   "source": [
    "Load data.\n"
   ]
  },
  {
   "cell_type": "code",
   "execution_count": null,
   "id": "04ade110",
   "metadata": {},
   "outputs": [],
   "source": [
    "# Importing Libraries\n",
    "import ast\n",
    "import pandas as pd\n",
    "from datasets import load_dataset\n",
    "import matplotlib.pyplot as plt\n",
    "\n",
    "# Loading Data\n",
    "dataset = load_dataset('lukebarousse/data_jobs')\n",
    "df = dataset['train'].to_pandas()\n",
    "\n",
    "# Data Cleanup\n",
    "df['job_posted_date'] = pd.to_datetime(df['job_posted_date'])"
   ]
  },
  {
   "cell_type": "markdown",
   "id": "e3f8f391",
   "metadata": {},
   "source": [
    "Example\n",
    "\n",
    "Why `df.explode()` is needed?\n",
    "\n",
    "Here is a fake dataset of 3 job postings\n"
   ]
  },
  {
   "cell_type": "code",
   "execution_count": null,
   "id": "bc76b5c2",
   "metadata": {},
   "outputs": [
    {
     "data": {
      "application/vnd.microsoft.datawrangler.viewer.v0+json": {
       "columns": [
        {
         "name": "index",
         "rawType": "int64",
         "type": "integer"
        },
        {
         "name": "job_title_short",
         "rawType": "object",
         "type": "string"
        },
        {
         "name": "job_skills",
         "rawType": "object",
         "type": "unknown"
        }
       ],
       "ref": "799946f1-1507-4aae-a354-290464c3f612",
       "rows": [
        [
         "0",
         "Data Analyst",
         "['excel', 'sql', 'python']"
        ],
        [
         "1",
         "Data Scientist",
         "['python', 'r']"
        ],
        [
         "2",
         "Data Engineer",
         "['aws', 'python', 'airflow']"
        ]
       ],
       "shape": {
        "columns": 2,
        "rows": 3
       }
      },
      "text/html": [
       "<div>\n",
       "<style scoped>\n",
       "    .dataframe tbody tr th:only-of-type {\n",
       "        vertical-align: middle;\n",
       "    }\n",
       "\n",
       "    .dataframe tbody tr th {\n",
       "        vertical-align: top;\n",
       "    }\n",
       "\n",
       "    .dataframe thead th {\n",
       "        text-align: right;\n",
       "    }\n",
       "</style>\n",
       "<table border=\"1\" class=\"dataframe\">\n",
       "  <thead>\n",
       "    <tr style=\"text-align: right;\">\n",
       "      <th></th>\n",
       "      <th>job_title_short</th>\n",
       "      <th>job_skills</th>\n",
       "    </tr>\n",
       "  </thead>\n",
       "  <tbody>\n",
       "    <tr>\n",
       "      <th>0</th>\n",
       "      <td>Data Analyst</td>\n",
       "      <td>[excel, sql, python]</td>\n",
       "    </tr>\n",
       "    <tr>\n",
       "      <th>1</th>\n",
       "      <td>Data Scientist</td>\n",
       "      <td>[python, r]</td>\n",
       "    </tr>\n",
       "    <tr>\n",
       "      <th>2</th>\n",
       "      <td>Data Engineer</td>\n",
       "      <td>[aws, python, airflow]</td>\n",
       "    </tr>\n",
       "  </tbody>\n",
       "</table>\n",
       "</div>"
      ],
      "text/plain": [
       "  job_title_short              job_skills\n",
       "0    Data Analyst    [excel, sql, python]\n",
       "1  Data Scientist             [python, r]\n",
       "2   Data Engineer  [aws, python, airflow]"
      ]
     },
     "execution_count": 2,
     "metadata": {},
     "output_type": "execute_result"
    }
   ],
   "source": [
    "data = {\n",
    "    'job_title_short': ['Data Analyst', 'Data Scientist', 'Data Engineer'],\n",
    "    'job_skills': [['excel', 'sql', 'python'], ['python', 'r'], ['aws', 'python', 'airflow']]\n",
    "}\n",
    "\n",
    "df_skills = pd.DataFrame(data)\n",
    "df_skills"
   ]
  },
  {
   "cell_type": "markdown",
   "id": "f3f28689",
   "metadata": {},
   "source": [
    "if we wanted to analyze the skills in this, we'd need a minimum of 5 lines of codes to get the counts of skills\n"
   ]
  },
  {
   "cell_type": "code",
   "execution_count": null,
   "id": "5d01ecb6",
   "metadata": {},
   "outputs": [
    {
     "data": {
      "application/vnd.microsoft.datawrangler.viewer.v0+json": {
       "columns": [
        {
         "name": "index",
         "rawType": "object",
         "type": "unknown"
        },
        {
         "name": "excel",
         "rawType": "int64",
         "type": "integer"
        },
        {
         "name": "sql",
         "rawType": "int64",
         "type": "integer"
        },
        {
         "name": "python",
         "rawType": "int64",
         "type": "integer"
        },
        {
         "name": "r",
         "rawType": "int64",
         "type": "integer"
        },
        {
         "name": "aws",
         "rawType": "int64",
         "type": "integer"
        },
        {
         "name": "airflow",
         "rawType": "int64",
         "type": "integer"
        }
       ],
       "ref": "6272de62-1262-476a-b169-4ad4b30253aa",
       "rows": [
        [
         "0",
         "1",
         "1",
         "1",
         "0",
         "0",
         "0"
        ],
        [
         "1",
         "0",
         "0",
         "1",
         "1",
         "0",
         "0"
        ],
        [
         "2",
         "0",
         "0",
         "1",
         "0",
         "1",
         "1"
        ],
        [
         "Total",
         "1",
         "1",
         "3",
         "1",
         "1",
         "1"
        ]
       ],
       "shape": {
        "columns": 6,
        "rows": 4
       }
      },
      "text/html": [
       "<div>\n",
       "<style scoped>\n",
       "    .dataframe tbody tr th:only-of-type {\n",
       "        vertical-align: middle;\n",
       "    }\n",
       "\n",
       "    .dataframe tbody tr th {\n",
       "        vertical-align: top;\n",
       "    }\n",
       "\n",
       "    .dataframe thead th {\n",
       "        text-align: right;\n",
       "    }\n",
       "</style>\n",
       "<table border=\"1\" class=\"dataframe\">\n",
       "  <thead>\n",
       "    <tr style=\"text-align: right;\">\n",
       "      <th></th>\n",
       "      <th>excel</th>\n",
       "      <th>sql</th>\n",
       "      <th>python</th>\n",
       "      <th>r</th>\n",
       "      <th>aws</th>\n",
       "      <th>airflow</th>\n",
       "    </tr>\n",
       "  </thead>\n",
       "  <tbody>\n",
       "    <tr>\n",
       "      <th>0</th>\n",
       "      <td>1</td>\n",
       "      <td>1</td>\n",
       "      <td>1</td>\n",
       "      <td>0</td>\n",
       "      <td>0</td>\n",
       "      <td>0</td>\n",
       "    </tr>\n",
       "    <tr>\n",
       "      <th>1</th>\n",
       "      <td>0</td>\n",
       "      <td>0</td>\n",
       "      <td>1</td>\n",
       "      <td>1</td>\n",
       "      <td>0</td>\n",
       "      <td>0</td>\n",
       "    </tr>\n",
       "    <tr>\n",
       "      <th>2</th>\n",
       "      <td>0</td>\n",
       "      <td>0</td>\n",
       "      <td>1</td>\n",
       "      <td>0</td>\n",
       "      <td>1</td>\n",
       "      <td>1</td>\n",
       "    </tr>\n",
       "    <tr>\n",
       "      <th>Total</th>\n",
       "      <td>1</td>\n",
       "      <td>1</td>\n",
       "      <td>3</td>\n",
       "      <td>1</td>\n",
       "      <td>1</td>\n",
       "      <td>1</td>\n",
       "    </tr>\n",
       "  </tbody>\n",
       "</table>\n",
       "</div>"
      ],
      "text/plain": [
       "       excel  sql  python  r  aws  airflow\n",
       "0          1    1       1  0    0        0\n",
       "1          0    0       1  1    0        0\n",
       "2          0    0       1  0    1        1\n",
       "Total      1    1       3  1    1        1"
      ]
     },
     "execution_count": 3,
     "metadata": {},
     "output_type": "execute_result"
    }
   ],
   "source": [
    "df_skills_list = df_skills.copy()\n",
    "\n",
    "for row in df_skills_list.itertuples():\n",
    "    for skill in row.job_skills:\n",
    "        # For each unique skill (e.g., excel, sql, python, r, aws, airflow), a new column is created in df_skills_list with the skill name.\n",
    "        df_skills_list[skill] = df_skills_list['job_skills'].apply(\n",
    "            lambda x: skill in x)\n",
    "        # Creates a boolean Series where True indicates the skill is present in the job_skills list for a given row, and False otherwise.\n",
    "        df_skills_list[skill] = df_skills_list[skill].astype(int)\n",
    "\n",
    "df_skills_list.loc['Total'] = df_skills_list.sum()\n",
    "\n",
    "df_skills_list.iloc[:, 2:]"
   ]
  },
  {
   "cell_type": "code",
   "execution_count": null,
   "id": "9d364bde",
   "metadata": {},
   "outputs": [
    {
     "data": {
      "text/plain": [
       "\"\\ndata = {\\n    'job_title_short': ['Data Analyst', 'Data Scientist', 'Data Engineer'],\\n    'job_skills': [['excel', 'sql', 'python'], ['python', 'r'], ['aws', 'python', 'airflow']]\\n}\\ndf_skills = pd.DataFrame(data)\\n\\n# Explode the skills list and create binary columns\\ndf_skills_list = df_skills.explode('job_skills')\\ndf_skills_list = pd.get_dummies(df_skills_list, columns=['job_skills']).groupby('job_title_short').sum().reset_index()\\n\\n# Add Total row\\ndf_skills_list.loc['Total'] = df_skills_list.iloc[:, 1:].sum()\\ndf_skills_list.iloc[:, 1:]  # Exclude job_title_short\\n\""
      ]
     },
     "execution_count": 4,
     "metadata": {},
     "output_type": "execute_result"
    }
   ],
   "source": [
    "# Here’s how you could achieve the same result more efficiently:\n",
    "'''\n",
    "data = {\n",
    "    'job_title_short': ['Data Analyst', 'Data Scientist', 'Data Engineer'],\n",
    "    'job_skills': [['excel', 'sql', 'python'], ['python', 'r'], ['aws', 'python', 'airflow']]\n",
    "}\n",
    "df_skills = pd.DataFrame(data)\n",
    "\n",
    "# Explode the skills list and create binary columns\n",
    "df_skills_list = df_skills.explode('job_skills')\n",
    "df_skills_list = pd.get_dummies(df_skills_list, columns=['job_skills']).groupby('job_title_short').sum().reset_index()\n",
    "\n",
    "# Add Total row\n",
    "df_skills_list.loc['Total'] = df_skills_list.iloc[:, 1:].sum()\n",
    "df_skills_list.iloc[:, 1:]  # Exclude job_title_short\n",
    "'''"
   ]
  },
  {
   "cell_type": "markdown",
   "id": "bfac7b15",
   "metadata": {},
   "source": [
    "However, exploding it out makes the data a lot easier to work with\n"
   ]
  },
  {
   "cell_type": "code",
   "execution_count": null,
   "id": "59c557a0",
   "metadata": {},
   "outputs": [
    {
     "data": {
      "application/vnd.microsoft.datawrangler.viewer.v0+json": {
       "columns": [
        {
         "name": "index",
         "rawType": "int64",
         "type": "integer"
        },
        {
         "name": "job_title_short",
         "rawType": "object",
         "type": "string"
        },
        {
         "name": "job_skills",
         "rawType": "object",
         "type": "string"
        }
       ],
       "ref": "c026f78f-75a9-45f3-ae7b-767705d833c7",
       "rows": [
        [
         "0",
         "Data Analyst",
         "excel"
        ],
        [
         "0",
         "Data Analyst",
         "sql"
        ],
        [
         "0",
         "Data Analyst",
         "python"
        ],
        [
         "1",
         "Data Scientist",
         "python"
        ],
        [
         "1",
         "Data Scientist",
         "r"
        ],
        [
         "2",
         "Data Engineer",
         "aws"
        ],
        [
         "2",
         "Data Engineer",
         "python"
        ],
        [
         "2",
         "Data Engineer",
         "airflow"
        ]
       ],
       "shape": {
        "columns": 2,
        "rows": 8
       }
      },
      "text/html": [
       "<div>\n",
       "<style scoped>\n",
       "    .dataframe tbody tr th:only-of-type {\n",
       "        vertical-align: middle;\n",
       "    }\n",
       "\n",
       "    .dataframe tbody tr th {\n",
       "        vertical-align: top;\n",
       "    }\n",
       "\n",
       "    .dataframe thead th {\n",
       "        text-align: right;\n",
       "    }\n",
       "</style>\n",
       "<table border=\"1\" class=\"dataframe\">\n",
       "  <thead>\n",
       "    <tr style=\"text-align: right;\">\n",
       "      <th></th>\n",
       "      <th>job_title_short</th>\n",
       "      <th>job_skills</th>\n",
       "    </tr>\n",
       "  </thead>\n",
       "  <tbody>\n",
       "    <tr>\n",
       "      <th>0</th>\n",
       "      <td>Data Analyst</td>\n",
       "      <td>excel</td>\n",
       "    </tr>\n",
       "    <tr>\n",
       "      <th>0</th>\n",
       "      <td>Data Analyst</td>\n",
       "      <td>sql</td>\n",
       "    </tr>\n",
       "    <tr>\n",
       "      <th>0</th>\n",
       "      <td>Data Analyst</td>\n",
       "      <td>python</td>\n",
       "    </tr>\n",
       "    <tr>\n",
       "      <th>1</th>\n",
       "      <td>Data Scientist</td>\n",
       "      <td>python</td>\n",
       "    </tr>\n",
       "    <tr>\n",
       "      <th>1</th>\n",
       "      <td>Data Scientist</td>\n",
       "      <td>r</td>\n",
       "    </tr>\n",
       "    <tr>\n",
       "      <th>2</th>\n",
       "      <td>Data Engineer</td>\n",
       "      <td>aws</td>\n",
       "    </tr>\n",
       "    <tr>\n",
       "      <th>2</th>\n",
       "      <td>Data Engineer</td>\n",
       "      <td>python</td>\n",
       "    </tr>\n",
       "    <tr>\n",
       "      <th>2</th>\n",
       "      <td>Data Engineer</td>\n",
       "      <td>airflow</td>\n",
       "    </tr>\n",
       "  </tbody>\n",
       "</table>\n",
       "</div>"
      ],
      "text/plain": [
       "  job_title_short job_skills\n",
       "0    Data Analyst      excel\n",
       "0    Data Analyst        sql\n",
       "0    Data Analyst     python\n",
       "1  Data Scientist     python\n",
       "1  Data Scientist          r\n",
       "2   Data Engineer        aws\n",
       "2   Data Engineer     python\n",
       "2   Data Engineer    airflow"
      ]
     },
     "execution_count": 5,
     "metadata": {},
     "output_type": "execute_result"
    }
   ],
   "source": [
    "df_exploded = df_skills.explode('job_skills')\n",
    "df_exploded"
   ]
  },
  {
   "cell_type": "markdown",
   "id": "886eb880",
   "metadata": {},
   "source": [
    "Key Details about `explode()`\n",
    "\n",
    "- Purpose: Converts each element of a list-like object in a column into a separate row, replicating the other columns' values for each element.\n",
    "- Input: A column containing list-like objects (e.g., lists, tuples, sets, or pandas Series).\n",
    "- Output: A new DataFrame with the list-like elements expanded into individual rows.\n",
    "- Introduced: In pandas version 0.25.0.\n",
    "- Common Use Case: Preparing data for operations like grouping, counting, or creating binary matrices (as seen in your previous question).\n"
   ]
  },
  {
   "cell_type": "markdown",
   "id": "20671ea9",
   "metadata": {},
   "source": [
    "Before `explode()`: The job_skills column contains lists of skills for each job title.\n",
    "\n",
    "After `explode()`:\n",
    "\n",
    "- Each skill in the `job_skills` lists is expanded into its own row.\n",
    "- The corresponding `job_title_short` value is duplicated for each skill in the list.\n",
    "- The original index (e.g., `0` for Data Analyst) is preserved unless `ignore_index = True` is specified.\n",
    "\n",
    "Result: The DataFrame now has one row per skill, making it easier to analyze individual skills (e.g., count occurrences or create a binary matrix).\n"
   ]
  },
  {
   "cell_type": "markdown",
   "id": "6a322ce4",
   "metadata": {},
   "source": [
    "Now we can perform value_counts and even plot it\n"
   ]
  },
  {
   "cell_type": "code",
   "execution_count": null,
   "id": "2a362bee",
   "metadata": {},
   "outputs": [
    {
     "data": {
      "application/vnd.microsoft.datawrangler.viewer.v0+json": {
       "columns": [
        {
         "name": "job_skills",
         "rawType": "object",
         "type": "string"
        },
        {
         "name": "count",
         "rawType": "int64",
         "type": "integer"
        }
       ],
       "ref": "5524da7c-ccd7-4f71-b954-1398731fab6c",
       "rows": [
        [
         "python",
         "3"
        ],
        [
         "airflow",
         "1"
        ],
        [
         "aws",
         "1"
        ],
        [
         "excel",
         "1"
        ],
        [
         "r",
         "1"
        ],
        [
         "sql",
         "1"
        ]
       ],
       "shape": {
        "columns": 1,
        "rows": 6
       }
      },
      "text/plain": [
       "job_skills\n",
       "python     3\n",
       "airflow    1\n",
       "aws        1\n",
       "excel      1\n",
       "r          1\n",
       "sql        1\n",
       "Name: count, dtype: int64"
      ]
     },
     "execution_count": 6,
     "metadata": {},
     "output_type": "execute_result"
    }
   ],
   "source": [
    "df_exploded.value_counts('job_skills')"
   ]
  },
  {
   "cell_type": "code",
   "execution_count": null,
   "id": "e6f945df",
   "metadata": {},
   "outputs": [
    {
     "data": {
      "text/plain": [
       "<Axes: xlabel='job_skills'>"
      ]
     },
     "execution_count": 7,
     "metadata": {},
     "output_type": "execute_result"
    },
    {
     "data": {
      "image/png": "[encoded data removed]",
      "text/plain": [
       "<Figure size 640x480 with 1 Axes>"
      ]
     },
     "metadata": {},
     "output_type": "display_data"
    }
   ],
   "source": [
    "df_exploded.value_counts('job_skills').plot(kind='bar')"
   ]
  },
  {
   "cell_type": "markdown",
   "id": "41b0ad6f",
   "metadata": {},
   "source": [
    "Notes\n",
    "\n",
    "- `explode()` - transforms each element of a list-like to a row\n",
    "- Expand list-like data within a DataFrame column into separate rows.\n",
    "- Commonly used to split list data into individual rows for analysis (_hint_ _hint_) or when working with JSON data in a DataFrame.\n",
    "  Example\n",
    "\n",
    "Let's transform the list like elements in the `job_skills` column to a row using the `explode()` function. This will make it so each skill will have its own row and we'll save this into a new DataFrame called `df_exploded`.\n",
    "\n",
    "In the last section we already prepared our data and we converted our `job_skills` column to a list.\n"
   ]
  },
  {
   "cell_type": "code",
   "execution_count": null,
   "id": "69066a73",
   "metadata": {},
   "outputs": [
    {
     "data": {
      "application/vnd.microsoft.datawrangler.viewer.v0+json": {
       "columns": [
        {
         "name": "index",
         "rawType": "int64",
         "type": "integer"
        },
        {
         "name": "job_title_short",
         "rawType": "object",
         "type": "string"
        },
        {
         "name": "job_skills",
         "rawType": "object",
         "type": "unknown"
        }
       ],
       "ref": "00713381-c3ae-4c23-a5fc-a3bdfbc01bc6",
       "rows": [
        [
         "0",
         "Senior Data Engineer",
         null
        ],
        [
         "1",
         "Data Analyst",
         "['r', 'python', 'sql', 'nosql', 'power bi', 'tableau']"
        ],
        [
         "2",
         "Data Engineer",
         "['python', 'sql', 'c#', 'azure', 'airflow', 'dax', 'docker', 'kubernetes', 'jenkins']"
        ],
        [
         "3",
         "Data Engineer",
         "['python', 'c++', 'java', 'matlab', 'aws', 'tensorflow', 'keras', 'pytorch']"
        ],
        [
         "4",
         "Data Engineer",
         "['bash', 'python', 'oracle', 'aws', 'ansible', 'puppet', 'jenkins', 'gitlab', 'git']"
        ]
       ],
       "shape": {
        "columns": 2,
        "rows": 5
       }
      },
      "text/html": [
       "<div>\n",
       "<style scoped>\n",
       "    .dataframe tbody tr th:only-of-type {\n",
       "        vertical-align: middle;\n",
       "    }\n",
       "\n",
       "    .dataframe tbody tr th {\n",
       "        vertical-align: top;\n",
       "    }\n",
       "\n",
       "    .dataframe thead th {\n",
       "        text-align: right;\n",
       "    }\n",
       "</style>\n",
       "<table border=\"1\" class=\"dataframe\">\n",
       "  <thead>\n",
       "    <tr style=\"text-align: right;\">\n",
       "      <th></th>\n",
       "      <th>job_title_short</th>\n",
       "      <th>job_skills</th>\n",
       "    </tr>\n",
       "  </thead>\n",
       "  <tbody>\n",
       "    <tr>\n",
       "      <th>0</th>\n",
       "      <td>Senior Data Engineer</td>\n",
       "      <td>None</td>\n",
       "    </tr>\n",
       "    <tr>\n",
       "      <th>1</th>\n",
       "      <td>Data Analyst</td>\n",
       "      <td>[r, python, sql, nosql, power bi, tableau]</td>\n",
       "    </tr>\n",
       "    <tr>\n",
       "      <th>2</th>\n",
       "      <td>Data Engineer</td>\n",
       "      <td>[python, sql, c#, azure, airflow, dax, docker,...</td>\n",
       "    </tr>\n",
       "    <tr>\n",
       "      <th>3</th>\n",
       "      <td>Data Engineer</td>\n",
       "      <td>[python, c++, java, matlab, aws, tensorflow, k...</td>\n",
       "    </tr>\n",
       "    <tr>\n",
       "      <th>4</th>\n",
       "      <td>Data Engineer</td>\n",
       "      <td>[bash, python, oracle, aws, ansible, puppet, j...</td>\n",
       "    </tr>\n",
       "  </tbody>\n",
       "</table>\n",
       "</div>"
      ],
      "text/plain": [
       "        job_title_short                                         job_skills\n",
       "0  Senior Data Engineer                                               None\n",
       "1          Data Analyst         [r, python, sql, nosql, power bi, tableau]\n",
       "2         Data Engineer  [python, sql, c#, azure, airflow, dax, docker,...\n",
       "3         Data Engineer  [python, c++, java, matlab, aws, tensorflow, k...\n",
       "4         Data Engineer  [bash, python, oracle, aws, ansible, puppet, j..."
      ]
     },
     "execution_count": 8,
     "metadata": {},
     "output_type": "execute_result"
    }
   ],
   "source": [
    "# Convert string representation to actual list, checking for NaN values first\n",
    "df['job_skills'] = df['job_skills'].apply(\n",
    "    lambda x: ast.literal_eval(x) if pd.notna(x) else x)\n",
    "\n",
    "df[['job_title_short', 'job_skills']].head(5)"
   ]
  },
  {
   "cell_type": "markdown",
   "id": "b9ccbcd9",
   "metadata": {},
   "source": [
    "Now we're going to apply the `explode()` function onto each skill and make each skill have its own row.\n"
   ]
  },
  {
   "cell_type": "code",
   "execution_count": null,
   "id": "7417425c",
   "metadata": {},
   "outputs": [],
   "source": [
    "# Explode 'job_skills' so each skill gets its own row\n",
    "df_exploded = df.explode('job_skills', ignore_index=True)"
   ]
  },
  {
   "cell_type": "markdown",
   "id": "f2a424ba",
   "metadata": {},
   "source": [
    "Let's look at our new column.\n"
   ]
  },
  {
   "cell_type": "code",
   "execution_count": null,
   "id": "fbead2e8",
   "metadata": {},
   "outputs": [
    {
     "data": {
      "application/vnd.microsoft.datawrangler.viewer.v0+json": {
       "columns": [
        {
         "name": "index",
         "rawType": "int64",
         "type": "integer"
        },
        {
         "name": "job_skills",
         "rawType": "object",
         "type": "unknown"
        }
       ],
       "ref": "f8230364-9edd-4b61-8612-1b3f362cf519",
       "rows": [
        [
         "0",
         null
        ],
        [
         "1",
         "r"
        ],
        [
         "2",
         "python"
        ],
        [
         "3",
         "sql"
        ],
        [
         "4",
         "nosql"
        ],
        [
         "5",
         "power bi"
        ],
        [
         "6",
         "tableau"
        ],
        [
         "7",
         "python"
        ],
        [
         "8",
         "sql"
        ],
        [
         "9",
         "c#"
        ],
        [
         "10",
         "azure"
        ],
        [
         "11",
         "airflow"
        ],
        [
         "12",
         "dax"
        ],
        [
         "13",
         "docker"
        ],
        [
         "14",
         "kubernetes"
        ],
        [
         "15",
         "jenkins"
        ],
        [
         "16",
         "python"
        ],
        [
         "17",
         "c++"
        ],
        [
         "18",
         "java"
        ],
        [
         "19",
         "matlab"
        ],
        [
         "20",
         "aws"
        ],
        [
         "21",
         "tensorflow"
        ],
        [
         "22",
         "keras"
        ],
        [
         "23",
         "pytorch"
        ],
        [
         "24",
         "bash"
        ],
        [
         "25",
         "python"
        ],
        [
         "26",
         "oracle"
        ],
        [
         "27",
         "aws"
        ],
        [
         "28",
         "ansible"
        ],
        [
         "29",
         "puppet"
        ],
        [
         "30",
         "jenkins"
        ],
        [
         "31",
         "gitlab"
        ],
        [
         "32",
         "git"
        ],
        [
         "33",
         "python"
        ],
        [
         "34",
         "sql"
        ],
        [
         "35",
         "gcp"
        ],
        [
         "36",
         "sql"
        ],
        [
         "37",
         "python"
        ],
        [
         "38",
         "java"
        ],
        [
         "39",
         "sql server"
        ],
        [
         "40",
         "gcp"
        ],
        [
         "41",
         "bigquery"
        ],
        [
         "42",
         "hadoop"
        ],
        [
         "43",
         "sql"
        ],
        [
         "44",
         "nosql"
        ],
        [
         "45",
         "gcp"
        ],
        [
         "46",
         "azure"
        ],
        [
         "47",
         "aws"
        ],
        [
         "48",
         "bigquery"
        ],
        [
         "49",
         "databricks"
        ]
       ],
       "shape": {
        "columns": 1,
        "rows": 3777320
       }
      },
      "text/plain": [
       "0                None\n",
       "1                   r\n",
       "2              python\n",
       "3                 sql\n",
       "4               nosql\n",
       "              ...    \n",
       "3777315         kafka\n",
       "3777316    kubernetes\n",
       "3777317        docker\n",
       "3777318           aws\n",
       "3777319          flow\n",
       "Name: job_skills, Length: 3777320, dtype: object"
      ]
     },
     "execution_count": 10,
     "metadata": {},
     "output_type": "execute_result"
    }
   ],
   "source": [
    "df_exploded['job_skills']"
   ]
  },
  {
   "cell_type": "markdown",
   "id": "e6eab9df",
   "metadata": {},
   "source": [
    "And now let's visualize it by getting the `value_counts()` of each skill.\n"
   ]
  },
  {
   "cell_type": "code",
   "execution_count": null,
   "id": "53782014",
   "metadata": {},
   "outputs": [
    {
     "data": {
      "image/png": "[encoded data removed]",
      "text/plain": [
       "<Figure size 640x480 with 1 Axes>"
      ]
     },
     "metadata": {},
     "output_type": "display_data"
    }
   ],
   "source": [
    "df_exploded['job_skills'].value_counts('job_skills').head(10).plot(kind='bar')\n",
    "\n",
    "plt.show()"
   ]
  },
  {
   "cell_type": "markdown",
   "id": "6f092ab7",
   "metadata": {},
   "source": [
    "Calculate skill count\n"
   ]
  },
  {
   "cell_type": "markdown",
   "id": "93db4035",
   "metadata": {},
   "source": [
    "1. Then clean up the skills. We already dod this in our last\n"
   ]
  },
  {
   "cell_type": "code",
   "execution_count": null,
   "id": "9c22087a",
   "metadata": {},
   "outputs": [],
   "source": [
    "\n",
    "# Explode the job_skills column\n",
    "df_skills = df_skills.explode('job_skills')"
   ]
  },
  {
   "cell_type": "markdown",
   "id": "8384b5c3",
   "metadata": {},
   "source": [
    "2. Now we'll calculate the skill count for each data job.\n"
   ]
  },
  {
   "cell_type": "code",
   "execution_count": null,
   "id": "9baabda3",
   "metadata": {},
   "outputs": [
    {
     "name": "stdout",
     "output_type": "stream",
     "text": [
      "Type of skills_counts: <class 'pandas.core.series.Series'>\n"
     ]
    },
    {
     "data": {
      "application/vnd.microsoft.datawrangler.viewer.v0+json": {
       "columns": [
        {
         "name": "('job_skills', 'job_title_short')",
         "rawType": "object",
         "type": "unknown"
        },
        {
         "name": "0",
         "rawType": "int64",
         "type": "integer"
        }
       ],
       "ref": "b310c918-1319-4a3b-8ad0-2a2b6d9a6a2b",
       "rows": [
        [
         "('airflow', 'Data Engineer')",
         "1"
        ],
        [
         "('aws', 'Data Engineer')",
         "1"
        ],
        [
         "('excel', 'Data Analyst')",
         "1"
        ],
        [
         "('python', 'Data Analyst')",
         "1"
        ],
        [
         "('python', 'Data Engineer')",
         "1"
        ],
        [
         "('python', 'Data Scientist')",
         "1"
        ],
        [
         "('r', 'Data Scientist')",
         "1"
        ],
        [
         "('sql', 'Data Analyst')",
         "1"
        ]
       ],
       "shape": {
        "columns": 1,
        "rows": 8
       }
      },
      "text/plain": [
       "job_skills  job_title_short\n",
       "airflow     Data Engineer      1\n",
       "aws         Data Engineer      1\n",
       "excel       Data Analyst       1\n",
       "python      Data Analyst       1\n",
       "            Data Engineer      1\n",
       "            Data Scientist     1\n",
       "r           Data Scientist     1\n",
       "sql         Data Analyst       1\n",
       "dtype: int64"
      ]
     },
     "execution_count": 13,
     "metadata": {},
     "output_type": "execute_result"
    }
   ],
   "source": [
    "# Group by job_skills and job_title_short and count the number of occurrences\n",
    "skills_counts = df_skills.groupby(\n",
    "    ['job_skills', 'job_title_short']).size()  # .unstack(fill_value=0)\n",
    "\n",
    "print('Type of skills_counts:', type(skills_counts))\n",
    "skills_counts.head(10)"
   ]
  },
  {
   "cell_type": "markdown",
   "id": "2cf96c5f",
   "metadata": {},
   "source": [
    "3. We'll `reset_index` to transform skills_count from a Series to a DataFrame.\n"
   ]
  },
  {
   "cell_type": "markdown",
   "id": "5bf53450",
   "metadata": {},
   "source": [
    "Name the count column as count\n",
    "df_skills_count = skills_counts.reset_index(name='skill_count') # we need to rename the main Series value to count\n",
    "\n",
    "df_skills_count\n"
   ]
  },
  {
   "cell_type": "markdown",
   "id": "071a7236",
   "metadata": {},
   "source": [
    "4. We'll prep for plotting by the data getting in descending order.\n"
   ]
  },
  {
   "cell_type": "code",
   "execution_count": null,
   "id": "dda4ca93",
   "metadata": {},
   "outputs": [
    {
     "data": {
      "application/vnd.microsoft.datawrangler.viewer.v0+json": {
       "columns": [
        {
         "name": "index",
         "rawType": "int64",
         "type": "integer"
        },
        {
         "name": "job_skills",
         "rawType": "object",
         "type": "string"
        },
        {
         "name": "job_title_short",
         "rawType": "object",
         "type": "string"
        },
        {
         "name": "skill_count",
         "rawType": "int64",
         "type": "integer"
        }
       ],
       "ref": "aa6f9123-91a9-4744-91be-14a3ad165d4c",
       "rows": [
        [
         "0",
         "airflow",
         "Data Engineer",
         "1"
        ],
        [
         "1",
         "aws",
         "Data Engineer",
         "1"
        ],
        [
         "2",
         "excel",
         "Data Analyst",
         "1"
        ],
        [
         "3",
         "python",
         "Data Analyst",
         "1"
        ],
        [
         "4",
         "python",
         "Data Engineer",
         "1"
        ],
        [
         "5",
         "python",
         "Data Scientist",
         "1"
        ],
        [
         "6",
         "r",
         "Data Scientist",
         "1"
        ],
        [
         "7",
         "sql",
         "Data Analyst",
         "1"
        ]
       ],
       "shape": {
        "columns": 3,
        "rows": 8
       }
      },
      "text/html": [
       "<div>\n",
       "<style scoped>\n",
       "    .dataframe tbody tr th:only-of-type {\n",
       "        vertical-align: middle;\n",
       "    }\n",
       "\n",
       "    .dataframe tbody tr th {\n",
       "        vertical-align: top;\n",
       "    }\n",
       "\n",
       "    .dataframe thead th {\n",
       "        text-align: right;\n",
       "    }\n",
       "</style>\n",
       "<table border=\"1\" class=\"dataframe\">\n",
       "  <thead>\n",
       "    <tr style=\"text-align: right;\">\n",
       "      <th></th>\n",
       "      <th>job_skills</th>\n",
       "      <th>job_title_short</th>\n",
       "      <th>skill_count</th>\n",
       "    </tr>\n",
       "  </thead>\n",
       "  <tbody>\n",
       "    <tr>\n",
       "      <th>0</th>\n",
       "      <td>airflow</td>\n",
       "      <td>Data Engineer</td>\n",
       "      <td>1</td>\n",
       "    </tr>\n",
       "    <tr>\n",
       "      <th>1</th>\n",
       "      <td>aws</td>\n",
       "      <td>Data Engineer</td>\n",
       "      <td>1</td>\n",
       "    </tr>\n",
       "    <tr>\n",
       "      <th>2</th>\n",
       "      <td>excel</td>\n",
       "      <td>Data Analyst</td>\n",
       "      <td>1</td>\n",
       "    </tr>\n",
       "    <tr>\n",
       "      <th>3</th>\n",
       "      <td>python</td>\n",
       "      <td>Data Analyst</td>\n",
       "      <td>1</td>\n",
       "    </tr>\n",
       "    <tr>\n",
       "      <th>4</th>\n",
       "      <td>python</td>\n",
       "      <td>Data Engineer</td>\n",
       "      <td>1</td>\n",
       "    </tr>\n",
       "    <tr>\n",
       "      <th>5</th>\n",
       "      <td>python</td>\n",
       "      <td>Data Scientist</td>\n",
       "      <td>1</td>\n",
       "    </tr>\n",
       "    <tr>\n",
       "      <th>6</th>\n",
       "      <td>r</td>\n",
       "      <td>Data Scientist</td>\n",
       "      <td>1</td>\n",
       "    </tr>\n",
       "    <tr>\n",
       "      <th>7</th>\n",
       "      <td>sql</td>\n",
       "      <td>Data Analyst</td>\n",
       "      <td>1</td>\n",
       "    </tr>\n",
       "  </tbody>\n",
       "</table>\n",
       "</div>"
      ],
      "text/plain": [
       "  job_skills job_title_short  skill_count\n",
       "0    airflow   Data Engineer            1\n",
       "1        aws   Data Engineer            1\n",
       "2      excel    Data Analyst            1\n",
       "3     python    Data Analyst            1\n",
       "4     python   Data Engineer            1\n",
       "5     python  Data Scientist            1\n",
       "6          r  Data Scientist            1\n",
       "7        sql    Data Analyst            1"
      ]
     },
     "execution_count": 19,
     "metadata": {},
     "output_type": "execute_result"
    }
   ],
   "source": [
    "df_skills_count.sort_values(by='skill_count', inplace=True, ascending=False)\n",
    "\n",
    "df_skills_count.head(10)"
   ]
  },
  {
   "cell_type": "markdown",
   "id": "2a7ffffd",
   "metadata": {},
   "source": [
    "5. Finally, we'll graph the top 10 skills using a bar chart.\n"
   ]
  },
  {
   "cell_type": "code",
   "execution_count": null,
   "id": "5aca9b6c",
   "metadata": {},
   "outputs": [
    {
     "data": {
      "application/vnd.microsoft.datawrangler.viewer.v0+json": {
       "columns": [
        {
         "name": "index",
         "rawType": "int64",
         "type": "integer"
        },
        {
         "name": "job_skills",
         "rawType": "object",
         "type": "string"
        },
        {
         "name": "job_title_short",
         "rawType": "object",
         "type": "string"
        },
        {
         "name": "skill_count",
         "rawType": "int64",
         "type": "integer"
        }
       ],
       "ref": "b160975a-065a-4735-9f4d-9569f8e985a4",
       "rows": [
        [
         "5",
         "python",
         "Data Scientist",
         "1"
        ],
        [
         "6",
         "r",
         "Data Scientist",
         "1"
        ]
       ],
       "shape": {
        "columns": 3,
        "rows": 2
       }
      },
      "text/html": [
       "<div>\n",
       "<style scoped>\n",
       "    .dataframe tbody tr th:only-of-type {\n",
       "        vertical-align: middle;\n",
       "    }\n",
       "\n",
       "    .dataframe tbody tr th {\n",
       "        vertical-align: top;\n",
       "    }\n",
       "\n",
       "    .dataframe thead th {\n",
       "        text-align: right;\n",
       "    }\n",
       "</style>\n",
       "<table border=\"1\" class=\"dataframe\">\n",
       "  <thead>\n",
       "    <tr style=\"text-align: right;\">\n",
       "      <th></th>\n",
       "      <th>job_skills</th>\n",
       "      <th>job_title_short</th>\n",
       "      <th>skill_count</th>\n",
       "    </tr>\n",
       "  </thead>\n",
       "  <tbody>\n",
       "    <tr>\n",
       "      <th>5</th>\n",
       "      <td>python</td>\n",
       "      <td>Data Scientist</td>\n",
       "      <td>1</td>\n",
       "    </tr>\n",
       "    <tr>\n",
       "      <th>6</th>\n",
       "      <td>r</td>\n",
       "      <td>Data Scientist</td>\n",
       "      <td>1</td>\n",
       "    </tr>\n",
       "  </tbody>\n",
       "</table>\n",
       "</div>"
      ],
      "text/plain": [
       "  job_skills job_title_short  skill_count\n",
       "5     python  Data Scientist            1\n",
       "6          r  Data Scientist            1"
      ]
     },
     "execution_count": 21,
     "metadata": {},
     "output_type": "execute_result"
    }
   ],
   "source": [
    "job_title = 'Data Scientist'\n",
    "head_value = 10\n",
    "\n",
    "df_skill_final = df_skills_count[df_skills_count['job_title_short'] == job_title].head(\n",
    "    head_value)\n",
    "\n",
    "df_skill_final"
   ]
  },
  {
   "cell_type": "code",
   "execution_count": null,
   "id": "85c4b761",
   "metadata": {},
   "outputs": [
    {
     "data": {
      "image/png": "[encoded data removed]",
      "text/plain": [
       "<Figure size 640x480 with 1 Axes>"
      ]
     },
     "metadata": {},
     "output_type": "display_data"
    }
   ],
   "source": [
    "df_skill_final.plot(x='job_skills', y='skill_count', kind='barh', legend=False)\n",
    "\n",
    "plt.xlabel('Number of Job Postings')\n",
    "plt.ylabel('Skills')\n",
    "plt.title(f'Top {head_value} Skills for {job_title}')\n",
    "plt.gca().invert_yaxis()  # Invert y-axis to have the highest count on top\n",
    "plt.legend().set_visible(False)\n",
    "plt.show()"
   ]
  }
 ],
 "metadata": {
  "kernelspec": {
   "display_name": "Python 3",
   "language": "python",
   "name": "python3"
  },
  "language_info": {
   "codemirror_mode": {
    "name": "ipython",
    "version": 3
   },
   "file_extension": ".py",
   "mimetype": "text/x-python",
   "name": "python",
   "nbconvert_exporter": "python",
   "pygments_lexer": "ipython3",
   "version": "3.13.7"
  }
 },
 "nbformat": 4,
 "nbformat_minor": 5
}
