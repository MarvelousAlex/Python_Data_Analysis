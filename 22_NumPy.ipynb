{
  "nbformat": 4,
  "nbformat_minor": 0,
  "metadata": {
    "colab": {
      "provenance": [],
      "authorship_tag": "ABX9TyOEiLObruFPtZPN3G6Z5NdV",
      "include_colab_link": true
    },
    "kernelspec": {
      "name": "python3",
      "display_name": "Python 3"
    },
    "language_info": {
      "name": "python"
    }
  },
  "cells": [
    {
      "cell_type": "markdown",
      "metadata": {
        "id": "view-in-github",
        "colab_type": "text"
      },
      "source": [
        "<a href=\"https://colab.research.google.com/github/MarvelousAlex/Python_Data_Analysis/blob/main/22_NumPy.ipynb\" target=\"_parent\"><img src=\"https://colab.research.google.com/assets/colab-badge.svg\" alt=\"Open In Colab\"/></a>"
      ]
    },
    {
      "cell_type": "markdown",
      "source": [
        "# NumPy"
      ],
      "metadata": {
        "id": "q6O3UWUx2hBe"
      }
    },
    {
      "cell_type": "markdown",
      "source": [
        "## Notes\n",
        "\n",
        "* NumPy, which stands for Numerical Python, is foundational for numerical computing in Python.\n",
        "* Designed for scientific computation and is used extensively for data analysis because of its ability to handle large, multi-dimensional arrays and matrices efficiently.\n",
        "* Serves as the basis for many other Python data science libraries, including Pandas, due to its speed and efficiency in numerical computations.\n",
        "* A few special use cases for NumPy specifically for data analysis:\n",
        "    * Array operations\n",
        "    * Linear algebra\n",
        "    * Statistical functions\n",
        "    * Random number generation\n",
        "\n",
        "## Importance\n",
        "\n",
        "* Important for data analysis.\n",
        "* Way to store data in a structured format, making it easier to organize, access, and manipulate data.\n",
        "* Pandas library is built on top of NumPy.\n",
        "\n",
        "For more information on NumPy check out the official documentation [here](https://numpy.org/doc/1.26/)."
      ],
      "metadata": {
        "id": "r1ihJwNu2jyx"
      }
    },
    {
      "cell_type": "markdown",
      "source": [
        "## Array Operations\n",
        "\n",
        "### Notes\n",
        "* Creation: **`import numpy as np; np.array([1, 2, 3])`**\n",
        "* Basic Operations:  `+`, `-`, `/`, `*` performed element-wise\n",
        "* Slicing: **`array[1:3]`**\n",
        "* Boolean Indexing: **`array[array > 0]`**\n",
        "\n",
        "### Examples\n",
        "\n",
        "Let's start with creating a fictional array with the number of years of experience required for five different data science job listings."
      ],
      "metadata": {
        "id": "IDFZ5JX93Sxw"
      }
    },
    {
      "cell_type": "markdown",
      "source": [
        "### Create an Array"
      ],
      "metadata": {
        "id": "hE7mK7SR3XYh"
      }
    },
    {
      "cell_type": "code",
      "execution_count": 1,
      "metadata": {
        "id": "EOC3ohFu1Gp4"
      },
      "outputs": [],
      "source": [
        "import numpy as np"
      ]
    },
    {
      "cell_type": "code",
      "source": [
        "# Example: An array representing the number of years of experience required for three different data science job listings.\n",
        "years_of_experience = np.array([1, 2, 3, 4, 5])\n",
        "\n",
        "years_of_experience"
      ],
      "metadata": {
        "colab": {
          "base_uri": "https://localhost:8080/"
        },
        "id": "AX7Eyw873Obp",
        "outputId": "3bd2ed99-605d-4670-9944-f1a226a4bc42"
      },
      "execution_count": 2,
      "outputs": [
        {
          "output_type": "execute_result",
          "data": {
            "text/plain": [
              "array([1, 2, 3, 4, 5])"
            ]
          },
          "metadata": {},
          "execution_count": 2
        }
      ]
    },
    {
      "cell_type": "markdown",
      "source": [
        "### Basic Operations\n",
        "\n",
        "Applying mathematics operations to the entire array."
      ],
      "metadata": {
        "id": "Kx75uwGq3qNG"
      }
    },
    {
      "cell_type": "markdown",
      "source": [
        "#### Addition\n",
        "Adding 1 year to the experience requirements for each job listing."
      ],
      "metadata": {
        "id": "x3FhUVFj3r5Y"
      }
    },
    {
      "cell_type": "code",
      "source": [
        "years_of_experience_plus_one = years_of_experience + 1\n",
        "years_of_experience_plus_one"
      ],
      "metadata": {
        "colab": {
          "base_uri": "https://localhost:8080/"
        },
        "id": "3eDpKssB3hl6",
        "outputId": "919f681b-353a-4121-83b5-3150e6a2f4a7"
      },
      "execution_count": 3,
      "outputs": [
        {
          "output_type": "execute_result",
          "data": {
            "text/plain": [
              "array([2, 3, 4, 5, 6])"
            ]
          },
          "metadata": {},
          "execution_count": 3
        }
      ]
    },
    {
      "cell_type": "markdown",
      "source": [
        "#### Subtraction\n",
        "\n",
        "Subtracting 1 year from the experience requirements for each job listing.\\"
      ],
      "metadata": {
        "id": "uBbqjU0v31TB"
      }
    },
    {
      "cell_type": "code",
      "source": [
        "years_of_experience_minus_one = years_of_experience - 1\n",
        "years_of_experience_minus_one"
      ],
      "metadata": {
        "colab": {
          "base_uri": "https://localhost:8080/"
        },
        "id": "CKLdDEN13xpy",
        "outputId": "c7b2c63c-8254-4040-d04c-edb6f70c4d67"
      },
      "execution_count": 4,
      "outputs": [
        {
          "output_type": "execute_result",
          "data": {
            "text/plain": [
              "array([0, 1, 2, 3, 4])"
            ]
          },
          "metadata": {},
          "execution_count": 4
        }
      ]
    },
    {
      "cell_type": "markdown",
      "source": [
        "#### Division\n",
        "\n",
        "Dividing the experience requirements by 2 (maybe for a junior role)."
      ],
      "metadata": {
        "id": "KK-B9HeJ4It-"
      }
    },
    {
      "cell_type": "code",
      "source": [
        "years_of_experience_half = years_of_experience / 2\n",
        "years_of_experience_half"
      ],
      "metadata": {
        "colab": {
          "base_uri": "https://localhost:8080/"
        },
        "id": "nVwZzL-J35EQ",
        "outputId": "04074d48-a47f-4a37-ea88-33e1af8fb8d7"
      },
      "execution_count": 5,
      "outputs": [
        {
          "output_type": "execute_result",
          "data": {
            "text/plain": [
              "array([0.5, 1. , 1.5, 2. , 2.5])"
            ]
          },
          "metadata": {},
          "execution_count": 5
        }
      ]
    },
    {
      "cell_type": "markdown",
      "source": [
        "#### Multiplication\n",
        "\n",
        "Doubling the experience requirements for each job listing."
      ],
      "metadata": {
        "id": "a3M5jSQC4K79"
      }
    },
    {
      "cell_type": "code",
      "source": [
        "years_of_experience_double = years_of_experience * 2\n",
        "years_of_experience_double"
      ],
      "metadata": {
        "colab": {
          "base_uri": "https://localhost:8080/"
        },
        "id": "wyms7R6R4OGw",
        "outputId": "a64e90ca-19fd-4cb5-be96-04cdee4c5020"
      },
      "execution_count": 6,
      "outputs": [
        {
          "output_type": "execute_result",
          "data": {
            "text/plain": [
              "array([ 2,  4,  6,  8, 10])"
            ]
          },
          "metadata": {},
          "execution_count": 6
        }
      ]
    },
    {
      "cell_type": "markdown",
      "source": [
        "### Slicing\n",
        "\n",
        "Get subset of information from the array. Let's get the experience requirements for the second and third job postings."
      ],
      "metadata": {
        "id": "p08w9_3D4NnH"
      }
    },
    {
      "cell_type": "code",
      "source": [
        "# Example: Selecting the experience requirement for the second and third job listings.\n",
        "\n",
        "second_and_third_jobs_experience = years_of_experience[1:3]\n",
        "second_and_third_jobs_experience"
      ],
      "metadata": {
        "colab": {
          "base_uri": "https://localhost:8080/"
        },
        "id": "hOokdvEL4hgP",
        "outputId": "c86fa2d4-bc13-4bfa-f17a-84c33871ea4e"
      },
      "execution_count": 7,
      "outputs": [
        {
          "output_type": "execute_result",
          "data": {
            "text/plain": [
              "array([2, 3])"
            ]
          },
          "metadata": {},
          "execution_count": 7
        }
      ]
    },
    {
      "cell_type": "markdown",
      "source": [
        "### Boolean Indexing\n",
        "\n",
        "Get items from the array that meet a specific condition. For this get only the job postings that require more than 2 years of experience."
      ],
      "metadata": {
        "id": "eelBwp8i4pss"
      }
    },
    {
      "cell_type": "code",
      "source": [
        "# Example: Selecting only those job listings that require more than 1 year of experience.\n",
        "jobs_with_more_than_one_year_exp = years_of_experience[years_of_experience > 2]\n",
        "\n",
        "jobs_with_more_than_one_year_exp"
      ],
      "metadata": {
        "colab": {
          "base_uri": "https://localhost:8080/"
        },
        "id": "jRc6NOU24ndI",
        "outputId": "374f8259-6605-4671-a91c-04a75b52a9e3"
      },
      "execution_count": 8,
      "outputs": [
        {
          "output_type": "execute_result",
          "data": {
            "text/plain": [
              "array([3, 4, 5])"
            ]
          },
          "metadata": {},
          "execution_count": 8
        }
      ]
    },
    {
      "cell_type": "markdown",
      "source": [
        "## Math Operations\n",
        "\n",
        "### Notes\n",
        "\n",
        "* Aggregate functions:\n",
        "    * `sum`: sum\n",
        "    * `prod`: product\n",
        "    * `cumsum`: cumulative sum\n",
        "    * `cumprod`: cumulative product\n",
        "* Mathematical operations (we won't be going into this during the course):\n",
        "    * `sqrt`\n",
        "    * `exp`\n",
        "    * `log`\n",
        "    * `sin`\n",
        "    * `cos`\n",
        "\n",
        "### Examples\n",
        "\n",
        "First lets create a list with 10 yearly salaries for a Senior Data Analyst job. We're just using a combination of the `random` library to get random integers between 100000 and 150000. Then using a `for` loop to get 10 (random) values."
      ],
      "metadata": {
        "id": "TPfaYQPr6U4g"
      }
    },
    {
      "cell_type": "code",
      "source": [
        "import random\n",
        "\n",
        "salary = []\n",
        "\n",
        "for num in range(10):\n",
        "    salary.append(random.randint(100_000, 150_000))\n",
        "\n",
        "# salary = [random.randint(100_000, 150_000) for num in range(10)]"
      ],
      "metadata": {
        "id": "rlqHE-S25uM3"
      },
      "execution_count": 9,
      "outputs": []
    },
    {
      "cell_type": "code",
      "source": [
        "salary"
      ],
      "metadata": {
        "colab": {
          "base_uri": "https://localhost:8080/"
        },
        "id": "d8YUc78V6X2n",
        "outputId": "d82b1ba6-aa8e-4d04-9586-ffb3cc3b573e"
      },
      "execution_count": 10,
      "outputs": [
        {
          "output_type": "execute_result",
          "data": {
            "text/plain": [
              "[110234,\n",
              " 137242,\n",
              " 140117,\n",
              " 140221,\n",
              " 125027,\n",
              " 147132,\n",
              " 149743,\n",
              " 121067,\n",
              " 119560,\n",
              " 129440]"
            ]
          },
          "metadata": {},
          "execution_count": 10
        }
      ]
    },
    {
      "cell_type": "markdown",
      "source": [
        "Now we'll convert this list into a NumPy array."
      ],
      "metadata": {
        "id": "EEXU93NzK82v"
      }
    },
    {
      "cell_type": "code",
      "source": [
        "salary_array = np.array(salary)\n",
        "salary_array"
      ],
      "metadata": {
        "colab": {
          "base_uri": "https://localhost:8080/"
        },
        "id": "DH5opOxCK96n",
        "outputId": "586adef2-0aa7-4a5f-8ef9-8a9225648c27"
      },
      "execution_count": 11,
      "outputs": [
        {
          "output_type": "execute_result",
          "data": {
            "text/plain": [
              "array([110234, 137242, 140117, 140221, 125027, 147132, 149743, 121067,\n",
              "       119560, 129440])"
            ]
          },
          "metadata": {},
          "execution_count": 11
        }
      ]
    },
    {
      "cell_type": "markdown",
      "source": [
        "### Sum\n",
        "\n",
        "Calculate the total sum of the elements in the `salary_array`."
      ],
      "metadata": {
        "id": "zhrmJRtMLIdB"
      }
    },
    {
      "cell_type": "code",
      "source": [
        "total_sum_salaries = np.sum(salary_array)\n",
        "total_sum_salaries"
      ],
      "metadata": {
        "colab": {
          "base_uri": "https://localhost:8080/"
        },
        "id": "6F3wBOZZLC5a",
        "outputId": "ca49bae0-a391-47a7-fbe3-dfc03643b44f"
      },
      "execution_count": 12,
      "outputs": [
        {
          "output_type": "execute_result",
          "data": {
            "text/plain": [
              "np.int64(1319783)"
            ]
          },
          "metadata": {},
          "execution_count": 12
        }
      ]
    },
    {
      "cell_type": "markdown",
      "source": [
        "### Prod\n",
        "\n",
        "Calculate the product of the elements in the `salary_array`."
      ],
      "metadata": {
        "id": "KsNBfFAoLWV3"
      }
    },
    {
      "cell_type": "code",
      "source": [
        "# This is a conceptual example since taking the product of a boolean series isn't common\n",
        "product_salaries = np.prod(salary_array)\n",
        "product_salaries"
      ],
      "metadata": {
        "colab": {
          "base_uri": "https://localhost:8080/"
        },
        "id": "aSxMdbMWLNwd",
        "outputId": "6b6dda2a-1420-45a0-f14c-1205a8961d5a"
      },
      "execution_count": 13,
      "outputs": [
        {
          "output_type": "execute_result",
          "data": {
            "text/plain": [
              "np.int64(-3884795844044042240)"
            ]
          },
          "metadata": {},
          "execution_count": 13
        }
      ]
    },
    {
      "cell_type": "markdown",
      "source": [
        "### Cumsum (Cumulative Sum)\n",
        "\n",
        "Calculates the cumulative sum of elements of the `salary_array`. It calculates the cumulative sum at each index, meaning each element in the output array is the sum of all preceding elements including the current one from the original array.\n",
        "\n",
        "For the `salary_array`:\n",
        "\n",
        "* First element of cumsum is 110003 (just the first element)\n",
        "* Second element is 110003 + 133394 = 243397\n",
        "* Third element is 243397 + 148741 = 392138\n",
        "* And so on..."
      ],
      "metadata": {
        "id": "c5LE5NZPMDyZ"
      }
    },
    {
      "cell_type": "code",
      "source": [
        "cumulative_sum_salaries = np.cumsum(salary_array)\n",
        "cumulative_sum_salaries"
      ],
      "metadata": {
        "colab": {
          "base_uri": "https://localhost:8080/"
        },
        "id": "IXJETczwLeuu",
        "outputId": "588412d4-f2eb-48fc-e502-0af896d82679"
      },
      "execution_count": 14,
      "outputs": [
        {
          "output_type": "execute_result",
          "data": {
            "text/plain": [
              "array([ 110234,  247476,  387593,  527814,  652841,  799973,  949716,\n",
              "       1070783, 1190343, 1319783])"
            ]
          },
          "metadata": {},
          "execution_count": 14
        }
      ]
    },
    {
      "cell_type": "markdown",
      "source": [
        "### Cumprod (Cumulative Product)\n",
        "\n",
        "Calculates the cumulative product of elements of the `salary_array`. It calculates the cumulative product at each index, meaning each element in the output array is the product of all preceding elements including the current one from the original array.\n",
        "\n",
        "For the `salary_array`:\n",
        "\n",
        "* First element of cumprod is 110003\n",
        "* Second element is 110003 * 133394\n",
        "* Third element is (110003 * 133394) * 148741\n",
        "* And so on..."
      ],
      "metadata": {
        "id": "ysituLgYMX62"
      }
    },
    {
      "cell_type": "code",
      "source": [
        "# Cumulative product of 'job_no_degree_mention' column (conceptual example)\n",
        "cumulative_prod_salaries = np.cumprod(salary_array)\n",
        "cumulative_prod_salaries"
      ],
      "metadata": {
        "colab": {
          "base_uri": "https://localhost:8080/"
        },
        "id": "EPUolGBtMUGh",
        "outputId": "feb12cd5-a253-45ee-dacf-390d19318c04"
      },
      "execution_count": 15,
      "outputs": [
        {
          "output_type": "execute_result",
          "data": {
            "text/plain": [
              "array([              110234,          15128734628,     2119792909871476,\n",
              "        2091576435735410340,  2483041784544870764, -2862536161744506032,\n",
              "        2239572681284151216,  8101409645345615504,  2899375180653405312,\n",
              "       -3884795844044042240])"
            ]
          },
          "metadata": {},
          "execution_count": 15
        }
      ]
    },
    {
      "cell_type": "markdown",
      "source": [
        "**Note**: Due to the large numbers, the cumulative product values quickly escalate to the point where they exceed the numerical limit for typical data types in Python, leading to integer overflow. This is why some numbers appear as negative."
      ],
      "metadata": {
        "id": "DiYA9RHrNC1l"
      }
    },
    {
      "cell_type": "markdown",
      "source": [
        "## Statistics Operations\n",
        "\n",
        "### Notes\n",
        "\n",
        "A lot of these you can also use Pandas because Pandas is built on top of NumPy. So here's a few examples but we won't be diving deep into them.\n",
        "\n",
        "* `mean`\n",
        "* `median`\n",
        "* `var`: variance\n",
        "* `std`: standard deviation\n",
        "* `min`\n",
        "* `max`"
      ],
      "metadata": {
        "id": "Zj6e5F9QNE05"
      }
    },
    {
      "cell_type": "markdown",
      "source": [
        "### Mean\n",
        "\n",
        "Calculate the average salary in the `salary_array`."
      ],
      "metadata": {
        "id": "i9pk-pG_NNYx"
      }
    },
    {
      "cell_type": "code",
      "source": [
        "average_salary = np.mean(salary_array)\n",
        "average_salary"
      ],
      "metadata": {
        "colab": {
          "base_uri": "https://localhost:8080/"
        },
        "id": "1HIGTWRBM_XR",
        "outputId": "6076dc12-17cb-49f2-90a9-d66e32709d5c"
      },
      "execution_count": 16,
      "outputs": [
        {
          "output_type": "execute_result",
          "data": {
            "text/plain": [
              "np.float64(131978.3)"
            ]
          },
          "metadata": {},
          "execution_count": 16
        }
      ]
    },
    {
      "cell_type": "markdown",
      "source": [
        "### Median\n",
        "\n",
        "Find the median salary in the `salary_array`."
      ],
      "metadata": {
        "id": "W8N12OwMNZ1d"
      }
    },
    {
      "cell_type": "code",
      "source": [
        "median_salary = np.median(salary_array)\n",
        "median_salary"
      ],
      "metadata": {
        "colab": {
          "base_uri": "https://localhost:8080/"
        },
        "id": "_5auskKINTnw",
        "outputId": "dfb457e3-960b-42b2-f1e2-eec898b05a58"
      },
      "execution_count": 17,
      "outputs": [
        {
          "output_type": "execute_result",
          "data": {
            "text/plain": [
              "np.float64(133341.0)"
            ]
          },
          "metadata": {},
          "execution_count": 17
        }
      ]
    },
    {
      "cell_type": "markdown",
      "source": [
        "### Variance\n",
        "\n",
        "Calculate the variance of the `salary_array`.\n",
        "\n",
        "Delta Degrees of Freedom (ddof), variance measures how spread out a set of data points is.\n",
        "\n",
        "**The ddof parameter allows you to specify how many degrees of freedom to subtract.**\n",
        "\n",
        "By default:\n",
        "\n",
        "*   ddof=0 computes the population variance (dividing by $n$).\n",
        "*   ddof=1 computes the sample variance (dividing by $n-1$), which corrects for bias in the estimation."
      ],
      "metadata": {
        "id": "L1QhbLtTNg8G"
      }
    },
    {
      "cell_type": "code",
      "source": [
        "salary_variance = np.var(salary_array, ddof = 1) # Delta Degrees of Freedom\n",
        "salary_array"
      ],
      "metadata": {
        "colab": {
          "base_uri": "https://localhost:8080/"
        },
        "id": "rFnhw8XXNeqk",
        "outputId": "b3a6a7e4-181c-4ce0-dc4c-031899479455"
      },
      "execution_count": 18,
      "outputs": [
        {
          "output_type": "execute_result",
          "data": {
            "text/plain": [
              "array([110234, 137242, 140117, 140221, 125027, 147132, 149743, 121067,\n",
              "       119560, 129440])"
            ]
          },
          "metadata": {},
          "execution_count": 18
        }
      ]
    },
    {
      "cell_type": "markdown",
      "source": [
        "### Std\n",
        "\n",
        "Calculate the standard deviation of the `salary_array`."
      ],
      "metadata": {
        "id": "CC9i-QwduBSp"
      }
    },
    {
      "cell_type": "code",
      "source": [
        "# Standard deviation of 'salary_year_avg' column\n",
        "salary_std_dev = np.std(salary_array, ddof = 1)\n",
        "salary_std_dev"
      ],
      "metadata": {
        "colab": {
          "base_uri": "https://localhost:8080/"
        },
        "id": "DpImLVbbNqtI",
        "outputId": "3e4fb851-2ab6-44c2-9eb4-0b97bc1f82a4"
      },
      "execution_count": 19,
      "outputs": [
        {
          "output_type": "execute_result",
          "data": {
            "text/plain": [
              "np.float64(12944.132227469796)"
            ]
          },
          "metadata": {},
          "execution_count": 19
        }
      ]
    },
    {
      "cell_type": "markdown",
      "source": [
        "### Min\n",
        "\n",
        "Find the minimum element in the `salary_array`."
      ],
      "metadata": {
        "id": "yKfKf2cguTAk"
      }
    },
    {
      "cell_type": "code",
      "source": [
        "# Minimum of 'salary_year_avg' column\n",
        "min_salary = np.min(salary_array)\n",
        "min_salary"
      ],
      "metadata": {
        "colab": {
          "base_uri": "https://localhost:8080/"
        },
        "id": "t03kDK5PuTy3",
        "outputId": "dd77e8d7-f4d5-4aad-8511-cae3a042ba5d"
      },
      "execution_count": 20,
      "outputs": [
        {
          "output_type": "execute_result",
          "data": {
            "text/plain": [
              "np.int64(110234)"
            ]
          },
          "metadata": {},
          "execution_count": 20
        }
      ]
    },
    {
      "cell_type": "code",
      "source": [
        "# Maximum of 'salary_year_avg' column\n",
        "max_salary = np.max(salary_array)\n",
        "max_salary"
      ],
      "metadata": {
        "colab": {
          "base_uri": "https://localhost:8080/"
        },
        "id": "G5BDQVcQu-0p",
        "outputId": "1dafa465-bef9-438b-efd9-d80bf4ab4e09"
      },
      "execution_count": 21,
      "outputs": [
        {
          "output_type": "execute_result",
          "data": {
            "text/plain": [
              "np.int64(149743)"
            ]
          },
          "metadata": {},
          "execution_count": 21
        }
      ]
    },
    {
      "cell_type": "markdown",
      "source": [
        "## NaN\n",
        "\n",
        "\n",
        "### Notes\n",
        "\n",
        "* Generate NaN values using `np.nan`\n",
        "* `np.nan` value is used in NumPy (and by extension, Pandas) to represent missing or undefined data\n",
        "* Helpful because it:\n",
        "    * Handles missing data.\n",
        "    * Helps with computations since it won't return errors but instead return `np.nan`.\n",
        "    * Help filter out or fill in missing data using other methods that we'll use often in the `pandas` library like `dropna()`, `fillna()`, `isna()`, or `notna()`.\n",
        "\n",
        "### Examples\n",
        "\n",
        "Below are a few examples of what you can do."
      ],
      "metadata": {
        "id": "Ul4Auuy9vLQp"
      }
    },
    {
      "cell_type": "markdown",
      "source": [
        "#### Insert Missing Values\n",
        "\n",
        "If you want to insert missing values into your array intentionally, perhaps to indicate that data is expected but not yet available. You use `np.nan`."
      ],
      "metadata": {
        "id": "kouTC_CUvsMq"
      }
    },
    {
      "cell_type": "code",
      "source": [
        "salary_with_nan = np.array([123124, np.nan, 145000, 128000, 110000, 149999, np.nan, 135000, 115000, 140000], dtype=float)\n",
        "salary_with_nan"
      ],
      "metadata": {
        "colab": {
          "base_uri": "https://localhost:8080/"
        },
        "id": "14SQcvzxvEip",
        "outputId": "9d2399c4-d11a-4793-b0eb-d520722ce5cd"
      },
      "execution_count": 22,
      "outputs": [
        {
          "output_type": "execute_result",
          "data": {
            "text/plain": [
              "array([123124.,     nan, 145000., 128000., 110000., 149999.,     nan,\n",
              "       135000., 115000., 140000.])"
            ]
          },
          "metadata": {},
          "execution_count": 22
        }
      ]
    },
    {
      "cell_type": "markdown",
      "source": [
        "## Where\n",
        "\n",
        "### Notes\n",
        "\n",
        "* `np.where` check elements of an array against a condition and to assign a value for True and another for false.\n",
        "* Syntax: `np.where(condition)`.\n",
        "* It's commonly used to conditionally replace array elements.\n",
        "\n",
        "### Example\n",
        "\n",
        "We're going to replace all values in `salary_array` that are less than 120,000 with 120,000 (to apply a minimum salary threshold). We'll use this syntax for it: `np.where(condition, x, y)`. With a `condition` and if it's true we do `x` and if not then do `y`."
      ],
      "metadata": {
        "id": "2N3idxbiwAhO"
      }
    },
    {
      "cell_type": "code",
      "source": [
        "# Replace values using np.where\n",
        "salary_array = np.where(salary_array < 120_000, 120_000, salary_array)\n",
        "salary_array"
      ],
      "metadata": {
        "colab": {
          "base_uri": "https://localhost:8080/"
        },
        "id": "wkj3yvjzv4T9",
        "outputId": "817a3951-d0f7-4591-c0a9-b0b1072be985"
      },
      "execution_count": 23,
      "outputs": [
        {
          "output_type": "execute_result",
          "data": {
            "text/plain": [
              "array([120000, 137242, 140117, 140221, 125027, 147132, 149743, 121067,\n",
              "       120000, 129440])"
            ]
          },
          "metadata": {},
          "execution_count": 23
        }
      ]
    },
    {
      "cell_type": "markdown",
      "source": [
        "## Random Sampling\n",
        "\n",
        "### Notes\n",
        "* Generate a random numbers or samples.\n",
        "* `np.random.normal` - draws random samples from a normal (Gaussian) distribution.\n",
        "    * Specify the Arguments:\n",
        "        * `loc`: This is the mean (`μ`) of the normal distribution.\n",
        "        * `scale`: This is the standard deviation (`σ`) of the normal distribution, representing the dispersion from the mean.\n",
        "        * `size`: This defines the number of random samples to draw, which is set to match the number of job postings.\n",
        "    * Syntax: `np.random.normal(loc=0.0, scale=1.0, size=None)`\n",
        "* A few other random sampling functions:\n",
        "    * `np.random.rand`\n",
        "    * `np.random.randn`\n",
        "    * `np.random.randint`\n",
        "    * `np.random.random`\n",
        "    * `np.random.uniform`\n",
        "    * `np.random.binomial`\n",
        "    * `np.random.poisson`\n",
        "\n",
        "### Example\n",
        "\n",
        "Let's add some random noise to the `salary_array` to simulate salary variations. We can generate random values from a normal distribution with a mean of 0 and a standard deviation of 5000, then add these values to the salaries.\n",
        "\n",
        "**Why?** This can be used to simulate salary data for job postings if actual salary data isn't available, for instance, in modeling or simulation scenarios."
      ],
      "metadata": {
        "id": "eAj8ULTOwjVH"
      }
    },
    {
      "cell_type": "code",
      "source": [
        "# Generate numbers based on normal distribution\n",
        "noise = np.random.normal(0, 5000, salary_array.size)\n",
        "# Add these numbers to the salary_array\n",
        "salary_array_with_noise = salary_array + noise\n",
        "salary_array_with_noise"
      ],
      "metadata": {
        "id": "HDZ5mmhBwTRf",
        "colab": {
          "base_uri": "https://localhost:8080/"
        },
        "outputId": "7f4c7300-04b8-41d7-ba3d-a5c066a27343"
      },
      "execution_count": 24,
      "outputs": [
        {
          "output_type": "execute_result",
          "data": {
            "text/plain": [
              "array([113236.80960696, 136878.17509723, 152270.11315992, 143480.45370827,\n",
              "       122403.3430161 , 144076.36256451, 146477.84138043, 128380.92778249,\n",
              "       126951.39077031, 136852.58246677])"
            ]
          },
          "metadata": {},
          "execution_count": 24
        }
      ]
    }
  ]
}