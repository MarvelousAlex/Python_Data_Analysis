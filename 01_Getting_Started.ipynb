{
  "nbformat": 4,
  "nbformat_minor": 0,
  "metadata": {
    "colab": {
      "provenance": [],
      "authorship_tag": "ABX9TyML5ohaDhTjIvjCZMbAdqqC",
      "include_colab_link": true
    },
    "kernelspec": {
      "name": "python3",
      "display_name": "Python 3"
    },
    "language_info": {
      "name": "python"
    }
  },
  "cells": [
    {
      "cell_type": "markdown",
      "metadata": {
        "id": "view-in-github",
        "colab_type": "text"
      },
      "source": [
        "<a href=\"https://colab.research.google.com/github/MarvelousAlex/Python_Data_Analysis/blob/main/01_Getting_Started.ipynb\" target=\"_parent\"><img src=\"https://colab.research.google.com/assets/colab-badge.svg\" alt=\"Open In Colab\"/></a>"
      ]
    },
    {
      "cell_type": "markdown",
      "source": [
        "This is a markdown cell of python notebook :))"
      ],
      "metadata": {
        "id": "u-fmhoJFLobW"
      }
    },
    {
      "cell_type": "code",
      "execution_count": 1,
      "metadata": {
        "colab": {
          "base_uri": "https://localhost:8080/",
          "height": 35
        },
        "id": "tocPl0JaIijk",
        "outputId": "9325af59-7307-4218-b49c-dee20538c9e8"
      },
      "outputs": [
        {
          "output_type": "execute_result",
          "data": {
            "text/plain": [
              "'This is a python cell'"
            ],
            "application/vnd.google.colaboratory.intrinsic+json": {
              "type": "string"
            }
          },
          "metadata": {},
          "execution_count": 1
        }
      ],
      "source": [
        "\"This is a python cell\""
      ]
    },
    {
      "cell_type": "markdown",
      "source": [
        "## Python basis"
      ],
      "metadata": {
        "id": "akvdiJ2NL6z7"
      }
    },
    {
      "cell_type": "code",
      "source": [
        "2+2"
      ],
      "metadata": {
        "colab": {
          "base_uri": "https://localhost:8080/"
        },
        "id": "ZKzH1q6_LxkA",
        "outputId": "83a71e9d-31d5-4f4b-dabc-f19b91a93e2e"
      },
      "execution_count": 2,
      "outputs": [
        {
          "output_type": "execute_result",
          "data": {
            "text/plain": [
              "4"
            ]
          },
          "metadata": {},
          "execution_count": 2
        }
      ]
    },
    {
      "cell_type": "markdown",
      "source": [
        "If you have multiple lines only the last line will show. (use print func for better output)"
      ],
      "metadata": {
        "id": "OBgsSIJRMq1y"
      }
    },
    {
      "cell_type": "code",
      "source": [
        "2+2\n",
        "3*3"
      ],
      "metadata": {
        "colab": {
          "base_uri": "https://localhost:8080/"
        },
        "id": "20j5oll0MdmJ",
        "outputId": "b43b0a30-9b22-44b5-84f8-186f4156f99d"
      },
      "execution_count": 8,
      "outputs": [
        {
          "output_type": "execute_result",
          "data": {
            "text/plain": [
              "9"
            ]
          },
          "metadata": {},
          "execution_count": 8
        }
      ]
    },
    {
      "cell_type": "code",
      "source": [
        "print(\"Hello Wende!!\")\n",
        "print(2+2)\n",
        "print(3*3)"
      ],
      "metadata": {
        "colab": {
          "base_uri": "https://localhost:8080/"
        },
        "id": "QauyghFnMhk6",
        "outputId": "f4e57368-89af-4fb2-f951-48584481a820"
      },
      "execution_count": 12,
      "outputs": [
        {
          "output_type": "stream",
          "name": "stdout",
          "text": [
            "Hello Wende!!\n",
            "4\n",
            "9\n"
          ]
        }
      ]
    },
    {
      "cell_type": "code",
      "source": [
        "print(\"Hello Wende!!\")\n",
        "print(2+2)\n",
        "3*3"
      ],
      "metadata": {
        "colab": {
          "base_uri": "https://localhost:8080/"
        },
        "id": "bOM_8Q9nNGZH",
        "outputId": "7bea21aa-16f7-4c3b-a28d-d5096ee834f3"
      },
      "execution_count": 13,
      "outputs": [
        {
          "output_type": "stream",
          "name": "stdout",
          "text": [
            "Hello Wende!!\n",
            "4\n"
          ]
        },
        {
          "output_type": "execute_result",
          "data": {
            "text/plain": [
              "9"
            ]
          },
          "metadata": {},
          "execution_count": 13
        }
      ]
    },
    {
      "cell_type": "markdown",
      "source": [
        "Making comment(s)"
      ],
      "metadata": {
        "id": "dgfVLby-OM_F"
      }
    },
    {
      "cell_type": "code",
      "source": [
        "# This is a comment"
      ],
      "metadata": {
        "id": "vp7eahAKNnD6"
      },
      "execution_count": 14,
      "outputs": []
    },
    {
      "cell_type": "markdown",
      "source": [
        "Markdown basis"
      ],
      "metadata": {
        "id": "6tUYVlHJOXcN"
      }
    },
    {
      "cell_type": "markdown",
      "source": [
        "| Element        | Markdown Syntax                        |\n",
        "|----------------|----------------------------------------|\n",
        "| Heading        | `# H1`<br>`## H2`<br>`### H3`          |\n",
        "| Bold           | `**bold text**`                        |\n",
        "| Italic         | `*italicized text*`                    |\n",
        "| Blockquote     | `> blockquote`                         |\n",
        "| Ordered List   | `1. First item`<br>`2. Second item`<br>`3. Third item` |\n",
        "| Unordered List | `- First item`<br>`- Second item`<br>`- Third item`   |\n",
        "| Code           | `` `code` ``                           |\n",
        "| Horizontal Rule| `---`                                  |\n",
        "| Link           | `[title](https://www.example.com)`     |\n",
        "| Image          | `![alt text](image.jpg)`               |\n",
        "\n",
        "[Here is a more info on Markdown](https://www.markdownguide.org/basic-syntax/)"
      ],
      "metadata": {
        "id": "s5RZOp1ROpay"
      }
    },
    {
      "cell_type": "markdown",
      "source": [
        "## Advanced Jupyter Notebook Usage\n",
        "\n",
        "Don't worry if you don't understand this right now as we'll cover more later.\n",
        "\n",
        "Just be aware that starting a line with any of the following symbols has magic properties.\n",
        "\n",
        "| Symbol | Name           | Example            | Usage Explanation                                                                 |\n",
        "|--------|----------------|--------------------|-----------------------------------------------------------------------------------|\n",
        "| `!`    | Shell Command  | `!ls`              | Executes shell commands directly from the notebook cell, such as listing files.   |\n",
        "| `%`    | Line Magic     | `%cd sample_data`     | Executes a line magic command, affecting only the line it is on, like changing directories. |\n",
        "| `%%`   | Cell Magic     | `%%writefile test.txt` | Applies the magic command to the entire cell, such as writing the cell's content to a file. |\n"
      ],
      "metadata": {
        "id": "rZ6IJ_OQO4p3"
      }
    },
    {
      "cell_type": "code",
      "source": [
        "!ls"
      ],
      "metadata": {
        "colab": {
          "base_uri": "https://localhost:8080/"
        },
        "id": "6H6CHHcBOTG5",
        "outputId": "910d707e-a512-4e2a-bf71-389ad2049087"
      },
      "execution_count": 15,
      "outputs": [
        {
          "output_type": "stream",
          "name": "stdout",
          "text": [
            "sample_data\n"
          ]
        }
      ]
    },
    {
      "cell_type": "code",
      "source": [
        "%cd sample_data"
      ],
      "metadata": {
        "colab": {
          "base_uri": "https://localhost:8080/"
        },
        "id": "ccC2bceUO8j9",
        "outputId": "c8195c90-8725-4cf1-af87-604a287c5e0d"
      },
      "execution_count": 16,
      "outputs": [
        {
          "output_type": "stream",
          "name": "stdout",
          "text": [
            "/content/sample_data\n"
          ]
        }
      ]
    },
    {
      "cell_type": "code",
      "source": [
        "%%writefile test.txt"
      ],
      "metadata": {
        "colab": {
          "base_uri": "https://localhost:8080/"
        },
        "id": "pu0LRRz0PAuz",
        "outputId": "940fbb3c-0e5c-43b4-d3e6-66572bbad838"
      },
      "execution_count": 17,
      "outputs": [
        {
          "output_type": "stream",
          "name": "stdout",
          "text": [
            "Writing test.txt\n"
          ]
        }
      ]
    }
  ]
}