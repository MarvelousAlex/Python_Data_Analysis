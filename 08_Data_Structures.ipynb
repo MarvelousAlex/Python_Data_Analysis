{
  "nbformat": 4,
  "nbformat_minor": 0,
  "metadata": {
    "colab": {
      "provenance": [],
      "authorship_tag": "ABX9TyN0C8BHKV8l2uKBYMXpG2R0",
      "include_colab_link": true
    },
    "kernelspec": {
      "name": "python3",
      "display_name": "Python 3"
    },
    "language_info": {
      "name": "python"
    }
  },
  "cells": [
    {
      "cell_type": "markdown",
      "metadata": {
        "id": "view-in-github",
        "colab_type": "text"
      },
      "source": [
        "<a href=\"https://colab.research.google.com/github/MarvelousAlex/Python_Data_Analysis/blob/main/08_Data_Structures.ipynb\" target=\"_parent\"><img src=\"https://colab.research.google.com/assets/colab-badge.svg\" alt=\"Open In Colab\"/></a>"
      ]
    },
    {
      "cell_type": "markdown",
      "source": [
        "# Lists"
      ],
      "metadata": {
        "id": "AZZu3Jx3EX_c"
      }
    },
    {
      "cell_type": "markdown",
      "source": [
        "Here's a quick comparison between these 4 container data types:\n",
        "\n",
        "| Feature          | List                                  | Dictionary                           | Set                                | Tuple                             |\n",
        "|------------------|---------------------------------------|--------------------------------------|------------------------------------|-----------------------------------|\n",
        "| Syntax           | `[item1, item2, ...]`                 | `{'key1': value1, 'key2': value2}`   | `{item1, item2, ...}`              | `(item1, item2, ...)` or `item,`  |\n",
        "| Type of Data     | Sequence                              | Mapping                              | Set                                | Sequence                          |\n",
        "| Order            | Ordered                               | Unordered                            | Unordered                          | Ordered                           |\n",
        "| Indexing         | Yes (by index)                        | Yes (by key)                         | No                                 | Yes (by index)                    |\n",
        "| Duplicate Values | Allowed                               | Values can be duplicated, keys cannot| Not allowed                        | Allowed                           |\n",
        "| Mutability       | Mutable                               | Mutable                              | Mutable                            | Immutable                         |\n",
        "| Usage            | For a collection of ordered items     | For key-value pairs                  | For unique items                   | For fixed data                    |"
      ],
      "metadata": {
        "id": "H8baSdqREaKW"
      }
    },
    {
      "cell_type": "markdown",
      "source": [
        "## Notes\n",
        "\n",
        "- Used to store multiple ordered items in a single variable.\n",
        "- Created using `[` and `]`.\n",
        "- We won't be going into everything that we can do in a list.\n",
        "- Common data types in lists: Integer, Float, String, Boolean, List, Dictionary, Tuple, Set, Object.\n",
        "- You can include lists within lists.\n",
        "- Easy to store information.  \n",
        "\n",
        "## Importance\n",
        "\n",
        "Versatile for storing sequences of data. Pandas can convert lists into Series or DataFrame objects for analysis.\n",
        "\n",
        "## Examples\n",
        "\n",
        "Create a list of job skills that are common to data science roles."
      ],
      "metadata": {
        "id": "A2FYyZxwE48H"
      }
    },
    {
      "cell_type": "code",
      "execution_count": null,
      "metadata": {
        "colab": {
          "base_uri": "https://localhost:8080/"
        },
        "id": "zotJNx-1CbzG",
        "outputId": "c15d8ab8-f85e-40c5-ea36-b9139e4f5c16"
      },
      "outputs": [
        {
          "output_type": "execute_result",
          "data": {
            "text/plain": [
              "['sql', 'tableau', 'excel']"
            ]
          },
          "metadata": {},
          "execution_count": 12
        }
      ],
      "source": [
        "# Define a list of data science jobs\n",
        "job_skills = ['sql', 'tableau', 'excel']\n",
        "job_skills"
      ]
    },
    {
      "cell_type": "markdown",
      "source": [
        "### Indexing\n",
        "\n",
        "What if we want to get a specific item in a list? We'd use list indexing.\n",
        "\n",
        "Lists are indexed, which means each item has a numerical position, so you can access it by referring to the index number.\n",
        "\n",
        "**Note: The first item has index 0.**\n",
        "\n",
        "[Visual Example](https://drive.google.com/file/d/1VGn2YJVhhcnJFPz98QUcFgU8OeZA1zKK/view?usp=drive_link)\n",
        "\n",
        "For this example if want to get 'tableau' in this list we would use the index `1`."
      ],
      "metadata": {
        "id": "PDAkpWnmGfoU"
      }
    },
    {
      "cell_type": "code",
      "source": [
        "# Get a specific item in the list\n",
        "job_skills[1]"
      ],
      "metadata": {
        "colab": {
          "base_uri": "https://localhost:8080/",
          "height": 35
        },
        "id": "a8-NBk0CGVde",
        "outputId": "fa48b0e2-3bf0-4400-98a3-d0d7e99f30f6"
      },
      "execution_count": null,
      "outputs": [
        {
          "output_type": "execute_result",
          "data": {
            "text/plain": [
              "'tableau'"
            ],
            "application/vnd.google.colaboratory.intrinsic+json": {
              "type": "string"
            }
          },
          "metadata": {},
          "execution_count": 13
        }
      ]
    },
    {
      "cell_type": "markdown",
      "source": [
        "### Change Value\n",
        "\n",
        "To change the value of a specific item, refer to its index number. Below we will change the 'tableau' skill (at index `1`) to 'bigquery'."
      ],
      "metadata": {
        "id": "F6OicgbcGvxa"
      }
    },
    {
      "cell_type": "code",
      "source": [
        "# Change the value of an item\n",
        "job_skills[1] = 'bigquery'\n",
        "\n",
        "job_skills"
      ],
      "metadata": {
        "colab": {
          "base_uri": "https://localhost:8080/"
        },
        "id": "Ts9LlRvYGu4H",
        "outputId": "782219be-de25-4389-83a4-ecd6adb23896"
      },
      "execution_count": null,
      "outputs": [
        {
          "output_type": "execute_result",
          "data": {
            "text/plain": [
              "['sql', 'bigquery', 'excel']"
            ]
          },
          "metadata": {},
          "execution_count": 14
        }
      ]
    },
    {
      "cell_type": "markdown",
      "source": [
        "### Methods\n",
        "\n",
        "* **Methods** are functions that belong to an object\n",
        "    * We learned a little about functions before but a reminder: it's a block of code designed to do a specific task.\n",
        "    * In a bit we'll be creating our own functions. But now we'll just be using functions given to us.\n",
        "* But all you need to know right now is that **methods** have this notation: `object.method()`"
      ],
      "metadata": {
        "id": "GJGGoJySHRwH"
      }
    },
    {
      "cell_type": "markdown",
      "source": [
        "### Append()\n",
        "\n",
        "If you need to add an item at the end of a list you can use `append()` method. Below we'll add in 'looker' as a skill at the end of our list.\n",
        "\n",
        "We'll get into methods more later."
      ],
      "metadata": {
        "id": "oT1XdXoLHmFe"
      }
    },
    {
      "cell_type": "code",
      "source": [
        "job_skills.append('C++')\n",
        "\n",
        "job_skills"
      ],
      "metadata": {
        "colab": {
          "base_uri": "https://localhost:8080/"
        },
        "id": "5QylwQt6GrQr",
        "outputId": "eede4d66-3594-417c-ba96-953f5d82e0fe"
      },
      "execution_count": null,
      "outputs": [
        {
          "output_type": "execute_result",
          "data": {
            "text/plain": [
              "['sql', 'bigquery', 'excel', 'C++']"
            ]
          },
          "metadata": {},
          "execution_count": 15
        }
      ]
    },
    {
      "cell_type": "markdown",
      "source": [
        "### Length()\n",
        "\n",
        "If you want to see how many items are in a list use the `len()` function."
      ],
      "metadata": {
        "id": "9HRZo4euHtpq"
      }
    },
    {
      "cell_type": "code",
      "source": [
        "len(job_skills)"
      ],
      "metadata": {
        "colab": {
          "base_uri": "https://localhost:8080/"
        },
        "id": "marQOjh5Hqti",
        "outputId": "3eafe386-bdfe-4e73-c3f6-f9ab350be1ac"
      },
      "execution_count": null,
      "outputs": [
        {
          "output_type": "execute_result",
          "data": {
            "text/plain": [
              "4"
            ]
          },
          "metadata": {},
          "execution_count": 16
        }
      ]
    },
    {
      "cell_type": "markdown",
      "source": [
        "### Insert\n",
        "\n",
        "To insert a list item at a specified place (index), use `insert`. Here we are inserting the 'python' skill after 'bigquery'. So we will insert it at the index of `2`."
      ],
      "metadata": {
        "id": "h1PMpVbIH5YM"
      }
    },
    {
      "cell_type": "code",
      "source": [
        "job_skills.insert(2, 'Java')\n",
        "\n",
        "job_skills"
      ],
      "metadata": {
        "colab": {
          "base_uri": "https://localhost:8080/"
        },
        "id": "SFE0Mn3YHwig",
        "outputId": "a59dee58-37bb-45c7-d5be-d7b07b724747"
      },
      "execution_count": null,
      "outputs": [
        {
          "output_type": "execute_result",
          "data": {
            "text/plain": [
              "['sql', 'bigquery', 'Java', 'excel', 'C++']"
            ]
          },
          "metadata": {},
          "execution_count": 17
        }
      ]
    },
    {
      "cell_type": "markdown",
      "source": [
        "### Remove()\n",
        "\n",
        "To remove a specific item use the `remove()` method. Let's remove the 'looker' skill."
      ],
      "metadata": {
        "id": "ksZQWCnEIOU7"
      }
    },
    {
      "cell_type": "code",
      "source": [
        "job_skills.remove('C++')\n",
        "\n",
        "job_skills"
      ],
      "metadata": {
        "colab": {
          "base_uri": "https://localhost:8080/"
        },
        "id": "sVk_E_jfIB9z",
        "outputId": "c6ab6d67-f0b6-46f7-f574-ef3ada1526fd"
      },
      "execution_count": null,
      "outputs": [
        {
          "output_type": "execute_result",
          "data": {
            "text/plain": [
              "['sql', 'bigquery', 'Java', 'excel']"
            ]
          },
          "metadata": {},
          "execution_count": 18
        }
      ]
    },
    {
      "cell_type": "markdown",
      "source": [
        "### Join Lists\n",
        "\n",
        "There are a few ways to join (or concatenate) two or more lists.\n",
        "\n",
        "1. Concatenate using the `+` operator."
      ],
      "metadata": {
        "id": "3oL8-G3fIv9p"
      }
    },
    {
      "cell_type": "code",
      "source": [
        "# Concatenate\n",
        "\n",
        "skills1 = ['SQL', 'Tableau']\n",
        "skills2 = ['Excel']\n",
        "\n",
        "skills3 = skills1 + skills2\n",
        "skills3"
      ],
      "metadata": {
        "colab": {
          "base_uri": "https://localhost:8080/"
        },
        "id": "7ZIumHHlIS11",
        "outputId": "783410ca-3f9a-4ad5-c3ef-561dd9ec1c36"
      },
      "execution_count": null,
      "outputs": [
        {
          "output_type": "execute_result",
          "data": {
            "text/plain": [
              "['SQL', 'Tableau', 'Excel']"
            ]
          },
          "metadata": {},
          "execution_count": 19
        }
      ]
    },
    {
      "cell_type": "markdown",
      "source": [
        "2. Appending all items from the first list to the second using `.append()`. Here we're appending all items from `skills3` to `skills4` list. *Don't worry we'll be going into `for` loops later but here's a preview of it.*"
      ],
      "metadata": {
        "id": "sdIJ9zBzJKZE"
      }
    },
    {
      "cell_type": "code",
      "source": [
        "# Append\n",
        "skills4 = ['Python', 'PowerBI']\n",
        "\n",
        "x = 0\n",
        "\n",
        "# Append all items from skills3 to skills4 list\n",
        "# Method - 1\n",
        "while x < len(skills3):\n",
        "    skills4.append(skills3[x])\n",
        "    x += 1\n",
        "\n",
        "# Method - 2\n",
        "for x in skills3:\n",
        "    skills4.append(x)\n",
        "\n",
        "skills4"
      ],
      "metadata": {
        "colab": {
          "base_uri": "https://localhost:8080/"
        },
        "id": "6yGeuTXIJIJN",
        "outputId": "1ae5ea69-cef2-45d3-e2ca-bf175460dce6"
      },
      "execution_count": null,
      "outputs": [
        {
          "output_type": "execute_result",
          "data": {
            "text/plain": [
              "['Python', 'PowerBI', 'SQL', 'Tableau', 'Excel']"
            ]
          },
          "metadata": {},
          "execution_count": 25
        }
      ]
    },
    {
      "cell_type": "markdown",
      "source": [
        "3. Use `extend()` method to add elements from one list to another list. We are adding elements from the `skills4` list to the `skills5` list."
      ],
      "metadata": {
        "id": "Nlf3ZXJTKn3l"
      }
    },
    {
      "cell_type": "code",
      "source": [
        "# Extend\n",
        "skills5 = ['Statistics', 'Machine Learning', 'Data Science']\n",
        "\n",
        "skills5.extend(skills4)\n",
        "skills5"
      ],
      "metadata": {
        "colab": {
          "base_uri": "https://localhost:8080/"
        },
        "id": "ff_xM32gJaST",
        "outputId": "97a6d337-7cce-484c-d429-109d932f6608"
      },
      "execution_count": null,
      "outputs": [
        {
          "output_type": "execute_result",
          "data": {
            "text/plain": [
              "['Statistics',\n",
              " 'Machine Learning',\n",
              " 'Data Science',\n",
              " 'Python',\n",
              " 'PowerBI',\n",
              " 'SQL',\n",
              " 'Tableau',\n",
              " 'Excel']"
            ]
          },
          "metadata": {},
          "execution_count": 26
        }
      ]
    },
    {
      "cell_type": "markdown",
      "source": [
        "### Join()\n",
        "\n",
        "The `.join` method is used for concatenating a sequence of strings together with a specified separator. You need to add a specific separator (e.g. `', '`) between each element during the concatenation process. This is used to format output for readability.\n",
        "\n",
        "You can use this for lists, tuples and more. But in our case we'll mostly be using it for either lists or tuples. For lists specifically we are combining multiple strings from a list."
      ],
      "metadata": {
        "id": "qICOgePkLNml"
      }
    },
    {
      "cell_type": "code",
      "source": [
        "skills = ['Python', 'SQL', 'Excel']"
      ],
      "metadata": {
        "id": "RTvQfmHoK2_F"
      },
      "execution_count": null,
      "outputs": []
    },
    {
      "cell_type": "code",
      "source": [
        "print('I have these skills: ' + ', '.join(skills))"
      ],
      "metadata": {
        "colab": {
          "base_uri": "https://localhost:8080/"
        },
        "id": "dU-8dV7mLTTo",
        "outputId": "db8c5a96-9eb5-4397-af12-4d05584a5b86"
      },
      "execution_count": null,
      "outputs": [
        {
          "output_type": "stream",
          "name": "stdout",
          "text": [
            "I have these skills: Python, SQL, Excel\n"
          ]
        }
      ]
    },
    {
      "cell_type": "markdown",
      "source": [
        "### Slicing Lists\n",
        "\n",
        "Slicing Syntax:\n",
        "* Syntax: `list[start:end:step]`  \n",
        "    * `start`: The starting index (inclusive)\n",
        "    * `end`: The ending index (exclusive)\n",
        "    * `step`: Steps to take between items"
      ],
      "metadata": {
        "id": "OsBEa4EULzBo"
      }
    },
    {
      "cell_type": "code",
      "source": [
        "skills = ['Python', 'SQL', 'Excel']\n",
        "\n",
        "# Extract the first two items\n",
        "first_two = skills[0:2]\n",
        "first_two"
      ],
      "metadata": {
        "colab": {
          "base_uri": "https://localhost:8080/"
        },
        "id": "yAUP13FJLbuV",
        "outputId": "80b65011-b958-495a-8ff4-fa6077082ad9"
      },
      "execution_count": null,
      "outputs": [
        {
          "output_type": "execute_result",
          "data": {
            "text/plain": [
              "['Python', 'SQL']"
            ]
          },
          "metadata": {},
          "execution_count": 30
        }
      ]
    },
    {
      "cell_type": "markdown",
      "source": [
        "`start` has a default value of `0` and `stop` has a default value of the last value in the list.\n",
        "\n",
        "Therefore: you can omit either when one of these values."
      ],
      "metadata": {
        "id": "B5GFCLwMM4G8"
      }
    },
    {
      "cell_type": "code",
      "source": [
        "full_list = skills[:]\n",
        "\n",
        "full_list"
      ],
      "metadata": {
        "colab": {
          "base_uri": "https://localhost:8080/"
        },
        "id": "7mtQRVjLMxUy",
        "outputId": "b9958b52-1be7-40a4-c3d4-6631d3baaeb6"
      },
      "execution_count": null,
      "outputs": [
        {
          "output_type": "execute_result",
          "data": {
            "text/plain": [
              "['Python', 'SQL', 'Excel']"
            ]
          },
          "metadata": {},
          "execution_count": 31
        }
      ]
    },
    {
      "cell_type": "code",
      "source": [
        "also_first_two = skills[:2]\n",
        "also_first_two"
      ],
      "metadata": {
        "colab": {
          "base_uri": "https://localhost:8080/"
        },
        "id": "bJu_T5nQNaGQ",
        "outputId": "64d48cbc-ce63-42aa-d266-35d5b391653c"
      },
      "execution_count": null,
      "outputs": [
        {
          "output_type": "execute_result",
          "data": {
            "text/plain": [
              "['Python', 'SQL']"
            ]
          },
          "metadata": {},
          "execution_count": 33
        }
      ]
    },
    {
      "cell_type": "code",
      "source": [
        "last_two = skills[1:]\n",
        "last_two"
      ],
      "metadata": {
        "colab": {
          "base_uri": "https://localhost:8080/"
        },
        "id": "89XLNXqJNxzS",
        "outputId": "d5963a0b-d7f4-424a-9997-9d759fa9cfa0"
      },
      "execution_count": null,
      "outputs": [
        {
          "output_type": "execute_result",
          "data": {
            "text/plain": [
              "['SQL', 'Excel']"
            ]
          },
          "metadata": {},
          "execution_count": 35
        }
      ]
    },
    {
      "cell_type": "code",
      "source": [
        "last_one = skills[-3:]\n",
        "last_one"
      ],
      "metadata": {
        "colab": {
          "base_uri": "https://localhost:8080/"
        },
        "id": "kuDV_w7iN2r6",
        "outputId": "0d0ff4af-311c-40d9-b65a-b0b6cb810ef9"
      },
      "execution_count": null,
      "outputs": [
        {
          "output_type": "execute_result",
          "data": {
            "text/plain": [
              "['Python', 'SQL', 'Excel']"
            ]
          },
          "metadata": {},
          "execution_count": 36
        }
      ]
    },
    {
      "cell_type": "markdown",
      "source": [
        "For `step` the default value is `1`, but if we want to change it up:"
      ],
      "metadata": {
        "id": "cO5MtTDFObw9"
      }
    },
    {
      "cell_type": "code",
      "source": [
        "skills = ['Python', 'SQL', 'Excel', 'R', 'Java']\n",
        "\n",
        "# Extract every second item starting from the first\n",
        "every_second = skills[0::2]\n",
        "every_second"
      ],
      "metadata": {
        "colab": {
          "base_uri": "https://localhost:8080/"
        },
        "id": "QBZ2dXLAOMpP",
        "outputId": "6962a3c6-906f-4ccf-ac44-ebbccda2a313"
      },
      "execution_count": null,
      "outputs": [
        {
          "output_type": "execute_result",
          "data": {
            "text/plain": [
              "['Python', 'SQL', 'Excel', 'R', 'Java']"
            ]
          },
          "metadata": {},
          "execution_count": 38
        }
      ]
    },
    {
      "cell_type": "markdown",
      "source": [
        "### Unpack List\n",
        "\n",
        "To unpack a list (unpacking is when you assign each value in a list to a variable in a single statement) you can assign the list elements to variables directly."
      ],
      "metadata": {
        "id": "nNsYx-mROrkY"
      }
    },
    {
      "cell_type": "code",
      "source": [
        "# Unpacking the list\n",
        "skill1, skill2, skill3, skill4 = job_skills\n",
        "\n",
        "# Printing the unpacked variables\n",
        "print(skill1)\n",
        "print(skill2)\n",
        "print(skill3)\n",
        "print(skill4)"
      ],
      "metadata": {
        "colab": {
          "base_uri": "https://localhost:8080/"
        },
        "id": "IfWJFRT1OmMG",
        "outputId": "5f1e3837-d6d5-4184-cb29-cd0cb95c7849"
      },
      "execution_count": null,
      "outputs": [
        {
          "output_type": "stream",
          "name": "stdout",
          "text": [
            "sql\n",
            "bigquery\n",
            "Java\n",
            "excel\n"
          ]
        }
      ]
    },
    {
      "cell_type": "markdown",
      "source": [
        "### Extend Unpack List\n",
        "\n",
        "To extend unpack a list, is when you assign a subset of elements to a variable as a list."
      ],
      "metadata": {
        "id": "jdp3dQsLPn2l"
      }
    },
    {
      "cell_type": "code",
      "source": [
        "# Unpacking the sql skills together and then unpacking the rest of the skills\n",
        "*sql_skills, skill3, skill4 = job_skills\n",
        "\n",
        "print(sql_skills)  # List of the SQL skills\n",
        "print(skill3)\n",
        "print(skill4)"
      ],
      "metadata": {
        "colab": {
          "base_uri": "https://localhost:8080/"
        },
        "id": "PE5z6MQaO_Z1",
        "outputId": "dd94c9ad-b888-4cdf-8d04-a716930f8f0e"
      },
      "execution_count": null,
      "outputs": [
        {
          "output_type": "stream",
          "name": "stdout",
          "text": [
            "['sql', 'bigquery']\n",
            "Java\n",
            "excel\n"
          ]
        }
      ]
    }
  ]
}