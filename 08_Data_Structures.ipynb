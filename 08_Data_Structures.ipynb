{
  "nbformat": 4,
  "nbformat_minor": 0,
  "metadata": {
    "colab": {
      "provenance": [],
      "authorship_tag": "ABX9TyNg3vdcJQI/JeloxN7p622h",
      "include_colab_link": true
    },
    "kernelspec": {
      "name": "python3",
      "display_name": "Python 3"
    },
    "language_info": {
      "name": "python"
    }
  },
  "cells": [
    {
      "cell_type": "markdown",
      "metadata": {
        "id": "view-in-github",
        "colab_type": "text"
      },
      "source": [
        "<a href=\"https://colab.research.google.com/github/MarvelousAlex/Python_Data_Analysis/blob/main/08_Data_Structures.ipynb\" target=\"_parent\"><img src=\"https://colab.research.google.com/assets/colab-badge.svg\" alt=\"Open In Colab\"/></a>"
      ]
    },
    {
      "cell_type": "markdown",
      "source": [
        "# Data Structures"
      ],
      "metadata": {
        "id": "yxOFBoddMdq7"
      }
    },
    {
      "cell_type": "markdown",
      "source": [
        "Here's a quick comparison between these 4 container data types:\n",
        "\n",
        "| Feature          | List                                  | Dictionary                           | Set                                | Tuple                             |\n",
        "|------------------|---------------------------------------|--------------------------------------|------------------------------------|-----------------------------------|\n",
        "| Syntax           | `[item1, item2, ...]`                 | `{'key1': value1, 'key2': value2}`   | `{item1, item2, ...}`              | `(item1, item2, ...)` or `item,`  |\n",
        "| Type of Data     | Sequence                              | Mapping                              | Set                                | Sequence                          |\n",
        "| Order            | Ordered                               | Unordered                            | Unordered                          | Ordered                           |\n",
        "| Indexing         | Yes (by index)                        | Yes (by key)                         | No                                 | Yes (by index)                    |\n",
        "| Duplicate Values | Allowed                               | Values can be duplicated, keys cannot| Not allowed                        | Allowed                           |\n",
        "| Mutability       | Mutable                               | Mutable                              | Mutable                            | Immutable                         |\n",
        "| Usage            | For a collection of ordered items     | For key-value pairs                  | For unique items                   | For fixed data                    |"
      ],
      "metadata": {
        "id": "H8baSdqREaKW"
      }
    },
    {
      "cell_type": "markdown",
      "source": [
        "# Lists"
      ],
      "metadata": {
        "id": "AZZu3Jx3EX_c"
      }
    },
    {
      "cell_type": "markdown",
      "source": [
        "## Notes\n",
        "\n",
        "- Used to store multiple ordered items in a single variable.\n",
        "- Created using `[` and `]`.\n",
        "- We won't be going into everything that we can do in a list.\n",
        "- Common data types in lists: Integer, Float, String, Boolean, List, Dictionary, Tuple, Set, Object.\n",
        "- You can include lists within lists.\n",
        "- Easy to store information.  \n",
        "\n",
        "## Importance\n",
        "\n",
        "Versatile for storing sequences of data. Pandas can convert lists into Series or DataFrame objects for analysis.\n",
        "\n",
        "## Examples\n",
        "\n",
        "Create a list of job skills that are common to data science roles."
      ],
      "metadata": {
        "id": "A2FYyZxwE48H"
      }
    },
    {
      "cell_type": "code",
      "execution_count": 2,
      "metadata": {
        "colab": {
          "base_uri": "https://localhost:8080/"
        },
        "id": "zotJNx-1CbzG",
        "outputId": "a20e900d-e8c5-4b99-e31f-bb77126bb0eb"
      },
      "outputs": [
        {
          "output_type": "execute_result",
          "data": {
            "text/plain": [
              "['sql', 'tableau', 'excel']"
            ]
          },
          "metadata": {},
          "execution_count": 2
        }
      ],
      "source": [
        "# Define a list of data science jobs\n",
        "job_skills = ['sql', 'tableau', 'excel']\n",
        "job_skills"
      ]
    },
    {
      "cell_type": "markdown",
      "source": [
        "### Indexing\n",
        "\n",
        "What if we want to get a specific item in a list? We'd use list indexing.\n",
        "\n",
        "Lists are indexed, which means each item has a numerical position, so you can access it by referring to the index number.\n",
        "\n",
        "**Note: The first item has index 0.**\n",
        "\n",
        "[Visual Example](https://drive.google.com/file/d/1VGn2YJVhhcnJFPz98QUcFgU8OeZA1zKK/view?usp=drive_link)\n",
        "\n",
        "For this example if want to get 'tableau' in this list we would use the index `1`."
      ],
      "metadata": {
        "id": "PDAkpWnmGfoU"
      }
    },
    {
      "cell_type": "code",
      "source": [
        "# Get a specific item in the list\n",
        "job_skills[1]"
      ],
      "metadata": {
        "colab": {
          "base_uri": "https://localhost:8080/",
          "height": 0
        },
        "id": "a8-NBk0CGVde",
        "outputId": "fcbbde20-4caf-476f-97b8-b75f7ccc387b"
      },
      "execution_count": 3,
      "outputs": [
        {
          "output_type": "execute_result",
          "data": {
            "text/plain": [
              "'tableau'"
            ],
            "application/vnd.google.colaboratory.intrinsic+json": {
              "type": "string"
            }
          },
          "metadata": {},
          "execution_count": 3
        }
      ]
    },
    {
      "cell_type": "markdown",
      "source": [
        "### Change Value\n",
        "\n",
        "To change the value of a specific item, refer to its index number. Below we will change the 'tableau' skill (at index `1`) to 'bigquery'."
      ],
      "metadata": {
        "id": "F6OicgbcGvxa"
      }
    },
    {
      "cell_type": "code",
      "source": [
        "# Change the value of an item\n",
        "job_skills[1] = 'bigquery'\n",
        "\n",
        "job_skills"
      ],
      "metadata": {
        "colab": {
          "base_uri": "https://localhost:8080/"
        },
        "id": "Ts9LlRvYGu4H",
        "outputId": "7bc2b9f9-8d18-47f1-b0a5-351a8ba65f16"
      },
      "execution_count": 4,
      "outputs": [
        {
          "output_type": "execute_result",
          "data": {
            "text/plain": [
              "['sql', 'bigquery', 'excel']"
            ]
          },
          "metadata": {},
          "execution_count": 4
        }
      ]
    },
    {
      "cell_type": "markdown",
      "source": [
        "### Methods\n",
        "\n",
        "* **Methods** are functions that belong to an object\n",
        "    * We learned a little about functions before but a reminder: it's a block of code designed to do a specific task.\n",
        "    * In a bit we'll be creating our own functions. But now we'll just be using functions given to us.\n",
        "* But all you need to know right now is that **methods** have this notation: `object.method()`"
      ],
      "metadata": {
        "id": "GJGGoJySHRwH"
      }
    },
    {
      "cell_type": "markdown",
      "source": [
        "### Append()\n",
        "\n",
        "If you need to add an item at the end of a list you can use `append()` method. Below we'll add in 'looker' as a skill at the end of our list.\n",
        "\n",
        "We'll get into methods more later."
      ],
      "metadata": {
        "id": "oT1XdXoLHmFe"
      }
    },
    {
      "cell_type": "code",
      "source": [
        "job_skills.append('C++')\n",
        "\n",
        "job_skills"
      ],
      "metadata": {
        "colab": {
          "base_uri": "https://localhost:8080/"
        },
        "id": "5QylwQt6GrQr",
        "outputId": "43be4216-55f2-429a-bfa4-2b8517de3ce0"
      },
      "execution_count": 5,
      "outputs": [
        {
          "output_type": "execute_result",
          "data": {
            "text/plain": [
              "['sql', 'bigquery', 'excel', 'C++']"
            ]
          },
          "metadata": {},
          "execution_count": 5
        }
      ]
    },
    {
      "cell_type": "markdown",
      "source": [
        "### Length()\n",
        "\n",
        "If you want to see how many items are in a list use the `len()` function."
      ],
      "metadata": {
        "id": "9HRZo4euHtpq"
      }
    },
    {
      "cell_type": "code",
      "source": [
        "len(job_skills)"
      ],
      "metadata": {
        "colab": {
          "base_uri": "https://localhost:8080/"
        },
        "id": "marQOjh5Hqti",
        "outputId": "e48e48f6-628c-4e3d-cb1a-f92b7eac615d"
      },
      "execution_count": 6,
      "outputs": [
        {
          "output_type": "execute_result",
          "data": {
            "text/plain": [
              "4"
            ]
          },
          "metadata": {},
          "execution_count": 6
        }
      ]
    },
    {
      "cell_type": "markdown",
      "source": [
        "### Insert\n",
        "\n",
        "To insert a list item at a specified place (index), use `insert`. Here we are inserting the 'python' skill after 'bigquery'. So we will insert it at the index of `2`."
      ],
      "metadata": {
        "id": "h1PMpVbIH5YM"
      }
    },
    {
      "cell_type": "code",
      "source": [
        "job_skills.insert(2, 'Java')\n",
        "\n",
        "job_skills"
      ],
      "metadata": {
        "colab": {
          "base_uri": "https://localhost:8080/"
        },
        "id": "SFE0Mn3YHwig",
        "outputId": "a09cd900-01c1-4308-ef06-218626767b43"
      },
      "execution_count": 7,
      "outputs": [
        {
          "output_type": "execute_result",
          "data": {
            "text/plain": [
              "['sql', 'bigquery', 'Java', 'excel', 'C++']"
            ]
          },
          "metadata": {},
          "execution_count": 7
        }
      ]
    },
    {
      "cell_type": "markdown",
      "source": [
        "### Remove()\n",
        "\n",
        "To remove a specific item use the `remove()` method. Let's remove the 'looker' skill."
      ],
      "metadata": {
        "id": "ksZQWCnEIOU7"
      }
    },
    {
      "cell_type": "code",
      "source": [
        "job_skills.remove('C++')\n",
        "\n",
        "job_skills"
      ],
      "metadata": {
        "colab": {
          "base_uri": "https://localhost:8080/"
        },
        "id": "sVk_E_jfIB9z",
        "outputId": "c3233a1b-3518-4989-952a-2dced03363cf"
      },
      "execution_count": 8,
      "outputs": [
        {
          "output_type": "execute_result",
          "data": {
            "text/plain": [
              "['sql', 'bigquery', 'Java', 'excel']"
            ]
          },
          "metadata": {},
          "execution_count": 8
        }
      ]
    },
    {
      "cell_type": "markdown",
      "source": [
        "### Join Lists\n",
        "\n",
        "There are a few ways to join (or concatenate) two or more lists.\n",
        "\n",
        "1. Concatenate using the `+` operator."
      ],
      "metadata": {
        "id": "3oL8-G3fIv9p"
      }
    },
    {
      "cell_type": "code",
      "source": [
        "# Concatenate\n",
        "\n",
        "skills1 = ['SQL', 'Tableau']\n",
        "skills2 = ['Excel']\n",
        "\n",
        "skills3 = skills1 + skills2\n",
        "skills3"
      ],
      "metadata": {
        "colab": {
          "base_uri": "https://localhost:8080/"
        },
        "id": "7ZIumHHlIS11",
        "outputId": "16ec269e-c864-4863-ee5b-aeb50bfe5506"
      },
      "execution_count": 9,
      "outputs": [
        {
          "output_type": "execute_result",
          "data": {
            "text/plain": [
              "['SQL', 'Tableau', 'Excel']"
            ]
          },
          "metadata": {},
          "execution_count": 9
        }
      ]
    },
    {
      "cell_type": "markdown",
      "source": [
        "2. Appending all items from the first list to the second using `.append()`. Here we're appending all items from `skills3` to `skills4` list. *Don't worry we'll be going into `for` loops later but here's a preview of it.*"
      ],
      "metadata": {
        "id": "sdIJ9zBzJKZE"
      }
    },
    {
      "cell_type": "code",
      "source": [
        "# Append\n",
        "skills4 = ['Python', 'PowerBI']\n",
        "\n",
        "x = 0\n",
        "\n",
        "# Append all items from skills3 to skills4 list\n",
        "# Method - 1\n",
        "while x < len(skills3):\n",
        "    skills4.append(skills3[x])\n",
        "    x += 1\n",
        "\n",
        "# Method - 2\n",
        "for x in skills3:\n",
        "    skills4.append(x)\n",
        "\n",
        "skills4"
      ],
      "metadata": {
        "colab": {
          "base_uri": "https://localhost:8080/"
        },
        "id": "6yGeuTXIJIJN",
        "outputId": "1990c1c8-c2b0-4afd-acd7-613ce501fee4"
      },
      "execution_count": 10,
      "outputs": [
        {
          "output_type": "execute_result",
          "data": {
            "text/plain": [
              "['Python', 'PowerBI', 'SQL', 'Tableau', 'Excel', 'SQL', 'Tableau', 'Excel']"
            ]
          },
          "metadata": {},
          "execution_count": 10
        }
      ]
    },
    {
      "cell_type": "markdown",
      "source": [
        "3. Use `extend()` method to add elements from one list to another list. We are adding elements from the `skills4` list to the `skills5` list."
      ],
      "metadata": {
        "id": "Nlf3ZXJTKn3l"
      }
    },
    {
      "cell_type": "code",
      "source": [
        "# Extend\n",
        "skills5 = ['Statistics', 'Machine Learning', 'Data Science']\n",
        "\n",
        "skills5.extend(skills4)\n",
        "skills5"
      ],
      "metadata": {
        "colab": {
          "base_uri": "https://localhost:8080/"
        },
        "id": "ff_xM32gJaST",
        "outputId": "9c5545c7-c985-425b-94e8-dba87831cbe9"
      },
      "execution_count": 11,
      "outputs": [
        {
          "output_type": "execute_result",
          "data": {
            "text/plain": [
              "['Statistics',\n",
              " 'Machine Learning',\n",
              " 'Data Science',\n",
              " 'Python',\n",
              " 'PowerBI',\n",
              " 'SQL',\n",
              " 'Tableau',\n",
              " 'Excel',\n",
              " 'SQL',\n",
              " 'Tableau',\n",
              " 'Excel']"
            ]
          },
          "metadata": {},
          "execution_count": 11
        }
      ]
    },
    {
      "cell_type": "markdown",
      "source": [
        "### Join()\n",
        "\n",
        "The `.join` method is used for concatenating a sequence of strings together with a specified separator. You need to add a specific separator (e.g. `', '`) between each element during the concatenation process. This is used to format output for readability.\n",
        "\n",
        "You can use this for lists, tuples and more. But in our case we'll mostly be using it for either lists or tuples. For lists specifically we are combining multiple strings from a list."
      ],
      "metadata": {
        "id": "qICOgePkLNml"
      }
    },
    {
      "cell_type": "code",
      "source": [
        "skills = ['Python', 'SQL', 'Excel']"
      ],
      "metadata": {
        "id": "RTvQfmHoK2_F"
      },
      "execution_count": 12,
      "outputs": []
    },
    {
      "cell_type": "code",
      "source": [
        "print('I have these skills: ' + ', '.join(skills))"
      ],
      "metadata": {
        "colab": {
          "base_uri": "https://localhost:8080/"
        },
        "id": "dU-8dV7mLTTo",
        "outputId": "071ca454-c753-45dd-cfd2-d28ee734fe90"
      },
      "execution_count": 13,
      "outputs": [
        {
          "output_type": "stream",
          "name": "stdout",
          "text": [
            "I have these skills: Python, SQL, Excel\n"
          ]
        }
      ]
    },
    {
      "cell_type": "markdown",
      "source": [
        "### Slicing Lists\n",
        "\n",
        "Slicing Syntax:\n",
        "* Syntax: `list[start:end:step]`  \n",
        "    * `start`: The starting index (inclusive)\n",
        "    * `end`: The ending index (exclusive)\n",
        "    * `step`: Steps to take between items"
      ],
      "metadata": {
        "id": "OsBEa4EULzBo"
      }
    },
    {
      "cell_type": "code",
      "source": [
        "skills = ['Python', 'SQL', 'Excel']\n",
        "\n",
        "# Extract the first two items\n",
        "first_two = skills[0:2]\n",
        "first_two"
      ],
      "metadata": {
        "colab": {
          "base_uri": "https://localhost:8080/"
        },
        "id": "yAUP13FJLbuV",
        "outputId": "791ca233-ab46-42b5-cd3c-95599c4939f0"
      },
      "execution_count": 14,
      "outputs": [
        {
          "output_type": "execute_result",
          "data": {
            "text/plain": [
              "['Python', 'SQL']"
            ]
          },
          "metadata": {},
          "execution_count": 14
        }
      ]
    },
    {
      "cell_type": "markdown",
      "source": [
        "`start` has a default value of `0` and `stop` has a default value of the last value in the list.\n",
        "\n",
        "Therefore: you can omit either when one of these values."
      ],
      "metadata": {
        "id": "B5GFCLwMM4G8"
      }
    },
    {
      "cell_type": "code",
      "source": [
        "full_list = skills[:]\n",
        "\n",
        "full_list"
      ],
      "metadata": {
        "colab": {
          "base_uri": "https://localhost:8080/"
        },
        "id": "7mtQRVjLMxUy",
        "outputId": "27413a32-f92a-42db-8cb3-ca5627d70b79"
      },
      "execution_count": 15,
      "outputs": [
        {
          "output_type": "execute_result",
          "data": {
            "text/plain": [
              "['Python', 'SQL', 'Excel']"
            ]
          },
          "metadata": {},
          "execution_count": 15
        }
      ]
    },
    {
      "cell_type": "code",
      "source": [
        "also_first_two = skills[:2]\n",
        "also_first_two"
      ],
      "metadata": {
        "colab": {
          "base_uri": "https://localhost:8080/"
        },
        "id": "bJu_T5nQNaGQ",
        "outputId": "11c0a902-8535-4e4f-bd68-367867425cd8"
      },
      "execution_count": 16,
      "outputs": [
        {
          "output_type": "execute_result",
          "data": {
            "text/plain": [
              "['Python', 'SQL']"
            ]
          },
          "metadata": {},
          "execution_count": 16
        }
      ]
    },
    {
      "cell_type": "code",
      "source": [
        "last_two = skills[1:]\n",
        "last_two"
      ],
      "metadata": {
        "colab": {
          "base_uri": "https://localhost:8080/"
        },
        "id": "89XLNXqJNxzS",
        "outputId": "f3d656d4-e16f-492a-9718-4c83a9675d42"
      },
      "execution_count": 17,
      "outputs": [
        {
          "output_type": "execute_result",
          "data": {
            "text/plain": [
              "['SQL', 'Excel']"
            ]
          },
          "metadata": {},
          "execution_count": 17
        }
      ]
    },
    {
      "cell_type": "code",
      "source": [
        "last_one = skills[-3:]\n",
        "last_one"
      ],
      "metadata": {
        "colab": {
          "base_uri": "https://localhost:8080/"
        },
        "id": "kuDV_w7iN2r6",
        "outputId": "88c06318-40d6-4177-b5b3-744c902deb44"
      },
      "execution_count": 18,
      "outputs": [
        {
          "output_type": "execute_result",
          "data": {
            "text/plain": [
              "['Python', 'SQL', 'Excel']"
            ]
          },
          "metadata": {},
          "execution_count": 18
        }
      ]
    },
    {
      "cell_type": "markdown",
      "source": [
        "For `step` the default value is `1`, but if we want to change it up:"
      ],
      "metadata": {
        "id": "cO5MtTDFObw9"
      }
    },
    {
      "cell_type": "code",
      "source": [
        "skills = ['Python', 'SQL', 'Excel', 'R', 'Java']\n",
        "\n",
        "# Extract every second item starting from the first\n",
        "every_second = skills[0::2]\n",
        "every_second"
      ],
      "metadata": {
        "colab": {
          "base_uri": "https://localhost:8080/"
        },
        "id": "QBZ2dXLAOMpP",
        "outputId": "41d1cd68-fbd3-4a62-cab6-39f7c09c267c"
      },
      "execution_count": 19,
      "outputs": [
        {
          "output_type": "execute_result",
          "data": {
            "text/plain": [
              "['Python', 'Excel', 'Java']"
            ]
          },
          "metadata": {},
          "execution_count": 19
        }
      ]
    },
    {
      "cell_type": "markdown",
      "source": [
        "### Unpack List\n",
        "\n",
        "To unpack a list (unpacking is when you assign each value in a list to a variable in a single statement) you can assign the list elements to variables directly."
      ],
      "metadata": {
        "id": "nNsYx-mROrkY"
      }
    },
    {
      "cell_type": "code",
      "source": [
        "# Unpacking the list\n",
        "skill1, skill2, skill3, skill4 = job_skills\n",
        "\n",
        "# Printing the unpacked variables\n",
        "print(skill1)\n",
        "print(skill2)\n",
        "print(skill3)\n",
        "print(skill4)"
      ],
      "metadata": {
        "colab": {
          "base_uri": "https://localhost:8080/"
        },
        "id": "IfWJFRT1OmMG",
        "outputId": "4239ef07-42f3-41e9-f79a-f5415839dc47"
      },
      "execution_count": 20,
      "outputs": [
        {
          "output_type": "stream",
          "name": "stdout",
          "text": [
            "sql\n",
            "bigquery\n",
            "Java\n",
            "excel\n"
          ]
        }
      ]
    },
    {
      "cell_type": "markdown",
      "source": [
        "### Extend Unpack List\n",
        "\n",
        "To extend unpack a list, is when you assign a subset of elements to a variable as a list."
      ],
      "metadata": {
        "id": "jdp3dQsLPn2l"
      }
    },
    {
      "cell_type": "code",
      "source": [
        "# Unpacking the sql skills together and then unpacking the rest of the skills\n",
        "*sql_skills, skill3, skill4 = job_skills\n",
        "\n",
        "print(sql_skills)  # List of the SQL skills\n",
        "print(skill3)\n",
        "print(skill4)"
      ],
      "metadata": {
        "colab": {
          "base_uri": "https://localhost:8080/"
        },
        "id": "PE5z6MQaO_Z1",
        "outputId": "216c8e0c-4274-4428-fb88-73a34ff7f0bb"
      },
      "execution_count": 21,
      "outputs": [
        {
          "output_type": "stream",
          "name": "stdout",
          "text": [
            "['sql', 'bigquery']\n",
            "Java\n",
            "excel\n"
          ]
        }
      ]
    },
    {
      "cell_type": "markdown",
      "source": [
        "# Dictionaries"
      ],
      "metadata": {
        "id": "x_QFfz3-DScq"
      }
    },
    {
      "cell_type": "markdown",
      "source": [
        "## Notes\n",
        "\n",
        "* Used to store data values in *key:value* pairs.\n",
        "* It is:\n",
        "  * ordered (as of Python version 3.7)\n",
        "  * changeable\n",
        "  * Doesn't allow duplicates\n",
        "* Created using `{` and `}` and has keys and values.\n",
        "\n",
        "## Importance\n",
        "\n",
        "Useful for labeling data or creating pandas DataFrames (typically a .CSV file) with named columns, enhancing data readability."
      ],
      "metadata": {
        "id": "wL5AWi2NDg5I"
      }
    },
    {
      "cell_type": "markdown",
      "source": [
        "## Create a Dictionary\n",
        "\n",
        "We'll create a dictionary of the type of data science skills. For example 'postgresql' is considered a 'database' skill. We will have the type of skill as the key, and then the actual skill as the value."
      ],
      "metadata": {
        "id": "QMEsaJbkD0Oa"
      }
    },
    {
      "cell_type": "code",
      "source": [
        "# Define a dictionary of data science skills\n",
        "job_types_skills = {\n",
        "    'database':'postgresql',\n",
        "    'language': 'python',\n",
        "    'library':'pandas',\n",
        "}\n",
        "\n",
        "job_types_skills"
      ],
      "metadata": {
        "colab": {
          "base_uri": "https://localhost:8080/"
        },
        "id": "b3XFDszqDWDJ",
        "outputId": "ed076a0c-7e71-4cea-ff58-d184adcb6e4c"
      },
      "execution_count": 22,
      "outputs": [
        {
          "output_type": "execute_result",
          "data": {
            "text/plain": [
              "{'database': 'postgresql', 'language': 'python', 'library': 'pandas'}"
            ]
          },
          "metadata": {},
          "execution_count": 22
        }
      ]
    },
    {
      "cell_type": "markdown",
      "source": [
        "## Get Items\n",
        "\n",
        "To get an item in the dictionary there are two methods:"
      ],
      "metadata": {
        "id": "JxjWrP2fETaK"
      }
    },
    {
      "cell_type": "markdown",
      "source": [
        "### Keys"
      ],
      "metadata": {
        "id": "ZerT7HejEWS4"
      }
    },
    {
      "cell_type": "markdown",
      "source": [
        "#### Get Key\n",
        "\n",
        "Refer to its key name inside square brackets."
      ],
      "metadata": {
        "id": "9WW8ClrlEXrH"
      }
    },
    {
      "cell_type": "code",
      "source": [
        "# Define a dictionary of data science skills\n",
        "job_types_skills = {\n",
        "    'database':'postgresql',\n",
        "    'language': 'python',\n",
        "    'library':'pandas',\n",
        "}\n",
        "\n",
        "job_types_skills['language']"
      ],
      "metadata": {
        "colab": {
          "base_uri": "https://localhost:8080/",
          "height": 35
        },
        "id": "FDv48EgfD-sg",
        "outputId": "9d5b7df5-194e-4caa-a708-e59caaf0c460"
      },
      "execution_count": 23,
      "outputs": [
        {
          "output_type": "execute_result",
          "data": {
            "text/plain": [
              "'python'"
            ],
            "application/vnd.google.colaboratory.intrinsic+json": {
              "type": "string"
            }
          },
          "metadata": {},
          "execution_count": 23
        }
      ]
    },
    {
      "cell_type": "markdown",
      "source": [
        "#### Get()\n",
        "\n",
        "Or you can also use `get()` to retrieve the value for a given key."
      ],
      "metadata": {
        "id": "eg6E1a-xEe3q"
      }
    },
    {
      "cell_type": "code",
      "source": [
        "job_types_skills.get('language')"
      ],
      "metadata": {
        "colab": {
          "base_uri": "https://localhost:8080/",
          "height": 35
        },
        "id": "MI3hmKhNEcd-",
        "outputId": "e7d3314f-6a7b-4061-a456-f361146777d3"
      },
      "execution_count": 24,
      "outputs": [
        {
          "output_type": "execute_result",
          "data": {
            "text/plain": [
              "'python'"
            ],
            "application/vnd.google.colaboratory.intrinsic+json": {
              "type": "string"
            }
          },
          "metadata": {},
          "execution_count": 24
        }
      ]
    },
    {
      "cell_type": "markdown",
      "source": [
        "### Keys()\n",
        "\n",
        "If you want to see all the keys in the dictionary use `keys()`."
      ],
      "metadata": {
        "id": "CCjn5CXkElQo"
      }
    },
    {
      "cell_type": "code",
      "source": [
        "job_types_skills.keys()"
      ],
      "metadata": {
        "colab": {
          "base_uri": "https://localhost:8080/"
        },
        "id": "DOETzwDaEh65",
        "outputId": "384dfae4-02e1-4592-d75f-34b4eb191f1f"
      },
      "execution_count": 25,
      "outputs": [
        {
          "output_type": "execute_result",
          "data": {
            "text/plain": [
              "dict_keys(['database', 'language', 'library'])"
            ]
          },
          "metadata": {},
          "execution_count": 25
        }
      ]
    },
    {
      "cell_type": "markdown",
      "source": [
        "If the key doesn't exist, you can specify a default value to return instead."
      ],
      "metadata": {
        "id": "tuRxvXRhE5PI"
      }
    },
    {
      "cell_type": "code",
      "source": [
        "job_types_skills.get('analytics', 'not found')"
      ],
      "metadata": {
        "colab": {
          "base_uri": "https://localhost:8080/",
          "height": 35
        },
        "id": "Ekup14jxE5sV",
        "outputId": "823aff3a-3331-403d-c758-479bce03dd9f"
      },
      "execution_count": 26,
      "outputs": [
        {
          "output_type": "execute_result",
          "data": {
            "text/plain": [
              "'not found'"
            ],
            "application/vnd.google.colaboratory.intrinsic+json": {
              "type": "string"
            }
          },
          "metadata": {},
          "execution_count": 26
        }
      ]
    },
    {
      "cell_type": "markdown",
      "source": [
        "### Values()\n",
        "\n",
        "If you want to see all the values in the dictionary use `values()`."
      ],
      "metadata": {
        "id": "qZ6f-_0fFAN2"
      }
    },
    {
      "cell_type": "code",
      "source": [
        "job_types_skills.values()"
      ],
      "metadata": {
        "colab": {
          "base_uri": "https://localhost:8080/"
        },
        "id": "eYJuraASEyuY",
        "outputId": "53a01796-260d-41cb-b66a-81611e93e191"
      },
      "execution_count": 27,
      "outputs": [
        {
          "output_type": "execute_result",
          "data": {
            "text/plain": [
              "dict_values(['postgresql', 'python', 'pandas'])"
            ]
          },
          "metadata": {},
          "execution_count": 27
        }
      ]
    },
    {
      "cell_type": "markdown",
      "source": [
        "### Items()\n",
        "\n",
        "To return the dictonary's key-value pairs."
      ],
      "metadata": {
        "id": "nrJOGSm_FDUz"
      }
    },
    {
      "cell_type": "code",
      "source": [
        "job_types_skills.items()"
      ],
      "metadata": {
        "colab": {
          "base_uri": "https://localhost:8080/"
        },
        "id": "p8s9WusaE2MS",
        "outputId": "4c0bc540-91fd-4683-955f-fdef2e160f0d"
      },
      "execution_count": 28,
      "outputs": [
        {
          "output_type": "execute_result",
          "data": {
            "text/plain": [
              "dict_items([('database', 'postgresql'), ('language', 'python'), ('library', 'pandas')])"
            ]
          },
          "metadata": {},
          "execution_count": 28
        }
      ]
    },
    {
      "cell_type": "markdown",
      "source": [
        "## Pop()\n",
        "\n",
        "To remove a key from the dictionary and return its value use `.pop()`."
      ],
      "metadata": {
        "id": "tCsG9jQuFr0s"
      }
    },
    {
      "cell_type": "code",
      "source": [
        "job_types_skills.pop('database')\n",
        "job_types_skills"
      ],
      "metadata": {
        "colab": {
          "base_uri": "https://localhost:8080/"
        },
        "id": "ztP-iUvnFH5c",
        "outputId": "ee37c6f0-7a6b-4fb2-ce9a-60657448cf84"
      },
      "execution_count": 29,
      "outputs": [
        {
          "output_type": "execute_result",
          "data": {
            "text/plain": [
              "{'language': 'python', 'library': 'pandas'}"
            ]
          },
          "metadata": {},
          "execution_count": 29
        }
      ]
    },
    {
      "cell_type": "markdown",
      "source": [
        "## Add Items\n",
        "\n",
        "You can add items by either:"
      ],
      "metadata": {
        "id": "MDNw1HiEF8E1"
      }
    },
    {
      "cell_type": "markdown",
      "source": [
        "### Direct Assignment\n",
        "\n",
        "Direct assignment which assigns a value to a new or existing key directly."
      ],
      "metadata": {
        "id": "e_y6Ufd4F-qc"
      }
    },
    {
      "cell_type": "code",
      "source": [
        "# Direct assignment\n",
        "job_types_skills['framework'] = 'flask'\n",
        "\n",
        "# Return dictionary\n",
        "job_types_skills"
      ],
      "metadata": {
        "colab": {
          "base_uri": "https://localhost:8080/"
        },
        "id": "EIlJhPZQFyq0",
        "outputId": "e1d47600-8fac-421e-ef50-fd0a45e71a2d"
      },
      "execution_count": 30,
      "outputs": [
        {
          "output_type": "execute_result",
          "data": {
            "text/plain": [
              "{'language': 'python', 'library': 'pandas', 'framework': 'flask'}"
            ]
          },
          "metadata": {},
          "execution_count": 30
        }
      ]
    },
    {
      "cell_type": "markdown",
      "source": [
        "### Update()\n",
        "\n",
        "Use the `update()` method which can add multiple items at once."
      ],
      "metadata": {
        "id": "ja52fkNtGNiO"
      }
    },
    {
      "cell_type": "code",
      "source": [
        "# Update\n",
        "job_types_skills.update({\n",
        "    'Cloud':'Amazon',\n",
        "    'Version Control':'GitHub',\n",
        "})\n",
        "\n",
        "job_types_skills"
      ],
      "metadata": {
        "colab": {
          "base_uri": "https://localhost:8080/"
        },
        "id": "CUikrBfGGHqe",
        "outputId": "401914e3-51cb-4c7c-bf0f-8ee1a3aeb0e3"
      },
      "execution_count": 31,
      "outputs": [
        {
          "output_type": "execute_result",
          "data": {
            "text/plain": [
              "{'language': 'python',\n",
              " 'library': 'pandas',\n",
              " 'framework': 'flask',\n",
              " 'Cloud': 'Amazon',\n",
              " 'Version Control': 'GitHub'}"
            ]
          },
          "metadata": {},
          "execution_count": 31
        }
      ]
    },
    {
      "cell_type": "markdown",
      "source": [
        "## Any object can be stored in a dictionary\n",
        "\n",
        "You can also have lists within dictionaries. We'll update the skills with adding a list of programming languages in the `language` key using the `update` function."
      ],
      "metadata": {
        "id": "GVfZYdqTHbgi"
      }
    },
    {
      "cell_type": "code",
      "source": [
        "# Define a dictionary of data science skills\n",
        "\n",
        "job_types_skills.update({\n",
        "    \"Languages' List\":['Java', 'Go', 'PHP'],\n",
        "})\n",
        "\n",
        "job_types_skills"
      ],
      "metadata": {
        "colab": {
          "base_uri": "https://localhost:8080/"
        },
        "id": "5tL11aX4HZNW",
        "outputId": "f7a0fa6d-daf6-4938-c366-688f4c2ce63e"
      },
      "execution_count": 32,
      "outputs": [
        {
          "output_type": "execute_result",
          "data": {
            "text/plain": [
              "{'language': 'python',\n",
              " 'library': 'pandas',\n",
              " 'framework': 'flask',\n",
              " 'Cloud': 'Amazon',\n",
              " 'Version Control': 'GitHub',\n",
              " \"Languages' List\": ['Java', 'Go', 'PHP']}"
            ]
          },
          "metadata": {},
          "execution_count": 32
        }
      ]
    },
    {
      "cell_type": "markdown",
      "source": [
        "# Sets"
      ],
      "metadata": {
        "id": "0DafiSI6H5Sa"
      }
    },
    {
      "cell_type": "markdown",
      "source": [
        "## Notes\n",
        "\n",
        "* For unique items\n",
        "* Used to store multiple items in a single variable\n",
        "* It is:\n",
        "  * unorderd\n",
        "  * Unchangeable\n",
        "  * Unindexed\n",
        "* Set *items* are unchangeable but you can still remove items and add new items\n",
        "\n",
        "## Importance\n",
        "\n",
        "Employed for removing duplicates and for set operations, aiding in data cleaning and preparation.\n",
        "\n",
        "## Examples\n",
        "\n",
        "First let's create a set of data science skills."
      ],
      "metadata": {
        "id": "yu3cTd5WJj7v"
      }
    },
    {
      "cell_type": "code",
      "source": [
        "job_skills = {\n",
        "    'Tableau',\n",
        "    'sql',\n",
        "    'python',\n",
        "    'statistics',\n",
        "}\n",
        "\n",
        "job_skills"
      ],
      "metadata": {
        "colab": {
          "base_uri": "https://localhost:8080/"
        },
        "id": "i7Mh_HJMHfw8",
        "outputId": "4eaa4eaa-b2dd-43ac-a5db-da3eea729bd8"
      },
      "execution_count": 33,
      "outputs": [
        {
          "output_type": "execute_result",
          "data": {
            "text/plain": [
              "{'Tableau', 'python', 'sql', 'statistics'}"
            ]
          },
          "metadata": {},
          "execution_count": 33
        }
      ]
    },
    {
      "cell_type": "markdown",
      "source": [
        "### Unordered and No Index\n",
        "\n",
        "Sets are unorderd and have no index so don't behave completely like lists.\n",
        "\n",
        "Therefore, we can't use an index to access items."
      ],
      "metadata": {
        "id": "Q8WRsfHkJ2QP"
      }
    },
    {
      "cell_type": "code",
      "source": [
        "job_skills[1]"
      ],
      "metadata": {
        "colab": {
          "base_uri": "https://localhost:8080/",
          "height": 141
        },
        "id": "zjslMZhGJg0o",
        "outputId": "36260acf-4f6f-4058-a233-4300a148f37d"
      },
      "execution_count": 35,
      "outputs": [
        {
          "output_type": "error",
          "ename": "TypeError",
          "evalue": "'set' object is not subscriptable",
          "traceback": [
            "\u001b[0;31m---------------------------------------------------------------------------\u001b[0m",
            "\u001b[0;31mTypeError\u001b[0m                                 Traceback (most recent call last)",
            "\u001b[0;32m/tmp/ipython-input-1926741740.py\u001b[0m in \u001b[0;36m<cell line: 0>\u001b[0;34m()\u001b[0m\n\u001b[0;32m----> 1\u001b[0;31m \u001b[0mjob_skills\u001b[0m\u001b[0;34m[\u001b[0m\u001b[0;36m1\u001b[0m\u001b[0;34m]\u001b[0m\u001b[0;34m\u001b[0m\u001b[0;34m\u001b[0m\u001b[0m\n\u001b[0m",
            "\u001b[0;31mTypeError\u001b[0m: 'set' object is not subscriptable"
          ]
        }
      ]
    },
    {
      "cell_type": "markdown",
      "source": [
        "### Add()\n",
        "\n",
        "Add an item using `add()`. Now we're going to add a skill to the list, 'looker'.  "
      ],
      "metadata": {
        "id": "Mk846K-TJ5vI"
      }
    },
    {
      "cell_type": "code",
      "source": [
        "job_skills.add('Java')\n",
        "\n",
        "job_skills"
      ],
      "metadata": {
        "colab": {
          "base_uri": "https://localhost:8080/"
        },
        "id": "9nQXKR8EJ3yt",
        "outputId": "55a71093-8599-4bbb-d8f1-35eaaf1e3857"
      },
      "execution_count": 36,
      "outputs": [
        {
          "output_type": "execute_result",
          "data": {
            "text/plain": [
              "{'Java', 'Tableau', 'python', 'sql', 'statistics'}"
            ]
          },
          "metadata": {},
          "execution_count": 36
        }
      ]
    },
    {
      "cell_type": "markdown",
      "source": [
        "What if we add a skill that's already in the list like `sql`? It won't duplicate so the skill won't be added. The set is the exact same as before."
      ],
      "metadata": {
        "id": "DH4fhU6EKBcc"
      }
    },
    {
      "cell_type": "code",
      "source": [
        "job_skills.add('sql')\n",
        "\n",
        "job_skills"
      ],
      "metadata": {
        "colab": {
          "base_uri": "https://localhost:8080/"
        },
        "id": "OaqIlsUxJ8PA",
        "outputId": "db220ea2-0bc3-48b9-e721-3d9bfe38f295"
      },
      "execution_count": 37,
      "outputs": [
        {
          "output_type": "execute_result",
          "data": {
            "text/plain": [
              "{'Java', 'Tableau', 'python', 'sql', 'statistics'}"
            ]
          },
          "metadata": {},
          "execution_count": 37
        }
      ]
    },
    {
      "cell_type": "markdown",
      "source": [
        "### Remove()\n",
        "\n",
        "Remove an item in the set using `remove()`. Let's remove the 'statistics' item from this set."
      ],
      "metadata": {
        "id": "5g2i3hlrKG6u"
      }
    },
    {
      "cell_type": "code",
      "source": [
        "# Removing a skill\n",
        "job_skills.remove('statistics')\n",
        "\n",
        "job_skills"
      ],
      "metadata": {
        "colab": {
          "base_uri": "https://localhost:8080/"
        },
        "id": "8iQXrh5iKDUe",
        "outputId": "180ed65c-4db2-4062-d53c-f29e4b277d32"
      },
      "execution_count": 38,
      "outputs": [
        {
          "output_type": "execute_result",
          "data": {
            "text/plain": [
              "{'Java', 'Tableau', 'python', 'sql'}"
            ]
          },
          "metadata": {},
          "execution_count": 38
        }
      ]
    },
    {
      "cell_type": "markdown",
      "source": [
        "### Set()\n",
        "\n",
        "Sets are great for removing repetitive values. Let's create a list of skills called `skill_list` but these will have repeating skills. If we use `set()` on this new `skill_list`. It will show the list as a set (aka remove repeated values)."
      ],
      "metadata": {
        "id": "ZIG0s6NkLB-U"
      }
    },
    {
      "cell_type": "code",
      "source": [
        "# Make a list of skills but some repeated values\n",
        "skill_list = [\n",
        "    'python', 'sql', 'statistics', 'tableau', 'python', 'sql', 'statistics', 'tableau'\n",
        "]\n",
        "\n",
        "set(skill_list)"
      ],
      "metadata": {
        "colab": {
          "base_uri": "https://localhost:8080/"
        },
        "id": "CZzqCvIgKR7X",
        "outputId": "0f5b0930-120d-44b3-8852-5f7559f463ba"
      },
      "execution_count": 39,
      "outputs": [
        {
          "output_type": "execute_result",
          "data": {
            "text/plain": [
              "{'python', 'sql', 'statistics', 'tableau'}"
            ]
          },
          "metadata": {},
          "execution_count": 39
        }
      ]
    },
    {
      "cell_type": "markdown",
      "source": [
        "### List()\n",
        "\n",
        "We can even convert this set back to a list. This will still have the duplicates removed, it will have the unique skills."
      ],
      "metadata": {
        "id": "-BriuqxQLhK4"
      }
    },
    {
      "cell_type": "code",
      "source": [
        "skill_list = list(set(skill_list))\n",
        "\n",
        "skill_list"
      ],
      "metadata": {
        "colab": {
          "base_uri": "https://localhost:8080/"
        },
        "id": "PpCLu4ixLeC0",
        "outputId": "559b1dde-8bfe-4262-884a-4b8a65519616"
      },
      "execution_count": 40,
      "outputs": [
        {
          "output_type": "execute_result",
          "data": {
            "text/plain": [
              "['tableau', 'python', 'sql', 'statistics']"
            ]
          },
          "metadata": {},
          "execution_count": 40
        }
      ]
    },
    {
      "cell_type": "markdown",
      "source": [
        "# Tuples"
      ],
      "metadata": {
        "id": "HiecesbdMq6S"
      }
    },
    {
      "cell_type": "markdown",
      "source": [
        "## Notes\n",
        "\n",
        "* Used to store multiple items in a single variable\n",
        "* It is:\n",
        "  * Ordered\n",
        "  * Unchangeable\n",
        "* Written with `(` and `)`\n",
        "\n",
        "## Importance\n",
        "\n",
        "* Speed up operations because it's immutable\n",
        "* Immutable sequences, often used for fixed data, like column names or coordinates in Matplotlib plots\n",
        "\n",
        "## Examples\n",
        "\n",
        "We're going to create a tuple of data science skills."
      ],
      "metadata": {
        "id": "sIoXCbm_MukP"
      }
    },
    {
      "cell_type": "code",
      "source": [
        "# Define a tuple of data science skills\n",
        "job_skills = ('python', 'sql', 'statistics', 'tableau')\n",
        "\n",
        "job_skills"
      ],
      "metadata": {
        "colab": {
          "base_uri": "https://localhost:8080/"
        },
        "id": "glpK27ELMvtg",
        "outputId": "336a3251-fc2f-4a8a-8cef-d4f94cd6f90e"
      },
      "execution_count": 41,
      "outputs": [
        {
          "output_type": "execute_result",
          "data": {
            "text/plain": [
              "('python', 'sql', 'statistics', 'tableau')"
            ]
          },
          "metadata": {},
          "execution_count": 41
        }
      ]
    },
    {
      "cell_type": "markdown",
      "source": [
        "### Get item\n",
        "\n",
        "Getting an element from a tuple using indexing. To get the first item from a tuple we'll get it at the index of `0`."
      ],
      "metadata": {
        "id": "hnR1JVC3OLWT"
      }
    },
    {
      "cell_type": "code",
      "source": [
        "# Accessing an element\n",
        "job_skills[0]"
      ],
      "metadata": {
        "colab": {
          "base_uri": "https://localhost:8080/",
          "height": 35
        },
        "id": "Pp0rmSxrM0T1",
        "outputId": "cc123197-9c2c-47b0-c41c-3a28219d6c0b"
      },
      "execution_count": 42,
      "outputs": [
        {
          "output_type": "execute_result",
          "data": {
            "text/plain": [
              "'python'"
            ],
            "application/vnd.google.colaboratory.intrinsic+json": {
              "type": "string"
            }
          },
          "metadata": {},
          "execution_count": 42
        }
      ]
    },
    {
      "cell_type": "markdown",
      "source": [
        "### Slicing\n",
        "\n",
        "To only get part of a the tuple we'll use slicing. To only get 'python' and 'sql' values we'll get everything before the index of `2`."
      ],
      "metadata": {
        "id": "-B-P166mORj2"
      }
    },
    {
      "cell_type": "code",
      "source": [
        "# Define a set of data science skills\n",
        "job_skills = ('python', 'sql', 'statistics', 'tableau')\n",
        "\n",
        "job_skills[:2]"
      ],
      "metadata": {
        "colab": {
          "base_uri": "https://localhost:8080/"
        },
        "id": "F5vw7NOmOO9y",
        "outputId": "888ea914-b324-4d97-fbce-6fa4f68f99c8"
      },
      "execution_count": 43,
      "outputs": [
        {
          "output_type": "execute_result",
          "data": {
            "text/plain": [
              "('python', 'sql')"
            ]
          },
          "metadata": {},
          "execution_count": 43
        }
      ]
    },
    {
      "cell_type": "markdown",
      "source": [
        "### Add Items\n",
        "\n",
        "Since tuples are immutable (not changeable), they don't have a built-in `append()` method. But there are two methods:"
      ],
      "metadata": {
        "id": "pmEulcktOw6Y"
      }
    },
    {
      "cell_type": "code",
      "source": [
        "job_skills.append('excel')"
      ],
      "metadata": {
        "colab": {
          "base_uri": "https://localhost:8080/",
          "height": 141
        },
        "id": "RzFn4CGlOcKh",
        "outputId": "c525c3dd-bee1-4a67-bc58-9dd7add0536e"
      },
      "execution_count": 44,
      "outputs": [
        {
          "output_type": "error",
          "ename": "AttributeError",
          "evalue": "'tuple' object has no attribute 'append'",
          "traceback": [
            "\u001b[0;31m---------------------------------------------------------------------------\u001b[0m",
            "\u001b[0;31mAttributeError\u001b[0m                            Traceback (most recent call last)",
            "\u001b[0;32m/tmp/ipython-input-209886078.py\u001b[0m in \u001b[0;36m<cell line: 0>\u001b[0;34m()\u001b[0m\n\u001b[0;32m----> 1\u001b[0;31m \u001b[0mjob_skills\u001b[0m\u001b[0;34m.\u001b[0m\u001b[0mappend\u001b[0m\u001b[0;34m(\u001b[0m\u001b[0;34m'excel'\u001b[0m\u001b[0;34m)\u001b[0m\u001b[0;34m\u001b[0m\u001b[0;34m\u001b[0m\u001b[0m\n\u001b[0m",
            "\u001b[0;31mAttributeError\u001b[0m: 'tuple' object has no attribute 'append'"
          ]
        }
      ]
    },
    {
      "cell_type": "markdown",
      "source": [
        "**Method 1: Turn tuple into a list.**\n",
        "\n",
        "* First turn it into a list\n",
        "* Then use the `append()` method\n",
        "* Convert the list to a tuple"
      ],
      "metadata": {
        "id": "-_Qhhce1PIwF"
      }
    },
    {
      "cell_type": "code",
      "source": [
        "# Turn tuple into a list\n",
        "job_skills_list = list(job_skills)\n",
        "\n",
        "# Add skill to the list\n",
        "job_skills_list.append('excel')\n",
        "\n",
        "# Convert list to a tuple\n",
        "job_skills_tuple = tuple(job_skills_list)\n",
        "\n",
        "job_skills_tuple"
      ],
      "metadata": {
        "colab": {
          "base_uri": "https://localhost:8080/"
        },
        "id": "qOYOuIbBOzmr",
        "outputId": "744cd209-189e-4ebe-d585-1ebb957bf109"
      },
      "execution_count": 45,
      "outputs": [
        {
          "output_type": "execute_result",
          "data": {
            "text/plain": [
              "('python', 'sql', 'statistics', 'tableau', 'excel')"
            ]
          },
          "metadata": {},
          "execution_count": 45
        }
      ]
    },
    {
      "cell_type": "markdown",
      "source": [
        "**Method 2: Add tuple to a tuple.**\n",
        "\n",
        "You can add tuples to tuples, which is good if you want to add one or more items.\n",
        "* Create a new tuple with the items\n",
        "* Add it to the existing tuple"
      ],
      "metadata": {
        "id": "eMrhJTlZRZ_v"
      }
    },
    {
      "cell_type": "code",
      "source": [
        "job_skills_new_tuple = ('r', 'postgresql',)\n",
        "job_skills += job_skills_new_tuple\n",
        "\n",
        "job_skills"
      ],
      "metadata": {
        "colab": {
          "base_uri": "https://localhost:8080/"
        },
        "id": "8jcqPL69Qrza",
        "outputId": "10e3ee75-db21-40ef-cea4-bad584aab99c"
      },
      "execution_count": 46,
      "outputs": [
        {
          "output_type": "execute_result",
          "data": {
            "text/plain": [
              "('python', 'sql', 'statistics', 'tableau', 'r', 'postgresql')"
            ]
          },
          "metadata": {},
          "execution_count": 46
        }
      ]
    },
    {
      "cell_type": "markdown",
      "source": [
        "### Join()\n",
        "\n",
        "We already went over this for lists but remember the `.join` method is used for concatenating a sequence of strings together with a specified separator. You need to add a specific separator (e.g. `', '`) between each element during the concatenation process.\n",
        "\n",
        "For tuples specifically we are combining multiple strings from a tuple."
      ],
      "metadata": {
        "id": "yoy62mXhWBqf"
      }
    },
    {
      "cell_type": "code",
      "source": [
        "skills = ('Python', 'SQL', 'Excel')"
      ],
      "metadata": {
        "id": "cQ-CGhBCVuC3"
      },
      "execution_count": 47,
      "outputs": []
    },
    {
      "cell_type": "code",
      "source": [
        "# f-string formatting\n",
        "print(f'I have these skills: {\", \".join(skills)}')"
      ],
      "metadata": {
        "colab": {
          "base_uri": "https://localhost:8080/"
        },
        "id": "tvQNyAqDXLg6",
        "outputId": "ddb7c00f-bf3b-425a-df1b-592d839822fc"
      },
      "execution_count": 49,
      "outputs": [
        {
          "output_type": "stream",
          "name": "stdout",
          "text": [
            "I have these skills: Python, SQL, Excel\n"
          ]
        }
      ]
    },
    {
      "cell_type": "markdown",
      "source": [
        "### Remove Items\n",
        "\n",
        "Since tuples are **unchangeable** you can't remove items for it. But you can use a similar workaround that we used for changing and adding tuple items."
      ],
      "metadata": {
        "id": "juwxWqNVXbRI"
      }
    },
    {
      "cell_type": "code",
      "source": [
        "skills.remove('Excel')"
      ],
      "metadata": {
        "colab": {
          "base_uri": "https://localhost:8080/",
          "height": 141
        },
        "id": "_mSjcdQpXXFa",
        "outputId": "a242636b-1da5-401b-a55c-388c04a297df"
      },
      "execution_count": 50,
      "outputs": [
        {
          "output_type": "error",
          "ename": "AttributeError",
          "evalue": "'tuple' object has no attribute 'remove'",
          "traceback": [
            "\u001b[0;31m---------------------------------------------------------------------------\u001b[0m",
            "\u001b[0;31mAttributeError\u001b[0m                            Traceback (most recent call last)",
            "\u001b[0;32m/tmp/ipython-input-362810243.py\u001b[0m in \u001b[0;36m<cell line: 0>\u001b[0;34m()\u001b[0m\n\u001b[0;32m----> 1\u001b[0;31m \u001b[0mskills\u001b[0m\u001b[0;34m.\u001b[0m\u001b[0mremove\u001b[0m\u001b[0;34m(\u001b[0m\u001b[0;34m'Excel'\u001b[0m\u001b[0;34m)\u001b[0m\u001b[0;34m\u001b[0m\u001b[0;34m\u001b[0m\u001b[0m\n\u001b[0m",
            "\u001b[0;31mAttributeError\u001b[0m: 'tuple' object has no attribute 'remove'"
          ]
        }
      ]
    },
    {
      "cell_type": "markdown",
      "source": [
        "#### Remove()\n",
        "\n",
        "Convert the tuple into a list, remove the item using `remove()` method, and convert it back to a tuple."
      ],
      "metadata": {
        "id": "mo654LF9Xnw2"
      }
    },
    {
      "cell_type": "code",
      "source": [
        "# Turn tuple into a list\n",
        "job_skills_remove = list(job_skills)\n",
        "\n",
        "# Remove skill from the list\n",
        "job_skills_remove.remove(\"tableau\")\n",
        "\n",
        "# Convert list to a tuple\n",
        "job_skills_tuple = tuple(job_skills_remove)\n",
        "job_skills_tuple"
      ],
      "metadata": {
        "colab": {
          "base_uri": "https://localhost:8080/"
        },
        "id": "10vNYesQXlHY",
        "outputId": "1b2d2396-371d-4705-abfe-a1c02f8e2d11"
      },
      "execution_count": 53,
      "outputs": [
        {
          "output_type": "execute_result",
          "data": {
            "text/plain": [
              "('python', 'sql', 'statistics', 'r', 'postgresql')"
            ]
          },
          "metadata": {},
          "execution_count": 53
        }
      ]
    },
    {
      "cell_type": "markdown",
      "source": [
        "#### Del\n",
        "\n",
        "Or you can use the `del` keyword to delete the tuple completely. If we try to show the job_skills are we delete it, it will return an error."
      ],
      "metadata": {
        "id": "JpFx_0abZRdi"
      }
    },
    {
      "cell_type": "code",
      "source": [
        "del job_skills\n",
        "job_skills"
      ],
      "metadata": {
        "colab": {
          "base_uri": "https://localhost:8080/",
          "height": 158
        },
        "id": "CRbKyyIdZEfK",
        "outputId": "4ad1a77b-51a7-4fe6-d323-949d7dac4e6c"
      },
      "execution_count": 67,
      "outputs": [
        {
          "output_type": "error",
          "ename": "NameError",
          "evalue": "name 'job_skills' is not defined",
          "traceback": [
            "\u001b[0;31m---------------------------------------------------------------------------\u001b[0m",
            "\u001b[0;31mNameError\u001b[0m                                 Traceback (most recent call last)",
            "\u001b[0;32m/tmp/ipython-input-2023559547.py\u001b[0m in \u001b[0;36m<cell line: 0>\u001b[0;34m()\u001b[0m\n\u001b[1;32m      1\u001b[0m \u001b[0;32mdel\u001b[0m \u001b[0mjob_skills\u001b[0m\u001b[0;34m\u001b[0m\u001b[0;34m\u001b[0m\u001b[0m\n\u001b[0;32m----> 2\u001b[0;31m \u001b[0mjob_skills\u001b[0m\u001b[0;34m\u001b[0m\u001b[0;34m\u001b[0m\u001b[0m\n\u001b[0m",
            "\u001b[0;31mNameError\u001b[0m: name 'job_skills' is not defined"
          ]
        }
      ]
    },
    {
      "cell_type": "markdown",
      "source": [
        "## range()\n",
        "\n",
        "Now these 4 container data types we covered over the past few notebooks are not the only container data types.\n",
        "\n",
        "The `range()` function generates a sequence of numbers. It is commonly used for looping a specific number of times in for loops."
      ],
      "metadata": {
        "id": "AtKzF1wlbVC6"
      }
    },
    {
      "cell_type": "code",
      "source": [
        "range(5)"
      ],
      "metadata": {
        "colab": {
          "base_uri": "https://localhost:8080/"
        },
        "id": "iJv-nzbPZmaT",
        "outputId": "6ca953d7-b0ab-4569-e69e-c14b756b7b36"
      },
      "execution_count": 68,
      "outputs": [
        {
          "output_type": "execute_result",
          "data": {
            "text/plain": [
              "range(0, 5)"
            ]
          },
          "metadata": {},
          "execution_count": 68
        }
      ]
    },
    {
      "cell_type": "markdown",
      "source": [
        "Note: `range()` isn't a tuple, it's its own datatype; but it's dang close and short, so we'll cover it here."
      ],
      "metadata": {
        "id": "EPunFA1YbboC"
      }
    },
    {
      "cell_type": "code",
      "source": [
        "type(range(5))"
      ],
      "metadata": {
        "colab": {
          "base_uri": "https://localhost:8080/"
        },
        "id": "XcEGlnftbZkD",
        "outputId": "37cf6922-a273-4735-9943-95b4a308be4c"
      },
      "execution_count": 69,
      "outputs": [
        {
          "output_type": "execute_result",
          "data": {
            "text/plain": [
              "range"
            ]
          },
          "metadata": {},
          "execution_count": 69
        }
      ]
    },
    {
      "cell_type": "markdown",
      "source": [
        "But let's actually see inside of this object by converting it to a tuple."
      ],
      "metadata": {
        "id": "pgRg_aofb6PA"
      }
    },
    {
      "cell_type": "code",
      "source": [
        "tuple(range(6))"
      ],
      "metadata": {
        "colab": {
          "base_uri": "https://localhost:8080/"
        },
        "id": "Q51uzg4ybdO4",
        "outputId": "d36633b3-de72-4e27-dcc2-ea9c576e4a82"
      },
      "execution_count": 70,
      "outputs": [
        {
          "output_type": "execute_result",
          "data": {
            "text/plain": [
              "(0, 1, 2, 3, 4, 5)"
            ]
          },
          "metadata": {},
          "execution_count": 70
        }
      ]
    },
    {
      "cell_type": "code",
      "source": [
        "list(range(2,5))"
      ],
      "metadata": {
        "colab": {
          "base_uri": "https://localhost:8080/"
        },
        "id": "99qtHRQ6b9vq",
        "outputId": "604c9ec9-ab51-4258-a7a4-3b9158bc931a"
      },
      "execution_count": 76,
      "outputs": [
        {
          "output_type": "execute_result",
          "data": {
            "text/plain": [
              "[2, 3, 4]"
            ]
          },
          "metadata": {},
          "execution_count": 76
        }
      ]
    },
    {
      "cell_type": "code",
      "source": [
        "list(range(0,100,2))"
      ],
      "metadata": {
        "colab": {
          "base_uri": "https://localhost:8080/"
        },
        "id": "8x5GpLlBcCCi",
        "outputId": "9e19a2bf-876d-4d41-ef24-48de4dbff198"
      },
      "execution_count": 77,
      "outputs": [
        {
          "output_type": "execute_result",
          "data": {
            "text/plain": [
              "[0,\n",
              " 2,\n",
              " 4,\n",
              " 6,\n",
              " 8,\n",
              " 10,\n",
              " 12,\n",
              " 14,\n",
              " 16,\n",
              " 18,\n",
              " 20,\n",
              " 22,\n",
              " 24,\n",
              " 26,\n",
              " 28,\n",
              " 30,\n",
              " 32,\n",
              " 34,\n",
              " 36,\n",
              " 38,\n",
              " 40,\n",
              " 42,\n",
              " 44,\n",
              " 46,\n",
              " 48,\n",
              " 50,\n",
              " 52,\n",
              " 54,\n",
              " 56,\n",
              " 58,\n",
              " 60,\n",
              " 62,\n",
              " 64,\n",
              " 66,\n",
              " 68,\n",
              " 70,\n",
              " 72,\n",
              " 74,\n",
              " 76,\n",
              " 78,\n",
              " 80,\n",
              " 82,\n",
              " 84,\n",
              " 86,\n",
              " 88,\n",
              " 90,\n",
              " 92,\n",
              " 94,\n",
              " 96,\n",
              " 98]"
            ]
          },
          "metadata": {},
          "execution_count": 77
        }
      ]
    }
  ]
}