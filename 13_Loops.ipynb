{
  "nbformat": 4,
  "nbformat_minor": 0,
  "metadata": {
    "colab": {
      "provenance": [],
      "authorship_tag": "ABX9TyNAYnpqVqu5ODAgizXGddXG",
      "include_colab_link": true
    },
    "kernelspec": {
      "name": "python3",
      "display_name": "Python 3"
    },
    "language_info": {
      "name": "python"
    }
  },
  "cells": [
    {
      "cell_type": "markdown",
      "metadata": {
        "id": "view-in-github",
        "colab_type": "text"
      },
      "source": [
        "<a href=\"https://colab.research.google.com/github/MarvelousAlex/Python_Data_Analysis/blob/main/13_Loops.ipynb\" target=\"_parent\"><img src=\"https://colab.research.google.com/assets/colab-badge.svg\" alt=\"Open In Colab\"/></a>"
      ]
    },
    {
      "cell_type": "markdown",
      "source": [
        "# Loops"
      ],
      "metadata": {
        "id": "6DzDQUr0naAC"
      }
    },
    {
      "cell_type": "markdown",
      "source": [
        "## Overview\n",
        "\n",
        "* `while` loops\n",
        "* `for` loops\n",
        "\n",
        "## Importance\n",
        "\n",
        "Crucial for automating repetitive tasks, like data processing in pandas or creating multiple plots in Matplotlib."
      ],
      "metadata": {
        "id": "heODmgBNnkaC"
      }
    },
    {
      "cell_type": "code",
      "execution_count": 27,
      "metadata": {
        "colab": {
          "base_uri": "https://localhost:8080/"
        },
        "id": "SK04ESCInGUP",
        "outputId": "5eb9ebc9-705a-4def-b04e-9aafc6c3c135"
      },
      "outputs": [
        {
          "output_type": "stream",
          "name": "stdout",
          "text": [
            "1\n",
            "2\n",
            "3\n",
            "4\n",
            "5\n"
          ]
        }
      ],
      "source": [
        "numbers = [1, 2, 3, 4, 5]\n",
        "for i in numbers:\n",
        "    print(i)"
      ]
    },
    {
      "cell_type": "markdown",
      "source": [
        "A `while` loop repeats an action until a condition is no longer true."
      ],
      "metadata": {
        "id": "iP7Bg0x7ol2A"
      }
    },
    {
      "cell_type": "code",
      "source": [
        "count = 0\n",
        "while count < len(numbers):\n",
        "    print(numbers[count])\n",
        "    count += 1"
      ],
      "metadata": {
        "colab": {
          "base_uri": "https://localhost:8080/"
        },
        "id": "VkXjQH1Yoe-c",
        "outputId": "97b85667-3994-4c89-c1f0-859f12044dbb"
      },
      "execution_count": 28,
      "outputs": [
        {
          "output_type": "stream",
          "name": "stdout",
          "text": [
            "1\n",
            "2\n",
            "3\n",
            "4\n",
            "5\n"
          ]
        }
      ]
    },
    {
      "cell_type": "markdown",
      "source": [
        "## While\n",
        "\n",
        "### Notes\n",
        "\n",
        "* A `while` loop executes a set of statements as long as the condition is true.\n",
        "* Remember to increment `i`, or else the loop will continue forever.\n",
        "\n",
        "### Examples\n",
        "\n",
        "Prints out all the years of experience required for the 3 data science jobs.\n",
        "\n",
        "* Initializes variables to track the total number of job positions (`total_positions`), and the current position being checked (`position_index`).\n",
        "* Uses a `while` loop to iterate through each job position's minimum experience requirement (`position_experience_requirements`) as long as `position_index` is less than `total_positions`.\n",
        "* Within the loop it prints out the specific number of years of experience `position_experience_requirement` that position requires.\n",
        "* Increments (increases) `position_index` by 1 in each loop iteration to move to the next job position. This makes sure the loop terminates after checking all positions."
      ],
      "metadata": {
        "id": "CkaoRr0GpY9G"
      }
    },
    {
      "cell_type": "code",
      "source": [
        "# Total number of job positions to check\n",
        "total_positions = 3\n",
        "position_index = 0\n",
        "\n",
        "# Minimum years of experience required for each data science job position\n",
        "position_experience_requirements = [1, 3, 2]"
      ],
      "metadata": {
        "id": "VPtY25KQo_60"
      },
      "execution_count": 29,
      "outputs": []
    },
    {
      "cell_type": "code",
      "source": [
        "while position_index < total_positions:\n",
        "    print('Position requires', position_experience_requirements[position_index], 'years of experience.')\n",
        "    position_index += 1"
      ],
      "metadata": {
        "colab": {
          "base_uri": "https://localhost:8080/"
        },
        "id": "ApwuQbmPrNom",
        "outputId": "6b5f5474-44fb-4ec0-dd5a-0ba4bc7b91d9"
      },
      "execution_count": 30,
      "outputs": [
        {
          "output_type": "stream",
          "name": "stdout",
          "text": [
            "Position requires 1 years of experience.\n",
            "Position requires 3 years of experience.\n",
            "Position requires 2 years of experience.\n"
          ]
        }
      ]
    },
    {
      "cell_type": "markdown",
      "source": [
        "### Practical Example\n",
        "\n",
        "Here's a more complicated example of how you can use `while` loops.\n",
        "\n",
        "We'll add in the `user_years_of_experience`.\n",
        "\n",
        "* Initializes variables to track the user's experience (`user_years_of_experience`), the total number of job positions (`total_positions`), and the current position being checked (`position_index`).\n",
        "* Uses a `while` loop to iterate through each job position's minimum experience requirement (`position_experience_requirements`) as long as `position_index` is less than `total_positions`.\n",
        "* Within the loop, compares `user_years_of_experience` to the requirement for the current position (`required_years`): prints 'Qualified' if the user meets or exceeds the requirement, otherwise prints 'Not qualified'.\n",
        "* Increments (increases) `position_index` by 1 in each loop iteration to move to the next job position. This makes sure the loop terminates after checking all positions."
      ],
      "metadata": {
        "id": "XGFnUgA7sBDj"
      }
    },
    {
      "cell_type": "code",
      "source": [
        "# User's years of experience\n",
        "user_years_of_experience = 2\n",
        "\n",
        "user_years_of_experience"
      ],
      "metadata": {
        "colab": {
          "base_uri": "https://localhost:8080/"
        },
        "id": "U4h6yNcvr9_p",
        "outputId": "ae5b41da-b398-4031-cc18-f808d0d4338f"
      },
      "execution_count": 31,
      "outputs": [
        {
          "output_type": "execute_result",
          "data": {
            "text/plain": [
              "2"
            ]
          },
          "metadata": {},
          "execution_count": 31
        }
      ]
    },
    {
      "cell_type": "code",
      "source": [
        "# Initialize variables\n",
        "position_index = 0\n",
        "total_positions = len(position_experience_requirements)  # Number of positions (3)\n",
        "\n",
        "# While loop to check qualifications\n",
        "while position_index < total_positions:\n",
        "    required_years = position_experience_requirements[position_index]\n",
        "    if user_years_of_experience >= required_years:\n",
        "        print(f\"Qualified! The position {position_index + 1} requires {position_experience_requirements[position_index]} years\")\n",
        "    else:\n",
        "        print(f\"Not qualified! The position {position_index + 1} requires {position_experience_requirements[position_index]} years\")\n",
        "    position_index += 1  # Increment index to move to the next position"
      ],
      "metadata": {
        "colab": {
          "base_uri": "https://localhost:8080/"
        },
        "id": "5RgIbZ0lsVyo",
        "outputId": "bc266483-d0a1-4d36-cb58-360464bcc9f1"
      },
      "execution_count": 32,
      "outputs": [
        {
          "output_type": "stream",
          "name": "stdout",
          "text": [
            "Qualified! The position 1 requires 1 years\n",
            "Not qualified! The position 2 requires 3 years\n",
            "Qualified! The position 3 requires 2 years\n"
          ]
        }
      ]
    },
    {
      "cell_type": "markdown",
      "source": [
        "## For\n",
        "\n",
        "### Notes\n",
        "\n",
        "* A `for` loop iterates over a sequence (e.g. list, tuple, dictionary, set, or string).\n",
        "* Execute a set of statements, one for each item in a list, tuple, set, etc.\n",
        "\n",
        "### Example\n",
        "\n",
        "This loop checks the user's qualification for each position based on their years of experience and returns the result.\n",
        "\n",
        "We're using the same variable as before: `position_experience_requirements`.\n",
        "\n",
        "* A `for` loop iterates (goes through) through each item in the position_experience_requirements list.\n",
        "* Inside the loop it prints the years of experience required for the position."
      ],
      "metadata": {
        "id": "FW0B0lmFv1AH"
      }
    },
    {
      "cell_type": "code",
      "source": [
        "for i in position_experience_requirements:\n",
        "    print(f\"Positions requires {i} years of experience.\")"
      ],
      "metadata": {
        "colab": {
          "base_uri": "https://localhost:8080/"
        },
        "id": "WmIBhUIesaxC",
        "outputId": "d38ce039-d015-4efd-ac8e-a09487920101"
      },
      "execution_count": 33,
      "outputs": [
        {
          "output_type": "stream",
          "name": "stdout",
          "text": [
            "Positions requires 1 years of experience.\n",
            "Positions requires 3 years of experience.\n",
            "Positions requires 2 years of experience.\n"
          ]
        }
      ]
    },
    {
      "cell_type": "markdown",
      "source": [
        "### Enumerate\n",
        "\n",
        "#### Notes\n",
        "\n",
        "* Primary used in loops, especially in `for` loops.\n",
        "* Good for when you need the index of an iterable object for operations like:\n",
        "    * updating the elements based on their position\n",
        "    * comparing items at different positions\n",
        "    * displaying the position along with the item\n",
        "* Syntax: `enumerate(iterable, start = 0)`\n",
        "\n",
        "#### Example\n",
        "\n",
        "Instead of simply iterating over the list with `x in list` to get the years of experience required for each position, we can use `enumerate` to get both the index (which represents the position number) and the years of experience from `position_experience_requirements`.\n",
        "\n",
        "We'll also use f-strings to format our string."
      ],
      "metadata": {
        "id": "pUhD4Fh5wDnt"
      }
    },
    {
      "cell_type": "code",
      "source": [
        "# Enhanced example using enumerate to include the position index\n",
        "for index, year in enumerate(position_experience_requirements, start = 1):\n",
        "    print(f\"Position {index} requires {year} years of experience.\")"
      ],
      "metadata": {
        "colab": {
          "base_uri": "https://localhost:8080/"
        },
        "id": "v95V5H1atpip",
        "outputId": "b51a282d-10ad-4676-cea3-3f4e3e7cbb89"
      },
      "execution_count": 34,
      "outputs": [
        {
          "output_type": "stream",
          "name": "stdout",
          "text": [
            "Position 1 requires 1 years of experience.\n",
            "Position 2 requires 3 years of experience.\n",
            "Position 3 requires 2 years of experience.\n"
          ]
        }
      ]
    },
    {
      "cell_type": "markdown",
      "source": [
        "### Pass\n",
        "\n",
        "#### Notes\n",
        "\n",
        "* `pass` is used when a `for` has nothing in it, so it avoids and error\n",
        "\n",
        "#### Example\n",
        "\n",
        "Below we updated our example and added `pass` in it."
      ],
      "metadata": {
        "id": "c1LeBIDkwZAi"
      }
    },
    {
      "cell_type": "code",
      "source": [
        "for x in position_experience_requirements:\n",
        "    pass"
      ],
      "metadata": {
        "id": "j8ALS_vpwVo0"
      },
      "execution_count": 35,
      "outputs": []
    },
    {
      "cell_type": "markdown",
      "source": [
        "### Nested Loops\n",
        "\n",
        "You can also have a loop inside another loop. Below we're going through two lists."
      ],
      "metadata": {
        "id": "rL39rpCawdYP"
      }
    },
    {
      "cell_type": "code",
      "source": [
        "roles = ['Data Scientist', 'Machine Learning Engineer']\n",
        "skills = ['Python', 'SQL', 'Machine Learning']\n",
        "\n",
        "for role in roles:\n",
        "    print(f'For the role of {role}, you need experience in:')\n",
        "    for skill in skills:\n",
        "        print(f'  - {skill}')"
      ],
      "metadata": {
        "colab": {
          "base_uri": "https://localhost:8080/"
        },
        "id": "RaMHwzFCxunU",
        "outputId": "49ce1448-de0f-4597-b589-537deec50d09"
      },
      "execution_count": 36,
      "outputs": [
        {
          "output_type": "stream",
          "name": "stdout",
          "text": [
            "For the role of Data Scientist, you need experience in:\n",
            "  - Python\n",
            "  - SQL\n",
            "  - Machine Learning\n",
            "For the role of Machine Learning Engineer, you need experience in:\n",
            "  - Python\n",
            "  - SQL\n",
            "  - Machine Learning\n"
          ]
        }
      ]
    },
    {
      "cell_type": "markdown",
      "source": [
        "### Practical Example\n",
        "\n",
        "Here's a more complicated example of how you can use `for` loops.\n",
        "\n",
        "This loop checks the user's qualification for each position based on their years of experience and returns the result.\n",
        "\n",
        "* The code defines a list named position_experience_requirements with integers representing the minimum years of experience required for various data science job positions.\n",
        "* It sets a variable `user_years_of_experience` to 2.\n",
        "* A for loop iterates (goes through) through each item in the position_experience_requirements list.\n",
        "* Inside the loop, an if statement checks if user_experience is greater than or equal to required_experience for a position.\n",
        "* If the condition is met, it prints 'Qualified'; otherwise, it prints 'Not qualified'."
      ],
      "metadata": {
        "id": "rpkXOtpfXlCf"
      }
    },
    {
      "cell_type": "code",
      "source": [
        "# For loop to check qualification for each job\n",
        "for required_experience in position_experience_requirements:\n",
        "    if user_years_of_experience >= required_experience:\n",
        "        print(\"Qualified\")\n",
        "    else:\n",
        "        print(\"Not Qualified\")"
      ],
      "metadata": {
        "colab": {
          "base_uri": "https://localhost:8080/"
        },
        "id": "zQnjNoUJyFpw",
        "outputId": "505833d4-d153-4eb0-8a69-515e3f35302b"
      },
      "execution_count": 37,
      "outputs": [
        {
          "output_type": "stream",
          "name": "stdout",
          "text": [
            "Qualified\n",
            "Not Qualified\n",
            "Qualified\n"
          ]
        }
      ]
    },
    {
      "cell_type": "code",
      "source": [
        "position_experience_requirements"
      ],
      "metadata": {
        "colab": {
          "base_uri": "https://localhost:8080/"
        },
        "id": "p74yNatEYN55",
        "outputId": "70b40d4d-b468-4fd2-817d-a35a0b6ef145"
      },
      "execution_count": 38,
      "outputs": [
        {
          "output_type": "execute_result",
          "data": {
            "text/plain": [
              "[1, 3, 2]"
            ]
          },
          "metadata": {},
          "execution_count": 38
        }
      ]
    },
    {
      "cell_type": "markdown",
      "source": [
        "### Break\n",
        "\n",
        "The `break` statement can stop the loop before it's looped through all of the items. Here the break exits the loop early if the condition is met (aka if the users experience is greater than or equal to the required experience)."
      ],
      "metadata": {
        "id": "x2GO0-EPZoXs"
      }
    },
    {
      "cell_type": "code",
      "source": [
        "# For loop to check qualification for each job\n",
        "for required_experience in position_experience_requirements:\n",
        "    if user_years_of_experience >= required_experience:\n",
        "        break\n",
        "    else:\n",
        "        print(\"Not Qualified\")"
      ],
      "metadata": {
        "id": "v4uPJ6UBYpY9"
      },
      "execution_count": 39,
      "outputs": []
    },
    {
      "cell_type": "markdown",
      "source": [
        "What if you didn't have a specific list to run through? And instead want to just go through a specific number of times? Then you'd use `range()`."
      ],
      "metadata": {
        "id": "uY4sphJEZ5kD"
      }
    },
    {
      "cell_type": "markdown",
      "source": [
        "### Example #2\n",
        "\n",
        "Problem: Make a list of job titles containing \"Data Analyst\"."
      ],
      "metadata": {
        "id": "uGB3gqbTaATE"
      }
    },
    {
      "cell_type": "markdown",
      "source": [
        "The following Code block is only to import the data.\n",
        "\n",
        "This includes concepts we haven't covered yet; so just ignore it for now."
      ],
      "metadata": {
        "id": "VRibpormwLtq"
      }
    },
    {
      "cell_type": "code",
      "source": [
        "from datasets import load_dataset\n",
        "\n",
        "# Load the dataset\n",
        "dataset = load_dataset('lukebarousse/data_jobs')\n",
        "df = dataset['train'].to_pandas()\n",
        "\n",
        "# Create a list of job titles from the dataset\n",
        "job_list = df['job_title'].tolist()\n",
        "\n",
        "# Remove any non-string values from the list\n",
        "job_list = [job for job in job_list if isinstance(job, str)]\n",
        "\n",
        "# Display the first 10 job titles\n",
        "job_list[:10]"
      ],
      "metadata": {
        "colab": {
          "base_uri": "https://localhost:8080/"
        },
        "id": "oOYKRSC9Z1R3",
        "outputId": "3c93bdfa-e104-4a10-bf18-652b715d8ca9"
      },
      "execution_count": 40,
      "outputs": [
        {
          "output_type": "execute_result",
          "data": {
            "text/plain": [
              "['Senior Clinical Data Engineer / Principal Clinical Data Engineer ...',\n",
              " 'Data Analyst',\n",
              " 'Data Engineer/Scientist/Analyst, Mid or Senior (m/f/x)',\n",
              " 'LEAD ENGINEER - PRINCIPAL ANALYST - PRINCIPAL ENGINEER -  DATA...',\n",
              " 'Data Engineer- Sr Jobs',\n",
              " 'GCP Data Engineer',\n",
              " 'Senior Data Engineer  - GCP Cloud',\n",
              " 'Data Engineer',\n",
              " 'Technology & Operations Business Analyst',\n",
              " 'Data Scientist II']"
            ]
          },
          "metadata": {},
          "execution_count": 40
        }
      ]
    },
    {
      "cell_type": "code",
      "source": [
        "# Create an empty list to store the job titles that contain \"Data Analyst\"\n",
        "analyst_list = []\n",
        "\n",
        "# Loop through the job titles and add any that contain \"Data Analyst\" to the analyst_list\n",
        "for job in job_list:\n",
        "    if 'Data Analyst' in job:\n",
        "        analyst_list.append(job)\n",
        "\n",
        "# Display the job titles that contain \"Data Analyst\"\n",
        "analyst_list[:10]"
      ],
      "metadata": {
        "colab": {
          "base_uri": "https://localhost:8080/"
        },
        "id": "diiaOk_twRv_",
        "outputId": "3a725666-0cb5-46db-b597-a46547731534"
      },
      "execution_count": 41,
      "outputs": [
        {
          "output_type": "execute_result",
          "data": {
            "text/plain": [
              "['Data Analyst',\n",
              " 'Stagiaire Data Analyst (H/F) - Lyon (69006)',\n",
              " 'Data Analyst',\n",
              " 'Senior Officer, Data Analyst, GTO',\n",
              " 'Stage - Data Analyst F/H',\n",
              " 'Data Analyst als Marketing Manager Automation (W/D/M)',\n",
              " 'Data Analyst',\n",
              " 'Senior Data Analyst',\n",
              " 'Data Analyst (Bangkok Based, relocation provided)',\n",
              " 'Senior Data Analyst']"
            ]
          },
          "metadata": {},
          "execution_count": 41
        }
      ]
    },
    {
      "cell_type": "markdown",
      "source": [
        "## `range()` function\n",
        "\n",
        "#### Notes\n",
        "\n",
        "* `range()` runs a `for` loop a specific number of times\n",
        "* It returns a sequence of numbers, starting from 0 be default, and increments by 1 (by default), and ends at the specified number\n",
        "\n",
        "#### Examples\n",
        "\n",
        "First we'll print numbers from 0 to 3 since `range(4)` goes from 0 to 4 (not including 4)."
      ],
      "metadata": {
        "id": "ZifChkTEyHld"
      }
    },
    {
      "cell_type": "code",
      "source": [
        "for x in range(4):\n",
        "    print(x)"
      ],
      "metadata": {
        "colab": {
          "base_uri": "https://localhost:8080/"
        },
        "id": "8-OS1L7eyIQb",
        "outputId": "b292c350-7720-4c6c-c26f-4642292133b5"
      },
      "execution_count": 42,
      "outputs": [
        {
          "output_type": "stream",
          "name": "stdout",
          "text": [
            "0\n",
            "1\n",
            "2\n",
            "3\n"
          ]
        }
      ]
    },
    {
      "cell_type": "code",
      "source": [
        "for x in range(1,6):\n",
        "    print(x)"
      ],
      "metadata": {
        "colab": {
          "base_uri": "https://localhost:8080/"
        },
        "id": "3Jur-m23yLFa",
        "outputId": "5f0c49db-9a01-40b6-b8a0-6233671a153a"
      },
      "execution_count": 43,
      "outputs": [
        {
          "output_type": "stream",
          "name": "stdout",
          "text": [
            "1\n",
            "2\n",
            "3\n",
            "4\n",
            "5\n"
          ]
        }
      ]
    }
  ]
}