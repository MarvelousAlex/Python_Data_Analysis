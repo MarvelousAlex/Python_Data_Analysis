{
  "nbformat": 4,
  "nbformat_minor": 0,
  "metadata": {
    "colab": {
      "provenance": [],
      "authorship_tag": "ABX9TyNAYnpqVqu5ODAgizXGddXG",
      "include_colab_link": true
    },
    "kernelspec": {
      "name": "python3",
      "display_name": "Python 3"
    },
    "language_info": {
      "name": "python"
    },
    "widgets": {
      "application/vnd.jupyter.widget-state+json": {
        "6d2688226a2c4abf95bf1df5d9964649": {
          "model_module": "@jupyter-widgets/controls",
          "model_name": "HBoxModel",
          "model_module_version": "1.5.0",
          "state": {
            "_dom_classes": [],
            "_model_module": "@jupyter-widgets/controls",
            "_model_module_version": "1.5.0",
            "_model_name": "HBoxModel",
            "_view_count": null,
            "_view_module": "@jupyter-widgets/controls",
            "_view_module_version": "1.5.0",
            "_view_name": "HBoxView",
            "box_style": "",
            "children": [
              "IPY_MODEL_e8332583c5eb43508cbc49d25e5096cb",
              "IPY_MODEL_cb0f510d5ea0420c81227f3b37809adf",
              "IPY_MODEL_45987e3bf2824206ab72ccc9460a6043"
            ],
            "layout": "IPY_MODEL_c53de3055af848f99411221c72ad9c23"
          }
        },
        "e8332583c5eb43508cbc49d25e5096cb": {
          "model_module": "@jupyter-widgets/controls",
          "model_name": "HTMLModel",
          "model_module_version": "1.5.0",
          "state": {
            "_dom_classes": [],
            "_model_module": "@jupyter-widgets/controls",
            "_model_module_version": "1.5.0",
            "_model_name": "HTMLModel",
            "_view_count": null,
            "_view_module": "@jupyter-widgets/controls",
            "_view_module_version": "1.5.0",
            "_view_name": "HTMLView",
            "description": "",
            "description_tooltip": null,
            "layout": "IPY_MODEL_d7eee86aabe646f1b6a13b8eec8714b1",
            "placeholder": "​",
            "style": "IPY_MODEL_d9ff3e16d07c4708a93d25fb95543f13",
            "value": "README.md: "
          }
        },
        "cb0f510d5ea0420c81227f3b37809adf": {
          "model_module": "@jupyter-widgets/controls",
          "model_name": "FloatProgressModel",
          "model_module_version": "1.5.0",
          "state": {
            "_dom_classes": [],
            "_model_module": "@jupyter-widgets/controls",
            "_model_module_version": "1.5.0",
            "_model_name": "FloatProgressModel",
            "_view_count": null,
            "_view_module": "@jupyter-widgets/controls",
            "_view_module_version": "1.5.0",
            "_view_name": "ProgressView",
            "bar_style": "success",
            "description": "",
            "description_tooltip": null,
            "layout": "IPY_MODEL_d10777e54a0f497a98ff90c718be4630",
            "max": 1,
            "min": 0,
            "orientation": "horizontal",
            "style": "IPY_MODEL_a41ac0055a5246dab1c02a071d5cf49d",
            "value": 1
          }
        },
        "45987e3bf2824206ab72ccc9460a6043": {
          "model_module": "@jupyter-widgets/controls",
          "model_name": "HTMLModel",
          "model_module_version": "1.5.0",
          "state": {
            "_dom_classes": [],
            "_model_module": "@jupyter-widgets/controls",
            "_model_module_version": "1.5.0",
            "_model_name": "HTMLModel",
            "_view_count": null,
            "_view_module": "@jupyter-widgets/controls",
            "_view_module_version": "1.5.0",
            "_view_name": "HTMLView",
            "description": "",
            "description_tooltip": null,
            "layout": "IPY_MODEL_f9df6cd9453640779e17340865b4b57a",
            "placeholder": "​",
            "style": "IPY_MODEL_3e125830aa3a4c49aa59ba18d6955b6b",
            "value": " 3.25k/? [00:00&lt;00:00, 229kB/s]"
          }
        },
        "c53de3055af848f99411221c72ad9c23": {
          "model_module": "@jupyter-widgets/base",
          "model_name": "LayoutModel",
          "model_module_version": "1.2.0",
          "state": {
            "_model_module": "@jupyter-widgets/base",
            "_model_module_version": "1.2.0",
            "_model_name": "LayoutModel",
            "_view_count": null,
            "_view_module": "@jupyter-widgets/base",
            "_view_module_version": "1.2.0",
            "_view_name": "LayoutView",
            "align_content": null,
            "align_items": null,
            "align_self": null,
            "border": null,
            "bottom": null,
            "display": null,
            "flex": null,
            "flex_flow": null,
            "grid_area": null,
            "grid_auto_columns": null,
            "grid_auto_flow": null,
            "grid_auto_rows": null,
            "grid_column": null,
            "grid_gap": null,
            "grid_row": null,
            "grid_template_areas": null,
            "grid_template_columns": null,
            "grid_template_rows": null,
            "height": null,
            "justify_content": null,
            "justify_items": null,
            "left": null,
            "margin": null,
            "max_height": null,
            "max_width": null,
            "min_height": null,
            "min_width": null,
            "object_fit": null,
            "object_position": null,
            "order": null,
            "overflow": null,
            "overflow_x": null,
            "overflow_y": null,
            "padding": null,
            "right": null,
            "top": null,
            "visibility": null,
            "width": null
          }
        },
        "d7eee86aabe646f1b6a13b8eec8714b1": {
          "model_module": "@jupyter-widgets/base",
          "model_name": "LayoutModel",
          "model_module_version": "1.2.0",
          "state": {
            "_model_module": "@jupyter-widgets/base",
            "_model_module_version": "1.2.0",
            "_model_name": "LayoutModel",
            "_view_count": null,
            "_view_module": "@jupyter-widgets/base",
            "_view_module_version": "1.2.0",
            "_view_name": "LayoutView",
            "align_content": null,
            "align_items": null,
            "align_self": null,
            "border": null,
            "bottom": null,
            "display": null,
            "flex": null,
            "flex_flow": null,
            "grid_area": null,
            "grid_auto_columns": null,
            "grid_auto_flow": null,
            "grid_auto_rows": null,
            "grid_column": null,
            "grid_gap": null,
            "grid_row": null,
            "grid_template_areas": null,
            "grid_template_columns": null,
            "grid_template_rows": null,
            "height": null,
            "justify_content": null,
            "justify_items": null,
            "left": null,
            "margin": null,
            "max_height": null,
            "max_width": null,
            "min_height": null,
            "min_width": null,
            "object_fit": null,
            "object_position": null,
            "order": null,
            "overflow": null,
            "overflow_x": null,
            "overflow_y": null,
            "padding": null,
            "right": null,
            "top": null,
            "visibility": null,
            "width": null
          }
        },
        "d9ff3e16d07c4708a93d25fb95543f13": {
          "model_module": "@jupyter-widgets/controls",
          "model_name": "DescriptionStyleModel",
          "model_module_version": "1.5.0",
          "state": {
            "_model_module": "@jupyter-widgets/controls",
            "_model_module_version": "1.5.0",
            "_model_name": "DescriptionStyleModel",
            "_view_count": null,
            "_view_module": "@jupyter-widgets/base",
            "_view_module_version": "1.2.0",
            "_view_name": "StyleView",
            "description_width": ""
          }
        },
        "d10777e54a0f497a98ff90c718be4630": {
          "model_module": "@jupyter-widgets/base",
          "model_name": "LayoutModel",
          "model_module_version": "1.2.0",
          "state": {
            "_model_module": "@jupyter-widgets/base",
            "_model_module_version": "1.2.0",
            "_model_name": "LayoutModel",
            "_view_count": null,
            "_view_module": "@jupyter-widgets/base",
            "_view_module_version": "1.2.0",
            "_view_name": "LayoutView",
            "align_content": null,
            "align_items": null,
            "align_self": null,
            "border": null,
            "bottom": null,
            "display": null,
            "flex": null,
            "flex_flow": null,
            "grid_area": null,
            "grid_auto_columns": null,
            "grid_auto_flow": null,
            "grid_auto_rows": null,
            "grid_column": null,
            "grid_gap": null,
            "grid_row": null,
            "grid_template_areas": null,
            "grid_template_columns": null,
            "grid_template_rows": null,
            "height": null,
            "justify_content": null,
            "justify_items": null,
            "left": null,
            "margin": null,
            "max_height": null,
            "max_width": null,
            "min_height": null,
            "min_width": null,
            "object_fit": null,
            "object_position": null,
            "order": null,
            "overflow": null,
            "overflow_x": null,
            "overflow_y": null,
            "padding": null,
            "right": null,
            "top": null,
            "visibility": null,
            "width": "20px"
          }
        },
        "a41ac0055a5246dab1c02a071d5cf49d": {
          "model_module": "@jupyter-widgets/controls",
          "model_name": "ProgressStyleModel",
          "model_module_version": "1.5.0",
          "state": {
            "_model_module": "@jupyter-widgets/controls",
            "_model_module_version": "1.5.0",
            "_model_name": "ProgressStyleModel",
            "_view_count": null,
            "_view_module": "@jupyter-widgets/base",
            "_view_module_version": "1.2.0",
            "_view_name": "StyleView",
            "bar_color": null,
            "description_width": ""
          }
        },
        "f9df6cd9453640779e17340865b4b57a": {
          "model_module": "@jupyter-widgets/base",
          "model_name": "LayoutModel",
          "model_module_version": "1.2.0",
          "state": {
            "_model_module": "@jupyter-widgets/base",
            "_model_module_version": "1.2.0",
            "_model_name": "LayoutModel",
            "_view_count": null,
            "_view_module": "@jupyter-widgets/base",
            "_view_module_version": "1.2.0",
            "_view_name": "LayoutView",
            "align_content": null,
            "align_items": null,
            "align_self": null,
            "border": null,
            "bottom": null,
            "display": null,
            "flex": null,
            "flex_flow": null,
            "grid_area": null,
            "grid_auto_columns": null,
            "grid_auto_flow": null,
            "grid_auto_rows": null,
            "grid_column": null,
            "grid_gap": null,
            "grid_row": null,
            "grid_template_areas": null,
            "grid_template_columns": null,
            "grid_template_rows": null,
            "height": null,
            "justify_content": null,
            "justify_items": null,
            "left": null,
            "margin": null,
            "max_height": null,
            "max_width": null,
            "min_height": null,
            "min_width": null,
            "object_fit": null,
            "object_position": null,
            "order": null,
            "overflow": null,
            "overflow_x": null,
            "overflow_y": null,
            "padding": null,
            "right": null,
            "top": null,
            "visibility": null,
            "width": null
          }
        },
        "3e125830aa3a4c49aa59ba18d6955b6b": {
          "model_module": "@jupyter-widgets/controls",
          "model_name": "DescriptionStyleModel",
          "model_module_version": "1.5.0",
          "state": {
            "_model_module": "@jupyter-widgets/controls",
            "_model_module_version": "1.5.0",
            "_model_name": "DescriptionStyleModel",
            "_view_count": null,
            "_view_module": "@jupyter-widgets/base",
            "_view_module_version": "1.2.0",
            "_view_name": "StyleView",
            "description_width": ""
          }
        },
        "72cadcd7c7ad41c1bbd0b704bd38032a": {
          "model_module": "@jupyter-widgets/controls",
          "model_name": "HBoxModel",
          "model_module_version": "1.5.0",
          "state": {
            "_dom_classes": [],
            "_model_module": "@jupyter-widgets/controls",
            "_model_module_version": "1.5.0",
            "_model_name": "HBoxModel",
            "_view_count": null,
            "_view_module": "@jupyter-widgets/controls",
            "_view_module_version": "1.5.0",
            "_view_name": "HBoxView",
            "box_style": "",
            "children": [
              "IPY_MODEL_11b69c31a6a5447a8f5c16ede0d245f7",
              "IPY_MODEL_dff5b075e8db4e3aabf7d915b0806f82",
              "IPY_MODEL_798cd26da93342fe85f404fea8efb0a8"
            ],
            "layout": "IPY_MODEL_cf00783af6184989ae9f0a5d1134b6ff"
          }
        },
        "11b69c31a6a5447a8f5c16ede0d245f7": {
          "model_module": "@jupyter-widgets/controls",
          "model_name": "HTMLModel",
          "model_module_version": "1.5.0",
          "state": {
            "_dom_classes": [],
            "_model_module": "@jupyter-widgets/controls",
            "_model_module_version": "1.5.0",
            "_model_name": "HTMLModel",
            "_view_count": null,
            "_view_module": "@jupyter-widgets/controls",
            "_view_module_version": "1.5.0",
            "_view_name": "HTMLView",
            "description": "",
            "description_tooltip": null,
            "layout": "IPY_MODEL_dbfbe08129c8443d99251898682844dc",
            "placeholder": "​",
            "style": "IPY_MODEL_6e74915b47e64d3c917ff1d389796622",
            "value": "data_jobs.csv: 100%"
          }
        },
        "dff5b075e8db4e3aabf7d915b0806f82": {
          "model_module": "@jupyter-widgets/controls",
          "model_name": "FloatProgressModel",
          "model_module_version": "1.5.0",
          "state": {
            "_dom_classes": [],
            "_model_module": "@jupyter-widgets/controls",
            "_model_module_version": "1.5.0",
            "_model_name": "FloatProgressModel",
            "_view_count": null,
            "_view_module": "@jupyter-widgets/controls",
            "_view_module_version": "1.5.0",
            "_view_name": "ProgressView",
            "bar_style": "success",
            "description": "",
            "description_tooltip": null,
            "layout": "IPY_MODEL_d2d6e09e57ee44068383b64fa783348d",
            "max": 231152089,
            "min": 0,
            "orientation": "horizontal",
            "style": "IPY_MODEL_d77f6e52c0e245a580abee3378d8d498",
            "value": 231152089
          }
        },
        "798cd26da93342fe85f404fea8efb0a8": {
          "model_module": "@jupyter-widgets/controls",
          "model_name": "HTMLModel",
          "model_module_version": "1.5.0",
          "state": {
            "_dom_classes": [],
            "_model_module": "@jupyter-widgets/controls",
            "_model_module_version": "1.5.0",
            "_model_name": "HTMLModel",
            "_view_count": null,
            "_view_module": "@jupyter-widgets/controls",
            "_view_module_version": "1.5.0",
            "_view_name": "HTMLView",
            "description": "",
            "description_tooltip": null,
            "layout": "IPY_MODEL_e8b0ee834e1f4087924b8e0696aeab3a",
            "placeholder": "​",
            "style": "IPY_MODEL_32e02589b9bb46a6aa2c794babaf5453",
            "value": " 231M/231M [00:01&lt;00:00, 233MB/s]"
          }
        },
        "cf00783af6184989ae9f0a5d1134b6ff": {
          "model_module": "@jupyter-widgets/base",
          "model_name": "LayoutModel",
          "model_module_version": "1.2.0",
          "state": {
            "_model_module": "@jupyter-widgets/base",
            "_model_module_version": "1.2.0",
            "_model_name": "LayoutModel",
            "_view_count": null,
            "_view_module": "@jupyter-widgets/base",
            "_view_module_version": "1.2.0",
            "_view_name": "LayoutView",
            "align_content": null,
            "align_items": null,
            "align_self": null,
            "border": null,
            "bottom": null,
            "display": null,
            "flex": null,
            "flex_flow": null,
            "grid_area": null,
            "grid_auto_columns": null,
            "grid_auto_flow": null,
            "grid_auto_rows": null,
            "grid_column": null,
            "grid_gap": null,
            "grid_row": null,
            "grid_template_areas": null,
            "grid_template_columns": null,
            "grid_template_rows": null,
            "height": null,
            "justify_content": null,
            "justify_items": null,
            "left": null,
            "margin": null,
            "max_height": null,
            "max_width": null,
            "min_height": null,
            "min_width": null,
            "object_fit": null,
            "object_position": null,
            "order": null,
            "overflow": null,
            "overflow_x": null,
            "overflow_y": null,
            "padding": null,
            "right": null,
            "top": null,
            "visibility": null,
            "width": null
          }
        },
        "dbfbe08129c8443d99251898682844dc": {
          "model_module": "@jupyter-widgets/base",
          "model_name": "LayoutModel",
          "model_module_version": "1.2.0",
          "state": {
            "_model_module": "@jupyter-widgets/base",
            "_model_module_version": "1.2.0",
            "_model_name": "LayoutModel",
            "_view_count": null,
            "_view_module": "@jupyter-widgets/base",
            "_view_module_version": "1.2.0",
            "_view_name": "LayoutView",
            "align_content": null,
            "align_items": null,
            "align_self": null,
            "border": null,
            "bottom": null,
            "display": null,
            "flex": null,
            "flex_flow": null,
            "grid_area": null,
            "grid_auto_columns": null,
            "grid_auto_flow": null,
            "grid_auto_rows": null,
            "grid_column": null,
            "grid_gap": null,
            "grid_row": null,
            "grid_template_areas": null,
            "grid_template_columns": null,
            "grid_template_rows": null,
            "height": null,
            "justify_content": null,
            "justify_items": null,
            "left": null,
            "margin": null,
            "max_height": null,
            "max_width": null,
            "min_height": null,
            "min_width": null,
            "object_fit": null,
            "object_position": null,
            "order": null,
            "overflow": null,
            "overflow_x": null,
            "overflow_y": null,
            "padding": null,
            "right": null,
            "top": null,
            "visibility": null,
            "width": null
          }
        },
        "6e74915b47e64d3c917ff1d389796622": {
          "model_module": "@jupyter-widgets/controls",
          "model_name": "DescriptionStyleModel",
          "model_module_version": "1.5.0",
          "state": {
            "_model_module": "@jupyter-widgets/controls",
            "_model_module_version": "1.5.0",
            "_model_name": "DescriptionStyleModel",
            "_view_count": null,
            "_view_module": "@jupyter-widgets/base",
            "_view_module_version": "1.2.0",
            "_view_name": "StyleView",
            "description_width": ""
          }
        },
        "d2d6e09e57ee44068383b64fa783348d": {
          "model_module": "@jupyter-widgets/base",
          "model_name": "LayoutModel",
          "model_module_version": "1.2.0",
          "state": {
            "_model_module": "@jupyter-widgets/base",
            "_model_module_version": "1.2.0",
            "_model_name": "LayoutModel",
            "_view_count": null,
            "_view_module": "@jupyter-widgets/base",
            "_view_module_version": "1.2.0",
            "_view_name": "LayoutView",
            "align_content": null,
            "align_items": null,
            "align_self": null,
            "border": null,
            "bottom": null,
            "display": null,
            "flex": null,
            "flex_flow": null,
            "grid_area": null,
            "grid_auto_columns": null,
            "grid_auto_flow": null,
            "grid_auto_rows": null,
            "grid_column": null,
            "grid_gap": null,
            "grid_row": null,
            "grid_template_areas": null,
            "grid_template_columns": null,
            "grid_template_rows": null,
            "height": null,
            "justify_content": null,
            "justify_items": null,
            "left": null,
            "margin": null,
            "max_height": null,
            "max_width": null,
            "min_height": null,
            "min_width": null,
            "object_fit": null,
            "object_position": null,
            "order": null,
            "overflow": null,
            "overflow_x": null,
            "overflow_y": null,
            "padding": null,
            "right": null,
            "top": null,
            "visibility": null,
            "width": null
          }
        },
        "d77f6e52c0e245a580abee3378d8d498": {
          "model_module": "@jupyter-widgets/controls",
          "model_name": "ProgressStyleModel",
          "model_module_version": "1.5.0",
          "state": {
            "_model_module": "@jupyter-widgets/controls",
            "_model_module_version": "1.5.0",
            "_model_name": "ProgressStyleModel",
            "_view_count": null,
            "_view_module": "@jupyter-widgets/base",
            "_view_module_version": "1.2.0",
            "_view_name": "StyleView",
            "bar_color": null,
            "description_width": ""
          }
        },
        "e8b0ee834e1f4087924b8e0696aeab3a": {
          "model_module": "@jupyter-widgets/base",
          "model_name": "LayoutModel",
          "model_module_version": "1.2.0",
          "state": {
            "_model_module": "@jupyter-widgets/base",
            "_model_module_version": "1.2.0",
            "_model_name": "LayoutModel",
            "_view_count": null,
            "_view_module": "@jupyter-widgets/base",
            "_view_module_version": "1.2.0",
            "_view_name": "LayoutView",
            "align_content": null,
            "align_items": null,
            "align_self": null,
            "border": null,
            "bottom": null,
            "display": null,
            "flex": null,
            "flex_flow": null,
            "grid_area": null,
            "grid_auto_columns": null,
            "grid_auto_flow": null,
            "grid_auto_rows": null,
            "grid_column": null,
            "grid_gap": null,
            "grid_row": null,
            "grid_template_areas": null,
            "grid_template_columns": null,
            "grid_template_rows": null,
            "height": null,
            "justify_content": null,
            "justify_items": null,
            "left": null,
            "margin": null,
            "max_height": null,
            "max_width": null,
            "min_height": null,
            "min_width": null,
            "object_fit": null,
            "object_position": null,
            "order": null,
            "overflow": null,
            "overflow_x": null,
            "overflow_y": null,
            "padding": null,
            "right": null,
            "top": null,
            "visibility": null,
            "width": null
          }
        },
        "32e02589b9bb46a6aa2c794babaf5453": {
          "model_module": "@jupyter-widgets/controls",
          "model_name": "DescriptionStyleModel",
          "model_module_version": "1.5.0",
          "state": {
            "_model_module": "@jupyter-widgets/controls",
            "_model_module_version": "1.5.0",
            "_model_name": "DescriptionStyleModel",
            "_view_count": null,
            "_view_module": "@jupyter-widgets/base",
            "_view_module_version": "1.2.0",
            "_view_name": "StyleView",
            "description_width": ""
          }
        },
        "163c416050f24a1ebd76ec72ab0d93db": {
          "model_module": "@jupyter-widgets/controls",
          "model_name": "HBoxModel",
          "model_module_version": "1.5.0",
          "state": {
            "_dom_classes": [],
            "_model_module": "@jupyter-widgets/controls",
            "_model_module_version": "1.5.0",
            "_model_name": "HBoxModel",
            "_view_count": null,
            "_view_module": "@jupyter-widgets/controls",
            "_view_module_version": "1.5.0",
            "_view_name": "HBoxView",
            "box_style": "",
            "children": [
              "IPY_MODEL_0365b1c40e1b47c5b0d32d2c0ecd4186",
              "IPY_MODEL_e37de968c63c48488bb0732fbd3bbf52",
              "IPY_MODEL_85285fa9b9d642dab26f2666cb8fa08a"
            ],
            "layout": "IPY_MODEL_7e9930ea0f0e4b04b490a40c8bc20375"
          }
        },
        "0365b1c40e1b47c5b0d32d2c0ecd4186": {
          "model_module": "@jupyter-widgets/controls",
          "model_name": "HTMLModel",
          "model_module_version": "1.5.0",
          "state": {
            "_dom_classes": [],
            "_model_module": "@jupyter-widgets/controls",
            "_model_module_version": "1.5.0",
            "_model_name": "HTMLModel",
            "_view_count": null,
            "_view_module": "@jupyter-widgets/controls",
            "_view_module_version": "1.5.0",
            "_view_name": "HTMLView",
            "description": "",
            "description_tooltip": null,
            "layout": "IPY_MODEL_a05ebb5caed945a6ab37a7be8ff846c2",
            "placeholder": "​",
            "style": "IPY_MODEL_759b4d23d94a43d39cd8b2ce07787147",
            "value": "Generating train split: 100%"
          }
        },
        "e37de968c63c48488bb0732fbd3bbf52": {
          "model_module": "@jupyter-widgets/controls",
          "model_name": "FloatProgressModel",
          "model_module_version": "1.5.0",
          "state": {
            "_dom_classes": [],
            "_model_module": "@jupyter-widgets/controls",
            "_model_module_version": "1.5.0",
            "_model_name": "FloatProgressModel",
            "_view_count": null,
            "_view_module": "@jupyter-widgets/controls",
            "_view_module_version": "1.5.0",
            "_view_name": "ProgressView",
            "bar_style": "success",
            "description": "",
            "description_tooltip": null,
            "layout": "IPY_MODEL_e096ba7a915e4751be1d0d831cb82134",
            "max": 785741,
            "min": 0,
            "orientation": "horizontal",
            "style": "IPY_MODEL_e5a9cbe51a414da7a33cab18658f3608",
            "value": 785741
          }
        },
        "85285fa9b9d642dab26f2666cb8fa08a": {
          "model_module": "@jupyter-widgets/controls",
          "model_name": "HTMLModel",
          "model_module_version": "1.5.0",
          "state": {
            "_dom_classes": [],
            "_model_module": "@jupyter-widgets/controls",
            "_model_module_version": "1.5.0",
            "_model_name": "HTMLModel",
            "_view_count": null,
            "_view_module": "@jupyter-widgets/controls",
            "_view_module_version": "1.5.0",
            "_view_name": "HTMLView",
            "description": "",
            "description_tooltip": null,
            "layout": "IPY_MODEL_5ffcc8579a584fb7b11c27e1ab8c7834",
            "placeholder": "​",
            "style": "IPY_MODEL_34358a59d3064a179197293a211ddb54",
            "value": " 785741/785741 [00:07&lt;00:00, 106110.38 examples/s]"
          }
        },
        "7e9930ea0f0e4b04b490a40c8bc20375": {
          "model_module": "@jupyter-widgets/base",
          "model_name": "LayoutModel",
          "model_module_version": "1.2.0",
          "state": {
            "_model_module": "@jupyter-widgets/base",
            "_model_module_version": "1.2.0",
            "_model_name": "LayoutModel",
            "_view_count": null,
            "_view_module": "@jupyter-widgets/base",
            "_view_module_version": "1.2.0",
            "_view_name": "LayoutView",
            "align_content": null,
            "align_items": null,
            "align_self": null,
            "border": null,
            "bottom": null,
            "display": null,
            "flex": null,
            "flex_flow": null,
            "grid_area": null,
            "grid_auto_columns": null,
            "grid_auto_flow": null,
            "grid_auto_rows": null,
            "grid_column": null,
            "grid_gap": null,
            "grid_row": null,
            "grid_template_areas": null,
            "grid_template_columns": null,
            "grid_template_rows": null,
            "height": null,
            "justify_content": null,
            "justify_items": null,
            "left": null,
            "margin": null,
            "max_height": null,
            "max_width": null,
            "min_height": null,
            "min_width": null,
            "object_fit": null,
            "object_position": null,
            "order": null,
            "overflow": null,
            "overflow_x": null,
            "overflow_y": null,
            "padding": null,
            "right": null,
            "top": null,
            "visibility": null,
            "width": null
          }
        },
        "a05ebb5caed945a6ab37a7be8ff846c2": {
          "model_module": "@jupyter-widgets/base",
          "model_name": "LayoutModel",
          "model_module_version": "1.2.0",
          "state": {
            "_model_module": "@jupyter-widgets/base",
            "_model_module_version": "1.2.0",
            "_model_name": "LayoutModel",
            "_view_count": null,
            "_view_module": "@jupyter-widgets/base",
            "_view_module_version": "1.2.0",
            "_view_name": "LayoutView",
            "align_content": null,
            "align_items": null,
            "align_self": null,
            "border": null,
            "bottom": null,
            "display": null,
            "flex": null,
            "flex_flow": null,
            "grid_area": null,
            "grid_auto_columns": null,
            "grid_auto_flow": null,
            "grid_auto_rows": null,
            "grid_column": null,
            "grid_gap": null,
            "grid_row": null,
            "grid_template_areas": null,
            "grid_template_columns": null,
            "grid_template_rows": null,
            "height": null,
            "justify_content": null,
            "justify_items": null,
            "left": null,
            "margin": null,
            "max_height": null,
            "max_width": null,
            "min_height": null,
            "min_width": null,
            "object_fit": null,
            "object_position": null,
            "order": null,
            "overflow": null,
            "overflow_x": null,
            "overflow_y": null,
            "padding": null,
            "right": null,
            "top": null,
            "visibility": null,
            "width": null
          }
        },
        "759b4d23d94a43d39cd8b2ce07787147": {
          "model_module": "@jupyter-widgets/controls",
          "model_name": "DescriptionStyleModel",
          "model_module_version": "1.5.0",
          "state": {
            "_model_module": "@jupyter-widgets/controls",
            "_model_module_version": "1.5.0",
            "_model_name": "DescriptionStyleModel",
            "_view_count": null,
            "_view_module": "@jupyter-widgets/base",
            "_view_module_version": "1.2.0",
            "_view_name": "StyleView",
            "description_width": ""
          }
        },
        "e096ba7a915e4751be1d0d831cb82134": {
          "model_module": "@jupyter-widgets/base",
          "model_name": "LayoutModel",
          "model_module_version": "1.2.0",
          "state": {
            "_model_module": "@jupyter-widgets/base",
            "_model_module_version": "1.2.0",
            "_model_name": "LayoutModel",
            "_view_count": null,
            "_view_module": "@jupyter-widgets/base",
            "_view_module_version": "1.2.0",
            "_view_name": "LayoutView",
            "align_content": null,
            "align_items": null,
            "align_self": null,
            "border": null,
            "bottom": null,
            "display": null,
            "flex": null,
            "flex_flow": null,
            "grid_area": null,
            "grid_auto_columns": null,
            "grid_auto_flow": null,
            "grid_auto_rows": null,
            "grid_column": null,
            "grid_gap": null,
            "grid_row": null,
            "grid_template_areas": null,
            "grid_template_columns": null,
            "grid_template_rows": null,
            "height": null,
            "justify_content": null,
            "justify_items": null,
            "left": null,
            "margin": null,
            "max_height": null,
            "max_width": null,
            "min_height": null,
            "min_width": null,
            "object_fit": null,
            "object_position": null,
            "order": null,
            "overflow": null,
            "overflow_x": null,
            "overflow_y": null,
            "padding": null,
            "right": null,
            "top": null,
            "visibility": null,
            "width": null
          }
        },
        "e5a9cbe51a414da7a33cab18658f3608": {
          "model_module": "@jupyter-widgets/controls",
          "model_name": "ProgressStyleModel",
          "model_module_version": "1.5.0",
          "state": {
            "_model_module": "@jupyter-widgets/controls",
            "_model_module_version": "1.5.0",
            "_model_name": "ProgressStyleModel",
            "_view_count": null,
            "_view_module": "@jupyter-widgets/base",
            "_view_module_version": "1.2.0",
            "_view_name": "StyleView",
            "bar_color": null,
            "description_width": ""
          }
        },
        "5ffcc8579a584fb7b11c27e1ab8c7834": {
          "model_module": "@jupyter-widgets/base",
          "model_name": "LayoutModel",
          "model_module_version": "1.2.0",
          "state": {
            "_model_module": "@jupyter-widgets/base",
            "_model_module_version": "1.2.0",
            "_model_name": "LayoutModel",
            "_view_count": null,
            "_view_module": "@jupyter-widgets/base",
            "_view_module_version": "1.2.0",
            "_view_name": "LayoutView",
            "align_content": null,
            "align_items": null,
            "align_self": null,
            "border": null,
            "bottom": null,
            "display": null,
            "flex": null,
            "flex_flow": null,
            "grid_area": null,
            "grid_auto_columns": null,
            "grid_auto_flow": null,
            "grid_auto_rows": null,
            "grid_column": null,
            "grid_gap": null,
            "grid_row": null,
            "grid_template_areas": null,
            "grid_template_columns": null,
            "grid_template_rows": null,
            "height": null,
            "justify_content": null,
            "justify_items": null,
            "left": null,
            "margin": null,
            "max_height": null,
            "max_width": null,
            "min_height": null,
            "min_width": null,
            "object_fit": null,
            "object_position": null,
            "order": null,
            "overflow": null,
            "overflow_x": null,
            "overflow_y": null,
            "padding": null,
            "right": null,
            "top": null,
            "visibility": null,
            "width": null
          }
        },
        "34358a59d3064a179197293a211ddb54": {
          "model_module": "@jupyter-widgets/controls",
          "model_name": "DescriptionStyleModel",
          "model_module_version": "1.5.0",
          "state": {
            "_model_module": "@jupyter-widgets/controls",
            "_model_module_version": "1.5.0",
            "_model_name": "DescriptionStyleModel",
            "_view_count": null,
            "_view_module": "@jupyter-widgets/base",
            "_view_module_version": "1.2.0",
            "_view_name": "StyleView",
            "description_width": ""
          }
        }
      }
    }
  },
  "cells": [
    {
      "cell_type": "markdown",
      "metadata": {
        "id": "view-in-github",
        "colab_type": "text"
      },
      "source": [
        "<a href=\"https://colab.research.google.com/github/MarvelousAlex/Python_Data_Analysis/blob/main/13_Loops.ipynb\" target=\"_parent\"><img src=\"https://colab.research.google.com/assets/colab-badge.svg\" alt=\"Open In Colab\"/></a>"
      ]
    },
    {
      "cell_type": "markdown",
      "source": [
        "# Loops"
      ],
      "metadata": {
        "id": "6DzDQUr0naAC"
      }
    },
    {
      "cell_type": "markdown",
      "source": [
        "## Overview\n",
        "\n",
        "* `while` loops\n",
        "* `for` loops\n",
        "\n",
        "## Importance\n",
        "\n",
        "Crucial for automating repetitive tasks, like data processing in pandas or creating multiple plots in Matplotlib."
      ],
      "metadata": {
        "id": "heODmgBNnkaC"
      }
    },
    {
      "cell_type": "code",
      "execution_count": 3,
      "metadata": {
        "colab": {
          "base_uri": "https://localhost:8080/"
        },
        "id": "SK04ESCInGUP",
        "outputId": "30367670-0308-4398-9a00-da60f7eda1c6"
      },
      "outputs": [
        {
          "output_type": "stream",
          "name": "stdout",
          "text": [
            "1\n",
            "2\n",
            "3\n",
            "4\n",
            "5\n"
          ]
        }
      ],
      "source": [
        "numbers = [1, 2, 3, 4, 5]\n",
        "for i in numbers:\n",
        "    print(i)"
      ]
    },
    {
      "cell_type": "markdown",
      "source": [
        "A `while` loop repeats an action until a condition is no longer true."
      ],
      "metadata": {
        "id": "iP7Bg0x7ol2A"
      }
    },
    {
      "cell_type": "code",
      "source": [
        "count = 0\n",
        "while count < len(numbers):\n",
        "    print(numbers[count])\n",
        "    count += 1"
      ],
      "metadata": {
        "colab": {
          "base_uri": "https://localhost:8080/"
        },
        "id": "VkXjQH1Yoe-c",
        "outputId": "835880c3-7f10-478c-ce80-e298e1ca80cf"
      },
      "execution_count": 4,
      "outputs": [
        {
          "output_type": "stream",
          "name": "stdout",
          "text": [
            "1\n",
            "2\n",
            "3\n",
            "4\n",
            "5\n"
          ]
        }
      ]
    },
    {
      "cell_type": "markdown",
      "source": [
        "## While\n",
        "\n",
        "### Notes\n",
        "\n",
        "* A `while` loop executes a set of statements as long as the condition is true.\n",
        "* Remember to increment `i`, or else the loop will continue forever.\n",
        "\n",
        "### Examples\n",
        "\n",
        "Prints out all the years of experience required for the 3 data science jobs.\n",
        "\n",
        "* Initializes variables to track the total number of job positions (`total_positions`), and the current position being checked (`position_index`).\n",
        "* Uses a `while` loop to iterate through each job position's minimum experience requirement (`position_experience_requirements`) as long as `position_index` is less than `total_positions`.\n",
        "* Within the loop it prints out the specific number of years of experience `position_experience_requirement` that position requires.\n",
        "* Increments (increases) `position_index` by 1 in each loop iteration to move to the next job position. This makes sure the loop terminates after checking all positions."
      ],
      "metadata": {
        "id": "CkaoRr0GpY9G"
      }
    },
    {
      "cell_type": "code",
      "source": [
        "# Total number of job positions to check\n",
        "total_positions = 3\n",
        "position_index = 0\n",
        "\n",
        "# Minimum years of experience required for each data science job position\n",
        "position_experience_requirements = [1, 3, 2]"
      ],
      "metadata": {
        "id": "VPtY25KQo_60"
      },
      "execution_count": 5,
      "outputs": []
    },
    {
      "cell_type": "code",
      "source": [
        "while position_index < total_positions:\n",
        "    print('Position requires', position_experience_requirements[position_index], 'years of experience.')\n",
        "    position_index += 1"
      ],
      "metadata": {
        "colab": {
          "base_uri": "https://localhost:8080/"
        },
        "id": "ApwuQbmPrNom",
        "outputId": "07b22a0b-da41-4ece-862a-35f89ba414d7"
      },
      "execution_count": 6,
      "outputs": [
        {
          "output_type": "stream",
          "name": "stdout",
          "text": [
            "Position requires 1 years of experience.\n",
            "Position requires 3 years of experience.\n",
            "Position requires 2 years of experience.\n"
          ]
        }
      ]
    },
    {
      "cell_type": "markdown",
      "source": [
        "### Practical Example\n",
        "\n",
        "Here's a more complicated example of how you can use `while` loops.\n",
        "\n",
        "We'll add in the `user_years_of_experience`.\n",
        "\n",
        "* Initializes variables to track the user's experience (`user_years_of_experience`), the total number of job positions (`total_positions`), and the current position being checked (`position_index`).\n",
        "* Uses a `while` loop to iterate through each job position's minimum experience requirement (`position_experience_requirements`) as long as `position_index` is less than `total_positions`.\n",
        "* Within the loop, compares `user_years_of_experience` to the requirement for the current position (`required_years`): prints 'Qualified' if the user meets or exceeds the requirement, otherwise prints 'Not qualified'.\n",
        "* Increments (increases) `position_index` by 1 in each loop iteration to move to the next job position. This makes sure the loop terminates after checking all positions."
      ],
      "metadata": {
        "id": "XGFnUgA7sBDj"
      }
    },
    {
      "cell_type": "code",
      "source": [
        "# User's years of experience\n",
        "user_years_of_experience = 2\n",
        "\n",
        "user_years_of_experience"
      ],
      "metadata": {
        "colab": {
          "base_uri": "https://localhost:8080/"
        },
        "id": "U4h6yNcvr9_p",
        "outputId": "19c78946-d2b4-42ff-830b-9bbb440ddeff"
      },
      "execution_count": 7,
      "outputs": [
        {
          "output_type": "execute_result",
          "data": {
            "text/plain": [
              "2"
            ]
          },
          "metadata": {},
          "execution_count": 7
        }
      ]
    },
    {
      "cell_type": "code",
      "source": [
        "# Initialize variables\n",
        "position_index = 0\n",
        "total_positions = len(position_experience_requirements)  # Number of positions (3)\n",
        "\n",
        "# While loop to check qualifications\n",
        "while position_index < total_positions:\n",
        "    required_years = position_experience_requirements[position_index]\n",
        "    if user_years_of_experience >= required_years:\n",
        "        print(f\"Qualified! The position {position_index + 1} requires {position_experience_requirements[position_index]} years\")\n",
        "    else:\n",
        "        print(f\"Not qualified! The position {position_index + 1} requires {position_experience_requirements[position_index]} years\")\n",
        "    position_index += 1  # Increment index to move to the next position"
      ],
      "metadata": {
        "colab": {
          "base_uri": "https://localhost:8080/"
        },
        "id": "5RgIbZ0lsVyo",
        "outputId": "dbbf04ef-1373-4cb6-eee6-17500a7af994"
      },
      "execution_count": 8,
      "outputs": [
        {
          "output_type": "stream",
          "name": "stdout",
          "text": [
            "Qualified! The position 1 requires 1 years\n",
            "Not qualified! The position 2 requires 3 years\n",
            "Qualified! The position 3 requires 2 years\n"
          ]
        }
      ]
    },
    {
      "cell_type": "markdown",
      "source": [
        "## For\n",
        "\n",
        "### Notes\n",
        "\n",
        "* A `for` loop iterates over a sequence (e.g. list, tuple, dictionary, set, or string).\n",
        "* Execute a set of statements, one for each item in a list, tuple, set, etc.\n",
        "\n",
        "### Example\n",
        "\n",
        "This loop checks the user's qualification for each position based on their years of experience and returns the result.\n",
        "\n",
        "We're using the same variable as before: `position_experience_requirements`.\n",
        "\n",
        "* A `for` loop iterates (goes through) through each item in the position_experience_requirements list.\n",
        "* Inside the loop it prints the years of experience required for the position."
      ],
      "metadata": {
        "id": "FW0B0lmFv1AH"
      }
    },
    {
      "cell_type": "code",
      "source": [
        "for i in position_experience_requirements:\n",
        "    print(f\"Positions requires {i} years of experience.\")"
      ],
      "metadata": {
        "colab": {
          "base_uri": "https://localhost:8080/"
        },
        "id": "WmIBhUIesaxC",
        "outputId": "db6180d5-deb6-4cbb-b624-1d6273de7b5b"
      },
      "execution_count": 9,
      "outputs": [
        {
          "output_type": "stream",
          "name": "stdout",
          "text": [
            "Positions requires 1 years of experience.\n",
            "Positions requires 3 years of experience.\n",
            "Positions requires 2 years of experience.\n"
          ]
        }
      ]
    },
    {
      "cell_type": "markdown",
      "source": [
        "### Enumerate\n",
        "\n",
        "#### Notes\n",
        "\n",
        "* Primary used in loops, especially in `for` loops.\n",
        "* Good for when you need the index of an iterable object for operations like:\n",
        "    * updating the elements based on their position\n",
        "    * comparing items at different positions\n",
        "    * displaying the position along with the item\n",
        "* Syntax: `enumerate(iterable, start = 0)`\n",
        "\n",
        "#### Example\n",
        "\n",
        "Instead of simply iterating over the list with `x in list` to get the years of experience required for each position, we can use `enumerate` to get both the index (which represents the position number) and the years of experience from `position_experience_requirements`.\n",
        "\n",
        "We'll also use f-strings to format our string."
      ],
      "metadata": {
        "id": "pUhD4Fh5wDnt"
      }
    },
    {
      "cell_type": "code",
      "source": [
        "# Enhanced example using enumerate to include the position index\n",
        "for index, year in enumerate(position_experience_requirements, start = 1):\n",
        "    print(f\"Position {index} requires {year} years of experience.\")"
      ],
      "metadata": {
        "colab": {
          "base_uri": "https://localhost:8080/"
        },
        "id": "v95V5H1atpip",
        "outputId": "9d433294-45fb-436e-dbac-2932ada7a3e1"
      },
      "execution_count": 10,
      "outputs": [
        {
          "output_type": "stream",
          "name": "stdout",
          "text": [
            "Position 1 requires 1 years of experience.\n",
            "Position 2 requires 3 years of experience.\n",
            "Position 3 requires 2 years of experience.\n"
          ]
        }
      ]
    },
    {
      "cell_type": "markdown",
      "source": [
        "### Pass\n",
        "\n",
        "#### Notes\n",
        "\n",
        "* `pass` is used when a `for` has nothing in it, so it avoids and error\n",
        "\n",
        "#### Example\n",
        "\n",
        "Below we updated our example and added `pass` in it."
      ],
      "metadata": {
        "id": "c1LeBIDkwZAi"
      }
    },
    {
      "cell_type": "code",
      "source": [
        "for x in position_experience_requirements:\n",
        "    pass"
      ],
      "metadata": {
        "id": "j8ALS_vpwVo0"
      },
      "execution_count": 11,
      "outputs": []
    },
    {
      "cell_type": "markdown",
      "source": [
        "### Nested Loops\n",
        "\n",
        "You can also have a loop inside another loop. Below we're going through two lists."
      ],
      "metadata": {
        "id": "rL39rpCawdYP"
      }
    },
    {
      "cell_type": "code",
      "source": [
        "roles = ['Data Scientist', 'Machine Learning Engineer']\n",
        "skills = ['Python', 'SQL', 'Machine Learning']\n",
        "\n",
        "for role in roles:\n",
        "    print(f'For the role of {role}, you need experience in:')\n",
        "    for skill in skills:\n",
        "        print(f'  - {skill}')"
      ],
      "metadata": {
        "colab": {
          "base_uri": "https://localhost:8080/"
        },
        "id": "RaMHwzFCxunU",
        "outputId": "395b4d4d-d977-46f0-8a10-3caf86064d0e"
      },
      "execution_count": 12,
      "outputs": [
        {
          "output_type": "stream",
          "name": "stdout",
          "text": [
            "For the role of Data Scientist, you need experience in:\n",
            "  - Python\n",
            "  - SQL\n",
            "  - Machine Learning\n",
            "For the role of Machine Learning Engineer, you need experience in:\n",
            "  - Python\n",
            "  - SQL\n",
            "  - Machine Learning\n"
          ]
        }
      ]
    },
    {
      "cell_type": "markdown",
      "source": [
        "### Practical Example\n",
        "\n",
        "Here's a more complicated example of how you can use `for` loops.\n",
        "\n",
        "This loop checks the user's qualification for each position based on their years of experience and returns the result.\n",
        "\n",
        "* The code defines a list named position_experience_requirements with integers representing the minimum years of experience required for various data science job positions.\n",
        "* It sets a variable `user_years_of_experience` to 2.\n",
        "* A for loop iterates (goes through) through each item in the position_experience_requirements list.\n",
        "* Inside the loop, an if statement checks if user_experience is greater than or equal to required_experience for a position.\n",
        "* If the condition is met, it prints 'Qualified'; otherwise, it prints 'Not qualified'."
      ],
      "metadata": {
        "id": "rpkXOtpfXlCf"
      }
    },
    {
      "cell_type": "code",
      "source": [
        "# For loop to check qualification for each job\n",
        "for required_experience in position_experience_requirements:\n",
        "    if user_years_of_experience >= required_experience:\n",
        "        print(\"Qualified\")\n",
        "    else:\n",
        "        print(\"Not Qualified\")"
      ],
      "metadata": {
        "colab": {
          "base_uri": "https://localhost:8080/"
        },
        "id": "zQnjNoUJyFpw",
        "outputId": "a5cd47bc-7c56-419a-836f-73eecab9b061"
      },
      "execution_count": 18,
      "outputs": [
        {
          "output_type": "stream",
          "name": "stdout",
          "text": [
            "Qualified\n",
            "Not Qualified\n",
            "Qualified\n"
          ]
        }
      ]
    },
    {
      "cell_type": "code",
      "source": [
        "position_experience_requirements"
      ],
      "metadata": {
        "colab": {
          "base_uri": "https://localhost:8080/"
        },
        "id": "p74yNatEYN55",
        "outputId": "c37414bf-8e05-4d44-86fb-2bafdcb147b3"
      },
      "execution_count": 16,
      "outputs": [
        {
          "output_type": "execute_result",
          "data": {
            "text/plain": [
              "[1, 3, 2]"
            ]
          },
          "metadata": {},
          "execution_count": 16
        }
      ]
    },
    {
      "cell_type": "markdown",
      "source": [
        "### Break\n",
        "\n",
        "The `break` statement can stop the loop before it's looped through all of the items. Here the break exits the loop early if the condition is met (aka if the users experience is greater than or equal to the required experience)."
      ],
      "metadata": {
        "id": "x2GO0-EPZoXs"
      }
    },
    {
      "cell_type": "code",
      "source": [
        "# For loop to check qualification for each job\n",
        "for required_experience in position_experience_requirements:\n",
        "    if user_years_of_experience >= required_experience:\n",
        "        break\n",
        "    else:\n",
        "        print(\"Not Qualified\")"
      ],
      "metadata": {
        "id": "v4uPJ6UBYpY9"
      },
      "execution_count": 20,
      "outputs": []
    },
    {
      "cell_type": "markdown",
      "source": [
        "What if you didn't have a specific list to run through? And instead want to just go through a specific number of times? Then you'd use `range()`."
      ],
      "metadata": {
        "id": "uY4sphJEZ5kD"
      }
    },
    {
      "cell_type": "markdown",
      "source": [
        "### Example #2\n",
        "\n",
        "Problem: Make a list of job titles containing \"Data Analyst\"."
      ],
      "metadata": {
        "id": "uGB3gqbTaATE"
      }
    },
    {
      "cell_type": "markdown",
      "source": [
        "The following Code block is only to import the data.\n",
        "\n",
        "This includes concepts we haven't covered yet; so just ignore it for now."
      ],
      "metadata": {
        "id": "VRibpormwLtq"
      }
    },
    {
      "cell_type": "code",
      "source": [
        "from datasets import load_dataset\n",
        "\n",
        "# Load the dataset\n",
        "dataset = load_dataset('lukebarousse/data_jobs')\n",
        "df = dataset['train'].to_pandas()\n",
        "\n",
        "# Create a list of job titles from the dataset\n",
        "job_list = df['job_title'].tolist()\n",
        "\n",
        "# Remove any non-string values from the list\n",
        "job_list = [job for job in job_list if isinstance(job, str)]\n",
        "\n",
        "# Display the first 10 job titles\n",
        "job_list[:10]"
      ],
      "metadata": {
        "colab": {
          "base_uri": "https://localhost:8080/",
          "height": 287,
          "referenced_widgets": [
            "6d2688226a2c4abf95bf1df5d9964649",
            "e8332583c5eb43508cbc49d25e5096cb",
            "cb0f510d5ea0420c81227f3b37809adf",
            "45987e3bf2824206ab72ccc9460a6043",
            "c53de3055af848f99411221c72ad9c23",
            "d7eee86aabe646f1b6a13b8eec8714b1",
            "d9ff3e16d07c4708a93d25fb95543f13",
            "d10777e54a0f497a98ff90c718be4630",
            "a41ac0055a5246dab1c02a071d5cf49d",
            "f9df6cd9453640779e17340865b4b57a",
            "3e125830aa3a4c49aa59ba18d6955b6b",
            "72cadcd7c7ad41c1bbd0b704bd38032a",
            "11b69c31a6a5447a8f5c16ede0d245f7",
            "dff5b075e8db4e3aabf7d915b0806f82",
            "798cd26da93342fe85f404fea8efb0a8",
            "cf00783af6184989ae9f0a5d1134b6ff",
            "dbfbe08129c8443d99251898682844dc",
            "6e74915b47e64d3c917ff1d389796622",
            "d2d6e09e57ee44068383b64fa783348d",
            "d77f6e52c0e245a580abee3378d8d498",
            "e8b0ee834e1f4087924b8e0696aeab3a",
            "32e02589b9bb46a6aa2c794babaf5453",
            "163c416050f24a1ebd76ec72ab0d93db",
            "0365b1c40e1b47c5b0d32d2c0ecd4186",
            "e37de968c63c48488bb0732fbd3bbf52",
            "85285fa9b9d642dab26f2666cb8fa08a",
            "7e9930ea0f0e4b04b490a40c8bc20375",
            "a05ebb5caed945a6ab37a7be8ff846c2",
            "759b4d23d94a43d39cd8b2ce07787147",
            "e096ba7a915e4751be1d0d831cb82134",
            "e5a9cbe51a414da7a33cab18658f3608",
            "5ffcc8579a584fb7b11c27e1ab8c7834",
            "34358a59d3064a179197293a211ddb54"
          ]
        },
        "id": "oOYKRSC9Z1R3",
        "outputId": "50ff4773-6062-4c55-bb80-d2e9abd4f3dd"
      },
      "execution_count": 22,
      "outputs": [
        {
          "output_type": "display_data",
          "data": {
            "text/plain": [
              "README.md: 0.00B [00:00, ?B/s]"
            ],
            "application/vnd.jupyter.widget-view+json": {
              "version_major": 2,
              "version_minor": 0,
              "model_id": "6d2688226a2c4abf95bf1df5d9964649"
            }
          },
          "metadata": {}
        },
        {
          "output_type": "display_data",
          "data": {
            "text/plain": [
              "data_jobs.csv:   0%|          | 0.00/231M [00:00<?, ?B/s]"
            ],
            "application/vnd.jupyter.widget-view+json": {
              "version_major": 2,
              "version_minor": 0,
              "model_id": "72cadcd7c7ad41c1bbd0b704bd38032a"
            }
          },
          "metadata": {}
        },
        {
          "output_type": "display_data",
          "data": {
            "text/plain": [
              "Generating train split:   0%|          | 0/785741 [00:00<?, ? examples/s]"
            ],
            "application/vnd.jupyter.widget-view+json": {
              "version_major": 2,
              "version_minor": 0,
              "model_id": "163c416050f24a1ebd76ec72ab0d93db"
            }
          },
          "metadata": {}
        },
        {
          "output_type": "execute_result",
          "data": {
            "text/plain": [
              "['Senior Clinical Data Engineer / Principal Clinical Data Engineer ...',\n",
              " 'Data Analyst',\n",
              " 'Data Engineer/Scientist/Analyst, Mid or Senior (m/f/x)',\n",
              " 'LEAD ENGINEER - PRINCIPAL ANALYST - PRINCIPAL ENGINEER -  DATA...',\n",
              " 'Data Engineer- Sr Jobs',\n",
              " 'GCP Data Engineer',\n",
              " 'Senior Data Engineer  - GCP Cloud',\n",
              " 'Data Engineer',\n",
              " 'Technology & Operations Business Analyst',\n",
              " 'Data Scientist II']"
            ]
          },
          "metadata": {},
          "execution_count": 22
        }
      ]
    },
    {
      "cell_type": "code",
      "source": [
        "# Create an empty list to store the job titles that contain \"Data Analyst\"\n",
        "analyst_list = []\n",
        "\n",
        "# Loop through the job titles and add any that contain \"Data Analyst\" to the analyst_list\n",
        "for job in job_list:\n",
        "    if 'Data Analyst' in job:\n",
        "        analyst_list.append(job)\n",
        "\n",
        "# Display the job titles that contain \"Data Analyst\"\n",
        "analyst_list[:10]"
      ],
      "metadata": {
        "colab": {
          "base_uri": "https://localhost:8080/"
        },
        "id": "diiaOk_twRv_",
        "outputId": "2a65acae-4735-4bf3-9187-5de8ddfe7d5d"
      },
      "execution_count": 23,
      "outputs": [
        {
          "output_type": "execute_result",
          "data": {
            "text/plain": [
              "['Data Analyst',\n",
              " 'Stagiaire Data Analyst (H/F) - Lyon (69006)',\n",
              " 'Data Analyst',\n",
              " 'Senior Officer, Data Analyst, GTO',\n",
              " 'Stage - Data Analyst F/H',\n",
              " 'Data Analyst als Marketing Manager Automation (W/D/M)',\n",
              " 'Data Analyst',\n",
              " 'Senior Data Analyst',\n",
              " 'Data Analyst (Bangkok Based, relocation provided)',\n",
              " 'Senior Data Analyst']"
            ]
          },
          "metadata": {},
          "execution_count": 23
        }
      ]
    },
    {
      "cell_type": "markdown",
      "source": [
        "## `range()` function\n",
        "\n",
        "#### Notes\n",
        "\n",
        "* `range()` runs a `for` loop a specific number of times\n",
        "* It returns a sequence of numbers, starting from 0 be default, and increments by 1 (by default), and ends at the specified number\n",
        "\n",
        "#### Examples\n",
        "\n",
        "First we'll print numbers from 0 to 3 since `range(4)` goes from 0 to 4 (not including 4)."
      ],
      "metadata": {
        "id": "ZifChkTEyHld"
      }
    },
    {
      "cell_type": "code",
      "source": [
        "for x in range(4):\n",
        "    print(x)"
      ],
      "metadata": {
        "colab": {
          "base_uri": "https://localhost:8080/"
        },
        "id": "8-OS1L7eyIQb",
        "outputId": "934e6f7a-7653-4bb5-b80b-85e2b8122dc7"
      },
      "execution_count": 24,
      "outputs": [
        {
          "output_type": "stream",
          "name": "stdout",
          "text": [
            "0\n",
            "1\n",
            "2\n",
            "3\n"
          ]
        }
      ]
    },
    {
      "cell_type": "code",
      "source": [
        "for x in range(1,6):\n",
        "    print(x)"
      ],
      "metadata": {
        "colab": {
          "base_uri": "https://localhost:8080/"
        },
        "id": "3Jur-m23yLFa",
        "outputId": "b9820860-83de-4e4e-85ef-58ed29db3813"
      },
      "execution_count": 26,
      "outputs": [
        {
          "output_type": "stream",
          "name": "stdout",
          "text": [
            "1\n",
            "2\n",
            "3\n",
            "4\n",
            "5\n"
          ]
        }
      ]
    }
  ]
}