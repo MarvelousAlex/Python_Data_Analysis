{
 "cells": [
  {
   "cell_type": "markdown",
   "id": "28c7d1a7",
   "metadata": {},
   "source": [
    "Pandas Merge DataFrams\n"
   ]
  },
  {
   "cell_type": "markdown",
   "id": "37c7487d",
   "metadata": {},
   "source": [
    "Load data\n"
   ]
  },
  {
   "cell_type": "code",
   "execution_count": 1,
   "id": "26c2d835",
   "metadata": {},
   "outputs": [],
   "source": [
    "# Importing Libraries\n",
    "import pandas as pd\n",
    "import matplotlib.pyplot as plt\n",
    "from datasets import load_dataset\n",
    "\n",
    "# Load the dataset\n",
    "dataset = load_dataset('lukebarousse/data_jobs')\n",
    "df = dataset['train'].to_pandas()\n",
    "\n",
    "# Data Cleanup\n",
    "df['job_posted_date'] = pd.to_datetime(df['job_posted_date'])"
   ]
  },
  {
   "cell_type": "markdown",
   "id": "c0fd128a",
   "metadata": {},
   "source": [
    "Notes\n",
    "\n",
    "- `merge()`: Combine DataFrames based on common columns or indices, similar to SQL joins (inner, outer, left, right).\n",
    "- It merges rows from the DataFrame based on the specific keys.\n"
   ]
  },
  {
   "cell_type": "markdown",
   "id": "5671bc39",
   "metadata": {},
   "source": [
    "Example 1\n",
    "\n",
    "We need to combine two DataFrames:\n",
    "\n",
    "- `df_jobs` has info similiar to our `df` DataFrame\n",
    "- `df_companies` has company info\n"
   ]
  },
  {
   "cell_type": "code",
   "execution_count": 2,
   "id": "a31cbf20",
   "metadata": {},
   "outputs": [],
   "source": [
    "job_data = {\n",
    "    'job_id': [1, 2, 3, 4, 5],\n",
    "    'job_title': ['Data Scientist', 'Software Engineer', 'Product Manager', 'Marketing Director', 'HR Manager'],\n",
    "    'company_name': ['Google', 'Microsoft', 'Apple', 'Nike', 'Starbucks'],\n",
    "    'job_location': ['Mountain View, CA', 'Redmond, WA', 'Cupertino, CA', 'Beaverton, OR', 'Seattle, WA']\n",
    "}\n",
    "\n",
    "company_data = {\n",
    "    'company_name': ['Google', 'Microsoft', 'Apple', 'Nike', 'Starbucks'],\n",
    "    'industry': ['Technology', 'Technology', 'Technology', 'Apparel', 'Food & Beverage'],\n",
    "    'company_size': ['100,000+', '100,000+', '100,000+', '75,000+', '346,000+']\n",
    "}\n",
    "\n",
    "df_jobs = pd.DataFrame(job_data)\n",
    "df_companies = pd.DataFrame(company_data)"
   ]
  },
  {
   "cell_type": "code",
   "execution_count": 3,
   "id": "5743cfd0",
   "metadata": {},
   "outputs": [
    {
     "data": {
      "application/vnd.microsoft.datawrangler.viewer.v0+json": {
       "columns": [
        {
         "name": "index",
         "rawType": "int64",
         "type": "integer"
        },
        {
         "name": "job_id",
         "rawType": "int64",
         "type": "integer"
        },
        {
         "name": "job_title",
         "rawType": "object",
         "type": "string"
        },
        {
         "name": "company_name",
         "rawType": "object",
         "type": "string"
        },
        {
         "name": "job_location",
         "rawType": "object",
         "type": "string"
        }
       ],
       "ref": "7a944447-b956-4987-a795-93ffe2315003",
       "rows": [
        [
         "0",
         "1",
         "Data Scientist",
         "Google",
         "Mountain View, CA"
        ],
        [
         "1",
         "2",
         "Software Engineer",
         "Microsoft",
         "Redmond, WA"
        ],
        [
         "2",
         "3",
         "Product Manager",
         "Apple",
         "Cupertino, CA"
        ],
        [
         "3",
         "4",
         "Marketing Director",
         "Nike",
         "Beaverton, OR"
        ],
        [
         "4",
         "5",
         "HR Manager",
         "Starbucks",
         "Seattle, WA"
        ]
       ],
       "shape": {
        "columns": 4,
        "rows": 5
       }
      },
      "text/html": [
       "<div>\n",
       "<style scoped>\n",
       "    .dataframe tbody tr th:only-of-type {\n",
       "        vertical-align: middle;\n",
       "    }\n",
       "\n",
       "    .dataframe tbody tr th {\n",
       "        vertical-align: top;\n",
       "    }\n",
       "\n",
       "    .dataframe thead th {\n",
       "        text-align: right;\n",
       "    }\n",
       "</style>\n",
       "<table border=\"1\" class=\"dataframe\">\n",
       "  <thead>\n",
       "    <tr style=\"text-align: right;\">\n",
       "      <th></th>\n",
       "      <th>job_id</th>\n",
       "      <th>job_title</th>\n",
       "      <th>company_name</th>\n",
       "      <th>job_location</th>\n",
       "    </tr>\n",
       "  </thead>\n",
       "  <tbody>\n",
       "    <tr>\n",
       "      <th>0</th>\n",
       "      <td>1</td>\n",
       "      <td>Data Scientist</td>\n",
       "      <td>Google</td>\n",
       "      <td>Mountain View, CA</td>\n",
       "    </tr>\n",
       "    <tr>\n",
       "      <th>1</th>\n",
       "      <td>2</td>\n",
       "      <td>Software Engineer</td>\n",
       "      <td>Microsoft</td>\n",
       "      <td>Redmond, WA</td>\n",
       "    </tr>\n",
       "    <tr>\n",
       "      <th>2</th>\n",
       "      <td>3</td>\n",
       "      <td>Product Manager</td>\n",
       "      <td>Apple</td>\n",
       "      <td>Cupertino, CA</td>\n",
       "    </tr>\n",
       "    <tr>\n",
       "      <th>3</th>\n",
       "      <td>4</td>\n",
       "      <td>Marketing Director</td>\n",
       "      <td>Nike</td>\n",
       "      <td>Beaverton, OR</td>\n",
       "    </tr>\n",
       "    <tr>\n",
       "      <th>4</th>\n",
       "      <td>5</td>\n",
       "      <td>HR Manager</td>\n",
       "      <td>Starbucks</td>\n",
       "      <td>Seattle, WA</td>\n",
       "    </tr>\n",
       "  </tbody>\n",
       "</table>\n",
       "</div>"
      ],
      "text/plain": [
       "   job_id           job_title company_name       job_location\n",
       "0       1      Data Scientist       Google  Mountain View, CA\n",
       "1       2   Software Engineer    Microsoft        Redmond, WA\n",
       "2       3     Product Manager        Apple      Cupertino, CA\n",
       "3       4  Marketing Director         Nike      Beaverton, OR\n",
       "4       5          HR Manager    Starbucks        Seattle, WA"
      ]
     },
     "execution_count": 3,
     "metadata": {},
     "output_type": "execute_result"
    }
   ],
   "source": [
    "df_jobs"
   ]
  },
  {
   "cell_type": "code",
   "execution_count": 4,
   "id": "27192da6",
   "metadata": {},
   "outputs": [
    {
     "data": {
      "application/vnd.microsoft.datawrangler.viewer.v0+json": {
       "columns": [
        {
         "name": "index",
         "rawType": "int64",
         "type": "integer"
        },
        {
         "name": "company_name",
         "rawType": "object",
         "type": "string"
        },
        {
         "name": "industry",
         "rawType": "object",
         "type": "string"
        },
        {
         "name": "company_size",
         "rawType": "object",
         "type": "string"
        }
       ],
       "ref": "55e827a4-c901-462f-b8a8-6db8140fde64",
       "rows": [
        [
         "0",
         "Google",
         "Technology",
         "100,000+"
        ],
        [
         "1",
         "Microsoft",
         "Technology",
         "100,000+"
        ],
        [
         "2",
         "Apple",
         "Technology",
         "100,000+"
        ],
        [
         "3",
         "Nike",
         "Apparel",
         "75,000+"
        ],
        [
         "4",
         "Starbucks",
         "Food & Beverage",
         "346,000+"
        ]
       ],
       "shape": {
        "columns": 3,
        "rows": 5
       }
      },
      "text/html": [
       "<div>\n",
       "<style scoped>\n",
       "    .dataframe tbody tr th:only-of-type {\n",
       "        vertical-align: middle;\n",
       "    }\n",
       "\n",
       "    .dataframe tbody tr th {\n",
       "        vertical-align: top;\n",
       "    }\n",
       "\n",
       "    .dataframe thead th {\n",
       "        text-align: right;\n",
       "    }\n",
       "</style>\n",
       "<table border=\"1\" class=\"dataframe\">\n",
       "  <thead>\n",
       "    <tr style=\"text-align: right;\">\n",
       "      <th></th>\n",
       "      <th>company_name</th>\n",
       "      <th>industry</th>\n",
       "      <th>company_size</th>\n",
       "    </tr>\n",
       "  </thead>\n",
       "  <tbody>\n",
       "    <tr>\n",
       "      <th>0</th>\n",
       "      <td>Google</td>\n",
       "      <td>Technology</td>\n",
       "      <td>100,000+</td>\n",
       "    </tr>\n",
       "    <tr>\n",
       "      <th>1</th>\n",
       "      <td>Microsoft</td>\n",
       "      <td>Technology</td>\n",
       "      <td>100,000+</td>\n",
       "    </tr>\n",
       "    <tr>\n",
       "      <th>2</th>\n",
       "      <td>Apple</td>\n",
       "      <td>Technology</td>\n",
       "      <td>100,000+</td>\n",
       "    </tr>\n",
       "    <tr>\n",
       "      <th>3</th>\n",
       "      <td>Nike</td>\n",
       "      <td>Apparel</td>\n",
       "      <td>75,000+</td>\n",
       "    </tr>\n",
       "    <tr>\n",
       "      <th>4</th>\n",
       "      <td>Starbucks</td>\n",
       "      <td>Food &amp; Beverage</td>\n",
       "      <td>346,000+</td>\n",
       "    </tr>\n",
       "  </tbody>\n",
       "</table>\n",
       "</div>"
      ],
      "text/plain": [
       "  company_name         industry company_size\n",
       "0       Google       Technology     100,000+\n",
       "1    Microsoft       Technology     100,000+\n",
       "2        Apple       Technology     100,000+\n",
       "3         Nike          Apparel      75,000+\n",
       "4    Starbucks  Food & Beverage     346,000+"
      ]
     },
     "execution_count": 4,
     "metadata": {},
     "output_type": "execute_result"
    }
   ],
   "source": [
    "df_companies"
   ]
  },
  {
   "cell_type": "code",
   "execution_count": 5,
   "id": "b7c51e9e",
   "metadata": {},
   "outputs": [
    {
     "data": {
      "application/vnd.microsoft.datawrangler.viewer.v0+json": {
       "columns": [
        {
         "name": "index",
         "rawType": "int64",
         "type": "integer"
        },
        {
         "name": "job_id",
         "rawType": "int64",
         "type": "integer"
        },
        {
         "name": "job_title",
         "rawType": "object",
         "type": "string"
        },
        {
         "name": "company_name",
         "rawType": "object",
         "type": "string"
        },
        {
         "name": "job_location",
         "rawType": "object",
         "type": "string"
        },
        {
         "name": "industry",
         "rawType": "object",
         "type": "string"
        },
        {
         "name": "company_size",
         "rawType": "object",
         "type": "string"
        }
       ],
       "ref": "7c7a3240-8120-4d17-a6a2-8df968b644ef",
       "rows": [
        [
         "0",
         "1",
         "Data Scientist",
         "Google",
         "Mountain View, CA",
         "Technology",
         "100,000+"
        ],
        [
         "1",
         "2",
         "Software Engineer",
         "Microsoft",
         "Redmond, WA",
         "Technology",
         "100,000+"
        ],
        [
         "2",
         "3",
         "Product Manager",
         "Apple",
         "Cupertino, CA",
         "Technology",
         "100,000+"
        ],
        [
         "3",
         "4",
         "Marketing Director",
         "Nike",
         "Beaverton, OR",
         "Apparel",
         "75,000+"
        ],
        [
         "4",
         "5",
         "HR Manager",
         "Starbucks",
         "Seattle, WA",
         "Food & Beverage",
         "346,000+"
        ]
       ],
       "shape": {
        "columns": 6,
        "rows": 5
       }
      },
      "text/html": [
       "<div>\n",
       "<style scoped>\n",
       "    .dataframe tbody tr th:only-of-type {\n",
       "        vertical-align: middle;\n",
       "    }\n",
       "\n",
       "    .dataframe tbody tr th {\n",
       "        vertical-align: top;\n",
       "    }\n",
       "\n",
       "    .dataframe thead th {\n",
       "        text-align: right;\n",
       "    }\n",
       "</style>\n",
       "<table border=\"1\" class=\"dataframe\">\n",
       "  <thead>\n",
       "    <tr style=\"text-align: right;\">\n",
       "      <th></th>\n",
       "      <th>job_id</th>\n",
       "      <th>job_title</th>\n",
       "      <th>company_name</th>\n",
       "      <th>job_location</th>\n",
       "      <th>industry</th>\n",
       "      <th>company_size</th>\n",
       "    </tr>\n",
       "  </thead>\n",
       "  <tbody>\n",
       "    <tr>\n",
       "      <th>0</th>\n",
       "      <td>1</td>\n",
       "      <td>Data Scientist</td>\n",
       "      <td>Google</td>\n",
       "      <td>Mountain View, CA</td>\n",
       "      <td>Technology</td>\n",
       "      <td>100,000+</td>\n",
       "    </tr>\n",
       "    <tr>\n",
       "      <th>1</th>\n",
       "      <td>2</td>\n",
       "      <td>Software Engineer</td>\n",
       "      <td>Microsoft</td>\n",
       "      <td>Redmond, WA</td>\n",
       "      <td>Technology</td>\n",
       "      <td>100,000+</td>\n",
       "    </tr>\n",
       "    <tr>\n",
       "      <th>2</th>\n",
       "      <td>3</td>\n",
       "      <td>Product Manager</td>\n",
       "      <td>Apple</td>\n",
       "      <td>Cupertino, CA</td>\n",
       "      <td>Technology</td>\n",
       "      <td>100,000+</td>\n",
       "    </tr>\n",
       "    <tr>\n",
       "      <th>3</th>\n",
       "      <td>4</td>\n",
       "      <td>Marketing Director</td>\n",
       "      <td>Nike</td>\n",
       "      <td>Beaverton, OR</td>\n",
       "      <td>Apparel</td>\n",
       "      <td>75,000+</td>\n",
       "    </tr>\n",
       "    <tr>\n",
       "      <th>4</th>\n",
       "      <td>5</td>\n",
       "      <td>HR Manager</td>\n",
       "      <td>Starbucks</td>\n",
       "      <td>Seattle, WA</td>\n",
       "      <td>Food &amp; Beverage</td>\n",
       "      <td>346,000+</td>\n",
       "    </tr>\n",
       "  </tbody>\n",
       "</table>\n",
       "</div>"
      ],
      "text/plain": [
       "   job_id           job_title company_name       job_location  \\\n",
       "0       1      Data Scientist       Google  Mountain View, CA   \n",
       "1       2   Software Engineer    Microsoft        Redmond, WA   \n",
       "2       3     Product Manager        Apple      Cupertino, CA   \n",
       "3       4  Marketing Director         Nike      Beaverton, OR   \n",
       "4       5          HR Manager    Starbucks        Seattle, WA   \n",
       "\n",
       "          industry company_size  \n",
       "0       Technology     100,000+  \n",
       "1       Technology     100,000+  \n",
       "2       Technology     100,000+  \n",
       "3          Apparel      75,000+  \n",
       "4  Food & Beverage     346,000+  "
      ]
     },
     "execution_count": 5,
     "metadata": {},
     "output_type": "execute_result"
    }
   ],
   "source": [
    "# Merge the two datasets on the 'job_id' column\n",
    "df_job_companies = df_jobs.merge(df_companies, on='company_name')\n",
    "df_job_companies"
   ]
  },
  {
   "cell_type": "markdown",
   "id": "64704c3d",
   "metadata": {},
   "source": [
    "### Example 2\n",
    "\n",
    "The data we have is only for data science job postings, but what if we wanted to combine insights with other job industries?\n",
    "\n",
    "Recall the pivot we previously made:\n"
   ]
  },
  {
   "cell_type": "code",
   "execution_count": 6,
   "id": "27d06656",
   "metadata": {},
   "outputs": [
    {
     "data": {
      "application/vnd.microsoft.datawrangler.viewer.v0+json": {
       "columns": [
        {
         "name": "job_posted_month",
         "rawType": "object",
         "type": "string"
        },
        {
         "name": "Business Analyst",
         "rawType": "int64",
         "type": "integer"
        },
        {
         "name": "Cloud Engineer",
         "rawType": "int64",
         "type": "integer"
        },
        {
         "name": "Data Analyst",
         "rawType": "int64",
         "type": "integer"
        },
        {
         "name": "Data Engineer",
         "rawType": "int64",
         "type": "integer"
        },
        {
         "name": "Data Scientist",
         "rawType": "int64",
         "type": "integer"
        },
        {
         "name": "Machine Learning Engineer",
         "rawType": "int64",
         "type": "integer"
        },
        {
         "name": "Senior Data Analyst",
         "rawType": "int64",
         "type": "integer"
        },
        {
         "name": "Senior Data Engineer",
         "rawType": "int64",
         "type": "integer"
        },
        {
         "name": "Senior Data Scientist",
         "rawType": "int64",
         "type": "integer"
        },
        {
         "name": "Software Engineer",
         "rawType": "int64",
         "type": "integer"
        }
       ],
       "ref": "2c479239-3b17-4aa6-9d20-cd4638c7593f",
       "rows": [
        [
         "January",
         "527",
         "36",
         "8494",
         "2655",
         "6915",
         "60",
         "1544",
         "773",
         "1552",
         "114"
        ],
        [
         "February",
         "447",
         "24",
         "6124",
         "3060",
         "4956",
         "56",
         "1258",
         "878",
         "1127",
         "90"
        ],
        [
         "March",
         "438",
         "19",
         "6218",
         "3183",
         "4779",
         "59",
         "1114",
         "829",
         "1150",
         "115"
        ],
        [
         "April",
         "565",
         "40",
         "6049",
         "2801",
         "4867",
         "51",
         "1025",
         "781",
         "991",
         "112"
        ],
        [
         "May",
         "279",
         "20",
         "4993",
         "2976",
         "4377",
         "49",
         "839",
         "746",
         "914",
         "90"
        ],
        [
         "June",
         "446",
         "32",
         "5683",
         "2893",
         "4645",
         "48",
         "1009",
         "812",
         "1033",
         "93"
        ],
        [
         "July",
         "581",
         "39",
         "5201",
         "2570",
         "4876",
         "65",
         "883",
         "747",
         "1095",
         "153"
        ],
        [
         "August",
         "903",
         "39",
         "6634",
         "3269",
         "6318",
         "68",
         "1186",
         "903",
         "1515",
         "194"
        ],
        [
         "September",
         "897",
         "50",
         "4639",
         "3224",
         "4568",
         "113",
         "805",
         "775",
         "1014",
         "228"
        ],
        [
         "October",
         "932",
         "48",
         "5271",
         "3015",
         "4882",
         "101",
         "871",
         "672",
         "987",
         "219"
        ],
        [
         "November",
         "719",
         "36",
         "4531",
         "2793",
         "4175",
         "132",
         "656",
         "684",
         "816",
         "194"
        ],
        [
         "December",
         "648",
         "40",
         "3979",
         "2641",
         "3472",
         "119",
         "601",
         "689",
         "752",
         "212"
        ]
       ],
       "shape": {
        "columns": 10,
        "rows": 12
       }
      },
      "text/html": [
       "<div>\n",
       "<style scoped>\n",
       "    .dataframe tbody tr th:only-of-type {\n",
       "        vertical-align: middle;\n",
       "    }\n",
       "\n",
       "    .dataframe tbody tr th {\n",
       "        vertical-align: top;\n",
       "    }\n",
       "\n",
       "    .dataframe thead th {\n",
       "        text-align: right;\n",
       "    }\n",
       "</style>\n",
       "<table border=\"1\" class=\"dataframe\">\n",
       "  <thead>\n",
       "    <tr style=\"text-align: right;\">\n",
       "      <th>job_title_short</th>\n",
       "      <th>Business Analyst</th>\n",
       "      <th>Cloud Engineer</th>\n",
       "      <th>Data Analyst</th>\n",
       "      <th>Data Engineer</th>\n",
       "      <th>Data Scientist</th>\n",
       "      <th>Machine Learning Engineer</th>\n",
       "      <th>Senior Data Analyst</th>\n",
       "      <th>Senior Data Engineer</th>\n",
       "      <th>Senior Data Scientist</th>\n",
       "      <th>Software Engineer</th>\n",
       "    </tr>\n",
       "    <tr>\n",
       "      <th>job_posted_month</th>\n",
       "      <th></th>\n",
       "      <th></th>\n",
       "      <th></th>\n",
       "      <th></th>\n",
       "      <th></th>\n",
       "      <th></th>\n",
       "      <th></th>\n",
       "      <th></th>\n",
       "      <th></th>\n",
       "      <th></th>\n",
       "    </tr>\n",
       "  </thead>\n",
       "  <tbody>\n",
       "    <tr>\n",
       "      <th>January</th>\n",
       "      <td>527</td>\n",
       "      <td>36</td>\n",
       "      <td>8494</td>\n",
       "      <td>2655</td>\n",
       "      <td>6915</td>\n",
       "      <td>60</td>\n",
       "      <td>1544</td>\n",
       "      <td>773</td>\n",
       "      <td>1552</td>\n",
       "      <td>114</td>\n",
       "    </tr>\n",
       "    <tr>\n",
       "      <th>February</th>\n",
       "      <td>447</td>\n",
       "      <td>24</td>\n",
       "      <td>6124</td>\n",
       "      <td>3060</td>\n",
       "      <td>4956</td>\n",
       "      <td>56</td>\n",
       "      <td>1258</td>\n",
       "      <td>878</td>\n",
       "      <td>1127</td>\n",
       "      <td>90</td>\n",
       "    </tr>\n",
       "    <tr>\n",
       "      <th>March</th>\n",
       "      <td>438</td>\n",
       "      <td>19</td>\n",
       "      <td>6218</td>\n",
       "      <td>3183</td>\n",
       "      <td>4779</td>\n",
       "      <td>59</td>\n",
       "      <td>1114</td>\n",
       "      <td>829</td>\n",
       "      <td>1150</td>\n",
       "      <td>115</td>\n",
       "    </tr>\n",
       "    <tr>\n",
       "      <th>April</th>\n",
       "      <td>565</td>\n",
       "      <td>40</td>\n",
       "      <td>6049</td>\n",
       "      <td>2801</td>\n",
       "      <td>4867</td>\n",
       "      <td>51</td>\n",
       "      <td>1025</td>\n",
       "      <td>781</td>\n",
       "      <td>991</td>\n",
       "      <td>112</td>\n",
       "    </tr>\n",
       "    <tr>\n",
       "      <th>May</th>\n",
       "      <td>279</td>\n",
       "      <td>20</td>\n",
       "      <td>4993</td>\n",
       "      <td>2976</td>\n",
       "      <td>4377</td>\n",
       "      <td>49</td>\n",
       "      <td>839</td>\n",
       "      <td>746</td>\n",
       "      <td>914</td>\n",
       "      <td>90</td>\n",
       "    </tr>\n",
       "    <tr>\n",
       "      <th>June</th>\n",
       "      <td>446</td>\n",
       "      <td>32</td>\n",
       "      <td>5683</td>\n",
       "      <td>2893</td>\n",
       "      <td>4645</td>\n",
       "      <td>48</td>\n",
       "      <td>1009</td>\n",
       "      <td>812</td>\n",
       "      <td>1033</td>\n",
       "      <td>93</td>\n",
       "    </tr>\n",
       "    <tr>\n",
       "      <th>July</th>\n",
       "      <td>581</td>\n",
       "      <td>39</td>\n",
       "      <td>5201</td>\n",
       "      <td>2570</td>\n",
       "      <td>4876</td>\n",
       "      <td>65</td>\n",
       "      <td>883</td>\n",
       "      <td>747</td>\n",
       "      <td>1095</td>\n",
       "      <td>153</td>\n",
       "    </tr>\n",
       "    <tr>\n",
       "      <th>August</th>\n",
       "      <td>903</td>\n",
       "      <td>39</td>\n",
       "      <td>6634</td>\n",
       "      <td>3269</td>\n",
       "      <td>6318</td>\n",
       "      <td>68</td>\n",
       "      <td>1186</td>\n",
       "      <td>903</td>\n",
       "      <td>1515</td>\n",
       "      <td>194</td>\n",
       "    </tr>\n",
       "    <tr>\n",
       "      <th>September</th>\n",
       "      <td>897</td>\n",
       "      <td>50</td>\n",
       "      <td>4639</td>\n",
       "      <td>3224</td>\n",
       "      <td>4568</td>\n",
       "      <td>113</td>\n",
       "      <td>805</td>\n",
       "      <td>775</td>\n",
       "      <td>1014</td>\n",
       "      <td>228</td>\n",
       "    </tr>\n",
       "    <tr>\n",
       "      <th>October</th>\n",
       "      <td>932</td>\n",
       "      <td>48</td>\n",
       "      <td>5271</td>\n",
       "      <td>3015</td>\n",
       "      <td>4882</td>\n",
       "      <td>101</td>\n",
       "      <td>871</td>\n",
       "      <td>672</td>\n",
       "      <td>987</td>\n",
       "      <td>219</td>\n",
       "    </tr>\n",
       "    <tr>\n",
       "      <th>November</th>\n",
       "      <td>719</td>\n",
       "      <td>36</td>\n",
       "      <td>4531</td>\n",
       "      <td>2793</td>\n",
       "      <td>4175</td>\n",
       "      <td>132</td>\n",
       "      <td>656</td>\n",
       "      <td>684</td>\n",
       "      <td>816</td>\n",
       "      <td>194</td>\n",
       "    </tr>\n",
       "    <tr>\n",
       "      <th>December</th>\n",
       "      <td>648</td>\n",
       "      <td>40</td>\n",
       "      <td>3979</td>\n",
       "      <td>2641</td>\n",
       "      <td>3472</td>\n",
       "      <td>119</td>\n",
       "      <td>601</td>\n",
       "      <td>689</td>\n",
       "      <td>752</td>\n",
       "      <td>212</td>\n",
       "    </tr>\n",
       "  </tbody>\n",
       "</table>\n",
       "</div>"
      ],
      "text/plain": [
       "job_title_short   Business Analyst  Cloud Engineer  Data Analyst  \\\n",
       "job_posted_month                                                   \n",
       "January                        527              36          8494   \n",
       "February                       447              24          6124   \n",
       "March                          438              19          6218   \n",
       "April                          565              40          6049   \n",
       "May                            279              20          4993   \n",
       "June                           446              32          5683   \n",
       "July                           581              39          5201   \n",
       "August                         903              39          6634   \n",
       "September                      897              50          4639   \n",
       "October                        932              48          5271   \n",
       "November                       719              36          4531   \n",
       "December                       648              40          3979   \n",
       "\n",
       "job_title_short   Data Engineer  Data Scientist  Machine Learning Engineer  \\\n",
       "job_posted_month                                                             \n",
       "January                    2655            6915                         60   \n",
       "February                   3060            4956                         56   \n",
       "March                      3183            4779                         59   \n",
       "April                      2801            4867                         51   \n",
       "May                        2976            4377                         49   \n",
       "June                       2893            4645                         48   \n",
       "July                       2570            4876                         65   \n",
       "August                     3269            6318                         68   \n",
       "September                  3224            4568                        113   \n",
       "October                    3015            4882                        101   \n",
       "November                   2793            4175                        132   \n",
       "December                   2641            3472                        119   \n",
       "\n",
       "job_title_short   Senior Data Analyst  Senior Data Engineer  \\\n",
       "job_posted_month                                              \n",
       "January                          1544                   773   \n",
       "February                         1258                   878   \n",
       "March                            1114                   829   \n",
       "April                            1025                   781   \n",
       "May                               839                   746   \n",
       "June                             1009                   812   \n",
       "July                              883                   747   \n",
       "August                           1186                   903   \n",
       "September                         805                   775   \n",
       "October                           871                   672   \n",
       "November                          656                   684   \n",
       "December                          601                   689   \n",
       "\n",
       "job_title_short   Senior Data Scientist  Software Engineer  \n",
       "job_posted_month                                            \n",
       "January                            1552                114  \n",
       "February                           1127                 90  \n",
       "March                              1150                115  \n",
       "April                               991                112  \n",
       "May                                 914                 90  \n",
       "June                               1033                 93  \n",
       "July                               1095                153  \n",
       "August                             1515                194  \n",
       "September                          1014                228  \n",
       "October                             987                219  \n",
       "November                            816                194  \n",
       "December                            752                212  "
      ]
     },
     "execution_count": 6,
     "metadata": {},
     "output_type": "execute_result"
    }
   ],
   "source": [
    "df_US = df[df['job_country'] == 'United States'].copy()\n",
    "df_US['job_posted_month'] = df_US['job_posted_date'].dt.strftime('%B')\n",
    "df_US_pivot = df_US.pivot_table(\n",
    "    index='job_posted_month',\n",
    "    columns='job_title_short',\n",
    "    aggfunc='size'\n",
    ")\n",
    "df_US_pivot = df_US_pivot.reset_index()\n",
    "\n",
    "df_US_pivot['job_posted_month_no'] = pd.to_datetime(\n",
    "    df_US_pivot['job_posted_month'], format='%B').dt.month\n",
    "\n",
    "df_US_pivot = df_US_pivot.sort_values('job_posted_month_no')\n",
    "df_US_pivot = df_US_pivot.set_index('job_posted_month')\n",
    "df_US_pivot = df_US_pivot.drop(columns=['job_posted_month_no'])\n",
    "\n",
    "df_US_pivot"
   ]
  },
  {
   "cell_type": "markdown",
   "id": "796cd89c",
   "metadata": {},
   "source": [
    "Let's make some fake data for this.\n",
    "\n",
    "**NOTE: The code here is not important for you to understand**.\n"
   ]
  },
  {
   "cell_type": "code",
   "execution_count": 7,
   "id": "3b0392d2",
   "metadata": {},
   "outputs": [
    {
     "data": {
      "application/vnd.microsoft.datawrangler.viewer.v0+json": {
       "columns": [
        {
         "name": "job_posted_month",
         "rawType": "object",
         "type": "string"
        },
        {
         "name": "Front-End Developer",
         "rawType": "int64",
         "type": "integer"
        },
        {
         "name": "Back-End Developer",
         "rawType": "int64",
         "type": "integer"
        },
        {
         "name": "Full-Stack Developer",
         "rawType": "int64",
         "type": "integer"
        },
        {
         "name": "UI/UX Designer",
         "rawType": "int64",
         "type": "integer"
        }
       ],
       "ref": "dabb3898-c449-4a98-9f8d-17981c555b4e",
       "rows": [
        [
         "January",
         "13619",
         "9827",
         "5108",
         "4348"
        ],
        [
         "February",
         "11456",
         "9116",
         "7298",
         "4284"
        ],
        [
         "March",
         "11102",
         "8178",
         "5814",
         "4159"
        ],
        [
         "April",
         "14037",
         "9209",
         "7232",
         "4220"
        ],
        [
         "May",
         "12126",
         "8864",
         "6718",
         "4980"
        ],
        [
         "June",
         "12003",
         "8065",
         "5902",
         "4781"
        ],
        [
         "July",
         "11914",
         "8061",
         "6839",
         "4344"
        ],
        [
         "August",
         "11571",
         "8191",
         "7413",
         "4104"
        ],
        [
         "September",
         "14016",
         "8447",
         "6139",
         "4094"
        ],
        [
         "October",
         "11419",
         "8476",
         "5026",
         "4389"
        ],
        [
         "November",
         "13771",
         "9034",
         "5653",
         "4099"
        ],
        [
         "December",
         "14033",
         "9232",
         "6731",
         "4367"
        ]
       ],
       "shape": {
        "columns": 4,
        "rows": 12
       }
      },
      "text/html": [
       "<div>\n",
       "<style scoped>\n",
       "    .dataframe tbody tr th:only-of-type {\n",
       "        vertical-align: middle;\n",
       "    }\n",
       "\n",
       "    .dataframe tbody tr th {\n",
       "        vertical-align: top;\n",
       "    }\n",
       "\n",
       "    .dataframe thead th {\n",
       "        text-align: right;\n",
       "    }\n",
       "</style>\n",
       "<table border=\"1\" class=\"dataframe\">\n",
       "  <thead>\n",
       "    <tr style=\"text-align: right;\">\n",
       "      <th></th>\n",
       "      <th>Front-End Developer</th>\n",
       "      <th>Back-End Developer</th>\n",
       "      <th>Full-Stack Developer</th>\n",
       "      <th>UI/UX Designer</th>\n",
       "    </tr>\n",
       "    <tr>\n",
       "      <th>job_posted_month</th>\n",
       "      <th></th>\n",
       "      <th></th>\n",
       "      <th></th>\n",
       "      <th></th>\n",
       "    </tr>\n",
       "  </thead>\n",
       "  <tbody>\n",
       "    <tr>\n",
       "      <th>January</th>\n",
       "      <td>13619</td>\n",
       "      <td>9827</td>\n",
       "      <td>5108</td>\n",
       "      <td>4348</td>\n",
       "    </tr>\n",
       "    <tr>\n",
       "      <th>February</th>\n",
       "      <td>11456</td>\n",
       "      <td>9116</td>\n",
       "      <td>7298</td>\n",
       "      <td>4284</td>\n",
       "    </tr>\n",
       "    <tr>\n",
       "      <th>March</th>\n",
       "      <td>11102</td>\n",
       "      <td>8178</td>\n",
       "      <td>5814</td>\n",
       "      <td>4159</td>\n",
       "    </tr>\n",
       "    <tr>\n",
       "      <th>April</th>\n",
       "      <td>14037</td>\n",
       "      <td>9209</td>\n",
       "      <td>7232</td>\n",
       "      <td>4220</td>\n",
       "    </tr>\n",
       "    <tr>\n",
       "      <th>May</th>\n",
       "      <td>12126</td>\n",
       "      <td>8864</td>\n",
       "      <td>6718</td>\n",
       "      <td>4980</td>\n",
       "    </tr>\n",
       "    <tr>\n",
       "      <th>June</th>\n",
       "      <td>12003</td>\n",
       "      <td>8065</td>\n",
       "      <td>5902</td>\n",
       "      <td>4781</td>\n",
       "    </tr>\n",
       "    <tr>\n",
       "      <th>July</th>\n",
       "      <td>11914</td>\n",
       "      <td>8061</td>\n",
       "      <td>6839</td>\n",
       "      <td>4344</td>\n",
       "    </tr>\n",
       "    <tr>\n",
       "      <th>August</th>\n",
       "      <td>11571</td>\n",
       "      <td>8191</td>\n",
       "      <td>7413</td>\n",
       "      <td>4104</td>\n",
       "    </tr>\n",
       "    <tr>\n",
       "      <th>September</th>\n",
       "      <td>14016</td>\n",
       "      <td>8447</td>\n",
       "      <td>6139</td>\n",
       "      <td>4094</td>\n",
       "    </tr>\n",
       "    <tr>\n",
       "      <th>October</th>\n",
       "      <td>11419</td>\n",
       "      <td>8476</td>\n",
       "      <td>5026</td>\n",
       "      <td>4389</td>\n",
       "    </tr>\n",
       "    <tr>\n",
       "      <th>November</th>\n",
       "      <td>13771</td>\n",
       "      <td>9034</td>\n",
       "      <td>5653</td>\n",
       "      <td>4099</td>\n",
       "    </tr>\n",
       "    <tr>\n",
       "      <th>December</th>\n",
       "      <td>14033</td>\n",
       "      <td>9232</td>\n",
       "      <td>6731</td>\n",
       "      <td>4367</td>\n",
       "    </tr>\n",
       "  </tbody>\n",
       "</table>\n",
       "</div>"
      ],
      "text/plain": [
       "                  Front-End Developer  Back-End Developer  \\\n",
       "job_posted_month                                            \n",
       "January                         13619                9827   \n",
       "February                        11456                9116   \n",
       "March                           11102                8178   \n",
       "April                           14037                9209   \n",
       "May                             12126                8864   \n",
       "June                            12003                8065   \n",
       "July                            11914                8061   \n",
       "August                          11571                8191   \n",
       "September                       14016                8447   \n",
       "October                         11419                8476   \n",
       "November                        13771                9034   \n",
       "December                        14033                9232   \n",
       "\n",
       "                  Full-Stack Developer  UI/UX Designer  \n",
       "job_posted_month                                        \n",
       "January                           5108            4348  \n",
       "February                          7298            4284  \n",
       "March                             5814            4159  \n",
       "April                             7232            4220  \n",
       "May                               6718            4980  \n",
       "June                              5902            4781  \n",
       "July                              6839            4344  \n",
       "August                            7413            4104  \n",
       "September                         6139            4094  \n",
       "October                           5026            4389  \n",
       "November                          5653            4099  \n",
       "December                          6731            4367  "
      ]
     },
     "execution_count": 7,
     "metadata": {},
     "output_type": "execute_result"
    }
   ],
   "source": [
    "import random\n",
    "\n",
    "# Set a seed for reproducibility\n",
    "random.seed(42)\n",
    "\n",
    "# Define job titles\n",
    "job_titles = ['Front-End Developer', 'Back-End Developer',\n",
    "              'Full-Stack Developer', 'UI/UX Designer']\n",
    "\n",
    "# Define months\n",
    "months = ['January', 'February', 'March', 'April', 'May', 'June',\n",
    "          'July', 'August', 'September', 'October', 'November', 'December']\n",
    "\n",
    "# Define ranges for random data\n",
    "ranges = {\n",
    "    'Front-End Developer': (11000, 15000),\n",
    "    'Back-End Developer': (8000, 10000),\n",
    "    'Full-Stack Developer': (5000, 7500),\n",
    "    'UI/UX Designer': (4000, 5000)\n",
    "}\n",
    "\n",
    "# Generate random data\n",
    "data = {}\n",
    "for title in job_titles:\n",
    "    data[title] = [random.randint(\n",
    "        ranges[title][0], ranges[title][1]) for _ in months]\n",
    "\n",
    "# Create DataFrame\n",
    "df_US_Software_pivot = pd.DataFrame(data, index=months)\n",
    "df_US_Software_pivot.index.name = 'job_posted_month'\n",
    "\n",
    "df_US_Software_pivot"
   ]
  },
  {
   "cell_type": "code",
   "execution_count": 8,
   "id": "2a54b6af",
   "metadata": {},
   "outputs": [
    {
     "data": {
      "application/vnd.microsoft.datawrangler.viewer.v0+json": {
       "columns": [
        {
         "name": "job_posted_month",
         "rawType": "object",
         "type": "string"
        },
        {
         "name": "Business Analyst",
         "rawType": "int64",
         "type": "integer"
        },
        {
         "name": "Cloud Engineer",
         "rawType": "int64",
         "type": "integer"
        },
        {
         "name": "Data Analyst",
         "rawType": "int64",
         "type": "integer"
        },
        {
         "name": "Data Engineer",
         "rawType": "int64",
         "type": "integer"
        },
        {
         "name": "Data Scientist",
         "rawType": "int64",
         "type": "integer"
        },
        {
         "name": "Machine Learning Engineer",
         "rawType": "int64",
         "type": "integer"
        },
        {
         "name": "Senior Data Analyst",
         "rawType": "int64",
         "type": "integer"
        },
        {
         "name": "Senior Data Engineer",
         "rawType": "int64",
         "type": "integer"
        },
        {
         "name": "Senior Data Scientist",
         "rawType": "int64",
         "type": "integer"
        },
        {
         "name": "Software Engineer",
         "rawType": "int64",
         "type": "integer"
        },
        {
         "name": "Front-End Developer",
         "rawType": "int64",
         "type": "integer"
        },
        {
         "name": "Back-End Developer",
         "rawType": "int64",
         "type": "integer"
        },
        {
         "name": "Full-Stack Developer",
         "rawType": "int64",
         "type": "integer"
        },
        {
         "name": "UI/UX Designer",
         "rawType": "int64",
         "type": "integer"
        }
       ],
       "ref": "c875b017-9eff-47fb-a63f-acb298d11754",
       "rows": [
        [
         "January",
         "527",
         "36",
         "8494",
         "2655",
         "6915",
         "60",
         "1544",
         "773",
         "1552",
         "114",
         "13619",
         "9827",
         "5108",
         "4348"
        ],
        [
         "February",
         "447",
         "24",
         "6124",
         "3060",
         "4956",
         "56",
         "1258",
         "878",
         "1127",
         "90",
         "11456",
         "9116",
         "7298",
         "4284"
        ],
        [
         "March",
         "438",
         "19",
         "6218",
         "3183",
         "4779",
         "59",
         "1114",
         "829",
         "1150",
         "115",
         "11102",
         "8178",
         "5814",
         "4159"
        ],
        [
         "April",
         "565",
         "40",
         "6049",
         "2801",
         "4867",
         "51",
         "1025",
         "781",
         "991",
         "112",
         "14037",
         "9209",
         "7232",
         "4220"
        ],
        [
         "May",
         "279",
         "20",
         "4993",
         "2976",
         "4377",
         "49",
         "839",
         "746",
         "914",
         "90",
         "12126",
         "8864",
         "6718",
         "4980"
        ],
        [
         "June",
         "446",
         "32",
         "5683",
         "2893",
         "4645",
         "48",
         "1009",
         "812",
         "1033",
         "93",
         "12003",
         "8065",
         "5902",
         "4781"
        ],
        [
         "July",
         "581",
         "39",
         "5201",
         "2570",
         "4876",
         "65",
         "883",
         "747",
         "1095",
         "153",
         "11914",
         "8061",
         "6839",
         "4344"
        ],
        [
         "August",
         "903",
         "39",
         "6634",
         "3269",
         "6318",
         "68",
         "1186",
         "903",
         "1515",
         "194",
         "11571",
         "8191",
         "7413",
         "4104"
        ],
        [
         "September",
         "897",
         "50",
         "4639",
         "3224",
         "4568",
         "113",
         "805",
         "775",
         "1014",
         "228",
         "14016",
         "8447",
         "6139",
         "4094"
        ],
        [
         "October",
         "932",
         "48",
         "5271",
         "3015",
         "4882",
         "101",
         "871",
         "672",
         "987",
         "219",
         "11419",
         "8476",
         "5026",
         "4389"
        ],
        [
         "November",
         "719",
         "36",
         "4531",
         "2793",
         "4175",
         "132",
         "656",
         "684",
         "816",
         "194",
         "13771",
         "9034",
         "5653",
         "4099"
        ],
        [
         "December",
         "648",
         "40",
         "3979",
         "2641",
         "3472",
         "119",
         "601",
         "689",
         "752",
         "212",
         "14033",
         "9232",
         "6731",
         "4367"
        ]
       ],
       "shape": {
        "columns": 14,
        "rows": 12
       }
      },
      "text/html": [
       "<div>\n",
       "<style scoped>\n",
       "    .dataframe tbody tr th:only-of-type {\n",
       "        vertical-align: middle;\n",
       "    }\n",
       "\n",
       "    .dataframe tbody tr th {\n",
       "        vertical-align: top;\n",
       "    }\n",
       "\n",
       "    .dataframe thead th {\n",
       "        text-align: right;\n",
       "    }\n",
       "</style>\n",
       "<table border=\"1\" class=\"dataframe\">\n",
       "  <thead>\n",
       "    <tr style=\"text-align: right;\">\n",
       "      <th></th>\n",
       "      <th>Business Analyst</th>\n",
       "      <th>Cloud Engineer</th>\n",
       "      <th>Data Analyst</th>\n",
       "      <th>Data Engineer</th>\n",
       "      <th>Data Scientist</th>\n",
       "      <th>Machine Learning Engineer</th>\n",
       "      <th>Senior Data Analyst</th>\n",
       "      <th>Senior Data Engineer</th>\n",
       "      <th>Senior Data Scientist</th>\n",
       "      <th>Software Engineer</th>\n",
       "      <th>Front-End Developer</th>\n",
       "      <th>Back-End Developer</th>\n",
       "      <th>Full-Stack Developer</th>\n",
       "      <th>UI/UX Designer</th>\n",
       "    </tr>\n",
       "    <tr>\n",
       "      <th>job_posted_month</th>\n",
       "      <th></th>\n",
       "      <th></th>\n",
       "      <th></th>\n",
       "      <th></th>\n",
       "      <th></th>\n",
       "      <th></th>\n",
       "      <th></th>\n",
       "      <th></th>\n",
       "      <th></th>\n",
       "      <th></th>\n",
       "      <th></th>\n",
       "      <th></th>\n",
       "      <th></th>\n",
       "      <th></th>\n",
       "    </tr>\n",
       "  </thead>\n",
       "  <tbody>\n",
       "    <tr>\n",
       "      <th>January</th>\n",
       "      <td>527</td>\n",
       "      <td>36</td>\n",
       "      <td>8494</td>\n",
       "      <td>2655</td>\n",
       "      <td>6915</td>\n",
       "      <td>60</td>\n",
       "      <td>1544</td>\n",
       "      <td>773</td>\n",
       "      <td>1552</td>\n",
       "      <td>114</td>\n",
       "      <td>13619</td>\n",
       "      <td>9827</td>\n",
       "      <td>5108</td>\n",
       "      <td>4348</td>\n",
       "    </tr>\n",
       "    <tr>\n",
       "      <th>February</th>\n",
       "      <td>447</td>\n",
       "      <td>24</td>\n",
       "      <td>6124</td>\n",
       "      <td>3060</td>\n",
       "      <td>4956</td>\n",
       "      <td>56</td>\n",
       "      <td>1258</td>\n",
       "      <td>878</td>\n",
       "      <td>1127</td>\n",
       "      <td>90</td>\n",
       "      <td>11456</td>\n",
       "      <td>9116</td>\n",
       "      <td>7298</td>\n",
       "      <td>4284</td>\n",
       "    </tr>\n",
       "    <tr>\n",
       "      <th>March</th>\n",
       "      <td>438</td>\n",
       "      <td>19</td>\n",
       "      <td>6218</td>\n",
       "      <td>3183</td>\n",
       "      <td>4779</td>\n",
       "      <td>59</td>\n",
       "      <td>1114</td>\n",
       "      <td>829</td>\n",
       "      <td>1150</td>\n",
       "      <td>115</td>\n",
       "      <td>11102</td>\n",
       "      <td>8178</td>\n",
       "      <td>5814</td>\n",
       "      <td>4159</td>\n",
       "    </tr>\n",
       "    <tr>\n",
       "      <th>April</th>\n",
       "      <td>565</td>\n",
       "      <td>40</td>\n",
       "      <td>6049</td>\n",
       "      <td>2801</td>\n",
       "      <td>4867</td>\n",
       "      <td>51</td>\n",
       "      <td>1025</td>\n",
       "      <td>781</td>\n",
       "      <td>991</td>\n",
       "      <td>112</td>\n",
       "      <td>14037</td>\n",
       "      <td>9209</td>\n",
       "      <td>7232</td>\n",
       "      <td>4220</td>\n",
       "    </tr>\n",
       "    <tr>\n",
       "      <th>May</th>\n",
       "      <td>279</td>\n",
       "      <td>20</td>\n",
       "      <td>4993</td>\n",
       "      <td>2976</td>\n",
       "      <td>4377</td>\n",
       "      <td>49</td>\n",
       "      <td>839</td>\n",
       "      <td>746</td>\n",
       "      <td>914</td>\n",
       "      <td>90</td>\n",
       "      <td>12126</td>\n",
       "      <td>8864</td>\n",
       "      <td>6718</td>\n",
       "      <td>4980</td>\n",
       "    </tr>\n",
       "    <tr>\n",
       "      <th>June</th>\n",
       "      <td>446</td>\n",
       "      <td>32</td>\n",
       "      <td>5683</td>\n",
       "      <td>2893</td>\n",
       "      <td>4645</td>\n",
       "      <td>48</td>\n",
       "      <td>1009</td>\n",
       "      <td>812</td>\n",
       "      <td>1033</td>\n",
       "      <td>93</td>\n",
       "      <td>12003</td>\n",
       "      <td>8065</td>\n",
       "      <td>5902</td>\n",
       "      <td>4781</td>\n",
       "    </tr>\n",
       "    <tr>\n",
       "      <th>July</th>\n",
       "      <td>581</td>\n",
       "      <td>39</td>\n",
       "      <td>5201</td>\n",
       "      <td>2570</td>\n",
       "      <td>4876</td>\n",
       "      <td>65</td>\n",
       "      <td>883</td>\n",
       "      <td>747</td>\n",
       "      <td>1095</td>\n",
       "      <td>153</td>\n",
       "      <td>11914</td>\n",
       "      <td>8061</td>\n",
       "      <td>6839</td>\n",
       "      <td>4344</td>\n",
       "    </tr>\n",
       "    <tr>\n",
       "      <th>August</th>\n",
       "      <td>903</td>\n",
       "      <td>39</td>\n",
       "      <td>6634</td>\n",
       "      <td>3269</td>\n",
       "      <td>6318</td>\n",
       "      <td>68</td>\n",
       "      <td>1186</td>\n",
       "      <td>903</td>\n",
       "      <td>1515</td>\n",
       "      <td>194</td>\n",
       "      <td>11571</td>\n",
       "      <td>8191</td>\n",
       "      <td>7413</td>\n",
       "      <td>4104</td>\n",
       "    </tr>\n",
       "    <tr>\n",
       "      <th>September</th>\n",
       "      <td>897</td>\n",
       "      <td>50</td>\n",
       "      <td>4639</td>\n",
       "      <td>3224</td>\n",
       "      <td>4568</td>\n",
       "      <td>113</td>\n",
       "      <td>805</td>\n",
       "      <td>775</td>\n",
       "      <td>1014</td>\n",
       "      <td>228</td>\n",
       "      <td>14016</td>\n",
       "      <td>8447</td>\n",
       "      <td>6139</td>\n",
       "      <td>4094</td>\n",
       "    </tr>\n",
       "    <tr>\n",
       "      <th>October</th>\n",
       "      <td>932</td>\n",
       "      <td>48</td>\n",
       "      <td>5271</td>\n",
       "      <td>3015</td>\n",
       "      <td>4882</td>\n",
       "      <td>101</td>\n",
       "      <td>871</td>\n",
       "      <td>672</td>\n",
       "      <td>987</td>\n",
       "      <td>219</td>\n",
       "      <td>11419</td>\n",
       "      <td>8476</td>\n",
       "      <td>5026</td>\n",
       "      <td>4389</td>\n",
       "    </tr>\n",
       "    <tr>\n",
       "      <th>November</th>\n",
       "      <td>719</td>\n",
       "      <td>36</td>\n",
       "      <td>4531</td>\n",
       "      <td>2793</td>\n",
       "      <td>4175</td>\n",
       "      <td>132</td>\n",
       "      <td>656</td>\n",
       "      <td>684</td>\n",
       "      <td>816</td>\n",
       "      <td>194</td>\n",
       "      <td>13771</td>\n",
       "      <td>9034</td>\n",
       "      <td>5653</td>\n",
       "      <td>4099</td>\n",
       "    </tr>\n",
       "    <tr>\n",
       "      <th>December</th>\n",
       "      <td>648</td>\n",
       "      <td>40</td>\n",
       "      <td>3979</td>\n",
       "      <td>2641</td>\n",
       "      <td>3472</td>\n",
       "      <td>119</td>\n",
       "      <td>601</td>\n",
       "      <td>689</td>\n",
       "      <td>752</td>\n",
       "      <td>212</td>\n",
       "      <td>14033</td>\n",
       "      <td>9232</td>\n",
       "      <td>6731</td>\n",
       "      <td>4367</td>\n",
       "    </tr>\n",
       "  </tbody>\n",
       "</table>\n",
       "</div>"
      ],
      "text/plain": [
       "                  Business Analyst  Cloud Engineer  Data Analyst  \\\n",
       "job_posted_month                                                   \n",
       "January                        527              36          8494   \n",
       "February                       447              24          6124   \n",
       "March                          438              19          6218   \n",
       "April                          565              40          6049   \n",
       "May                            279              20          4993   \n",
       "June                           446              32          5683   \n",
       "July                           581              39          5201   \n",
       "August                         903              39          6634   \n",
       "September                      897              50          4639   \n",
       "October                        932              48          5271   \n",
       "November                       719              36          4531   \n",
       "December                       648              40          3979   \n",
       "\n",
       "                  Data Engineer  Data Scientist  Machine Learning Engineer  \\\n",
       "job_posted_month                                                             \n",
       "January                    2655            6915                         60   \n",
       "February                   3060            4956                         56   \n",
       "March                      3183            4779                         59   \n",
       "April                      2801            4867                         51   \n",
       "May                        2976            4377                         49   \n",
       "June                       2893            4645                         48   \n",
       "July                       2570            4876                         65   \n",
       "August                     3269            6318                         68   \n",
       "September                  3224            4568                        113   \n",
       "October                    3015            4882                        101   \n",
       "November                   2793            4175                        132   \n",
       "December                   2641            3472                        119   \n",
       "\n",
       "                  Senior Data Analyst  Senior Data Engineer  \\\n",
       "job_posted_month                                              \n",
       "January                          1544                   773   \n",
       "February                         1258                   878   \n",
       "March                            1114                   829   \n",
       "April                            1025                   781   \n",
       "May                               839                   746   \n",
       "June                             1009                   812   \n",
       "July                              883                   747   \n",
       "August                           1186                   903   \n",
       "September                         805                   775   \n",
       "October                           871                   672   \n",
       "November                          656                   684   \n",
       "December                          601                   689   \n",
       "\n",
       "                  Senior Data Scientist  Software Engineer  \\\n",
       "job_posted_month                                             \n",
       "January                            1552                114   \n",
       "February                           1127                 90   \n",
       "March                              1150                115   \n",
       "April                               991                112   \n",
       "May                                 914                 90   \n",
       "June                               1033                 93   \n",
       "July                               1095                153   \n",
       "August                             1515                194   \n",
       "September                          1014                228   \n",
       "October                             987                219   \n",
       "November                            816                194   \n",
       "December                            752                212   \n",
       "\n",
       "                  Front-End Developer  Back-End Developer  \\\n",
       "job_posted_month                                            \n",
       "January                         13619                9827   \n",
       "February                        11456                9116   \n",
       "March                           11102                8178   \n",
       "April                           14037                9209   \n",
       "May                             12126                8864   \n",
       "June                            12003                8065   \n",
       "July                            11914                8061   \n",
       "August                          11571                8191   \n",
       "September                       14016                8447   \n",
       "October                         11419                8476   \n",
       "November                        13771                9034   \n",
       "December                        14033                9232   \n",
       "\n",
       "                  Full-Stack Developer  UI/UX Designer  \n",
       "job_posted_month                                        \n",
       "January                           5108            4348  \n",
       "February                          7298            4284  \n",
       "March                             5814            4159  \n",
       "April                             7232            4220  \n",
       "May                               6718            4980  \n",
       "June                              5902            4781  \n",
       "July                              6839            4344  \n",
       "August                            7413            4104  \n",
       "September                         6139            4094  \n",
       "October                           5026            4389  \n",
       "November                          5653            4099  \n",
       "December                          6731            4367  "
      ]
     },
     "execution_count": 8,
     "metadata": {},
     "output_type": "execute_result"
    }
   ],
   "source": [
    "df_US_merged = df_US_pivot.merge(df_US_Software_pivot, on='job_posted_month')\n",
    "df_US_merged"
   ]
  },
  {
   "cell_type": "markdown",
   "id": "6b4aaade",
   "metadata": {},
   "source": [
    "And now we can plot it!\n"
   ]
  },
  {
   "cell_type": "code",
   "execution_count": 9,
   "id": "66f18cc1",
   "metadata": {},
   "outputs": [
    {
     "data": {
      "text/plain": [
       "['Front-End Developer',\n",
       " 'Back-End Developer',\n",
       " 'Full-Stack Developer',\n",
       " 'Data Analyst',\n",
       " 'Data Scientist']"
      ]
     },
     "execution_count": 9,
     "metadata": {},
     "output_type": "execute_result"
    }
   ],
   "source": [
    "# Find the top 5 job titles in df_US_merged\n",
    "top_5_jobs = df_US_merged.sum().sort_values(ascending=False).head(5).index\n",
    "\n",
    "top_5_jobs = top_5_jobs.tolist()\n",
    "\n",
    "top_5_jobs"
   ]
  },
  {
   "cell_type": "code",
   "execution_count": 10,
   "id": "bdd88668",
   "metadata": {},
   "outputs": [
    {
     "data": {
      "image/png": "[encoded data removed]",
      "text/plain": [
       "<Figure size 1200x600 with 1 Axes>"
      ]
     },
     "metadata": {},
     "output_type": "display_data"
    }
   ],
   "source": [
    "df_US_merged[top_5_jobs].plot(kind='line', figsize=(12, 6))\n",
    "plt.title('Top 5 Job Titles in the US Over Months')\n",
    "plt.xlabel('2023')\n",
    "plt.ylabel('Number of Job Postings')\n",
    "plt.legend()\n",
    "plt.show()"
   ]
  },
  {
   "cell_type": "markdown",
   "id": "d91ff6d4",
   "metadata": {},
   "source": [
    "Example 3\n",
    "\n",
    "Now looking at our dataset. Let's create two DataFrames.\n",
    "\n",
    "- The first one will get the count of Data Analyst jobs by month.\n",
    "- The second one will (similarly) get the count of Senior Data Analyst jobs by month.\n",
    "\n",
    "Finally, we will merge these two DataFrames to easily compare the demand for Data Analyst vs Senior Data Analyst jobs.\n"
   ]
  },
  {
   "cell_type": "markdown",
   "id": "acd3fd16",
   "metadata": {},
   "source": [
    "1. Create a new DataFrame that only gets Data Analyst jobs, creates a column for the month, and get the job postings by month.\n"
   ]
  },
  {
   "cell_type": "code",
   "execution_count": 11,
   "id": "37282133",
   "metadata": {},
   "outputs": [
    {
     "data": {
      "application/vnd.microsoft.datawrangler.viewer.v0+json": {
       "columns": [
        {
         "name": "month",
         "rawType": "int32",
         "type": "integer"
        },
        {
         "name": "job_title_short",
         "rawType": "int64",
         "type": "integer"
        }
       ],
       "ref": "051ad00a-24e5-41a4-a162-8bee802220d6",
       "rows": [
        [
         "1",
         "23585"
        ],
        [
         "2",
         "16558"
        ],
        [
         "3",
         "16243"
        ],
        [
         "4",
         "15514"
        ],
        [
         "5",
         "13423"
        ],
        [
         "6",
         "16008"
        ],
        [
         "7",
         "16095"
        ],
        [
         "8",
         "18628"
        ],
        [
         "9",
         "14969"
        ],
        [
         "10",
         "16239"
        ],
        [
         "11",
         "15230"
        ],
        [
         "12",
         "13583"
        ]
       ],
       "shape": {
        "columns": 1,
        "rows": 12
       }
      },
      "text/plain": [
       "month\n",
       "1     23585\n",
       "2     16558\n",
       "3     16243\n",
       "4     15514\n",
       "5     13423\n",
       "6     16008\n",
       "7     16095\n",
       "8     18628\n",
       "9     14969\n",
       "10    16239\n",
       "11    15230\n",
       "12    13583\n",
       "Name: job_title_short, dtype: int64"
      ]
     },
     "execution_count": 11,
     "metadata": {},
     "output_type": "execute_result"
    }
   ],
   "source": [
    "# Filter for Data Analysts\n",
    "df_DA = df[(df['job_title_short'] == 'Data Analyst')].copy()\n",
    "\n",
    "# Create a column for month\n",
    "df_DA['month'] = df_DA['job_posted_date'].dt.month\n",
    "\n",
    "# Pivot table to count job postings by month\n",
    "df_DA_pivot = df_DA.pivot_table(index='month', aggfunc='count')[\n",
    "    'job_title_short']\n",
    "\n",
    "# Print the pivot table\n",
    "df_DA_pivot"
   ]
  },
  {
   "cell_type": "markdown",
   "id": "d0f5f8eb",
   "metadata": {},
   "source": [
    "2. Create a new DataFrame that only gets Senior Data Analyst jobs, creates a column for the month, and get the job postings by month.\n"
   ]
  },
  {
   "cell_type": "code",
   "execution_count": 12,
   "id": "766ce151",
   "metadata": {},
   "outputs": [
    {
     "data": {
      "application/vnd.microsoft.datawrangler.viewer.v0+json": {
       "columns": [
        {
         "name": "month",
         "rawType": "int32",
         "type": "integer"
        },
        {
         "name": "job_title_short",
         "rawType": "int64",
         "type": "integer"
        }
       ],
       "ref": "532fbc64-3046-45b6-b045-e24f692447d3",
       "rows": [
        [
         "1",
         "3696"
        ],
        [
         "2",
         "2713"
        ],
        [
         "3",
         "2454"
        ],
        [
         "4",
         "2351"
        ],
        [
         "5",
         "1925"
        ],
        [
         "6",
         "2319"
        ],
        [
         "7",
         "2380"
        ],
        [
         "8",
         "2951"
        ],
        [
         "9",
         "2194"
        ],
        [
         "10",
         "2317"
        ],
        [
         "11",
         "2117"
        ],
        [
         "12",
         "1799"
        ]
       ],
       "shape": {
        "columns": 1,
        "rows": 12
       }
      },
      "text/plain": [
       "month\n",
       "1     3696\n",
       "2     2713\n",
       "3     2454\n",
       "4     2351\n",
       "5     1925\n",
       "6     2319\n",
       "7     2380\n",
       "8     2951\n",
       "9     2194\n",
       "10    2317\n",
       "11    2117\n",
       "12    1799\n",
       "Name: job_title_short, dtype: int64"
      ]
     },
     "execution_count": 12,
     "metadata": {},
     "output_type": "execute_result"
    }
   ],
   "source": [
    "# Filter for senior data analysts\n",
    "df_SDA = df[(df['job_title_short'] == 'Senior Data Analyst')].copy()\n",
    "\n",
    "# Create a column for month\n",
    "df_SDA['month'] = df_SDA['job_posted_date'].dt.month\n",
    "\n",
    "# Pivot the table to count job postings by month\n",
    "df_SDA_pivot = df_SDA.pivot_table(index='month', aggfunc='count')[\n",
    "    'job_title_short']\n",
    "\n",
    "# Print the pivot table\n",
    "df_SDA_pivot"
   ]
  },
  {
   "cell_type": "markdown",
   "id": "796004ac",
   "metadata": {},
   "source": [
    "3. Finally, we'll merge the two pivot tables together.\n"
   ]
  },
  {
   "cell_type": "code",
   "execution_count": 13,
   "id": "64f67cef",
   "metadata": {},
   "outputs": [
    {
     "data": {
      "application/vnd.microsoft.datawrangler.viewer.v0+json": {
       "columns": [
        {
         "name": "month",
         "rawType": "int32",
         "type": "integer"
        },
        {
         "name": "Data Analyst count",
         "rawType": "int64",
         "type": "integer"
        },
        {
         "name": "Senior Data Analyst count",
         "rawType": "int64",
         "type": "integer"
        }
       ],
       "ref": "54ffe675-2dcf-4a2d-bbcd-464a9b2cf204",
       "rows": [
        [
         "1",
         "23585",
         "3696"
        ],
        [
         "2",
         "16558",
         "2713"
        ],
        [
         "3",
         "16243",
         "2454"
        ],
        [
         "4",
         "15514",
         "2351"
        ],
        [
         "5",
         "13423",
         "1925"
        ],
        [
         "6",
         "16008",
         "2319"
        ],
        [
         "7",
         "16095",
         "2380"
        ],
        [
         "8",
         "18628",
         "2951"
        ],
        [
         "9",
         "14969",
         "2194"
        ],
        [
         "10",
         "16239",
         "2317"
        ],
        [
         "11",
         "15230",
         "2117"
        ],
        [
         "12",
         "13583",
         "1799"
        ]
       ],
       "shape": {
        "columns": 2,
        "rows": 12
       }
      },
      "text/html": [
       "<div>\n",
       "<style scoped>\n",
       "    .dataframe tbody tr th:only-of-type {\n",
       "        vertical-align: middle;\n",
       "    }\n",
       "\n",
       "    .dataframe tbody tr th {\n",
       "        vertical-align: top;\n",
       "    }\n",
       "\n",
       "    .dataframe thead th {\n",
       "        text-align: right;\n",
       "    }\n",
       "</style>\n",
       "<table border=\"1\" class=\"dataframe\">\n",
       "  <thead>\n",
       "    <tr style=\"text-align: right;\">\n",
       "      <th></th>\n",
       "      <th>Data Analyst count</th>\n",
       "      <th>Senior Data Analyst count</th>\n",
       "    </tr>\n",
       "    <tr>\n",
       "      <th>month</th>\n",
       "      <th></th>\n",
       "      <th></th>\n",
       "    </tr>\n",
       "  </thead>\n",
       "  <tbody>\n",
       "    <tr>\n",
       "      <th>1</th>\n",
       "      <td>23585</td>\n",
       "      <td>3696</td>\n",
       "    </tr>\n",
       "    <tr>\n",
       "      <th>2</th>\n",
       "      <td>16558</td>\n",
       "      <td>2713</td>\n",
       "    </tr>\n",
       "    <tr>\n",
       "      <th>3</th>\n",
       "      <td>16243</td>\n",
       "      <td>2454</td>\n",
       "    </tr>\n",
       "    <tr>\n",
       "      <th>4</th>\n",
       "      <td>15514</td>\n",
       "      <td>2351</td>\n",
       "    </tr>\n",
       "    <tr>\n",
       "      <th>5</th>\n",
       "      <td>13423</td>\n",
       "      <td>1925</td>\n",
       "    </tr>\n",
       "    <tr>\n",
       "      <th>6</th>\n",
       "      <td>16008</td>\n",
       "      <td>2319</td>\n",
       "    </tr>\n",
       "    <tr>\n",
       "      <th>7</th>\n",
       "      <td>16095</td>\n",
       "      <td>2380</td>\n",
       "    </tr>\n",
       "    <tr>\n",
       "      <th>8</th>\n",
       "      <td>18628</td>\n",
       "      <td>2951</td>\n",
       "    </tr>\n",
       "    <tr>\n",
       "      <th>9</th>\n",
       "      <td>14969</td>\n",
       "      <td>2194</td>\n",
       "    </tr>\n",
       "    <tr>\n",
       "      <th>10</th>\n",
       "      <td>16239</td>\n",
       "      <td>2317</td>\n",
       "    </tr>\n",
       "    <tr>\n",
       "      <th>11</th>\n",
       "      <td>15230</td>\n",
       "      <td>2117</td>\n",
       "    </tr>\n",
       "    <tr>\n",
       "      <th>12</th>\n",
       "      <td>13583</td>\n",
       "      <td>1799</td>\n",
       "    </tr>\n",
       "  </tbody>\n",
       "</table>\n",
       "</div>"
      ],
      "text/plain": [
       "       Data Analyst count  Senior Data Analyst count\n",
       "month                                               \n",
       "1                   23585                       3696\n",
       "2                   16558                       2713\n",
       "3                   16243                       2454\n",
       "4                   15514                       2351\n",
       "5                   13423                       1925\n",
       "6                   16008                       2319\n",
       "7                   16095                       2380\n",
       "8                   18628                       2951\n",
       "9                   14969                       2194\n",
       "10                  16239                       2317\n",
       "11                  15230                       2117\n",
       "12                  13583                       1799"
      ]
     },
     "execution_count": 13,
     "metadata": {},
     "output_type": "execute_result"
    }
   ],
   "source": [
    "# Merge the two pivot tables\n",
    "merged_DA_pivot = pd.merge(\n",
    "    df_DA_pivot,\n",
    "    df_SDA_pivot,\n",
    "    how='outer',\n",
    "    left_index=True,\n",
    "    right_index=True\n",
    ")\n",
    "\n",
    "merged_DA_pivot.columns = ['Data Analyst count', 'Senior Data Analyst count']\n",
    "merged_DA_pivot"
   ]
  }
 ],
 "metadata": {
  "kernelspec": {
   "display_name": "Python 3",
   "language": "python",
   "name": "python3"
  },
  "language_info": {
   "codemirror_mode": {
    "name": "ipython",
    "version": 3
   },
   "file_extension": ".py",
   "mimetype": "text/x-python",
   "name": "python",
   "nbconvert_exporter": "python",
   "pygments_lexer": "ipython3",
   "version": "3.13.7"
  }
 },
 "nbformat": 4,
 "nbformat_minor": 5
}
