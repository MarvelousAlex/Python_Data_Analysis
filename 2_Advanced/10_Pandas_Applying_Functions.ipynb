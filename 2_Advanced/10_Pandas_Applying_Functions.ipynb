{
 "cells": [
  {
   "cell_type": "markdown",
   "id": "f706def1",
   "metadata": {},
   "source": [
    "Pandas Applying Functions\n"
   ]
  },
  {
   "cell_type": "markdown",
   "id": "25e51493",
   "metadata": {},
   "source": [
    "Load data\n"
   ]
  },
  {
   "cell_type": "code",
   "execution_count": null,
   "id": "8f354125",
   "metadata": {},
   "outputs": [],
   "source": [
    "# Importing Libraries\n",
    "import pandas as pd\n",
    "from datasets import load_dataset\n",
    "import matplotlib.pyplot as plt\n",
    "\n",
    "# Loading Data\n",
    "dataset = load_dataset('lukebarousse/data_jobs')\n",
    "df = dataset['train'].to_pandas()\n",
    "\n",
    "# Data Cleanup\n",
    "df['job_posted_date'] = pd.to_datetime(df['job_posted_date'])"
   ]
  },
  {
   "cell_type": "markdown",
   "id": "3dc307ef",
   "metadata": {},
   "source": [
    "Apply\n"
   ]
  },
  {
   "cell_type": "code",
   "execution_count": 2,
   "id": "f1c6cbdf",
   "metadata": {},
   "outputs": [
    {
     "name": "stdout",
     "output_type": "stream",
     "text": [
      "Help on method apply in module pandas.core.frame:\n",
      "\n",
      "apply(\n",
      "    func: 'AggFuncType',\n",
      "    axis: 'Axis' = 0,\n",
      "    raw: 'bool' = False,\n",
      "    result_type: \"Literal['expand', 'reduce', 'broadcast'] | None\" = None,\n",
      "    args=(),\n",
      "    by_row: \"Literal[False, 'compat']\" = 'compat',\n",
      "    engine: \"Literal['python', 'numba']\" = 'python',\n",
      "    engine_kwargs: 'dict[str, bool] | None' = None,\n",
      "    **kwargs\n",
      ") method of pandas.core.frame.DataFrame instance\n",
      "    Apply a function along an axis of the DataFrame.\n",
      "\n",
      "    Objects passed to the function are Series objects whose index is\n",
      "    either the DataFrame's index (``axis=0``) or the DataFrame's columns\n",
      "    (``axis=1``). By default (``result_type=None``), the final return type\n",
      "    is inferred from the return type of the applied function. Otherwise,\n",
      "    it depends on the `result_type` argument.\n",
      "\n",
      "    Parameters\n",
      "    ----------\n",
      "    func : function\n",
      "        Function to apply to each column or row.\n",
      "    axis : {0 or 'index', 1 or 'columns'}, default 0\n",
      "        Axis along which the function is applied:\n",
      "\n",
      "        * 0 or 'index': apply function to each column.\n",
      "        * 1 or 'columns': apply function to each row.\n",
      "\n",
      "    raw : bool, default False\n",
      "        Determines if row or column is passed as a Series or ndarray object:\n",
      "\n",
      "        * ``False`` : passes each row or column as a Series to the\n",
      "          function.\n",
      "        * ``True`` : the passed function will receive ndarray objects\n",
      "          instead.\n",
      "          If you are just applying a NumPy reduction function this will\n",
      "          achieve much better performance.\n",
      "\n",
      "    result_type : {'expand', 'reduce', 'broadcast', None}, default None\n",
      "        These only act when ``axis=1`` (columns):\n",
      "\n",
      "        * 'expand' : list-like results will be turned into columns.\n",
      "        * 'reduce' : returns a Series if possible rather than expanding\n",
      "          list-like results. This is the opposite of 'expand'.\n",
      "        * 'broadcast' : results will be broadcast to the original shape\n",
      "          of the DataFrame, the original index and columns will be\n",
      "          retained.\n",
      "\n",
      "        The default behaviour (None) depends on the return value of the\n",
      "        applied function: list-like results will be returned as a Series\n",
      "        of those. However if the apply function returns a Series these\n",
      "        are expanded to columns.\n",
      "    args : tuple\n",
      "        Positional arguments to pass to `func` in addition to the\n",
      "        array/series.\n",
      "    by_row : False or \"compat\", default \"compat\"\n",
      "        Only has an effect when ``func`` is a listlike or dictlike of funcs\n",
      "        and the func isn't a string.\n",
      "        If \"compat\", will if possible first translate the func into pandas\n",
      "        methods (e.g. ``Series().apply(np.sum)`` will be translated to\n",
      "        ``Series().sum()``). If that doesn't work, will try call to apply again with\n",
      "        ``by_row=True`` and if that fails, will call apply again with\n",
      "        ``by_row=False`` (backward compatible).\n",
      "        If False, the funcs will be passed the whole Series at once.\n",
      "\n",
      "        .. versionadded:: 2.1.0\n",
      "\n",
      "    engine : {'python', 'numba'}, default 'python'\n",
      "        Choose between the python (default) engine or the numba engine in apply.\n",
      "\n",
      "        The numba engine will attempt to JIT compile the passed function,\n",
      "        which may result in speedups for large DataFrames.\n",
      "        It also supports the following engine_kwargs :\n",
      "\n",
      "        - nopython (compile the function in nopython mode)\n",
      "        - nogil (release the GIL inside the JIT compiled function)\n",
      "        - parallel (try to apply the function in parallel over the DataFrame)\n",
      "\n",
      "          Note: Due to limitations within numba/how pandas interfaces with numba,\n",
      "          you should only use this if raw=True\n",
      "\n",
      "        Note: The numba compiler only supports a subset of\n",
      "        valid Python/numpy operations.\n",
      "\n",
      "        Please read more about the `supported python features\n",
      "        <https://numba.pydata.org/numba-doc/dev/reference/pysupported.html>`_\n",
      "        and `supported numpy features\n",
      "        <https://numba.pydata.org/numba-doc/dev/reference/numpysupported.html>`_\n",
      "        in numba to learn what you can or cannot use in the passed function.\n",
      "\n",
      "        .. versionadded:: 2.2.0\n",
      "\n",
      "    engine_kwargs : dict\n",
      "        Pass keyword arguments to the engine.\n",
      "        This is currently only used by the numba engine,\n",
      "        see the documentation for the engine argument for more information.\n",
      "    **kwargs\n",
      "        Additional keyword arguments to pass as keywords arguments to\n",
      "        `func`.\n",
      "\n",
      "    Returns\n",
      "    -------\n",
      "    Series or DataFrame\n",
      "        Result of applying ``func`` along the given axis of the\n",
      "        DataFrame.\n",
      "\n",
      "    See Also\n",
      "    --------\n",
      "    DataFrame.map: For elementwise operations.\n",
      "    DataFrame.aggregate: Only perform aggregating type operations.\n",
      "    DataFrame.transform: Only perform transforming type operations.\n",
      "\n",
      "    Notes\n",
      "    -----\n",
      "    Functions that mutate the passed object can produce unexpected\n",
      "    behavior or errors and are not supported. See :ref:`gotchas.udf-mutation`\n",
      "    for more details.\n",
      "\n",
      "    Examples\n",
      "    --------\n",
      "    >>> df = pd.DataFrame([[4, 9]] * 3, columns=['A', 'B'])\n",
      "    >>> df\n",
      "       A  B\n",
      "    0  4  9\n",
      "    1  4  9\n",
      "    2  4  9\n",
      "\n",
      "    Using a numpy universal function (in this case the same as\n",
      "    ``np.sqrt(df)``):\n",
      "\n",
      "    >>> df.apply(np.sqrt)\n",
      "         A    B\n",
      "    0  2.0  3.0\n",
      "    1  2.0  3.0\n",
      "    2  2.0  3.0\n",
      "\n",
      "    Using a reducing function on either axis\n",
      "\n",
      "    >>> df.apply(np.sum, axis=0)\n",
      "    A    12\n",
      "    B    27\n",
      "    dtype: int64\n",
      "\n",
      "    >>> df.apply(np.sum, axis=1)\n",
      "    0    13\n",
      "    1    13\n",
      "    2    13\n",
      "    dtype: int64\n",
      "\n",
      "    Returning a list-like will result in a Series\n",
      "\n",
      "    >>> df.apply(lambda x: [1, 2], axis=1)\n",
      "    0    [1, 2]\n",
      "    1    [1, 2]\n",
      "    2    [1, 2]\n",
      "    dtype: object\n",
      "\n",
      "    Passing ``result_type='expand'`` will expand list-like results\n",
      "    to columns of a Dataframe\n",
      "\n",
      "    >>> df.apply(lambda x: [1, 2], axis=1, result_type='expand')\n",
      "       0  1\n",
      "    0  1  2\n",
      "    1  1  2\n",
      "    2  1  2\n",
      "\n",
      "    Returning a Series inside the function is similar to passing\n",
      "    ``result_type='expand'``. The resulting column names\n",
      "    will be the Series index.\n",
      "\n",
      "    >>> df.apply(lambda x: pd.Series([1, 2], index=['foo', 'bar']), axis=1)\n",
      "       foo  bar\n",
      "    0    1    2\n",
      "    1    1    2\n",
      "    2    1    2\n",
      "\n",
      "    Passing ``result_type='broadcast'`` will ensure the same shape\n",
      "    result, whether list-like or scalar is returned by the function,\n",
      "    and broadcast it along the axis. The resulting column names will\n",
      "    be the originals.\n",
      "\n",
      "    >>> df.apply(lambda x: [1, 2], axis=1, result_type='broadcast')\n",
      "       A  B\n",
      "    0  1  2\n",
      "    1  1  2\n",
      "    2  1  2\n",
      "\n"
     ]
    }
   ],
   "source": [
    "help(df.apply)"
   ]
  },
  {
   "cell_type": "markdown",
   "id": "2f0d49f2",
   "metadata": {},
   "source": [
    "Notes\n",
    "\n",
    "- `apply()`: Apply functions to columns or rows.\n"
   ]
  },
  {
   "cell_type": "markdown",
   "id": "bb5ab955",
   "metadata": {},
   "source": [
    "Example 1\n",
    "\n",
    "Calculate projected salaries next year, using an assumed rate of 3.0% for all roles.\n"
   ]
  },
  {
   "cell_type": "code",
   "execution_count": 3,
   "id": "951a6e83",
   "metadata": {},
   "outputs": [
    {
     "data": {
      "application/vnd.microsoft.datawrangler.viewer.v0+json": {
       "columns": [
        {
         "name": "index",
         "rawType": "int64",
         "type": "integer"
        },
        {
         "name": "salary_year_avg",
         "rawType": "float64",
         "type": "float"
        },
        {
         "name": "salary_year_inflated",
         "rawType": "float64",
         "type": "float"
        }
       ],
       "ref": "ba580bf1-0601-407e-9ade-9264410982b9",
       "rows": [
        [
         "28",
         "109500.0",
         "112785.0"
        ],
        [
         "77",
         "140000.0",
         "144200.0"
        ],
        [
         "92",
         "120000.0",
         "123600.0"
        ],
        [
         "100",
         "228222.0",
         "235068.66"
        ],
        [
         "109",
         "89000.0",
         "91670.0"
        ],
        [
         "116",
         "114000.0",
         "117420.0"
        ],
        [
         "146",
         "129500.0",
         "133385.0"
        ],
        [
         "180",
         "90250.0",
         "92957.5"
        ],
        [
         "212",
         "157500.0",
         "162225.0"
        ],
        [
         "257",
         "103128.0",
         "106221.84"
        ],
        [
         "307",
         "185000.0",
         "190550.0"
        ],
        [
         "339",
         "195000.0",
         "200850.0"
        ],
        [
         "380",
         "97500.0",
         "100425.0"
        ],
        [
         "388",
         "89000.0",
         "91670.0"
        ],
        [
         "410",
         "133285.0",
         "137283.55000000002"
        ],
        [
         "450",
         "157500.0",
         "162225.0"
        ],
        [
         "495",
         "168500.0",
         "173555.0"
        ],
        [
         "520",
         "63000.0",
         "64890.0"
        ],
        [
         "545",
         "80000.0",
         "82400.0"
        ],
        [
         "571",
         "110000.0",
         "113300.0"
        ],
        [
         "573",
         "160000.0",
         "164800.0"
        ],
        [
         "645",
         "125000.0",
         "128750.0"
        ],
        [
         "654",
         "70000.0",
         "72100.0"
        ],
        [
         "657",
         "165000.0",
         "169950.0"
        ],
        [
         "679",
         "317000.0",
         "326510.0"
        ],
        [
         "704",
         "100000.0",
         "103000.0"
        ],
        [
         "719",
         "111228.15625",
         "114565.00093750001"
        ],
        [
         "726",
         "173500.0",
         "178705.0"
        ],
        [
         "733",
         "160000.0",
         "164800.0"
        ],
        [
         "762",
         "171000.0",
         "176130.0"
        ],
        [
         "773",
         "180000.0",
         "185400.0"
        ],
        [
         "813",
         "157500.0",
         "162225.0"
        ],
        [
         "923",
         "135000.0",
         "139050.0"
        ],
        [
         "982",
         "85000.0",
         "87550.0"
        ],
        [
         "988",
         "62623.0",
         "64501.69"
        ],
        [
         "990",
         "90000.0",
         "92700.0"
        ],
        [
         "993",
         "125000.0",
         "128750.0"
        ],
        [
         "1011",
         "90000.0",
         "92700.0"
        ],
        [
         "1042",
         "105300.0",
         "108459.0"
        ],
        [
         "1106",
         "137500.0",
         "141625.0"
        ],
        [
         "1107",
         "157500.0",
         "162225.0"
        ],
        [
         "1148",
         "155000.0",
         "159650.0"
        ],
        [
         "1164",
         "190000.0",
         "195700.0"
        ],
        [
         "1209",
         "79200.0",
         "81576.0"
        ],
        [
         "1238",
         "190000.0",
         "195700.0"
        ],
        [
         "1257",
         "70700.0",
         "72821.0"
        ],
        [
         "1261",
         "180000.0",
         "185400.0"
        ],
        [
         "1280",
         "233500.0",
         "240505.0"
        ],
        [
         "1284",
         "102500.0",
         "105575.0"
        ],
        [
         "1313",
         "79200.0",
         "81576.0"
        ]
       ],
       "shape": {
        "columns": 2,
        "rows": 22003
       }
      },
      "text/html": [
       "<div>\n",
       "<style scoped>\n",
       "    .dataframe tbody tr th:only-of-type {\n",
       "        vertical-align: middle;\n",
       "    }\n",
       "\n",
       "    .dataframe tbody tr th {\n",
       "        vertical-align: top;\n",
       "    }\n",
       "\n",
       "    .dataframe thead th {\n",
       "        text-align: right;\n",
       "    }\n",
       "</style>\n",
       "<table border=\"1\" class=\"dataframe\">\n",
       "  <thead>\n",
       "    <tr style=\"text-align: right;\">\n",
       "      <th></th>\n",
       "      <th>salary_year_avg</th>\n",
       "      <th>salary_year_inflated</th>\n",
       "    </tr>\n",
       "  </thead>\n",
       "  <tbody>\n",
       "    <tr>\n",
       "      <th>28</th>\n",
       "      <td>109500.0</td>\n",
       "      <td>112785.00</td>\n",
       "    </tr>\n",
       "    <tr>\n",
       "      <th>77</th>\n",
       "      <td>140000.0</td>\n",
       "      <td>144200.00</td>\n",
       "    </tr>\n",
       "    <tr>\n",
       "      <th>92</th>\n",
       "      <td>120000.0</td>\n",
       "      <td>123600.00</td>\n",
       "    </tr>\n",
       "    <tr>\n",
       "      <th>100</th>\n",
       "      <td>228222.0</td>\n",
       "      <td>235068.66</td>\n",
       "    </tr>\n",
       "    <tr>\n",
       "      <th>109</th>\n",
       "      <td>89000.0</td>\n",
       "      <td>91670.00</td>\n",
       "    </tr>\n",
       "    <tr>\n",
       "      <th>...</th>\n",
       "      <td>...</td>\n",
       "      <td>...</td>\n",
       "    </tr>\n",
       "    <tr>\n",
       "      <th>785624</th>\n",
       "      <td>139216.0</td>\n",
       "      <td>143392.48</td>\n",
       "    </tr>\n",
       "    <tr>\n",
       "      <th>785641</th>\n",
       "      <td>150000.0</td>\n",
       "      <td>154500.00</td>\n",
       "    </tr>\n",
       "    <tr>\n",
       "      <th>785648</th>\n",
       "      <td>221875.0</td>\n",
       "      <td>228531.25</td>\n",
       "    </tr>\n",
       "    <tr>\n",
       "      <th>785682</th>\n",
       "      <td>157500.0</td>\n",
       "      <td>162225.00</td>\n",
       "    </tr>\n",
       "    <tr>\n",
       "      <th>785692</th>\n",
       "      <td>157500.0</td>\n",
       "      <td>162225.00</td>\n",
       "    </tr>\n",
       "  </tbody>\n",
       "</table>\n",
       "<p>22003 rows × 2 columns</p>\n",
       "</div>"
      ],
      "text/plain": [
       "        salary_year_avg  salary_year_inflated\n",
       "28             109500.0             112785.00\n",
       "77             140000.0             144200.00\n",
       "92             120000.0             123600.00\n",
       "100            228222.0             235068.66\n",
       "109             89000.0              91670.00\n",
       "...                 ...                   ...\n",
       "785624         139216.0             143392.48\n",
       "785641         150000.0             154500.00\n",
       "785648         221875.0             228531.25\n",
       "785682         157500.0             162225.00\n",
       "785692         157500.0             162225.00\n",
       "\n",
       "[22003 rows x 2 columns]"
      ]
     },
     "execution_count": 3,
     "metadata": {},
     "output_type": "execute_result"
    }
   ],
   "source": [
    "def inflation(salary):\n",
    "    return salary * 1.03  # Assuming a 3% annual inflation rate\n",
    "\n",
    "\n",
    "df['salary_year_inflated'] = df['salary_year_avg'].apply(inflation)\n",
    "\n",
    "df[pd.notna(df['salary_year_avg'])][[\n",
    "    'salary_year_avg', 'salary_year_inflated']]"
   ]
  },
  {
   "cell_type": "markdown",
   "id": "52a8e99c",
   "metadata": {},
   "source": [
    "We can actually simplify this with a lambda function.\n"
   ]
  },
  {
   "cell_type": "code",
   "execution_count": 4,
   "id": "7e131353",
   "metadata": {},
   "outputs": [
    {
     "data": {
      "application/vnd.microsoft.datawrangler.viewer.v0+json": {
       "columns": [
        {
         "name": "index",
         "rawType": "int64",
         "type": "integer"
        },
        {
         "name": "salary_year_avg",
         "rawType": "float64",
         "type": "float"
        },
        {
         "name": "salary_year_inflated",
         "rawType": "float64",
         "type": "float"
        }
       ],
       "ref": "1d75433d-994c-405f-860c-6a492aec2376",
       "rows": [
        [
         "28",
         "109500.0",
         "112785.0"
        ],
        [
         "77",
         "140000.0",
         "144200.0"
        ],
        [
         "92",
         "120000.0",
         "123600.0"
        ],
        [
         "100",
         "228222.0",
         "235068.66"
        ],
        [
         "109",
         "89000.0",
         "91670.0"
        ],
        [
         "116",
         "114000.0",
         "117420.0"
        ],
        [
         "146",
         "129500.0",
         "133385.0"
        ],
        [
         "180",
         "90250.0",
         "92957.5"
        ],
        [
         "212",
         "157500.0",
         "162225.0"
        ],
        [
         "257",
         "103128.0",
         "106221.84"
        ],
        [
         "307",
         "185000.0",
         "190550.0"
        ],
        [
         "339",
         "195000.0",
         "200850.0"
        ],
        [
         "380",
         "97500.0",
         "100425.0"
        ],
        [
         "388",
         "89000.0",
         "91670.0"
        ],
        [
         "410",
         "133285.0",
         "137283.55000000002"
        ],
        [
         "450",
         "157500.0",
         "162225.0"
        ],
        [
         "495",
         "168500.0",
         "173555.0"
        ],
        [
         "520",
         "63000.0",
         "64890.0"
        ],
        [
         "545",
         "80000.0",
         "82400.0"
        ],
        [
         "571",
         "110000.0",
         "113300.0"
        ],
        [
         "573",
         "160000.0",
         "164800.0"
        ],
        [
         "645",
         "125000.0",
         "128750.0"
        ],
        [
         "654",
         "70000.0",
         "72100.0"
        ],
        [
         "657",
         "165000.0",
         "169950.0"
        ],
        [
         "679",
         "317000.0",
         "326510.0"
        ],
        [
         "704",
         "100000.0",
         "103000.0"
        ],
        [
         "719",
         "111228.15625",
         "114565.00093750001"
        ],
        [
         "726",
         "173500.0",
         "178705.0"
        ],
        [
         "733",
         "160000.0",
         "164800.0"
        ],
        [
         "762",
         "171000.0",
         "176130.0"
        ],
        [
         "773",
         "180000.0",
         "185400.0"
        ],
        [
         "813",
         "157500.0",
         "162225.0"
        ],
        [
         "923",
         "135000.0",
         "139050.0"
        ],
        [
         "982",
         "85000.0",
         "87550.0"
        ],
        [
         "988",
         "62623.0",
         "64501.69"
        ],
        [
         "990",
         "90000.0",
         "92700.0"
        ],
        [
         "993",
         "125000.0",
         "128750.0"
        ],
        [
         "1011",
         "90000.0",
         "92700.0"
        ],
        [
         "1042",
         "105300.0",
         "108459.0"
        ],
        [
         "1106",
         "137500.0",
         "141625.0"
        ],
        [
         "1107",
         "157500.0",
         "162225.0"
        ],
        [
         "1148",
         "155000.0",
         "159650.0"
        ],
        [
         "1164",
         "190000.0",
         "195700.0"
        ],
        [
         "1209",
         "79200.0",
         "81576.0"
        ],
        [
         "1238",
         "190000.0",
         "195700.0"
        ],
        [
         "1257",
         "70700.0",
         "72821.0"
        ],
        [
         "1261",
         "180000.0",
         "185400.0"
        ],
        [
         "1280",
         "233500.0",
         "240505.0"
        ],
        [
         "1284",
         "102500.0",
         "105575.0"
        ],
        [
         "1313",
         "79200.0",
         "81576.0"
        ]
       ],
       "shape": {
        "columns": 2,
        "rows": 22003
       }
      },
      "text/html": [
       "<div>\n",
       "<style scoped>\n",
       "    .dataframe tbody tr th:only-of-type {\n",
       "        vertical-align: middle;\n",
       "    }\n",
       "\n",
       "    .dataframe tbody tr th {\n",
       "        vertical-align: top;\n",
       "    }\n",
       "\n",
       "    .dataframe thead th {\n",
       "        text-align: right;\n",
       "    }\n",
       "</style>\n",
       "<table border=\"1\" class=\"dataframe\">\n",
       "  <thead>\n",
       "    <tr style=\"text-align: right;\">\n",
       "      <th></th>\n",
       "      <th>salary_year_avg</th>\n",
       "      <th>salary_year_inflated</th>\n",
       "    </tr>\n",
       "  </thead>\n",
       "  <tbody>\n",
       "    <tr>\n",
       "      <th>28</th>\n",
       "      <td>109500.0</td>\n",
       "      <td>112785.00</td>\n",
       "    </tr>\n",
       "    <tr>\n",
       "      <th>77</th>\n",
       "      <td>140000.0</td>\n",
       "      <td>144200.00</td>\n",
       "    </tr>\n",
       "    <tr>\n",
       "      <th>92</th>\n",
       "      <td>120000.0</td>\n",
       "      <td>123600.00</td>\n",
       "    </tr>\n",
       "    <tr>\n",
       "      <th>100</th>\n",
       "      <td>228222.0</td>\n",
       "      <td>235068.66</td>\n",
       "    </tr>\n",
       "    <tr>\n",
       "      <th>109</th>\n",
       "      <td>89000.0</td>\n",
       "      <td>91670.00</td>\n",
       "    </tr>\n",
       "    <tr>\n",
       "      <th>...</th>\n",
       "      <td>...</td>\n",
       "      <td>...</td>\n",
       "    </tr>\n",
       "    <tr>\n",
       "      <th>785624</th>\n",
       "      <td>139216.0</td>\n",
       "      <td>143392.48</td>\n",
       "    </tr>\n",
       "    <tr>\n",
       "      <th>785641</th>\n",
       "      <td>150000.0</td>\n",
       "      <td>154500.00</td>\n",
       "    </tr>\n",
       "    <tr>\n",
       "      <th>785648</th>\n",
       "      <td>221875.0</td>\n",
       "      <td>228531.25</td>\n",
       "    </tr>\n",
       "    <tr>\n",
       "      <th>785682</th>\n",
       "      <td>157500.0</td>\n",
       "      <td>162225.00</td>\n",
       "    </tr>\n",
       "    <tr>\n",
       "      <th>785692</th>\n",
       "      <td>157500.0</td>\n",
       "      <td>162225.00</td>\n",
       "    </tr>\n",
       "  </tbody>\n",
       "</table>\n",
       "<p>22003 rows × 2 columns</p>\n",
       "</div>"
      ],
      "text/plain": [
       "        salary_year_avg  salary_year_inflated\n",
       "28             109500.0             112785.00\n",
       "77             140000.0             144200.00\n",
       "92             120000.0             123600.00\n",
       "100            228222.0             235068.66\n",
       "109             89000.0              91670.00\n",
       "...                 ...                   ...\n",
       "785624         139216.0             143392.48\n",
       "785641         150000.0             154500.00\n",
       "785648         221875.0             228531.25\n",
       "785682         157500.0             162225.00\n",
       "785692         157500.0             162225.00\n",
       "\n",
       "[22003 rows x 2 columns]"
      ]
     },
     "execution_count": 4,
     "metadata": {},
     "output_type": "execute_result"
    }
   ],
   "source": [
    "df['salary_year_inflated'] = df['salary_year_avg'].apply(\n",
    "    lambda salary: salary * 1.03)\n",
    "\n",
    "df[pd.notna(df['salary_year_avg'])][[\n",
    "    'salary_year_avg', 'salary_year_inflated']]"
   ]
  },
  {
   "cell_type": "markdown",
   "id": "6159eb95",
   "metadata": {},
   "source": [
    "Now technically this could have been done like this...\n"
   ]
  },
  {
   "cell_type": "code",
   "execution_count": 5,
   "id": "b92d0977",
   "metadata": {},
   "outputs": [
    {
     "data": {
      "application/vnd.microsoft.datawrangler.viewer.v0+json": {
       "columns": [
        {
         "name": "index",
         "rawType": "int64",
         "type": "integer"
        },
        {
         "name": "salary_year_avg",
         "rawType": "float64",
         "type": "float"
        },
        {
         "name": "salary_year_inflated",
         "rawType": "float64",
         "type": "float"
        }
       ],
       "ref": "63f5e075-d790-4415-b5cd-e0dfd6dcd9fe",
       "rows": [
        [
         "28",
         "112785.0",
         "112785.0"
        ],
        [
         "77",
         "144200.0",
         "144200.0"
        ],
        [
         "92",
         "123600.0",
         "123600.0"
        ],
        [
         "100",
         "235068.66",
         "235068.66"
        ],
        [
         "109",
         "91670.0",
         "91670.0"
        ],
        [
         "116",
         "117420.0",
         "117420.0"
        ],
        [
         "146",
         "133385.0",
         "133385.0"
        ],
        [
         "180",
         "92957.5",
         "92957.5"
        ],
        [
         "212",
         "162225.0",
         "162225.0"
        ],
        [
         "257",
         "106221.84",
         "106221.84"
        ],
        [
         "307",
         "190550.0",
         "190550.0"
        ],
        [
         "339",
         "200850.0",
         "200850.0"
        ],
        [
         "380",
         "100425.0",
         "100425.0"
        ],
        [
         "388",
         "91670.0",
         "91670.0"
        ],
        [
         "410",
         "137283.55000000002",
         "137283.55000000002"
        ],
        [
         "450",
         "162225.0",
         "162225.0"
        ],
        [
         "495",
         "173555.0",
         "173555.0"
        ],
        [
         "520",
         "64890.0",
         "64890.0"
        ],
        [
         "545",
         "82400.0",
         "82400.0"
        ],
        [
         "571",
         "113300.0",
         "113300.0"
        ],
        [
         "573",
         "164800.0",
         "164800.0"
        ],
        [
         "645",
         "128750.0",
         "128750.0"
        ],
        [
         "654",
         "72100.0",
         "72100.0"
        ],
        [
         "657",
         "169950.0",
         "169950.0"
        ],
        [
         "679",
         "326510.0",
         "326510.0"
        ],
        [
         "704",
         "103000.0",
         "103000.0"
        ],
        [
         "719",
         "114565.00093750001",
         "114565.00093750001"
        ],
        [
         "726",
         "178705.0",
         "178705.0"
        ],
        [
         "733",
         "164800.0",
         "164800.0"
        ],
        [
         "762",
         "176130.0",
         "176130.0"
        ],
        [
         "773",
         "185400.0",
         "185400.0"
        ],
        [
         "813",
         "162225.0",
         "162225.0"
        ],
        [
         "923",
         "139050.0",
         "139050.0"
        ],
        [
         "982",
         "87550.0",
         "87550.0"
        ],
        [
         "988",
         "64501.69",
         "64501.69"
        ],
        [
         "990",
         "92700.0",
         "92700.0"
        ],
        [
         "993",
         "128750.0",
         "128750.0"
        ],
        [
         "1011",
         "92700.0",
         "92700.0"
        ],
        [
         "1042",
         "108459.0",
         "108459.0"
        ],
        [
         "1106",
         "141625.0",
         "141625.0"
        ],
        [
         "1107",
         "162225.0",
         "162225.0"
        ],
        [
         "1148",
         "159650.0",
         "159650.0"
        ],
        [
         "1164",
         "195700.0",
         "195700.0"
        ],
        [
         "1209",
         "81576.0",
         "81576.0"
        ],
        [
         "1238",
         "195700.0",
         "195700.0"
        ],
        [
         "1257",
         "72821.0",
         "72821.0"
        ],
        [
         "1261",
         "185400.0",
         "185400.0"
        ],
        [
         "1280",
         "240505.0",
         "240505.0"
        ],
        [
         "1284",
         "105575.0",
         "105575.0"
        ],
        [
         "1313",
         "81576.0",
         "81576.0"
        ]
       ],
       "shape": {
        "columns": 2,
        "rows": 22003
       }
      },
      "text/html": [
       "<div>\n",
       "<style scoped>\n",
       "    .dataframe tbody tr th:only-of-type {\n",
       "        vertical-align: middle;\n",
       "    }\n",
       "\n",
       "    .dataframe tbody tr th {\n",
       "        vertical-align: top;\n",
       "    }\n",
       "\n",
       "    .dataframe thead th {\n",
       "        text-align: right;\n",
       "    }\n",
       "</style>\n",
       "<table border=\"1\" class=\"dataframe\">\n",
       "  <thead>\n",
       "    <tr style=\"text-align: right;\">\n",
       "      <th></th>\n",
       "      <th>salary_year_avg</th>\n",
       "      <th>salary_year_inflated</th>\n",
       "    </tr>\n",
       "  </thead>\n",
       "  <tbody>\n",
       "    <tr>\n",
       "      <th>28</th>\n",
       "      <td>112785.00</td>\n",
       "      <td>112785.00</td>\n",
       "    </tr>\n",
       "    <tr>\n",
       "      <th>77</th>\n",
       "      <td>144200.00</td>\n",
       "      <td>144200.00</td>\n",
       "    </tr>\n",
       "    <tr>\n",
       "      <th>92</th>\n",
       "      <td>123600.00</td>\n",
       "      <td>123600.00</td>\n",
       "    </tr>\n",
       "    <tr>\n",
       "      <th>100</th>\n",
       "      <td>235068.66</td>\n",
       "      <td>235068.66</td>\n",
       "    </tr>\n",
       "    <tr>\n",
       "      <th>109</th>\n",
       "      <td>91670.00</td>\n",
       "      <td>91670.00</td>\n",
       "    </tr>\n",
       "    <tr>\n",
       "      <th>...</th>\n",
       "      <td>...</td>\n",
       "      <td>...</td>\n",
       "    </tr>\n",
       "    <tr>\n",
       "      <th>785624</th>\n",
       "      <td>143392.48</td>\n",
       "      <td>143392.48</td>\n",
       "    </tr>\n",
       "    <tr>\n",
       "      <th>785641</th>\n",
       "      <td>154500.00</td>\n",
       "      <td>154500.00</td>\n",
       "    </tr>\n",
       "    <tr>\n",
       "      <th>785648</th>\n",
       "      <td>228531.25</td>\n",
       "      <td>228531.25</td>\n",
       "    </tr>\n",
       "    <tr>\n",
       "      <th>785682</th>\n",
       "      <td>162225.00</td>\n",
       "      <td>162225.00</td>\n",
       "    </tr>\n",
       "    <tr>\n",
       "      <th>785692</th>\n",
       "      <td>162225.00</td>\n",
       "      <td>162225.00</td>\n",
       "    </tr>\n",
       "  </tbody>\n",
       "</table>\n",
       "<p>22003 rows × 2 columns</p>\n",
       "</div>"
      ],
      "text/plain": [
       "        salary_year_avg  salary_year_inflated\n",
       "28            112785.00             112785.00\n",
       "77            144200.00             144200.00\n",
       "92            123600.00             123600.00\n",
       "100           235068.66             235068.66\n",
       "109            91670.00              91670.00\n",
       "...                 ...                   ...\n",
       "785624        143392.48             143392.48\n",
       "785641        154500.00             154500.00\n",
       "785648        228531.25             228531.25\n",
       "785682        162225.00             162225.00\n",
       "785692        162225.00             162225.00\n",
       "\n",
       "[22003 rows x 2 columns]"
      ]
     },
     "execution_count": 5,
     "metadata": {},
     "output_type": "execute_result"
    }
   ],
   "source": [
    "df['salary_year_avg'] = df['salary_year_avg'] * 1.03\n",
    "\n",
    "df[pd.notna(df['salary_year_avg'])][[\n",
    "    'salary_year_avg', 'salary_year_inflated']]"
   ]
  },
  {
   "cell_type": "markdown",
   "id": "ce372b71",
   "metadata": {},
   "source": [
    "Example 2\n",
    "\n",
    "Calculate projected salaries next year, but:\n",
    "\n",
    "- For senior roles (e.g., Senior Data Analysts), assume the rate is 5%\n",
    "- For all other roles, assume rate is 3%\n"
   ]
  },
  {
   "cell_type": "code",
   "execution_count": 6,
   "id": "248f175c",
   "metadata": {},
   "outputs": [
    {
     "data": {
      "application/vnd.microsoft.datawrangler.viewer.v0+json": {
       "columns": [
        {
         "name": "index",
         "rawType": "int64",
         "type": "integer"
        },
        {
         "name": "job_title_short",
         "rawType": "object",
         "type": "string"
        },
        {
         "name": "salary_year_avg",
         "rawType": "float64",
         "type": "float"
        },
        {
         "name": "salary_year_inflated",
         "rawType": "float64",
         "type": "float"
        }
       ],
       "ref": "a72712d6-1b46-4b68-9c70-e04e48aa2185",
       "rows": [
        [
         "28",
         "Data Scientist",
         "112785.0",
         "116168.55"
        ],
        [
         "77",
         "Data Engineer",
         "144200.0",
         "148526.0"
        ],
        [
         "92",
         "Data Engineer",
         "123600.0",
         "127308.0"
        ],
        [
         "100",
         "Data Scientist",
         "235068.66",
         "242120.71980000002"
        ],
        [
         "109",
         "Data Analyst",
         "91670.0",
         "94420.1"
        ],
        [
         "116",
         "Data Scientist",
         "117420.0",
         "120942.6"
        ],
        [
         "146",
         "Data Engineer",
         "133385.0",
         "137386.55000000002"
        ],
        [
         "180",
         "Data Analyst",
         "92957.5",
         "95746.225"
        ],
        [
         "212",
         "Data Scientist",
         "162225.0",
         "167091.75"
        ],
        [
         "257",
         "Data Scientist",
         "106221.84",
         "109408.4952"
        ],
        [
         "307",
         "Data Engineer",
         "190550.0",
         "196266.5"
        ],
        [
         "339",
         "Data Engineer",
         "200850.0",
         "206875.5"
        ],
        [
         "380",
         "Data Engineer",
         "100425.0",
         "103437.75"
        ],
        [
         "388",
         "Data Engineer",
         "91670.0",
         "94420.1"
        ],
        [
         "410",
         "Data Analyst",
         "137283.55000000002",
         "141402.05650000004"
        ],
        [
         "450",
         "Data Scientist",
         "162225.0",
         "167091.75"
        ],
        [
         "495",
         "Senior Data Engineer",
         "173555.0",
         "182232.75"
        ],
        [
         "520",
         "Business Analyst",
         "64890.0",
         "66836.7"
        ],
        [
         "545",
         "Data Engineer",
         "82400.0",
         "84872.0"
        ],
        [
         "571",
         "Data Engineer",
         "113300.0",
         "116699.0"
        ],
        [
         "573",
         "Senior Data Engineer",
         "164800.0",
         "173040.0"
        ],
        [
         "645",
         "Business Analyst",
         "128750.0",
         "132612.5"
        ],
        [
         "654",
         "Data Engineer",
         "72100.0",
         "74263.0"
        ],
        [
         "657",
         "Senior Data Engineer",
         "169950.0",
         "178447.5"
        ],
        [
         "679",
         "Software Engineer",
         "326510.0",
         "336305.3"
        ],
        [
         "704",
         "Data Engineer",
         "103000.0",
         "106090.0"
        ],
        [
         "719",
         "Data Engineer",
         "114565.00093750001",
         "118001.95096562502"
        ],
        [
         "726",
         "Senior Data Engineer",
         "178705.0",
         "187640.25"
        ],
        [
         "733",
         "Senior Data Engineer",
         "164800.0",
         "173040.0"
        ],
        [
         "762",
         "Data Engineer",
         "176130.0",
         "181413.9"
        ],
        [
         "773",
         "Data Engineer",
         "185400.0",
         "190962.0"
        ],
        [
         "813",
         "Data Engineer",
         "162225.0",
         "167091.75"
        ],
        [
         "923",
         "Data Engineer",
         "139050.0",
         "143221.5"
        ],
        [
         "982",
         "Senior Data Analyst",
         "87550.0",
         "91927.5"
        ],
        [
         "988",
         "Data Analyst",
         "64501.69",
         "66436.74070000001"
        ],
        [
         "990",
         "Senior Data Analyst",
         "92700.0",
         "97335.0"
        ],
        [
         "993",
         "Data Engineer",
         "128750.0",
         "132612.5"
        ],
        [
         "1011",
         "Senior Data Engineer",
         "92700.0",
         "97335.0"
        ],
        [
         "1042",
         "Machine Learning Engineer",
         "108459.0",
         "111712.77"
        ],
        [
         "1106",
         "Data Engineer",
         "141625.0",
         "145873.75"
        ],
        [
         "1107",
         "Data Scientist",
         "162225.0",
         "167091.75"
        ],
        [
         "1148",
         "Senior Data Engineer",
         "159650.0",
         "167632.5"
        ],
        [
         "1164",
         "Data Engineer",
         "195700.0",
         "201571.0"
        ],
        [
         "1209",
         "Machine Learning Engineer",
         "81576.0",
         "84023.28"
        ],
        [
         "1238",
         "Senior Data Engineer",
         "195700.0",
         "205485.0"
        ],
        [
         "1257",
         "Data Scientist",
         "72821.0",
         "75005.63"
        ],
        [
         "1261",
         "Senior Data Engineer",
         "185400.0",
         "194670.0"
        ],
        [
         "1280",
         "Software Engineer",
         "240505.0",
         "247720.15"
        ],
        [
         "1284",
         "Data Engineer",
         "105575.0",
         "108742.25"
        ],
        [
         "1313",
         "Data Engineer",
         "81576.0",
         "84023.28"
        ]
       ],
       "shape": {
        "columns": 3,
        "rows": 22003
       }
      },
      "text/html": [
       "<div>\n",
       "<style scoped>\n",
       "    .dataframe tbody tr th:only-of-type {\n",
       "        vertical-align: middle;\n",
       "    }\n",
       "\n",
       "    .dataframe tbody tr th {\n",
       "        vertical-align: top;\n",
       "    }\n",
       "\n",
       "    .dataframe thead th {\n",
       "        text-align: right;\n",
       "    }\n",
       "</style>\n",
       "<table border=\"1\" class=\"dataframe\">\n",
       "  <thead>\n",
       "    <tr style=\"text-align: right;\">\n",
       "      <th></th>\n",
       "      <th>job_title_short</th>\n",
       "      <th>salary_year_avg</th>\n",
       "      <th>salary_year_inflated</th>\n",
       "    </tr>\n",
       "  </thead>\n",
       "  <tbody>\n",
       "    <tr>\n",
       "      <th>28</th>\n",
       "      <td>Data Scientist</td>\n",
       "      <td>112785.00</td>\n",
       "      <td>116168.5500</td>\n",
       "    </tr>\n",
       "    <tr>\n",
       "      <th>77</th>\n",
       "      <td>Data Engineer</td>\n",
       "      <td>144200.00</td>\n",
       "      <td>148526.0000</td>\n",
       "    </tr>\n",
       "    <tr>\n",
       "      <th>92</th>\n",
       "      <td>Data Engineer</td>\n",
       "      <td>123600.00</td>\n",
       "      <td>127308.0000</td>\n",
       "    </tr>\n",
       "    <tr>\n",
       "      <th>100</th>\n",
       "      <td>Data Scientist</td>\n",
       "      <td>235068.66</td>\n",
       "      <td>242120.7198</td>\n",
       "    </tr>\n",
       "    <tr>\n",
       "      <th>109</th>\n",
       "      <td>Data Analyst</td>\n",
       "      <td>91670.00</td>\n",
       "      <td>94420.1000</td>\n",
       "    </tr>\n",
       "    <tr>\n",
       "      <th>...</th>\n",
       "      <td>...</td>\n",
       "      <td>...</td>\n",
       "      <td>...</td>\n",
       "    </tr>\n",
       "    <tr>\n",
       "      <th>785624</th>\n",
       "      <td>Data Engineer</td>\n",
       "      <td>143392.48</td>\n",
       "      <td>147694.2544</td>\n",
       "    </tr>\n",
       "    <tr>\n",
       "      <th>785641</th>\n",
       "      <td>Data Engineer</td>\n",
       "      <td>154500.00</td>\n",
       "      <td>159135.0000</td>\n",
       "    </tr>\n",
       "    <tr>\n",
       "      <th>785648</th>\n",
       "      <td>Data Scientist</td>\n",
       "      <td>228531.25</td>\n",
       "      <td>235387.1875</td>\n",
       "    </tr>\n",
       "    <tr>\n",
       "      <th>785682</th>\n",
       "      <td>Data Scientist</td>\n",
       "      <td>162225.00</td>\n",
       "      <td>167091.7500</td>\n",
       "    </tr>\n",
       "    <tr>\n",
       "      <th>785692</th>\n",
       "      <td>Data Scientist</td>\n",
       "      <td>162225.00</td>\n",
       "      <td>167091.7500</td>\n",
       "    </tr>\n",
       "  </tbody>\n",
       "</table>\n",
       "<p>22003 rows × 3 columns</p>\n",
       "</div>"
      ],
      "text/plain": [
       "       job_title_short  salary_year_avg  salary_year_inflated\n",
       "28      Data Scientist        112785.00           116168.5500\n",
       "77       Data Engineer        144200.00           148526.0000\n",
       "92       Data Engineer        123600.00           127308.0000\n",
       "100     Data Scientist        235068.66           242120.7198\n",
       "109       Data Analyst         91670.00            94420.1000\n",
       "...                ...              ...                   ...\n",
       "785624   Data Engineer        143392.48           147694.2544\n",
       "785641   Data Engineer        154500.00           159135.0000\n",
       "785648  Data Scientist        228531.25           235387.1875\n",
       "785682  Data Scientist        162225.00           167091.7500\n",
       "785692  Data Scientist        162225.00           167091.7500\n",
       "\n",
       "[22003 rows x 3 columns]"
      ]
     },
     "execution_count": 6,
     "metadata": {},
     "output_type": "execute_result"
    }
   ],
   "source": [
    "def projected_salary(row):\n",
    "    # if pd.isna(row['salary_year_avg']):\n",
    "    #     return None\n",
    "    if 'Senior' in row['job_title_short']:\n",
    "        return row['salary_year_avg'] * 1.05\n",
    "    else:\n",
    "        return row['salary_year_avg'] * 1.03\n",
    "\n",
    "\n",
    "df['salary_year_inflated'] = df.apply(projected_salary, axis=1)\n",
    "\n",
    "df[pd.notna(df['salary_year_avg'])][['job_title_short',\n",
    "                                     'salary_year_avg', 'salary_year_inflated']]"
   ]
  },
  {
   "cell_type": "markdown",
   "id": "3df67bd1",
   "metadata": {},
   "source": [
    "Technically you could write this with a lambda function:\n"
   ]
  },
  {
   "cell_type": "code",
   "execution_count": 7,
   "id": "4b898b2a",
   "metadata": {},
   "outputs": [
    {
     "data": {
      "application/vnd.microsoft.datawrangler.viewer.v0+json": {
       "columns": [
        {
         "name": "index",
         "rawType": "int64",
         "type": "integer"
        },
        {
         "name": "job_title_short",
         "rawType": "object",
         "type": "string"
        },
        {
         "name": "salary_year_avg",
         "rawType": "float64",
         "type": "float"
        },
        {
         "name": "salary_year_inflated",
         "rawType": "float64",
         "type": "float"
        }
       ],
       "ref": "113819fa-2e01-46a5-91b5-3b1cd5911172",
       "rows": [
        [
         "28",
         "Data Scientist",
         "112785.0",
         "116168.55"
        ],
        [
         "77",
         "Data Engineer",
         "144200.0",
         "148526.0"
        ],
        [
         "92",
         "Data Engineer",
         "123600.0",
         "127308.0"
        ],
        [
         "100",
         "Data Scientist",
         "235068.66",
         "242120.71980000002"
        ],
        [
         "109",
         "Data Analyst",
         "91670.0",
         "94420.1"
        ],
        [
         "116",
         "Data Scientist",
         "117420.0",
         "120942.6"
        ],
        [
         "146",
         "Data Engineer",
         "133385.0",
         "137386.55000000002"
        ],
        [
         "180",
         "Data Analyst",
         "92957.5",
         "95746.225"
        ],
        [
         "212",
         "Data Scientist",
         "162225.0",
         "167091.75"
        ],
        [
         "257",
         "Data Scientist",
         "106221.84",
         "109408.4952"
        ],
        [
         "307",
         "Data Engineer",
         "190550.0",
         "196266.5"
        ],
        [
         "339",
         "Data Engineer",
         "200850.0",
         "206875.5"
        ],
        [
         "380",
         "Data Engineer",
         "100425.0",
         "103437.75"
        ],
        [
         "388",
         "Data Engineer",
         "91670.0",
         "94420.1"
        ],
        [
         "410",
         "Data Analyst",
         "137283.55000000002",
         "141402.05650000004"
        ],
        [
         "450",
         "Data Scientist",
         "162225.0",
         "167091.75"
        ],
        [
         "495",
         "Senior Data Engineer",
         "173555.0",
         "182232.75"
        ],
        [
         "520",
         "Business Analyst",
         "64890.0",
         "66836.7"
        ],
        [
         "545",
         "Data Engineer",
         "82400.0",
         "84872.0"
        ],
        [
         "571",
         "Data Engineer",
         "113300.0",
         "116699.0"
        ],
        [
         "573",
         "Senior Data Engineer",
         "164800.0",
         "173040.0"
        ],
        [
         "645",
         "Business Analyst",
         "128750.0",
         "132612.5"
        ],
        [
         "654",
         "Data Engineer",
         "72100.0",
         "74263.0"
        ],
        [
         "657",
         "Senior Data Engineer",
         "169950.0",
         "178447.5"
        ],
        [
         "679",
         "Software Engineer",
         "326510.0",
         "336305.3"
        ],
        [
         "704",
         "Data Engineer",
         "103000.0",
         "106090.0"
        ],
        [
         "719",
         "Data Engineer",
         "114565.00093750001",
         "118001.95096562502"
        ],
        [
         "726",
         "Senior Data Engineer",
         "178705.0",
         "187640.25"
        ],
        [
         "733",
         "Senior Data Engineer",
         "164800.0",
         "173040.0"
        ],
        [
         "762",
         "Data Engineer",
         "176130.0",
         "181413.9"
        ],
        [
         "773",
         "Data Engineer",
         "185400.0",
         "190962.0"
        ],
        [
         "813",
         "Data Engineer",
         "162225.0",
         "167091.75"
        ],
        [
         "923",
         "Data Engineer",
         "139050.0",
         "143221.5"
        ],
        [
         "982",
         "Senior Data Analyst",
         "87550.0",
         "91927.5"
        ],
        [
         "988",
         "Data Analyst",
         "64501.69",
         "66436.74070000001"
        ],
        [
         "990",
         "Senior Data Analyst",
         "92700.0",
         "97335.0"
        ],
        [
         "993",
         "Data Engineer",
         "128750.0",
         "132612.5"
        ],
        [
         "1011",
         "Senior Data Engineer",
         "92700.0",
         "97335.0"
        ],
        [
         "1042",
         "Machine Learning Engineer",
         "108459.0",
         "111712.77"
        ],
        [
         "1106",
         "Data Engineer",
         "141625.0",
         "145873.75"
        ],
        [
         "1107",
         "Data Scientist",
         "162225.0",
         "167091.75"
        ],
        [
         "1148",
         "Senior Data Engineer",
         "159650.0",
         "167632.5"
        ],
        [
         "1164",
         "Data Engineer",
         "195700.0",
         "201571.0"
        ],
        [
         "1209",
         "Machine Learning Engineer",
         "81576.0",
         "84023.28"
        ],
        [
         "1238",
         "Senior Data Engineer",
         "195700.0",
         "205485.0"
        ],
        [
         "1257",
         "Data Scientist",
         "72821.0",
         "75005.63"
        ],
        [
         "1261",
         "Senior Data Engineer",
         "185400.0",
         "194670.0"
        ],
        [
         "1280",
         "Software Engineer",
         "240505.0",
         "247720.15"
        ],
        [
         "1284",
         "Data Engineer",
         "105575.0",
         "108742.25"
        ],
        [
         "1313",
         "Data Engineer",
         "81576.0",
         "84023.28"
        ]
       ],
       "shape": {
        "columns": 3,
        "rows": 22003
       }
      },
      "text/html": [
       "<div>\n",
       "<style scoped>\n",
       "    .dataframe tbody tr th:only-of-type {\n",
       "        vertical-align: middle;\n",
       "    }\n",
       "\n",
       "    .dataframe tbody tr th {\n",
       "        vertical-align: top;\n",
       "    }\n",
       "\n",
       "    .dataframe thead th {\n",
       "        text-align: right;\n",
       "    }\n",
       "</style>\n",
       "<table border=\"1\" class=\"dataframe\">\n",
       "  <thead>\n",
       "    <tr style=\"text-align: right;\">\n",
       "      <th></th>\n",
       "      <th>job_title_short</th>\n",
       "      <th>salary_year_avg</th>\n",
       "      <th>salary_year_inflated</th>\n",
       "    </tr>\n",
       "  </thead>\n",
       "  <tbody>\n",
       "    <tr>\n",
       "      <th>28</th>\n",
       "      <td>Data Scientist</td>\n",
       "      <td>112785.00</td>\n",
       "      <td>116168.5500</td>\n",
       "    </tr>\n",
       "    <tr>\n",
       "      <th>77</th>\n",
       "      <td>Data Engineer</td>\n",
       "      <td>144200.00</td>\n",
       "      <td>148526.0000</td>\n",
       "    </tr>\n",
       "    <tr>\n",
       "      <th>92</th>\n",
       "      <td>Data Engineer</td>\n",
       "      <td>123600.00</td>\n",
       "      <td>127308.0000</td>\n",
       "    </tr>\n",
       "    <tr>\n",
       "      <th>100</th>\n",
       "      <td>Data Scientist</td>\n",
       "      <td>235068.66</td>\n",
       "      <td>242120.7198</td>\n",
       "    </tr>\n",
       "    <tr>\n",
       "      <th>109</th>\n",
       "      <td>Data Analyst</td>\n",
       "      <td>91670.00</td>\n",
       "      <td>94420.1000</td>\n",
       "    </tr>\n",
       "    <tr>\n",
       "      <th>...</th>\n",
       "      <td>...</td>\n",
       "      <td>...</td>\n",
       "      <td>...</td>\n",
       "    </tr>\n",
       "    <tr>\n",
       "      <th>785624</th>\n",
       "      <td>Data Engineer</td>\n",
       "      <td>143392.48</td>\n",
       "      <td>147694.2544</td>\n",
       "    </tr>\n",
       "    <tr>\n",
       "      <th>785641</th>\n",
       "      <td>Data Engineer</td>\n",
       "      <td>154500.00</td>\n",
       "      <td>159135.0000</td>\n",
       "    </tr>\n",
       "    <tr>\n",
       "      <th>785648</th>\n",
       "      <td>Data Scientist</td>\n",
       "      <td>228531.25</td>\n",
       "      <td>235387.1875</td>\n",
       "    </tr>\n",
       "    <tr>\n",
       "      <th>785682</th>\n",
       "      <td>Data Scientist</td>\n",
       "      <td>162225.00</td>\n",
       "      <td>167091.7500</td>\n",
       "    </tr>\n",
       "    <tr>\n",
       "      <th>785692</th>\n",
       "      <td>Data Scientist</td>\n",
       "      <td>162225.00</td>\n",
       "      <td>167091.7500</td>\n",
       "    </tr>\n",
       "  </tbody>\n",
       "</table>\n",
       "<p>22003 rows × 3 columns</p>\n",
       "</div>"
      ],
      "text/plain": [
       "       job_title_short  salary_year_avg  salary_year_inflated\n",
       "28      Data Scientist        112785.00           116168.5500\n",
       "77       Data Engineer        144200.00           148526.0000\n",
       "92       Data Engineer        123600.00           127308.0000\n",
       "100     Data Scientist        235068.66           242120.7198\n",
       "109       Data Analyst         91670.00            94420.1000\n",
       "...                ...              ...                   ...\n",
       "785624   Data Engineer        143392.48           147694.2544\n",
       "785641   Data Engineer        154500.00           159135.0000\n",
       "785648  Data Scientist        228531.25           235387.1875\n",
       "785682  Data Scientist        162225.00           167091.7500\n",
       "785692  Data Scientist        162225.00           167091.7500\n",
       "\n",
       "[22003 rows x 3 columns]"
      ]
     },
     "execution_count": 7,
     "metadata": {},
     "output_type": "execute_result"
    }
   ],
   "source": [
    "df['salary_year_inflated'] = df.apply(lambda row: row['salary_year_avg'] *\n",
    "                                      1.05 if 'Senior' in row['job_title_short'] else row['salary_year_avg'] * 1.03, axis=1)\n",
    "\n",
    "df[pd.notna(df['salary_year_avg'])][['job_title_short',\n",
    "                                     'salary_year_avg', 'salary_year_inflated']]"
   ]
  },
  {
   "cell_type": "markdown",
   "id": "6d861969",
   "metadata": {},
   "source": [
    "Example 3\n",
    "\n",
    "Convert the `job_skills` from a generic object to an actual list object (_hint_ this is very important for later). Let's try doing that by just using `ast.literal_eval` and then look at our new column.\n",
    "\n",
    "A reminder of what our `job_skills` column looks like now:\n"
   ]
  },
  {
   "cell_type": "code",
   "execution_count": 8,
   "id": "e56bde9e",
   "metadata": {},
   "outputs": [
    {
     "data": {
      "application/vnd.microsoft.datawrangler.viewer.v0+json": {
       "columns": [
        {
         "name": "index",
         "rawType": "int64",
         "type": "integer"
        },
        {
         "name": "job_skills",
         "rawType": "object",
         "type": "unknown"
        }
       ],
       "ref": "1e5079bd-be43-4ec0-9813-d1dbc5ff0d79",
       "rows": [
        [
         "0",
         null
        ],
        [
         "1",
         "['r', 'python', 'sql', 'nosql', 'power bi', 'tableau']"
        ],
        [
         "2",
         "['python', 'sql', 'c#', 'azure', 'airflow', 'dax', 'docker', 'kubernetes', 'jenkins']"
        ],
        [
         "3",
         "['python', 'c++', 'java', 'matlab', 'aws', 'tensorflow', 'keras', 'pytorch']"
        ],
        [
         "4",
         "['bash', 'python', 'oracle', 'aws', 'ansible', 'puppet', 'jenkins', 'gitlab', 'git']"
        ],
        [
         "5",
         "['python', 'sql', 'gcp']"
        ],
        [
         "6",
         "['sql', 'python', 'java', 'sql server', 'gcp', 'bigquery', 'hadoop']"
        ],
        [
         "7",
         "['sql', 'nosql', 'gcp', 'azure', 'aws', 'bigquery', 'databricks', 'redshift', 'airflow', 'kafka', 'spark']"
        ],
        [
         "8",
         "['excel', 'powerpoint', 'power bi']"
        ],
        [
         "9",
         "['sql', 'python', 'r', 'mongodb', 'mongodb', 'sql server', 'azure', 'pandas', 'spark', 'windows', 'excel']"
        ],
        [
         "10",
         "['python', 'databricks', 'azure', 'spark']"
        ],
        [
         "11",
         "['python', 'qlik']"
        ],
        [
         "12",
         "['sql', 'php', 'excel', 'power bi', 'sap', 'jira']"
        ],
        [
         "13",
         "['python', 'sql', 'go', 'ruby', 'ruby', 'javascript', 'aws', 'flask', 'fastapi', 'terraform']"
        ],
        [
         "14",
         "['mongodb', 'mongodb']"
        ],
        [
         "15",
         "['python', 'sql', 'power bi']"
        ],
        [
         "16",
         "['powershell', 'python', 'sql', 'mysql', 'sql server', 'databricks', 'azure']"
        ],
        [
         "17",
         "['go', 'apl', 'excel']"
        ],
        [
         "18",
         "['sql', 'python', 'r', 'redshift', 'pandas', 'excel', 'looker', 'tableau']"
        ],
        [
         "19",
         "['r', 'sql', 'python', 'scala', 'java', 'c++', 'hadoop', 'tableau']"
        ],
        [
         "20",
         "['r', 'python', 'sql', 'pandas', 'numpy', 'scikit-learn', 'matplotlib', 'hadoop', 'spark']"
        ],
        [
         "21",
         null
        ],
        [
         "22",
         "['sql', 'scala', 'java', 'python', 'mongodb', 'mongodb', 'elasticsearch', 'cassandra', 'neo4j', 'aws', 'azure', 'gcp', 'hadoop', 'spark', 'airflow', 'kafka', 'docker', 'kubernetes']"
        ],
        [
         "23",
         "['python', 'r']"
        ],
        [
         "24",
         "['python']"
        ],
        [
         "25",
         "['sql']"
        ],
        [
         "26",
         null
        ],
        [
         "27",
         "['python', 'r', 'java']"
        ],
        [
         "28",
         "['gdpr', 'excel']"
        ],
        [
         "29",
         null
        ],
        [
         "30",
         "['scala', 'python', 'nosql', 'mongo', 'shell', 'mysql', 'cassandra', 'redshift', 'snowflake', 'aws', 'azure', 'hadoop', 'kafka', 'spark']"
        ],
        [
         "31",
         "['sql']"
        ],
        [
         "32",
         "['python', 'azure', 'databricks', 'pyspark', 'pandas', 'hadoop', 'spark', 'nltk']"
        ],
        [
         "33",
         "['sql', 'python', 'r', 'azure', 'databricks', 'pyspark', 'flow']"
        ],
        [
         "34",
         "['sap']"
        ],
        [
         "35",
         "['python', 'sql', 'neo4j', 'databricks', 'azure', 'spark', 'pyspark', 'flask']"
        ],
        [
         "36",
         null
        ],
        [
         "37",
         "['python', 'sql', 'nosql', 'aws', 'gcp', 'azure', 'spark', 'hadoop', 'docker', 'terraform', 'jenkins', 'git']"
        ],
        [
         "38",
         "['sql', 'python', 'databricks', 'power bi', 'excel', 'word', 'powerpoint']"
        ],
        [
         "39",
         "['sql', 'python']"
        ],
        [
         "40",
         null
        ],
        [
         "41",
         "['r', 'sql', 'python', 'scala', 'java', 'c++', 'hadoop', 'tableau']"
        ],
        [
         "42",
         "['python', 'sql', 'aws', 'pyspark', 'docker', 'jira']"
        ],
        [
         "43",
         "['sql', 'sql server']"
        ],
        [
         "44",
         "['python', 'java', 'scala']"
        ],
        [
         "45",
         "['sql', 'python']"
        ],
        [
         "46",
         "['sas', 'sas', 'r', 'python', 'vba', 'sql', 'java', 'sql server', 'pandas', 'spss', 'tableau', 'excel', 'power bi']"
        ],
        [
         "47",
         "['sql', 'python', 'scala', 'nosql', 'java', 'c', 'spark', 'hadoop', 'kafka', 'power bi', 'microstrategy', 'cognos', 'sap']"
        ],
        [
         "48",
         "['javascript', 'python', 'gcp', 'aws', 'selenium']"
        ],
        [
         "49",
         "['excel']"
        ]
       ],
       "shape": {
        "columns": 1,
        "rows": 785741
       }
      },
      "text/plain": [
       "0                                                      None\n",
       "1         ['r', 'python', 'sql', 'nosql', 'power bi', 't...\n",
       "2         ['python', 'sql', 'c#', 'azure', 'airflow', 'd...\n",
       "3         ['python', 'c++', 'java', 'matlab', 'aws', 'te...\n",
       "4         ['bash', 'python', 'oracle', 'aws', 'ansible',...\n",
       "                                ...                        \n",
       "785736    ['bash', 'python', 'perl', 'linux', 'unix', 'k...\n",
       "785737                       ['sas', 'sas', 'sql', 'excel']\n",
       "785738                              ['powerpoint', 'excel']\n",
       "785739    ['python', 'go', 'nosql', 'sql', 'mongo', 'she...\n",
       "785740                                      ['aws', 'flow']\n",
       "Name: job_skills, Length: 785741, dtype: object"
      ]
     },
     "execution_count": 8,
     "metadata": {},
     "output_type": "execute_result"
    }
   ],
   "source": [
    "df['job_skills']"
   ]
  },
  {
   "cell_type": "code",
   "execution_count": 9,
   "id": "3e53fd5d",
   "metadata": {},
   "outputs": [
    {
     "data": {
      "text/plain": [
       "\"['r', 'python', 'sql', 'nosql', 'power bi', 'tableau']\""
      ]
     },
     "execution_count": 9,
     "metadata": {},
     "output_type": "execute_result"
    }
   ],
   "source": [
    "df['job_skills'][1]"
   ]
  },
  {
   "cell_type": "markdown",
   "id": "7a35e734",
   "metadata": {},
   "source": [
    "Inspecting it this list is currently a string!\n"
   ]
  },
  {
   "cell_type": "code",
   "execution_count": null,
   "id": "2eba968c",
   "metadata": {},
   "outputs": [
    {
     "data": {
      "text/plain": [
       "str"
      ]
     },
     "execution_count": 10,
     "metadata": {},
     "output_type": "execute_result"
    }
   ],
   "source": [
    "type(df['job_skills'][1])  # It is still an object (string)"
   ]
  },
  {
   "cell_type": "markdown",
   "id": "ab940687",
   "metadata": {},
   "source": [
    "Let's look at the `literal_eval()` function from the Python Standard Library `ast` module.\n"
   ]
  },
  {
   "cell_type": "code",
   "execution_count": 11,
   "id": "f7013009",
   "metadata": {},
   "outputs": [
    {
     "data": {
      "text/plain": [
       "['r', 'python', 'sql', 'nosql', 'power bi', 'tableau']"
      ]
     },
     "execution_count": 11,
     "metadata": {},
     "output_type": "execute_result"
    }
   ],
   "source": [
    "import ast\n",
    "\n",
    "ast.literal_eval(df['job_skills'][1])"
   ]
  },
  {
   "cell_type": "code",
   "execution_count": null,
   "id": "c49a51cb",
   "metadata": {},
   "outputs": [
    {
     "data": {
      "text/plain": [
       "list"
      ]
     },
     "execution_count": 12,
     "metadata": {},
     "output_type": "execute_result"
    }
   ],
   "source": [
    "type(ast.literal_eval(df['job_skills'][1]))  # It is a list now"
   ]
  },
  {
   "cell_type": "markdown",
   "id": "1281d1b6",
   "metadata": {},
   "source": [
    "**Debugging**\n",
    "\n",
    "**This is an intentional mistake**\n",
    "\n",
    "This is used to demonstrate debugging.\n",
    "\n",
    "Error: This will return an error because in the `job_skills` column has NaN values.\n",
    "\n",
    "Steps to Debug:\n",
    "\n",
    "1. Look at the actual error, can you tell what the problem is?\n",
    "2. If not, then look it up:\n",
    "3. Use a chatbot like ChatGPT or Claude\n",
    "4. Look it up using Google\n"
   ]
  },
  {
   "cell_type": "code",
   "execution_count": null,
   "id": "0012d891",
   "metadata": {},
   "outputs": [],
   "source": [
    "# Returns an error\n",
    "\n",
    "# Convert string representation to actual list\n",
    "# df['job_skills'] = df['job_skills'].apply(ast.literal_eval)\n",
    "\n",
    "# df.head()"
   ]
  },
  {
   "cell_type": "markdown",
   "id": "46f4ce27",
   "metadata": {},
   "source": [
    "Since we have nan values, lets adjust our code to add in a condition to check if the value is not NaN.\n",
    "\n",
    "- If it's not NaN it returns `True` and applies `ast.literal_eval()` function on it.\n",
    "- if it's a Nan value then it returns `False` and the NaN value doesn't change.\n"
   ]
  },
  {
   "cell_type": "code",
   "execution_count": null,
   "id": "d7b18d45",
   "metadata": {},
   "outputs": [],
   "source": [
    "import ast\n",
    "\n",
    "# Convert string representation to actual list, checking for NaN values first\n",
    "df['job_skills'] = df['job_skills'].apply(\n",
    "    lambda x: ast.literal_eval(x) if pd.notna(x) else x)"
   ]
  },
  {
   "cell_type": "markdown",
   "id": "6aed1033",
   "metadata": {},
   "source": [
    "Now let's look at our `job_skills` column. You can see that it's actually a list.\n"
   ]
  },
  {
   "cell_type": "code",
   "execution_count": 15,
   "id": "6678793c",
   "metadata": {},
   "outputs": [
    {
     "data": {
      "application/vnd.microsoft.datawrangler.viewer.v0+json": {
       "columns": [
        {
         "name": "index",
         "rawType": "int64",
         "type": "integer"
        },
        {
         "name": "job_skills",
         "rawType": "object",
         "type": "unknown"
        }
       ],
       "ref": "2287372f-505c-4367-aecd-5f86bf871ec9",
       "rows": [
        [
         "0",
         null
        ],
        [
         "1",
         "['r', 'python', 'sql', 'nosql', 'power bi', 'tableau']"
        ],
        [
         "2",
         "['python', 'sql', 'c#', 'azure', 'airflow', 'dax', 'docker', 'kubernetes', 'jenkins']"
        ],
        [
         "3",
         "['python', 'c++', 'java', 'matlab', 'aws', 'tensorflow', 'keras', 'pytorch']"
        ],
        [
         "4",
         "['bash', 'python', 'oracle', 'aws', 'ansible', 'puppet', 'jenkins', 'gitlab', 'git']"
        ],
        [
         "5",
         "['python', 'sql', 'gcp']"
        ],
        [
         "6",
         "['sql', 'python', 'java', 'sql server', 'gcp', 'bigquery', 'hadoop']"
        ],
        [
         "7",
         "['sql', 'nosql', 'gcp', 'azure', 'aws', 'bigquery', 'databricks', 'redshift', 'airflow', 'kafka', 'spark']"
        ],
        [
         "8",
         "['excel', 'powerpoint', 'power bi']"
        ],
        [
         "9",
         "['sql', 'python', 'r', 'mongodb', 'mongodb', 'sql server', 'azure', 'pandas', 'spark', 'windows', 'excel']"
        ],
        [
         "10",
         "['python', 'databricks', 'azure', 'spark']"
        ],
        [
         "11",
         "['python', 'qlik']"
        ],
        [
         "12",
         "['sql', 'php', 'excel', 'power bi', 'sap', 'jira']"
        ],
        [
         "13",
         "['python', 'sql', 'go', 'ruby', 'ruby', 'javascript', 'aws', 'flask', 'fastapi', 'terraform']"
        ],
        [
         "14",
         "['mongodb', 'mongodb']"
        ],
        [
         "15",
         "['python', 'sql', 'power bi']"
        ],
        [
         "16",
         "['powershell', 'python', 'sql', 'mysql', 'sql server', 'databricks', 'azure']"
        ],
        [
         "17",
         "['go', 'apl', 'excel']"
        ],
        [
         "18",
         "['sql', 'python', 'r', 'redshift', 'pandas', 'excel', 'looker', 'tableau']"
        ],
        [
         "19",
         "['r', 'sql', 'python', 'scala', 'java', 'c++', 'hadoop', 'tableau']"
        ],
        [
         "20",
         "['r', 'python', 'sql', 'pandas', 'numpy', 'scikit-learn', 'matplotlib', 'hadoop', 'spark']"
        ],
        [
         "21",
         null
        ],
        [
         "22",
         "['sql', 'scala', 'java', 'python', 'mongodb', 'mongodb', 'elasticsearch', 'cassandra', 'neo4j', 'aws', 'azure', 'gcp', 'hadoop', 'spark', 'airflow', 'kafka', 'docker', 'kubernetes']"
        ],
        [
         "23",
         "['python', 'r']"
        ],
        [
         "24",
         "['python']"
        ],
        [
         "25",
         "['sql']"
        ],
        [
         "26",
         null
        ],
        [
         "27",
         "['python', 'r', 'java']"
        ],
        [
         "28",
         "['gdpr', 'excel']"
        ],
        [
         "29",
         null
        ],
        [
         "30",
         "['scala', 'python', 'nosql', 'mongo', 'shell', 'mysql', 'cassandra', 'redshift', 'snowflake', 'aws', 'azure', 'hadoop', 'kafka', 'spark']"
        ],
        [
         "31",
         "['sql']"
        ],
        [
         "32",
         "['python', 'azure', 'databricks', 'pyspark', 'pandas', 'hadoop', 'spark', 'nltk']"
        ],
        [
         "33",
         "['sql', 'python', 'r', 'azure', 'databricks', 'pyspark', 'flow']"
        ],
        [
         "34",
         "['sap']"
        ],
        [
         "35",
         "['python', 'sql', 'neo4j', 'databricks', 'azure', 'spark', 'pyspark', 'flask']"
        ],
        [
         "36",
         null
        ],
        [
         "37",
         "['python', 'sql', 'nosql', 'aws', 'gcp', 'azure', 'spark', 'hadoop', 'docker', 'terraform', 'jenkins', 'git']"
        ],
        [
         "38",
         "['sql', 'python', 'databricks', 'power bi', 'excel', 'word', 'powerpoint']"
        ],
        [
         "39",
         "['sql', 'python']"
        ],
        [
         "40",
         null
        ],
        [
         "41",
         "['r', 'sql', 'python', 'scala', 'java', 'c++', 'hadoop', 'tableau']"
        ],
        [
         "42",
         "['python', 'sql', 'aws', 'pyspark', 'docker', 'jira']"
        ],
        [
         "43",
         "['sql', 'sql server']"
        ],
        [
         "44",
         "['python', 'java', 'scala']"
        ],
        [
         "45",
         "['sql', 'python']"
        ],
        [
         "46",
         "['sas', 'sas', 'r', 'python', 'vba', 'sql', 'java', 'sql server', 'pandas', 'spss', 'tableau', 'excel', 'power bi']"
        ],
        [
         "47",
         "['sql', 'python', 'scala', 'nosql', 'java', 'c', 'spark', 'hadoop', 'kafka', 'power bi', 'microstrategy', 'cognos', 'sap']"
        ],
        [
         "48",
         "['javascript', 'python', 'gcp', 'aws', 'selenium']"
        ],
        [
         "49",
         "['excel']"
        ]
       ],
       "shape": {
        "columns": 1,
        "rows": 785741
       }
      },
      "text/plain": [
       "0                                                      None\n",
       "1                [r, python, sql, nosql, power bi, tableau]\n",
       "2         [python, sql, c#, azure, airflow, dax, docker,...\n",
       "3         [python, c++, java, matlab, aws, tensorflow, k...\n",
       "4         [bash, python, oracle, aws, ansible, puppet, j...\n",
       "                                ...                        \n",
       "785736    [bash, python, perl, linux, unix, kubernetes, ...\n",
       "785737                               [sas, sas, sql, excel]\n",
       "785738                                  [powerpoint, excel]\n",
       "785739    [python, go, nosql, sql, mongo, shell, mysql, ...\n",
       "785740                                          [aws, flow]\n",
       "Name: job_skills, Length: 785741, dtype: object"
      ]
     },
     "execution_count": 15,
     "metadata": {},
     "output_type": "execute_result"
    }
   ],
   "source": [
    "df['job_skills']"
   ]
  },
  {
   "cell_type": "code",
   "execution_count": null,
   "id": "33bf8f56",
   "metadata": {},
   "outputs": [
    {
     "data": {
      "text/plain": [
       "list"
      ]
     },
     "execution_count": 16,
     "metadata": {},
     "output_type": "execute_result"
    }
   ],
   "source": [
    "type(df['job_skills'][1])  # It is a list now"
   ]
  }
 ],
 "metadata": {
  "kernelspec": {
   "display_name": "Python 3",
   "language": "python",
   "name": "python3"
  },
  "language_info": {
   "codemirror_mode": {
    "name": "ipython",
    "version": 3
   },
   "file_extension": ".py",
   "mimetype": "text/x-python",
   "name": "python",
   "nbconvert_exporter": "python",
   "pygments_lexer": "ipython3",
   "version": "3.13.7"
  }
 },
 "nbformat": 4,
 "nbformat_minor": 5
}
